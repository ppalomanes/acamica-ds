{
 "cells": [
  {
   "cell_type": "code",
   "execution_count": 1,
   "metadata": {},
   "outputs": [],
   "source": [
    "import numpy as np\n",
    "import pandas as pd\n",
    "import matplotlib.pyplot as plt\n",
    "import seaborn as sns\n",
    "%matplotlib inline"
   ]
  },
  {
   "cell_type": "code",
   "execution_count": 2,
   "metadata": {},
   "outputs": [],
   "source": [
    "df = pd.read_csv('demanda-de-electricidad-datos-mensuales.csv')"
   ]
  },
  {
   "cell_type": "code",
   "execution_count": 3,
   "metadata": {},
   "outputs": [
    {
     "data": {
      "text/plain": [
       "(212, 30)"
      ]
     },
     "execution_count": 3,
     "metadata": {},
     "output_type": "execute_result"
    }
   ],
   "source": [
    "df.shape"
   ]
  },
  {
   "cell_type": "code",
   "execution_count": 4,
   "metadata": {},
   "outputs": [
    {
     "data": {
      "text/html": [
       "<div>\n",
       "<style scoped>\n",
       "    .dataframe tbody tr th:only-of-type {\n",
       "        vertical-align: middle;\n",
       "    }\n",
       "\n",
       "    .dataframe tbody tr th {\n",
       "        vertical-align: top;\n",
       "    }\n",
       "\n",
       "    .dataframe thead th {\n",
       "        text-align: right;\n",
       "    }\n",
       "</style>\n",
       "<table border=\"1\" class=\"dataframe\">\n",
       "  <thead>\n",
       "    <tr style=\"text-align: right;\">\n",
       "      <th></th>\n",
       "      <th>indice_tiempo</th>\n",
       "      <th>demanda_total</th>\n",
       "      <th>demanda_residencial</th>\n",
       "      <th>comercio_e_industria</th>\n",
       "      <th>grandes_usuarios</th>\n",
       "      <th>temperatura_promedio</th>\n",
       "      <th>potencia_maxima</th>\n",
       "      <th>ede_tucuman</th>\n",
       "      <th>edelap_sa</th>\n",
       "      <th>edenor_distribuidor</th>\n",
       "      <th>...</th>\n",
       "      <th>energia_de_catamarca_sa</th>\n",
       "      <th>energia_de_entre_rios_sa</th>\n",
       "      <th>energia_de_mendoza_sa</th>\n",
       "      <th>energia_san_juan_sa_exedessa</th>\n",
       "      <th>epec_distribuidor</th>\n",
       "      <th>epen_distribuidor</th>\n",
       "      <th>epesf_distribuidor</th>\n",
       "      <th>recursos_y_energia_formosa_sa</th>\n",
       "      <th>secheep</th>\n",
       "      <th>spse_santa_cruz</th>\n",
       "    </tr>\n",
       "  </thead>\n",
       "  <tbody>\n",
       "    <tr>\n",
       "      <th>0</th>\n",
       "      <td>2001-01-01</td>\n",
       "      <td>6866.26</td>\n",
       "      <td>NaN</td>\n",
       "      <td>NaN</td>\n",
       "      <td>NaN</td>\n",
       "      <td>25.432</td>\n",
       "      <td>13501.0</td>\n",
       "      <td>NaN</td>\n",
       "      <td>NaN</td>\n",
       "      <td>NaN</td>\n",
       "      <td>...</td>\n",
       "      <td>NaN</td>\n",
       "      <td>NaN</td>\n",
       "      <td>NaN</td>\n",
       "      <td>NaN</td>\n",
       "      <td>NaN</td>\n",
       "      <td>NaN</td>\n",
       "      <td>NaN</td>\n",
       "      <td>NaN</td>\n",
       "      <td>NaN</td>\n",
       "      <td>NaN</td>\n",
       "    </tr>\n",
       "    <tr>\n",
       "      <th>1</th>\n",
       "      <td>2001-02-01</td>\n",
       "      <td>6473.10</td>\n",
       "      <td>NaN</td>\n",
       "      <td>NaN</td>\n",
       "      <td>NaN</td>\n",
       "      <td>25.596</td>\n",
       "      <td>14061.0</td>\n",
       "      <td>NaN</td>\n",
       "      <td>NaN</td>\n",
       "      <td>NaN</td>\n",
       "      <td>...</td>\n",
       "      <td>NaN</td>\n",
       "      <td>NaN</td>\n",
       "      <td>NaN</td>\n",
       "      <td>NaN</td>\n",
       "      <td>NaN</td>\n",
       "      <td>NaN</td>\n",
       "      <td>NaN</td>\n",
       "      <td>NaN</td>\n",
       "      <td>NaN</td>\n",
       "      <td>NaN</td>\n",
       "    </tr>\n",
       "    <tr>\n",
       "      <th>2</th>\n",
       "      <td>2001-03-01</td>\n",
       "      <td>6952.30</td>\n",
       "      <td>NaN</td>\n",
       "      <td>NaN</td>\n",
       "      <td>NaN</td>\n",
       "      <td>22.852</td>\n",
       "      <td>13780.0</td>\n",
       "      <td>NaN</td>\n",
       "      <td>NaN</td>\n",
       "      <td>NaN</td>\n",
       "      <td>...</td>\n",
       "      <td>NaN</td>\n",
       "      <td>NaN</td>\n",
       "      <td>NaN</td>\n",
       "      <td>NaN</td>\n",
       "      <td>NaN</td>\n",
       "      <td>NaN</td>\n",
       "      <td>NaN</td>\n",
       "      <td>NaN</td>\n",
       "      <td>NaN</td>\n",
       "      <td>NaN</td>\n",
       "    </tr>\n",
       "    <tr>\n",
       "      <th>3</th>\n",
       "      <td>2001-04-01</td>\n",
       "      <td>6183.35</td>\n",
       "      <td>NaN</td>\n",
       "      <td>NaN</td>\n",
       "      <td>NaN</td>\n",
       "      <td>18.317</td>\n",
       "      <td>12866.0</td>\n",
       "      <td>NaN</td>\n",
       "      <td>NaN</td>\n",
       "      <td>NaN</td>\n",
       "      <td>...</td>\n",
       "      <td>NaN</td>\n",
       "      <td>NaN</td>\n",
       "      <td>NaN</td>\n",
       "      <td>NaN</td>\n",
       "      <td>NaN</td>\n",
       "      <td>NaN</td>\n",
       "      <td>NaN</td>\n",
       "      <td>NaN</td>\n",
       "      <td>NaN</td>\n",
       "      <td>NaN</td>\n",
       "    </tr>\n",
       "    <tr>\n",
       "      <th>4</th>\n",
       "      <td>2001-05-01</td>\n",
       "      <td>6668.94</td>\n",
       "      <td>NaN</td>\n",
       "      <td>NaN</td>\n",
       "      <td>NaN</td>\n",
       "      <td>14.306</td>\n",
       "      <td>12968.0</td>\n",
       "      <td>NaN</td>\n",
       "      <td>NaN</td>\n",
       "      <td>NaN</td>\n",
       "      <td>...</td>\n",
       "      <td>NaN</td>\n",
       "      <td>NaN</td>\n",
       "      <td>NaN</td>\n",
       "      <td>NaN</td>\n",
       "      <td>NaN</td>\n",
       "      <td>NaN</td>\n",
       "      <td>NaN</td>\n",
       "      <td>NaN</td>\n",
       "      <td>NaN</td>\n",
       "      <td>NaN</td>\n",
       "    </tr>\n",
       "  </tbody>\n",
       "</table>\n",
       "<p>5 rows × 30 columns</p>\n",
       "</div>"
      ],
      "text/plain": [
       "  indice_tiempo  demanda_total  demanda_residencial  comercio_e_industria  \\\n",
       "0    2001-01-01        6866.26                  NaN                   NaN   \n",
       "1    2001-02-01        6473.10                  NaN                   NaN   \n",
       "2    2001-03-01        6952.30                  NaN                   NaN   \n",
       "3    2001-04-01        6183.35                  NaN                   NaN   \n",
       "4    2001-05-01        6668.94                  NaN                   NaN   \n",
       "\n",
       "   grandes_usuarios  temperatura_promedio  potencia_maxima  ede_tucuman  \\\n",
       "0               NaN                25.432          13501.0          NaN   \n",
       "1               NaN                25.596          14061.0          NaN   \n",
       "2               NaN                22.852          13780.0          NaN   \n",
       "3               NaN                18.317          12866.0          NaN   \n",
       "4               NaN                14.306          12968.0          NaN   \n",
       "\n",
       "   edelap_sa  edenor_distribuidor       ...         energia_de_catamarca_sa  \\\n",
       "0        NaN                  NaN       ...                             NaN   \n",
       "1        NaN                  NaN       ...                             NaN   \n",
       "2        NaN                  NaN       ...                             NaN   \n",
       "3        NaN                  NaN       ...                             NaN   \n",
       "4        NaN                  NaN       ...                             NaN   \n",
       "\n",
       "   energia_de_entre_rios_sa  energia_de_mendoza_sa  \\\n",
       "0                       NaN                    NaN   \n",
       "1                       NaN                    NaN   \n",
       "2                       NaN                    NaN   \n",
       "3                       NaN                    NaN   \n",
       "4                       NaN                    NaN   \n",
       "\n",
       "   energia_san_juan_sa_exedessa  epec_distribuidor  epen_distribuidor  \\\n",
       "0                           NaN                NaN                NaN   \n",
       "1                           NaN                NaN                NaN   \n",
       "2                           NaN                NaN                NaN   \n",
       "3                           NaN                NaN                NaN   \n",
       "4                           NaN                NaN                NaN   \n",
       "\n",
       "   epesf_distribuidor  recursos_y_energia_formosa_sa  secheep  spse_santa_cruz  \n",
       "0                 NaN                            NaN      NaN              NaN  \n",
       "1                 NaN                            NaN      NaN              NaN  \n",
       "2                 NaN                            NaN      NaN              NaN  \n",
       "3                 NaN                            NaN      NaN              NaN  \n",
       "4                 NaN                            NaN      NaN              NaN  \n",
       "\n",
       "[5 rows x 30 columns]"
      ]
     },
     "execution_count": 4,
     "metadata": {},
     "output_type": "execute_result"
    }
   ],
   "source": [
    "df.head()"
   ]
  },
  {
   "cell_type": "markdown",
   "metadata": {},
   "source": [
    "## Parsing dates"
   ]
  },
  {
   "cell_type": "code",
   "execution_count": 5,
   "metadata": {},
   "outputs": [
    {
     "name": "stdout",
     "output_type": "stream",
     "text": [
      "<class 'pandas.core.frame.DataFrame'>\n",
      "RangeIndex: 212 entries, 0 to 211\n",
      "Data columns (total 30 columns):\n",
      "indice_tiempo                     212 non-null object\n",
      "demanda_total                     212 non-null float64\n",
      "demanda_residencial               164 non-null float64\n",
      "comercio_e_industria              164 non-null float64\n",
      "grandes_usuarios                  164 non-null float64\n",
      "temperatura_promedio              212 non-null float64\n",
      "potencia_maxima                   212 non-null float64\n",
      "ede_tucuman                       56 non-null float64\n",
      "edelap_sa                         56 non-null float64\n",
      "edenor_distribuidor               56 non-null float64\n",
      "edesal_distribuidor               56 non-null float64\n",
      "edestesa_emp_dist__este           56 non-null float64\n",
      "edesur_distribuidor               56 non-null float64\n",
      "emp_de_energia_de_rio_negro_sa    56 non-null float64\n",
      "emp_dist_energ_atlantica          56 non-null float64\n",
      "emp_de_energia_de_la_rioja_sa     56 non-null float64\n",
      "emp_dist_energia_de_salta         56 non-null float64\n",
      "emp_electric_misiones_sa          56 non-null float64\n",
      "empresa_dis_estero_sa             56 non-null float64\n",
      "empresa_jujenia_de_energia_sa     56 non-null float64\n",
      "energia_de_catamarca_sa           56 non-null float64\n",
      "energia_de_entre_rios_sa          56 non-null float64\n",
      "energia_de_mendoza_sa             56 non-null float64\n",
      "energia_san_juan_sa_exedessa      56 non-null float64\n",
      "epec_distribuidor                 56 non-null float64\n",
      "epen_distribuidor                 56 non-null float64\n",
      "epesf_distribuidor                56 non-null float64\n",
      "recursos_y_energia_formosa_sa     56 non-null float64\n",
      "secheep                           56 non-null float64\n",
      "spse_santa_cruz                   56 non-null float64\n",
      "dtypes: float64(29), object(1)\n",
      "memory usage: 49.8+ KB\n"
     ]
    }
   ],
   "source": [
    "df.info()"
   ]
  },
  {
   "cell_type": "code",
   "execution_count": 6,
   "metadata": {},
   "outputs": [],
   "source": [
    "df['indice_tiempo'] = pd.to_datetime(df['indice_tiempo'], format='%Y-%m-%d')"
   ]
  },
  {
   "cell_type": "code",
   "execution_count": 7,
   "metadata": {},
   "outputs": [
    {
     "name": "stdout",
     "output_type": "stream",
     "text": [
      "<class 'pandas.core.frame.DataFrame'>\n",
      "RangeIndex: 212 entries, 0 to 211\n",
      "Data columns (total 30 columns):\n",
      "indice_tiempo                     212 non-null datetime64[ns]\n",
      "demanda_total                     212 non-null float64\n",
      "demanda_residencial               164 non-null float64\n",
      "comercio_e_industria              164 non-null float64\n",
      "grandes_usuarios                  164 non-null float64\n",
      "temperatura_promedio              212 non-null float64\n",
      "potencia_maxima                   212 non-null float64\n",
      "ede_tucuman                       56 non-null float64\n",
      "edelap_sa                         56 non-null float64\n",
      "edenor_distribuidor               56 non-null float64\n",
      "edesal_distribuidor               56 non-null float64\n",
      "edestesa_emp_dist__este           56 non-null float64\n",
      "edesur_distribuidor               56 non-null float64\n",
      "emp_de_energia_de_rio_negro_sa    56 non-null float64\n",
      "emp_dist_energ_atlantica          56 non-null float64\n",
      "emp_de_energia_de_la_rioja_sa     56 non-null float64\n",
      "emp_dist_energia_de_salta         56 non-null float64\n",
      "emp_electric_misiones_sa          56 non-null float64\n",
      "empresa_dis_estero_sa             56 non-null float64\n",
      "empresa_jujenia_de_energia_sa     56 non-null float64\n",
      "energia_de_catamarca_sa           56 non-null float64\n",
      "energia_de_entre_rios_sa          56 non-null float64\n",
      "energia_de_mendoza_sa             56 non-null float64\n",
      "energia_san_juan_sa_exedessa      56 non-null float64\n",
      "epec_distribuidor                 56 non-null float64\n",
      "epen_distribuidor                 56 non-null float64\n",
      "epesf_distribuidor                56 non-null float64\n",
      "recursos_y_energia_formosa_sa     56 non-null float64\n",
      "secheep                           56 non-null float64\n",
      "spse_santa_cruz                   56 non-null float64\n",
      "dtypes: datetime64[ns](1), float64(29)\n",
      "memory usage: 49.8 KB\n"
     ]
    }
   ],
   "source": [
    "df.info()"
   ]
  },
  {
   "cell_type": "code",
   "execution_count": 8,
   "metadata": {},
   "outputs": [],
   "source": [
    "df['month'] = df['indice_tiempo'].dt.month\n",
    "df['year'] = df['indice_tiempo'].dt.year\n",
    "df['quarter'] = df['indice_tiempo'].dt.quarter"
   ]
  },
  {
   "cell_type": "code",
   "execution_count": 9,
   "metadata": {},
   "outputs": [
    {
     "data": {
      "text/html": [
       "<div>\n",
       "<style scoped>\n",
       "    .dataframe tbody tr th:only-of-type {\n",
       "        vertical-align: middle;\n",
       "    }\n",
       "\n",
       "    .dataframe tbody tr th {\n",
       "        vertical-align: top;\n",
       "    }\n",
       "\n",
       "    .dataframe thead th {\n",
       "        text-align: right;\n",
       "    }\n",
       "</style>\n",
       "<table border=\"1\" class=\"dataframe\">\n",
       "  <thead>\n",
       "    <tr style=\"text-align: right;\">\n",
       "      <th></th>\n",
       "      <th>indice_tiempo</th>\n",
       "      <th>demanda_total</th>\n",
       "      <th>demanda_residencial</th>\n",
       "      <th>comercio_e_industria</th>\n",
       "      <th>grandes_usuarios</th>\n",
       "      <th>temperatura_promedio</th>\n",
       "      <th>potencia_maxima</th>\n",
       "      <th>ede_tucuman</th>\n",
       "      <th>edelap_sa</th>\n",
       "      <th>edenor_distribuidor</th>\n",
       "      <th>...</th>\n",
       "      <th>energia_san_juan_sa_exedessa</th>\n",
       "      <th>epec_distribuidor</th>\n",
       "      <th>epen_distribuidor</th>\n",
       "      <th>epesf_distribuidor</th>\n",
       "      <th>recursos_y_energia_formosa_sa</th>\n",
       "      <th>secheep</th>\n",
       "      <th>spse_santa_cruz</th>\n",
       "      <th>month</th>\n",
       "      <th>year</th>\n",
       "      <th>quarter</th>\n",
       "    </tr>\n",
       "  </thead>\n",
       "  <tbody>\n",
       "    <tr>\n",
       "      <th>0</th>\n",
       "      <td>2001-01-01</td>\n",
       "      <td>6866.26</td>\n",
       "      <td>NaN</td>\n",
       "      <td>NaN</td>\n",
       "      <td>NaN</td>\n",
       "      <td>25.432</td>\n",
       "      <td>13501.0</td>\n",
       "      <td>NaN</td>\n",
       "      <td>NaN</td>\n",
       "      <td>NaN</td>\n",
       "      <td>...</td>\n",
       "      <td>NaN</td>\n",
       "      <td>NaN</td>\n",
       "      <td>NaN</td>\n",
       "      <td>NaN</td>\n",
       "      <td>NaN</td>\n",
       "      <td>NaN</td>\n",
       "      <td>NaN</td>\n",
       "      <td>1</td>\n",
       "      <td>2001</td>\n",
       "      <td>1</td>\n",
       "    </tr>\n",
       "    <tr>\n",
       "      <th>1</th>\n",
       "      <td>2001-02-01</td>\n",
       "      <td>6473.10</td>\n",
       "      <td>NaN</td>\n",
       "      <td>NaN</td>\n",
       "      <td>NaN</td>\n",
       "      <td>25.596</td>\n",
       "      <td>14061.0</td>\n",
       "      <td>NaN</td>\n",
       "      <td>NaN</td>\n",
       "      <td>NaN</td>\n",
       "      <td>...</td>\n",
       "      <td>NaN</td>\n",
       "      <td>NaN</td>\n",
       "      <td>NaN</td>\n",
       "      <td>NaN</td>\n",
       "      <td>NaN</td>\n",
       "      <td>NaN</td>\n",
       "      <td>NaN</td>\n",
       "      <td>2</td>\n",
       "      <td>2001</td>\n",
       "      <td>1</td>\n",
       "    </tr>\n",
       "    <tr>\n",
       "      <th>2</th>\n",
       "      <td>2001-03-01</td>\n",
       "      <td>6952.30</td>\n",
       "      <td>NaN</td>\n",
       "      <td>NaN</td>\n",
       "      <td>NaN</td>\n",
       "      <td>22.852</td>\n",
       "      <td>13780.0</td>\n",
       "      <td>NaN</td>\n",
       "      <td>NaN</td>\n",
       "      <td>NaN</td>\n",
       "      <td>...</td>\n",
       "      <td>NaN</td>\n",
       "      <td>NaN</td>\n",
       "      <td>NaN</td>\n",
       "      <td>NaN</td>\n",
       "      <td>NaN</td>\n",
       "      <td>NaN</td>\n",
       "      <td>NaN</td>\n",
       "      <td>3</td>\n",
       "      <td>2001</td>\n",
       "      <td>1</td>\n",
       "    </tr>\n",
       "    <tr>\n",
       "      <th>3</th>\n",
       "      <td>2001-04-01</td>\n",
       "      <td>6183.35</td>\n",
       "      <td>NaN</td>\n",
       "      <td>NaN</td>\n",
       "      <td>NaN</td>\n",
       "      <td>18.317</td>\n",
       "      <td>12866.0</td>\n",
       "      <td>NaN</td>\n",
       "      <td>NaN</td>\n",
       "      <td>NaN</td>\n",
       "      <td>...</td>\n",
       "      <td>NaN</td>\n",
       "      <td>NaN</td>\n",
       "      <td>NaN</td>\n",
       "      <td>NaN</td>\n",
       "      <td>NaN</td>\n",
       "      <td>NaN</td>\n",
       "      <td>NaN</td>\n",
       "      <td>4</td>\n",
       "      <td>2001</td>\n",
       "      <td>2</td>\n",
       "    </tr>\n",
       "    <tr>\n",
       "      <th>4</th>\n",
       "      <td>2001-05-01</td>\n",
       "      <td>6668.94</td>\n",
       "      <td>NaN</td>\n",
       "      <td>NaN</td>\n",
       "      <td>NaN</td>\n",
       "      <td>14.306</td>\n",
       "      <td>12968.0</td>\n",
       "      <td>NaN</td>\n",
       "      <td>NaN</td>\n",
       "      <td>NaN</td>\n",
       "      <td>...</td>\n",
       "      <td>NaN</td>\n",
       "      <td>NaN</td>\n",
       "      <td>NaN</td>\n",
       "      <td>NaN</td>\n",
       "      <td>NaN</td>\n",
       "      <td>NaN</td>\n",
       "      <td>NaN</td>\n",
       "      <td>5</td>\n",
       "      <td>2001</td>\n",
       "      <td>2</td>\n",
       "    </tr>\n",
       "  </tbody>\n",
       "</table>\n",
       "<p>5 rows × 33 columns</p>\n",
       "</div>"
      ],
      "text/plain": [
       "  indice_tiempo  demanda_total  demanda_residencial  comercio_e_industria  \\\n",
       "0    2001-01-01        6866.26                  NaN                   NaN   \n",
       "1    2001-02-01        6473.10                  NaN                   NaN   \n",
       "2    2001-03-01        6952.30                  NaN                   NaN   \n",
       "3    2001-04-01        6183.35                  NaN                   NaN   \n",
       "4    2001-05-01        6668.94                  NaN                   NaN   \n",
       "\n",
       "   grandes_usuarios  temperatura_promedio  potencia_maxima  ede_tucuman  \\\n",
       "0               NaN                25.432          13501.0          NaN   \n",
       "1               NaN                25.596          14061.0          NaN   \n",
       "2               NaN                22.852          13780.0          NaN   \n",
       "3               NaN                18.317          12866.0          NaN   \n",
       "4               NaN                14.306          12968.0          NaN   \n",
       "\n",
       "   edelap_sa  edenor_distribuidor   ...     energia_san_juan_sa_exedessa  \\\n",
       "0        NaN                  NaN   ...                              NaN   \n",
       "1        NaN                  NaN   ...                              NaN   \n",
       "2        NaN                  NaN   ...                              NaN   \n",
       "3        NaN                  NaN   ...                              NaN   \n",
       "4        NaN                  NaN   ...                              NaN   \n",
       "\n",
       "   epec_distribuidor  epen_distribuidor  epesf_distribuidor  \\\n",
       "0                NaN                NaN                 NaN   \n",
       "1                NaN                NaN                 NaN   \n",
       "2                NaN                NaN                 NaN   \n",
       "3                NaN                NaN                 NaN   \n",
       "4                NaN                NaN                 NaN   \n",
       "\n",
       "   recursos_y_energia_formosa_sa  secheep  spse_santa_cruz  month  year  \\\n",
       "0                            NaN      NaN              NaN      1  2001   \n",
       "1                            NaN      NaN              NaN      2  2001   \n",
       "2                            NaN      NaN              NaN      3  2001   \n",
       "3                            NaN      NaN              NaN      4  2001   \n",
       "4                            NaN      NaN              NaN      5  2001   \n",
       "\n",
       "   quarter  \n",
       "0        1  \n",
       "1        1  \n",
       "2        1  \n",
       "3        2  \n",
       "4        2  \n",
       "\n",
       "[5 rows x 33 columns]"
      ]
     },
     "execution_count": 9,
     "metadata": {},
     "output_type": "execute_result"
    }
   ],
   "source": [
    "df.head()"
   ]
  },
  {
   "cell_type": "code",
   "execution_count": 10,
   "metadata": {},
   "outputs": [
    {
     "ename": "NameError",
     "evalue": "name 'landslides' is not defined",
     "output_type": "error",
     "traceback": [
      "\u001b[0;31m---------------------------------------------------------------------------\u001b[0m",
      "\u001b[0;31mNameError\u001b[0m                                 Traceback (most recent call last)",
      "\u001b[0;32m<ipython-input-10-6d9a51cf5113>\u001b[0m in \u001b[0;36m<module>\u001b[0;34m()\u001b[0m\n\u001b[0;32m----> 1\u001b[0;31m \u001b[0mdf\u001b[0m\u001b[0;34m[\u001b[0m\u001b[0;34m'indice_tiempo'\u001b[0m\u001b[0;34m]\u001b[0m \u001b[0;34m=\u001b[0m \u001b[0mpd\u001b[0m\u001b[0;34m.\u001b[0m\u001b[0mto_datetime\u001b[0m\u001b[0;34m(\u001b[0m\u001b[0mlandslides\u001b[0m\u001b[0;34m[\u001b[0m\u001b[0;34m'indice_tiempo'\u001b[0m\u001b[0;34m]\u001b[0m\u001b[0;34m,\u001b[0m \u001b[0minfer_datetime_format\u001b[0m\u001b[0;34m=\u001b[0m\u001b[0;32mTrue\u001b[0m\u001b[0;34m)\u001b[0m\u001b[0;34m\u001b[0m\u001b[0m\n\u001b[0m",
      "\u001b[0;31mNameError\u001b[0m: name 'landslides' is not defined"
     ]
    }
   ],
   "source": [
    "df['indice_tiempo'] = pd.to_datetime(landslides['indice_tiempo'], infer_datetime_format=True)"
   ]
  },
  {
   "cell_type": "markdown",
   "metadata": {},
   "source": [
    "## Normalization"
   ]
  },
  {
   "cell_type": "code",
   "execution_count": null,
   "metadata": {},
   "outputs": [],
   "source": [
    "from sklearn import preprocessing"
   ]
  },
  {
   "cell_type": "code",
   "execution_count": null,
   "metadata": {},
   "outputs": [],
   "source": [
    "df['demanda_total'].describe()"
   ]
  },
  {
   "cell_type": "code",
   "execution_count": null,
   "metadata": {},
   "outputs": [],
   "source": [
    "X = df['demanda_total'].values"
   ]
  },
  {
   "cell_type": "code",
   "execution_count": null,
   "metadata": {},
   "outputs": [],
   "source": [
    "X_scaled = preprocessing.scale(X)"
   ]
  },
  {
   "cell_type": "code",
   "execution_count": null,
   "metadata": {},
   "outputs": [],
   "source": [
    "X_scaled"
   ]
  },
  {
   "cell_type": "code",
   "execution_count": null,
   "metadata": {},
   "outputs": [],
   "source": [
    "X_scaled.shape"
   ]
  },
  {
   "cell_type": "code",
   "execution_count": null,
   "metadata": {},
   "outputs": [],
   "source": [
    "X_scaled.mean()"
   ]
  },
  {
   "cell_type": "code",
   "execution_count": null,
   "metadata": {},
   "outputs": [],
   "source": [
    "X_scaled.std()"
   ]
  },
  {
   "cell_type": "markdown",
   "metadata": {},
   "source": [
    "## One-hot-encoding"
   ]
  },
  {
   "cell_type": "code",
   "execution_count": null,
   "metadata": {},
   "outputs": [],
   "source": [
    "df = pd.read_csv('fut19.csv')"
   ]
  },
  {
   "cell_type": "code",
   "execution_count": null,
   "metadata": {},
   "outputs": [],
   "source": [
    "df.head()"
   ]
  },
  {
   "cell_type": "code",
   "execution_count": null,
   "metadata": {},
   "outputs": [],
   "source": [
    "df_filtered = df[['player_name', 'club', 'overall']].copy()"
   ]
  },
  {
   "cell_type": "code",
   "execution_count": null,
   "metadata": {},
   "outputs": [],
   "source": [
    "df_filtered.head()"
   ]
  },
  {
   "cell_type": "code",
   "execution_count": null,
   "metadata": {},
   "outputs": [],
   "source": [
    "df_filtered['club'].value_counts()"
   ]
  },
  {
   "cell_type": "code",
   "execution_count": null,
   "metadata": {},
   "outputs": [],
   "source": [
    "selected_clubs = ['FC Barcelona', 'Real Madrid', 'Juventus', 'Liverpool']"
   ]
  },
  {
   "cell_type": "code",
   "execution_count": null,
   "metadata": {},
   "outputs": [],
   "source": [
    "tmp_df = df_filtered.loc[df_filtered['club'].isin(selected_clubs)]"
   ]
  },
  {
   "cell_type": "code",
   "execution_count": null,
   "metadata": {},
   "outputs": [],
   "source": [
    "tmp_df.sample(10)"
   ]
  },
  {
   "cell_type": "code",
   "execution_count": null,
   "metadata": {},
   "outputs": [],
   "source": [
    "pd.get_dummies(tmp_df, columns=['club'])"
   ]
  },
  {
   "cell_type": "markdown",
   "metadata": {},
   "source": [
    "### Label encoding"
   ]
  },
  {
   "cell_type": "code",
   "execution_count": null,
   "metadata": {},
   "outputs": [],
   "source": [
    "le = preprocessing.LabelEncoder()"
   ]
  },
  {
   "cell_type": "code",
   "execution_count": null,
   "metadata": {},
   "outputs": [],
   "source": [
    "le.fit(tmp_df['club'])"
   ]
  },
  {
   "cell_type": "code",
   "execution_count": null,
   "metadata": {},
   "outputs": [],
   "source": [
    "le.classes_"
   ]
  },
  {
   "cell_type": "code",
   "execution_count": null,
   "metadata": {},
   "outputs": [],
   "source": [
    "le.transform(['FC Barcelona', 'Juventus', 'Liverpool', 'Real Madrid'])"
   ]
  },
  {
   "cell_type": "code",
   "execution_count": null,
   "metadata": {},
   "outputs": [],
   "source": [
    "le.inverse_transform([0, 1, 2, 3])"
   ]
  },
  {
   "cell_type": "code",
   "execution_count": null,
   "metadata": {},
   "outputs": [],
   "source": [
    "club_le = le.transform(tmp_df['club'])"
   ]
  },
  {
   "cell_type": "code",
   "execution_count": null,
   "metadata": {},
   "outputs": [],
   "source": [
    "club_le"
   ]
  },
  {
   "cell_type": "code",
   "execution_count": null,
   "metadata": {},
   "outputs": [],
   "source": [
    "tmp_df.head()"
   ]
  },
  {
   "cell_type": "code",
   "execution_count": null,
   "metadata": {},
   "outputs": [],
   "source": [
    "pd.DataFrame(club_le)"
   ]
  },
  {
   "cell_type": "code",
   "execution_count": null,
   "metadata": {},
   "outputs": [],
   "source": [
    "pd.concat([tmp_df, pd.DataFrame(club_le)], axis=0)"
   ]
  },
  {
   "cell_type": "code",
   "execution_count": null,
   "metadata": {},
   "outputs": [],
   "source": [
    "pd.concat([tmp_df.reset_index(drop=True), pd.DataFrame({'club_le': club_le})], axis=1)"
   ]
  },
  {
   "cell_type": "code",
   "execution_count": null,
   "metadata": {},
   "outputs": [],
   "source": []
  }
 ],
 "metadata": {
  "kernelspec": {
   "display_name": "Python 3",
   "language": "python",
   "name": "python3"
  },
  "language_info": {
   "codemirror_mode": {
    "name": "ipython",
    "version": 3
   },
   "file_extension": ".py",
   "mimetype": "text/x-python",
   "name": "python",
   "nbconvert_exporter": "python",
   "pygments_lexer": "ipython3",
   "version": "3.7.0"
  }
 },
 "nbformat": 4,
 "nbformat_minor": 2
}
