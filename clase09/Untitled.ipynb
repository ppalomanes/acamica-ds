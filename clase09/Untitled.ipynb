{
 "cells": [
  {
   "cell_type": "code",
   "execution_count": 1,
   "metadata": {},
   "outputs": [],
   "source": [
    "import matplotlib.pyplot as plt\n",
    "%matplotlib inline\n",
    "import seaborn as sns\n",
    "import pandas as pd\n",
    "\n",
    "MAX_ROWS = 10\n",
    "pd.set_option('display.max_rows', MAX_ROWS)\n",
    "pd.set_option('display.max_columns', 200)\n",
    " \n",
    "sns.set_style(\"whitegrid\")\n",
    "sns.set_context(\"paper\")"
   ]
  },
  {
   "cell_type": "code",
   "execution_count": 2,
   "metadata": {},
   "outputs": [],
   "source": [
    "path_dataset = 'dataset/datos_properati_limpios.csv'\n",
    "df = pd.read_csv(path_dataset, parse_dates=['created_on'])"
   ]
  },
  {
   "cell_type": "code",
   "execution_count": 3,
   "metadata": {},
   "outputs": [
    {
     "data": {
      "text/plain": [
       "Index(['created_on', 'operation', 'property_type', 'place_with_parent_names',\n",
       "       'lat-lon', 'lat', 'lon', 'price_aprox_usd', 'surface_total_in_m2',\n",
       "       'surface_covered_in_m2', 'price_usd_per_m2', 'floor', 'rooms',\n",
       "       'expenses', 'properati_url', 'barrio'],\n",
       "      dtype='object')"
      ]
     },
     "execution_count": 3,
     "metadata": {},
     "output_type": "execute_result"
    }
   ],
   "source": [
    "df.columns"
   ]
  },
  {
   "cell_type": "code",
   "execution_count": 4,
   "metadata": {},
   "outputs": [
    {
     "name": "stdout",
     "output_type": "stream",
     "text": [
      "El dataset que vamos a trabajar aquí tiene 18979 observaciones\n"
     ]
    }
   ],
   "source": [
    "print(\"El dataset que vamos a trabajar aquí tiene {} observaciones\".format(df.shape[0]))"
   ]
  },
  {
   "cell_type": "code",
   "execution_count": 5,
   "metadata": {},
   "outputs": [
    {
     "data": {
      "text/plain": [
       "count     16037.000000\n",
       "mean       2760.408525\n",
       "std        1940.153216\n",
       "min           0.958333\n",
       "25%        1984.126984\n",
       "50%        2545.454545\n",
       "75%        3162.790698\n",
       "max      142450.141026\n",
       "Name: price_usd_per_m2, dtype: float64"
      ]
     },
     "execution_count": 5,
     "metadata": {},
     "output_type": "execute_result"
    }
   ],
   "source": [
    "df[\"price_usd_per_m2\"].describe()"
   ]
  },
  {
   "cell_type": "code",
   "execution_count": 6,
   "metadata": {},
   "outputs": [],
   "source": [
    "first_quartile, third_quartile = df['price_usd_per_m2'].quantile([0.25, 0.75])\n",
    "iqr = third_quartile - first_quartile\n",
    "df_filtered = df[~((df[\"price_usd_per_m2\"] < (first_quartile - 1.5 * iqr)) |\n",
    "                   (df[\"price_usd_per_m2\"] > (third_quartile + 1.5 * iqr)))]"
   ]
  },
  {
   "cell_type": "code",
   "execution_count": 7,
   "metadata": {},
   "outputs": [
    {
     "data": {
      "text/plain": [
       "count    15131.000000\n",
       "mean      2528.832243\n",
       "std        847.113710\n",
       "min        239.726027\n",
       "25%       1956.521739\n",
       "50%       2500.000000\n",
       "75%       3046.153846\n",
       "max       4929.577465\n",
       "Name: price_usd_per_m2, dtype: float64"
      ]
     },
     "execution_count": 7,
     "metadata": {},
     "output_type": "execute_result"
    }
   ],
   "source": [
    "df_filtered[\"price_usd_per_m2\"].describe()"
   ]
  },
  {
   "cell_type": "code",
   "execution_count": 8,
   "metadata": {},
   "outputs": [],
   "source": [
    "df = df_filtered"
   ]
  },
  {
   "cell_type": "code",
   "execution_count": 9,
   "metadata": {},
   "outputs": [
    {
     "data": {
      "text/html": [
       "<div>\n",
       "<style scoped>\n",
       "    .dataframe tbody tr th:only-of-type {\n",
       "        vertical-align: middle;\n",
       "    }\n",
       "\n",
       "    .dataframe tbody tr th {\n",
       "        vertical-align: top;\n",
       "    }\n",
       "\n",
       "    .dataframe thead th {\n",
       "        text-align: right;\n",
       "    }\n",
       "</style>\n",
       "<table border=\"1\" class=\"dataframe\">\n",
       "  <thead>\n",
       "    <tr style=\"text-align: right;\">\n",
       "      <th></th>\n",
       "      <th>Total</th>\n",
       "      <th>Percent</th>\n",
       "    </tr>\n",
       "  </thead>\n",
       "  <tbody>\n",
       "    <tr>\n",
       "      <th>floor</th>\n",
       "      <td>15376</td>\n",
       "      <td>85.077187</td>\n",
       "    </tr>\n",
       "    <tr>\n",
       "      <th>expenses</th>\n",
       "      <td>14431</td>\n",
       "      <td>79.848393</td>\n",
       "    </tr>\n",
       "    <tr>\n",
       "      <th>rooms</th>\n",
       "      <td>5274</td>\n",
       "      <td>29.181652</td>\n",
       "    </tr>\n",
       "    <tr>\n",
       "      <th>price_usd_per_m2</th>\n",
       "      <td>2942</td>\n",
       "      <td>16.278426</td>\n",
       "    </tr>\n",
       "    <tr>\n",
       "      <th>surface_total_in_m2</th>\n",
       "      <td>2393</td>\n",
       "      <td>13.240746</td>\n",
       "    </tr>\n",
       "    <tr>\n",
       "      <th>...</th>\n",
       "      <td>...</td>\n",
       "      <td>...</td>\n",
       "    </tr>\n",
       "    <tr>\n",
       "      <th>lat-lon</th>\n",
       "      <td>0</td>\n",
       "      <td>0.000000</td>\n",
       "    </tr>\n",
       "    <tr>\n",
       "      <th>place_with_parent_names</th>\n",
       "      <td>0</td>\n",
       "      <td>0.000000</td>\n",
       "    </tr>\n",
       "    <tr>\n",
       "      <th>property_type</th>\n",
       "      <td>0</td>\n",
       "      <td>0.000000</td>\n",
       "    </tr>\n",
       "    <tr>\n",
       "      <th>operation</th>\n",
       "      <td>0</td>\n",
       "      <td>0.000000</td>\n",
       "    </tr>\n",
       "    <tr>\n",
       "      <th>created_on</th>\n",
       "      <td>0</td>\n",
       "      <td>0.000000</td>\n",
       "    </tr>\n",
       "  </tbody>\n",
       "</table>\n",
       "<p>16 rows × 2 columns</p>\n",
       "</div>"
      ],
      "text/plain": [
       "                         Total    Percent\n",
       "floor                    15376  85.077187\n",
       "expenses                 14431  79.848393\n",
       "rooms                     5274  29.181652\n",
       "price_usd_per_m2          2942  16.278426\n",
       "surface_total_in_m2       2393  13.240746\n",
       "...                        ...        ...\n",
       "lat-lon                      0   0.000000\n",
       "place_with_parent_names      0   0.000000\n",
       "property_type                0   0.000000\n",
       "operation                    0   0.000000\n",
       "created_on                   0   0.000000\n",
       "\n",
       "[16 rows x 2 columns]"
      ]
     },
     "execution_count": 9,
     "metadata": {},
     "output_type": "execute_result"
    }
   ],
   "source": [
    "total = df.isnull().sum().sort_values(ascending=False)\n",
    "percent = ((df.isnull().sum()/df.isnull().count())*100).sort_values(ascending=False)\n",
    "missing_data = pd.concat([total, percent], axis=1, keys=['Total', 'Percent'])\n",
    "missing_data"
   ]
  },
  {
   "cell_type": "code",
   "execution_count": 10,
   "metadata": {},
   "outputs": [],
   "source": [
    "df = df.drop(['floor', 'expenses'], axis = 1)"
   ]
  },
  {
   "cell_type": "code",
   "execution_count": 11,
   "metadata": {},
   "outputs": [
    {
     "data": {
      "text/html": [
       "<div>\n",
       "<style scoped>\n",
       "    .dataframe tbody tr th:only-of-type {\n",
       "        vertical-align: middle;\n",
       "    }\n",
       "\n",
       "    .dataframe tbody tr th {\n",
       "        vertical-align: top;\n",
       "    }\n",
       "\n",
       "    .dataframe thead th {\n",
       "        text-align: right;\n",
       "    }\n",
       "</style>\n",
       "<table border=\"1\" class=\"dataframe\">\n",
       "  <thead>\n",
       "    <tr style=\"text-align: right;\">\n",
       "      <th></th>\n",
       "      <th>created_on</th>\n",
       "      <th>operation</th>\n",
       "      <th>property_type</th>\n",
       "      <th>place_with_parent_names</th>\n",
       "      <th>lat-lon</th>\n",
       "      <th>lat</th>\n",
       "      <th>lon</th>\n",
       "      <th>price_aprox_usd</th>\n",
       "      <th>surface_total_in_m2</th>\n",
       "      <th>surface_covered_in_m2</th>\n",
       "      <th>price_usd_per_m2</th>\n",
       "      <th>rooms</th>\n",
       "      <th>properati_url</th>\n",
       "      <th>barrio</th>\n",
       "    </tr>\n",
       "  </thead>\n",
       "  <tbody>\n",
       "    <tr>\n",
       "      <th>16003</th>\n",
       "      <td>2017-10-20</td>\n",
       "      <td>sell</td>\n",
       "      <td>store</td>\n",
       "      <td>|Argentina|Capital Federal|Floresta|</td>\n",
       "      <td>-34.6276212,-58.4815111</td>\n",
       "      <td>-34.627621</td>\n",
       "      <td>-58.481511</td>\n",
       "      <td>600000.0</td>\n",
       "      <td>NaN</td>\n",
       "      <td>100.0</td>\n",
       "      <td>NaN</td>\n",
       "      <td>NaN</td>\n",
       "      <td>https://www.properati.com.ar/1haif_venta_local...</td>\n",
       "      <td>FLORESTA</td>\n",
       "    </tr>\n",
       "    <tr>\n",
       "      <th>15908</th>\n",
       "      <td>2018-01-19</td>\n",
       "      <td>sell</td>\n",
       "      <td>apartment</td>\n",
       "      <td>|Argentina|Capital Federal|Villa del Parque|</td>\n",
       "      <td>-34.612125,-58.47868</td>\n",
       "      <td>-34.612125</td>\n",
       "      <td>-58.478680</td>\n",
       "      <td>NaN</td>\n",
       "      <td>46.0</td>\n",
       "      <td>46.0</td>\n",
       "      <td>NaN</td>\n",
       "      <td>1.0</td>\n",
       "      <td>https://www.properati.com.ar/1jp3k_venta_depar...</td>\n",
       "      <td>VILLA SANTA RITA</td>\n",
       "    </tr>\n",
       "    <tr>\n",
       "      <th>18754</th>\n",
       "      <td>2017-12-14</td>\n",
       "      <td>sell</td>\n",
       "      <td>PH</td>\n",
       "      <td>|Argentina|Capital Federal|Coghlan|</td>\n",
       "      <td>-34.5596435,-58.4778467</td>\n",
       "      <td>-34.559643</td>\n",
       "      <td>-58.477847</td>\n",
       "      <td>305000.0</td>\n",
       "      <td>150.0</td>\n",
       "      <td>76.0</td>\n",
       "      <td>2033.333333</td>\n",
       "      <td>3.0</td>\n",
       "      <td>https://www.properati.com.ar/1iz3m_venta_ph_co...</td>\n",
       "      <td>COGHLAN</td>\n",
       "    </tr>\n",
       "    <tr>\n",
       "      <th>9841</th>\n",
       "      <td>2017-11-10</td>\n",
       "      <td>sell</td>\n",
       "      <td>apartment</td>\n",
       "      <td>|Argentina|Capital Federal|Belgrano|</td>\n",
       "      <td>-34.5692509,-58.4691294</td>\n",
       "      <td>-34.569251</td>\n",
       "      <td>-58.469129</td>\n",
       "      <td>420000.0</td>\n",
       "      <td>90.0</td>\n",
       "      <td>82.0</td>\n",
       "      <td>4666.666667</td>\n",
       "      <td>3.0</td>\n",
       "      <td>https://www.properati.com.ar/1i0rp_venta_depar...</td>\n",
       "      <td>BELGRANO</td>\n",
       "    </tr>\n",
       "    <tr>\n",
       "      <th>11116</th>\n",
       "      <td>2017-10-12</td>\n",
       "      <td>sell</td>\n",
       "      <td>apartment</td>\n",
       "      <td>|Argentina|Capital Federal|Caballito|</td>\n",
       "      <td>-34.6086076,-58.4485151</td>\n",
       "      <td>-34.608608</td>\n",
       "      <td>-58.448515</td>\n",
       "      <td>375400.0</td>\n",
       "      <td>147.0</td>\n",
       "      <td>131.0</td>\n",
       "      <td>2553.741497</td>\n",
       "      <td>NaN</td>\n",
       "      <td>https://www.properati.com.ar/1g8y0_venta_depar...</td>\n",
       "      <td>CABALLITO</td>\n",
       "    </tr>\n",
       "    <tr>\n",
       "      <th>12051</th>\n",
       "      <td>2018-01-26</td>\n",
       "      <td>sell</td>\n",
       "      <td>apartment</td>\n",
       "      <td>|Argentina|Capital Federal|Caballito|</td>\n",
       "      <td>-34.6294269,-58.4521176</td>\n",
       "      <td>-34.629427</td>\n",
       "      <td>-58.452118</td>\n",
       "      <td>145000.0</td>\n",
       "      <td>54.0</td>\n",
       "      <td>50.0</td>\n",
       "      <td>2685.185185</td>\n",
       "      <td>3.0</td>\n",
       "      <td>https://www.properati.com.ar/1k4xs_venta_depar...</td>\n",
       "      <td>CABALLITO</td>\n",
       "    </tr>\n",
       "    <tr>\n",
       "      <th>4257</th>\n",
       "      <td>2018-01-25</td>\n",
       "      <td>sell</td>\n",
       "      <td>apartment</td>\n",
       "      <td>|Argentina|Capital Federal|Palermo|</td>\n",
       "      <td>-34.5850740914,-58.4065106688</td>\n",
       "      <td>-34.585074</td>\n",
       "      <td>-58.406511</td>\n",
       "      <td>345000.0</td>\n",
       "      <td>75.0</td>\n",
       "      <td>69.0</td>\n",
       "      <td>4600.000000</td>\n",
       "      <td>3.0</td>\n",
       "      <td>https://www.properati.com.ar/1k3do_venta_depar...</td>\n",
       "      <td>RECOLETA</td>\n",
       "    </tr>\n",
       "    <tr>\n",
       "      <th>5595</th>\n",
       "      <td>2017-10-17</td>\n",
       "      <td>sell</td>\n",
       "      <td>apartment</td>\n",
       "      <td>|Argentina|Capital Federal|Monserrat|</td>\n",
       "      <td>-34.6081016,-58.3709896</td>\n",
       "      <td>-34.608102</td>\n",
       "      <td>-58.370990</td>\n",
       "      <td>NaN</td>\n",
       "      <td>830.0</td>\n",
       "      <td>NaN</td>\n",
       "      <td>NaN</td>\n",
       "      <td>NaN</td>\n",
       "      <td>https://www.properati.com.ar/1gm9r_venta_depar...</td>\n",
       "      <td>MONSERRAT</td>\n",
       "    </tr>\n",
       "    <tr>\n",
       "      <th>1216</th>\n",
       "      <td>2017-11-25</td>\n",
       "      <td>sell</td>\n",
       "      <td>apartment</td>\n",
       "      <td>|Argentina|Capital Federal|Palermo|</td>\n",
       "      <td>-34.5794661,-58.4309237</td>\n",
       "      <td>-34.579466</td>\n",
       "      <td>-58.430924</td>\n",
       "      <td>243000.0</td>\n",
       "      <td>93.0</td>\n",
       "      <td>89.0</td>\n",
       "      <td>2612.903226</td>\n",
       "      <td>3.0</td>\n",
       "      <td>https://www.properati.com.ar/1igc5_venta_depar...</td>\n",
       "      <td>PALERMO</td>\n",
       "    </tr>\n",
       "    <tr>\n",
       "      <th>9637</th>\n",
       "      <td>2017-10-17</td>\n",
       "      <td>sell</td>\n",
       "      <td>apartment</td>\n",
       "      <td>|Argentina|Capital Federal|Belgrano|</td>\n",
       "      <td>-34.5586015798,-58.4526075045</td>\n",
       "      <td>-34.558602</td>\n",
       "      <td>-58.452608</td>\n",
       "      <td>560000.0</td>\n",
       "      <td>310.0</td>\n",
       "      <td>240.0</td>\n",
       "      <td>1806.451613</td>\n",
       "      <td>NaN</td>\n",
       "      <td>https://www.properati.com.ar/1gf78_venta_depar...</td>\n",
       "      <td>BELGRANO</td>\n",
       "    </tr>\n",
       "  </tbody>\n",
       "</table>\n",
       "</div>"
      ],
      "text/plain": [
       "      created_on operation property_type  \\\n",
       "16003 2017-10-20      sell         store   \n",
       "15908 2018-01-19      sell     apartment   \n",
       "18754 2017-12-14      sell            PH   \n",
       "9841  2017-11-10      sell     apartment   \n",
       "11116 2017-10-12      sell     apartment   \n",
       "12051 2018-01-26      sell     apartment   \n",
       "4257  2018-01-25      sell     apartment   \n",
       "5595  2017-10-17      sell     apartment   \n",
       "1216  2017-11-25      sell     apartment   \n",
       "9637  2017-10-17      sell     apartment   \n",
       "\n",
       "                            place_with_parent_names  \\\n",
       "16003          |Argentina|Capital Federal|Floresta|   \n",
       "15908  |Argentina|Capital Federal|Villa del Parque|   \n",
       "18754           |Argentina|Capital Federal|Coghlan|   \n",
       "9841           |Argentina|Capital Federal|Belgrano|   \n",
       "11116         |Argentina|Capital Federal|Caballito|   \n",
       "12051         |Argentina|Capital Federal|Caballito|   \n",
       "4257            |Argentina|Capital Federal|Palermo|   \n",
       "5595          |Argentina|Capital Federal|Monserrat|   \n",
       "1216            |Argentina|Capital Federal|Palermo|   \n",
       "9637           |Argentina|Capital Federal|Belgrano|   \n",
       "\n",
       "                             lat-lon        lat        lon  price_aprox_usd  \\\n",
       "16003        -34.6276212,-58.4815111 -34.627621 -58.481511         600000.0   \n",
       "15908           -34.612125,-58.47868 -34.612125 -58.478680              NaN   \n",
       "18754        -34.5596435,-58.4778467 -34.559643 -58.477847         305000.0   \n",
       "9841         -34.5692509,-58.4691294 -34.569251 -58.469129         420000.0   \n",
       "11116        -34.6086076,-58.4485151 -34.608608 -58.448515         375400.0   \n",
       "12051        -34.6294269,-58.4521176 -34.629427 -58.452118         145000.0   \n",
       "4257   -34.5850740914,-58.4065106688 -34.585074 -58.406511         345000.0   \n",
       "5595         -34.6081016,-58.3709896 -34.608102 -58.370990              NaN   \n",
       "1216         -34.5794661,-58.4309237 -34.579466 -58.430924         243000.0   \n",
       "9637   -34.5586015798,-58.4526075045 -34.558602 -58.452608         560000.0   \n",
       "\n",
       "       surface_total_in_m2  surface_covered_in_m2  price_usd_per_m2  rooms  \\\n",
       "16003                  NaN                  100.0               NaN    NaN   \n",
       "15908                 46.0                   46.0               NaN    1.0   \n",
       "18754                150.0                   76.0       2033.333333    3.0   \n",
       "9841                  90.0                   82.0       4666.666667    3.0   \n",
       "11116                147.0                  131.0       2553.741497    NaN   \n",
       "12051                 54.0                   50.0       2685.185185    3.0   \n",
       "4257                  75.0                   69.0       4600.000000    3.0   \n",
       "5595                 830.0                    NaN               NaN    NaN   \n",
       "1216                  93.0                   89.0       2612.903226    3.0   \n",
       "9637                 310.0                  240.0       1806.451613    NaN   \n",
       "\n",
       "                                           properati_url            barrio  \n",
       "16003  https://www.properati.com.ar/1haif_venta_local...          FLORESTA  \n",
       "15908  https://www.properati.com.ar/1jp3k_venta_depar...  VILLA SANTA RITA  \n",
       "18754  https://www.properati.com.ar/1iz3m_venta_ph_co...           COGHLAN  \n",
       "9841   https://www.properati.com.ar/1i0rp_venta_depar...          BELGRANO  \n",
       "11116  https://www.properati.com.ar/1g8y0_venta_depar...         CABALLITO  \n",
       "12051  https://www.properati.com.ar/1k4xs_venta_depar...         CABALLITO  \n",
       "4257   https://www.properati.com.ar/1k3do_venta_depar...          RECOLETA  \n",
       "5595   https://www.properati.com.ar/1gm9r_venta_depar...         MONSERRAT  \n",
       "1216   https://www.properati.com.ar/1igc5_venta_depar...           PALERMO  \n",
       "9637   https://www.properati.com.ar/1gf78_venta_depar...          BELGRANO  "
      ]
     },
     "execution_count": 11,
     "metadata": {},
     "output_type": "execute_result"
    }
   ],
   "source": [
    "df.sample(10)"
   ]
  },
  {
   "cell_type": "code",
   "execution_count": 12,
   "metadata": {},
   "outputs": [
    {
     "data": {
      "text/plain": [
       "array(['sell'], dtype=object)"
      ]
     },
     "execution_count": 12,
     "metadata": {},
     "output_type": "execute_result"
    }
   ],
   "source": [
    "df[\"operation\"].unique()"
   ]
  },
  {
   "cell_type": "markdown",
   "metadata": {},
   "source": [
    "drop \"operations,\" son tdas iguales y \"lat-lon\" ya es encuentran representadas "
   ]
  },
  {
   "cell_type": "code",
   "execution_count": 13,
   "metadata": {},
   "outputs": [],
   "source": [
    "df = df.drop(['operation', 'lat-lon'], axis = 1)"
   ]
  },
  {
   "cell_type": "code",
   "execution_count": 14,
   "metadata": {},
   "outputs": [
    {
     "data": {
      "text/html": [
       "<div>\n",
       "<style scoped>\n",
       "    .dataframe tbody tr th:only-of-type {\n",
       "        vertical-align: middle;\n",
       "    }\n",
       "\n",
       "    .dataframe tbody tr th {\n",
       "        vertical-align: top;\n",
       "    }\n",
       "\n",
       "    .dataframe thead th {\n",
       "        text-align: right;\n",
       "    }\n",
       "</style>\n",
       "<table border=\"1\" class=\"dataframe\">\n",
       "  <thead>\n",
       "    <tr style=\"text-align: right;\">\n",
       "      <th></th>\n",
       "      <th>created_on</th>\n",
       "      <th>property_type</th>\n",
       "      <th>place_with_parent_names</th>\n",
       "      <th>lat</th>\n",
       "      <th>lon</th>\n",
       "      <th>price_aprox_usd</th>\n",
       "      <th>surface_total_in_m2</th>\n",
       "      <th>surface_covered_in_m2</th>\n",
       "      <th>price_usd_per_m2</th>\n",
       "      <th>rooms</th>\n",
       "      <th>properati_url</th>\n",
       "      <th>barrio</th>\n",
       "    </tr>\n",
       "  </thead>\n",
       "  <tbody>\n",
       "    <tr>\n",
       "      <th>2</th>\n",
       "      <td>2017-08-02</td>\n",
       "      <td>store</td>\n",
       "      <td>|Argentina|Capital Federal|Palermo|Palermo Soho|</td>\n",
       "      <td>-34.589723</td>\n",
       "      <td>-58.432566</td>\n",
       "      <td>343000.00</td>\n",
       "      <td>122.0</td>\n",
       "      <td>108.0</td>\n",
       "      <td>2811.475410</td>\n",
       "      <td>2.0</td>\n",
       "      <td>https://www.properati.com.ar/1cm8w_venta_local...</td>\n",
       "      <td>PALERMO</td>\n",
       "    </tr>\n",
       "    <tr>\n",
       "      <th>5</th>\n",
       "      <td>2017-08-09</td>\n",
       "      <td>store</td>\n",
       "      <td>|Argentina|Capital Federal|Palermo|</td>\n",
       "      <td>-34.575825</td>\n",
       "      <td>-58.434322</td>\n",
       "      <td>120000.00</td>\n",
       "      <td>30.0</td>\n",
       "      <td>30.0</td>\n",
       "      <td>4000.000000</td>\n",
       "      <td>NaN</td>\n",
       "      <td>https://www.properati.com.ar/1cw7a_venta_local...</td>\n",
       "      <td>PALERMO</td>\n",
       "    </tr>\n",
       "    <tr>\n",
       "      <th>6</th>\n",
       "      <td>2017-08-11</td>\n",
       "      <td>store</td>\n",
       "      <td>|Argentina|Capital Federal|Belgrano|</td>\n",
       "      <td>-34.573906</td>\n",
       "      <td>-58.439195</td>\n",
       "      <td>100000.00</td>\n",
       "      <td>26.0</td>\n",
       "      <td>NaN</td>\n",
       "      <td>3846.153846</td>\n",
       "      <td>NaN</td>\n",
       "      <td>https://www.properati.com.ar/1d36i_venta_local...</td>\n",
       "      <td>PALERMO</td>\n",
       "    </tr>\n",
       "    <tr>\n",
       "      <th>8</th>\n",
       "      <td>2017-08-12</td>\n",
       "      <td>store</td>\n",
       "      <td>|Argentina|Capital Federal|Palermo|</td>\n",
       "      <td>-34.595609</td>\n",
       "      <td>-58.424764</td>\n",
       "      <td>110000.00</td>\n",
       "      <td>48.0</td>\n",
       "      <td>48.0</td>\n",
       "      <td>2291.666667</td>\n",
       "      <td>NaN</td>\n",
       "      <td>https://www.properati.com.ar/1d5sl_venta_local...</td>\n",
       "      <td>PALERMO</td>\n",
       "    </tr>\n",
       "    <tr>\n",
       "      <th>9</th>\n",
       "      <td>2017-08-15</td>\n",
       "      <td>store</td>\n",
       "      <td>|Argentina|Capital Federal|Palermo|</td>\n",
       "      <td>-34.558031</td>\n",
       "      <td>-58.417009</td>\n",
       "      <td>50000.00</td>\n",
       "      <td>20.0</td>\n",
       "      <td>20.0</td>\n",
       "      <td>2500.000000</td>\n",
       "      <td>NaN</td>\n",
       "      <td>https://www.properati.com.ar/1d86m_venta_local...</td>\n",
       "      <td>PALERMO</td>\n",
       "    </tr>\n",
       "    <tr>\n",
       "      <th>...</th>\n",
       "      <td>...</td>\n",
       "      <td>...</td>\n",
       "      <td>...</td>\n",
       "      <td>...</td>\n",
       "      <td>...</td>\n",
       "      <td>...</td>\n",
       "      <td>...</td>\n",
       "      <td>...</td>\n",
       "      <td>...</td>\n",
       "      <td>...</td>\n",
       "      <td>...</td>\n",
       "      <td>...</td>\n",
       "    </tr>\n",
       "    <tr>\n",
       "      <th>18974</th>\n",
       "      <td>2018-01-08</td>\n",
       "      <td>apartment</td>\n",
       "      <td>|Argentina|Capital Federal|Villa Soldati|</td>\n",
       "      <td>-34.668741</td>\n",
       "      <td>-58.443146</td>\n",
       "      <td>60000.00</td>\n",
       "      <td>55.0</td>\n",
       "      <td>55.0</td>\n",
       "      <td>1090.909091</td>\n",
       "      <td>3.0</td>\n",
       "      <td>https://www.properati.com.ar/1jcpm_venta_depar...</td>\n",
       "      <td>VILLA SOLDATI</td>\n",
       "    </tr>\n",
       "    <tr>\n",
       "      <th>18975</th>\n",
       "      <td>2018-01-23</td>\n",
       "      <td>house</td>\n",
       "      <td>|Argentina|Capital Federal|Villa Soldati|</td>\n",
       "      <td>-34.664170</td>\n",
       "      <td>-58.443317</td>\n",
       "      <td>99000.00</td>\n",
       "      <td>115.0</td>\n",
       "      <td>82.0</td>\n",
       "      <td>860.869565</td>\n",
       "      <td>3.0</td>\n",
       "      <td>https://www.properati.com.ar/1k1hs_venta_casa_...</td>\n",
       "      <td>VILLA SOLDATI</td>\n",
       "    </tr>\n",
       "    <tr>\n",
       "      <th>18976</th>\n",
       "      <td>2018-01-24</td>\n",
       "      <td>store</td>\n",
       "      <td>|Argentina|Capital Federal|Villa Soldati|</td>\n",
       "      <td>-34.661814</td>\n",
       "      <td>-58.426504</td>\n",
       "      <td>3300000.00</td>\n",
       "      <td>NaN</td>\n",
       "      <td>4162.0</td>\n",
       "      <td>NaN</td>\n",
       "      <td>NaN</td>\n",
       "      <td>https://www.properati.com.ar/1k1mv_venta_local...</td>\n",
       "      <td>VILLA SOLDATI</td>\n",
       "    </tr>\n",
       "    <tr>\n",
       "      <th>18977</th>\n",
       "      <td>2018-01-27</td>\n",
       "      <td>apartment</td>\n",
       "      <td>|Argentina|Capital Federal|Villa Soldati|</td>\n",
       "      <td>-34.665005</td>\n",
       "      <td>-58.443041</td>\n",
       "      <td>50433.01</td>\n",
       "      <td>45.0</td>\n",
       "      <td>45.0</td>\n",
       "      <td>1120.733556</td>\n",
       "      <td>3.0</td>\n",
       "      <td>https://www.properati.com.ar/1k5v0_venta_depar...</td>\n",
       "      <td>VILLA SOLDATI</td>\n",
       "    </tr>\n",
       "    <tr>\n",
       "      <th>18978</th>\n",
       "      <td>2018-01-27</td>\n",
       "      <td>apartment</td>\n",
       "      <td>|Argentina|Capital Federal|Villa Lugano|</td>\n",
       "      <td>-34.664283</td>\n",
       "      <td>-58.469604</td>\n",
       "      <td>75000.00</td>\n",
       "      <td>60.0</td>\n",
       "      <td>58.0</td>\n",
       "      <td>1250.000000</td>\n",
       "      <td>3.0</td>\n",
       "      <td>https://www.properati.com.ar/1k5x2_venta_depar...</td>\n",
       "      <td>VILLA SOLDATI</td>\n",
       "    </tr>\n",
       "  </tbody>\n",
       "</table>\n",
       "<p>18073 rows × 12 columns</p>\n",
       "</div>"
      ],
      "text/plain": [
       "      created_on property_type  \\\n",
       "2     2017-08-02         store   \n",
       "5     2017-08-09         store   \n",
       "6     2017-08-11         store   \n",
       "8     2017-08-12         store   \n",
       "9     2017-08-15         store   \n",
       "...          ...           ...   \n",
       "18974 2018-01-08     apartment   \n",
       "18975 2018-01-23         house   \n",
       "18976 2018-01-24         store   \n",
       "18977 2018-01-27     apartment   \n",
       "18978 2018-01-27     apartment   \n",
       "\n",
       "                                place_with_parent_names        lat        lon  \\\n",
       "2      |Argentina|Capital Federal|Palermo|Palermo Soho| -34.589723 -58.432566   \n",
       "5                   |Argentina|Capital Federal|Palermo| -34.575825 -58.434322   \n",
       "6                  |Argentina|Capital Federal|Belgrano| -34.573906 -58.439195   \n",
       "8                   |Argentina|Capital Federal|Palermo| -34.595609 -58.424764   \n",
       "9                   |Argentina|Capital Federal|Palermo| -34.558031 -58.417009   \n",
       "...                                                 ...        ...        ...   \n",
       "18974         |Argentina|Capital Federal|Villa Soldati| -34.668741 -58.443146   \n",
       "18975         |Argentina|Capital Federal|Villa Soldati| -34.664170 -58.443317   \n",
       "18976         |Argentina|Capital Federal|Villa Soldati| -34.661814 -58.426504   \n",
       "18977         |Argentina|Capital Federal|Villa Soldati| -34.665005 -58.443041   \n",
       "18978          |Argentina|Capital Federal|Villa Lugano| -34.664283 -58.469604   \n",
       "\n",
       "       price_aprox_usd  surface_total_in_m2  surface_covered_in_m2  \\\n",
       "2            343000.00                122.0                  108.0   \n",
       "5            120000.00                 30.0                   30.0   \n",
       "6            100000.00                 26.0                    NaN   \n",
       "8            110000.00                 48.0                   48.0   \n",
       "9             50000.00                 20.0                   20.0   \n",
       "...                ...                  ...                    ...   \n",
       "18974         60000.00                 55.0                   55.0   \n",
       "18975         99000.00                115.0                   82.0   \n",
       "18976       3300000.00                  NaN                 4162.0   \n",
       "18977         50433.01                 45.0                   45.0   \n",
       "18978         75000.00                 60.0                   58.0   \n",
       "\n",
       "       price_usd_per_m2  rooms  \\\n",
       "2           2811.475410    2.0   \n",
       "5           4000.000000    NaN   \n",
       "6           3846.153846    NaN   \n",
       "8           2291.666667    NaN   \n",
       "9           2500.000000    NaN   \n",
       "...                 ...    ...   \n",
       "18974       1090.909091    3.0   \n",
       "18975        860.869565    3.0   \n",
       "18976               NaN    NaN   \n",
       "18977       1120.733556    3.0   \n",
       "18978       1250.000000    3.0   \n",
       "\n",
       "                                           properati_url         barrio  \n",
       "2      https://www.properati.com.ar/1cm8w_venta_local...        PALERMO  \n",
       "5      https://www.properati.com.ar/1cw7a_venta_local...        PALERMO  \n",
       "6      https://www.properati.com.ar/1d36i_venta_local...        PALERMO  \n",
       "8      https://www.properati.com.ar/1d5sl_venta_local...        PALERMO  \n",
       "9      https://www.properati.com.ar/1d86m_venta_local...        PALERMO  \n",
       "...                                                  ...            ...  \n",
       "18974  https://www.properati.com.ar/1jcpm_venta_depar...  VILLA SOLDATI  \n",
       "18975  https://www.properati.com.ar/1k1hs_venta_casa_...  VILLA SOLDATI  \n",
       "18976  https://www.properati.com.ar/1k1mv_venta_local...  VILLA SOLDATI  \n",
       "18977  https://www.properati.com.ar/1k5v0_venta_depar...  VILLA SOLDATI  \n",
       "18978  https://www.properati.com.ar/1k5x2_venta_depar...  VILLA SOLDATI  \n",
       "\n",
       "[18073 rows x 12 columns]"
      ]
     },
     "execution_count": 14,
     "metadata": {},
     "output_type": "execute_result"
    }
   ],
   "source": [
    "df"
   ]
  },
  {
   "cell_type": "markdown",
   "metadata": {},
   "source": [
    "Existen lugares con expacio extra a expandir, quizas patio o algun otro espacio"
   ]
  },
  {
   "cell_type": "code",
   "execution_count": 15,
   "metadata": {},
   "outputs": [],
   "source": [
    "df[\"extra_space\"] = df[\"surface_total_in_m2\"] - df[\"surface_covered_in_m2\"]"
   ]
  },
  {
   "cell_type": "code",
   "execution_count": 29,
   "metadata": {},
   "outputs": [],
   "source": [
    "def hasExtraSpace(x):\n",
    "    if x[\"extra_space\"] == 0:\n",
    "        x[\"has_extra_space\"] = 0\n",
    "    else:\n",
    "        x[\"has_extra_space\"] = 1"
   ]
  },
  {
   "cell_type": "code",
   "execution_count": 31,
   "metadata": {},
   "outputs": [],
   "source": [
    "df[\"has_extra_space\"] = df[\"extra_space\"] != 0"
   ]
  },
  {
   "cell_type": "code",
   "execution_count": null,
   "metadata": {},
   "outputs": [],
   "source": [
    "df"
   ]
  },
  {
   "cell_type": "code",
   "execution_count": 16,
   "metadata": {},
   "outputs": [],
   "source": [
    "df_houseExtra = df[(df[\"extra_space\"] < 0) & (df[\"property_type\"] == \"house\")]"
   ]
  },
  {
   "cell_type": "code",
   "execution_count": 43,
   "metadata": {},
   "outputs": [
    {
     "data": {
      "text/plain": [
       "(42, 13)"
      ]
     },
     "execution_count": 43,
     "metadata": {},
     "output_type": "execute_result"
    }
   ],
   "source": [
    "df_houseExtra.shape"
   ]
  },
  {
   "cell_type": "code",
   "execution_count": 21,
   "metadata": {},
   "outputs": [
    {
     "name": "stderr",
     "output_type": "stream",
     "text": [
      "/home/rodixxi/anaconda3/lib/python3.7/site-packages/scipy/stats/stats.py:1713: FutureWarning: Using a non-tuple sequence for multidimensional indexing is deprecated; use `arr[tuple(seq)]` instead of `arr[seq]`. In the future this will be interpreted as an array index, `arr[np.array(seq)]`, which will result either in an error or a different result.\n",
      "  return np.add.reduce(sorted[indexer] * weights, axis=axis) / sumval\n"
     ]
    },
    {
     "data": {
      "image/png": "[encoded data removed]",
      "text/plain": [
       "<Figure size 432x288 with 1 Axes>"
      ]
     },
     "metadata": {
      "needs_background": "light"
     },
     "output_type": "display_data"
    }
   ],
   "source": [
    "ax = sns.distplot(df_houseExtra[\"extra_space\"])"
   ]
  },
  {
   "cell_type": "code",
   "execution_count": 22,
   "metadata": {},
   "outputs": [
    {
     "data": {
      "image/png": "[encoded data removed]",
      "text/plain": [
       "<Figure size 432x288 with 1 Axes>"
      ]
     },
     "metadata": {
      "needs_background": "light"
     },
     "output_type": "display_data"
    }
   ],
   "source": [
    "ax = sns.boxplot(x=df_houseExtra[\"extra_space\"])"
   ]
  },
  {
   "cell_type": "code",
   "execution_count": 20,
   "metadata": {},
   "outputs": [],
   "source": [
    "df_notHouseExtra = df[(df[\"extra_space\"] < 0) & ~(df[\"property_type\"] == \"house\")]"
   ]
  },
  {
   "cell_type": "code",
   "execution_count": 34,
   "metadata": {},
   "outputs": [
    {
     "data": {
      "text/plain": [
       "(68, 13)"
      ]
     },
     "execution_count": 34,
     "metadata": {},
     "output_type": "execute_result"
    }
   ],
   "source": [
    "df_notHouseExtra.shape"
   ]
  },
  {
   "cell_type": "code",
   "execution_count": 54,
   "metadata": {},
   "outputs": [
    {
     "name": "stderr",
     "output_type": "stream",
     "text": [
      "/home/rodixxi/anaconda3/lib/python3.7/site-packages/scipy/stats/stats.py:1713: FutureWarning: Using a non-tuple sequence for multidimensional indexing is deprecated; use `arr[tuple(seq)]` instead of `arr[seq]`. In the future this will be interpreted as an array index, `arr[np.array(seq)]`, which will result either in an error or a different result.\n",
      "  return np.add.reduce(sorted[indexer] * weights, axis=axis) / sumval\n"
     ]
    },
    {
     "data": {
      "image/png": "[encoded data removed]",
      "text/plain": [
       "<Figure size 432x288 with 1 Axes>"
      ]
     },
     "metadata": {
      "needs_background": "light"
     },
     "output_type": "display_data"
    }
   ],
   "source": [
    "ax = sns.distplot(df_notHouseExtra[df_notHouseExtra[\"extra_space\"] > -100][\"extra_space\"])"
   ]
  },
  {
   "cell_type": "code",
   "execution_count": 50,
   "metadata": {},
   "outputs": [
    {
     "data": {
      "text/plain": [
       "1176      -628.0\n",
       "1547     -4506.0\n",
       "4961      -262.0\n",
       "6519     -7395.0\n",
       "9219    -22220.0\n",
       "          ...   \n",
       "14428    -4387.0\n",
       "14871     -135.0\n",
       "15860     -214.0\n",
       "16546     -148.0\n",
       "17670     -166.0\n",
       "Name: extra_space, Length: 11, dtype: float64"
      ]
     },
     "execution_count": 50,
     "metadata": {},
     "output_type": "execute_result"
    }
   ],
   "source": [
    "df_notHouseExtra[df_notHouseExtra[\"extra_space\"] < -1000][\"extra_space\"]"
   ]
  },
  {
   "cell_type": "code",
   "execution_count": 36,
   "metadata": {},
   "outputs": [
    {
     "data": {
      "image/png": "[encoded data removed]",
      "text/plain": [
       "<Figure size 432x288 with 1 Axes>"
      ]
     },
     "metadata": {
      "needs_background": "light"
     },
     "output_type": "display_data"
    }
   ],
   "source": [
    "ax = sns.boxplot(x=df_notHouseExtra[\"extra_space\"] < 5000)"
   ]
  },
  {
   "cell_type": "code",
   "execution_count": null,
   "metadata": {},
   "outputs": [],
   "source": []
  }
 ],
 "metadata": {
  "kernelspec": {
   "display_name": "Python 3",
   "language": "python",
   "name": "python3"
  },
  "language_info": {
   "codemirror_mode": {
    "name": "ipython",
    "version": 3
   },
   "file_extension": ".py",
   "mimetype": "text/x-python",
   "name": "python",
   "nbconvert_exporter": "python",
   "pygments_lexer": "ipython3",
   "version": "3.7.0"
  }
 },
 "nbformat": 4,
 "nbformat_minor": 2
}
