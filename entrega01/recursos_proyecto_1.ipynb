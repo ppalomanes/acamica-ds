{
 "cells": [
  {
   "cell_type": "markdown",
   "metadata": {
    "colab_type": "text",
    "id": "g_xS9gbybe2A"
   },
   "source": [
    "# Proyecto: Análisis mercado inmobiliario de la Ciudad de Buenos Aires"
   ]
  },
  {
   "cell_type": "markdown",
   "metadata": {
    "colab_type": "text",
    "id": "8u-ZXNJtbe2D"
   },
   "source": [
    "¡Bienvenidos al primer proyecto de la carrera de Data Science de Acamica! \n",
    "\n",
    "En este proyecto vamos a trabajar con un dataset de propiedades en venta publicadas en el portal [Properati](www.properati.com.ar). El objetivo es dar los primeros pasos en el proceso de exploración de datos usando las herramientas que trabajamos en las activades.\n",
    "\n",
    "Vamos a enfocarnos en analizar algunos aspectos del mercado inmobiliario de la Ciudad de Buenos Aires pero para eso primero debemos limpiar un poco el dataset."
   ]
  },
  {
   "cell_type": "markdown",
   "metadata": {
    "colab_type": "text",
    "id": "FmO8bk5Ibe2D"
   },
   "source": [
    "## El dataset: propiedades en venta en Ciudad de Buenos Aires."
   ]
  },
  {
   "cell_type": "markdown",
   "metadata": {
    "colab_type": "text",
    "id": "4s76bxO_be2F"
   },
   "source": [
    "En este proyecto, trabajaremos con una muestra del conjunto de datos de propiedades en venta mencionado. En este dataset, cada fila es una propiedad en venta. \n",
    "\n",
    "## Los atributos\n",
    "A continuación vamos a describir los atributos que consideramos en esta muestra:\n",
    "\n",
    "* **id**: id de la propiedad\n",
    "* **created_on**: fecha en la que la propiedad ingresó al sitio\n",
    "* **operation**: alquiler (rent) o venta (sell)\n",
    "* **property_type**: tipo de propiedad (casa, departamento, ph, etcétera)\n",
    "* **place_with_parent_names**: nombre del lugar donde se encuentra la propiedad según el publicador\n",
    "* **lat-lon**: coordenadas concatenadas\n",
    "* **lat**: latitud\n",
    "* **lon**: longitud\n",
    "* **price**: precio en la moneda especificada en currency\n",
    "* **currency**: divisa en la que está expresada la publicación\n",
    "* **price_aprox_usd**: precio aproximado en dólares estadounidenses\n",
    "* **surface_total_in_m2**: superficie total (en metros cuadrados)\n",
    "* **surface_covered_in_m2**: superficie cubierta (en metros cuadrados)\n",
    "* **price_usd_per_m2**: precio por metro cuadrado en dólares (precio dólares / superficie)\n",
    "* **floor**: número de piso (si corresponde)\n",
    "* **rooms**: cantidad de ambientes\n",
    "* **expenses**: expensas (si corresponde)\n",
    "* **barrio**: barrio según cartografía oficial\n",
    "* **properati_url**: url de la publicación en Properati\n"
   ]
  },
  {
   "cell_type": "markdown",
   "metadata": {
    "colab_type": "text",
    "id": "oHhkfQOHbe2G"
   },
   "source": [
    "## Importando las bibliotecas necesarias\n",
    "\n",
    "Para poder trabajar en la limpieza de datos y la visualización de nuestro dataset vamos a utilizar las bibliotecas numpy, pandas, matplotlib.pylab y seaborn. \n",
    "\n",
    "** 1) Importá ** cada una de ellas con los siguientes nombres: \n",
    "- **numpy** como **np**\n",
    "- **pandas** como **pd**\n",
    "- **matplotlib.pylab** como **plt**\n",
    "- **seaborn** como **sns**\n"
   ]
  },
  {
   "cell_type": "code",
   "execution_count": 1,
   "metadata": {
    "colab": {},
    "colab_type": "code",
    "id": "f7S1mDPLbe2I"
   },
   "outputs": [],
   "source": [
    "# Importar bibliotecas en esta celda\n",
    "import numpy as np\n",
    "import pandas as pd\n",
    "import matplotlib.pylab as plt\n",
    "import seaborn as sns"
   ]
  },
  {
   "cell_type": "code",
   "execution_count": 2,
   "metadata": {
    "colab": {},
    "colab_type": "code",
    "id": "UyneKxIlbe2M"
   },
   "outputs": [],
   "source": [
    "# La siguiente línea es para ver las imagenes dentro del notebook\n",
    "%matplotlib inline\n",
    "# Acá configuramos el tamaño de las figuras\n",
    "plt.rcParams['figure.figsize'] = (12,8)\n",
    "# Seteamos opciones de pandas sobre las columnas y su ancho\n",
    "pd.set_option('max_columns', 120)\n",
    "pd.set_option('max_colwidth', 5000)\n"
   ]
  },
  {
   "cell_type": "markdown",
   "metadata": {
    "colab_type": "text",
    "id": "yUxKAOpcbe2P"
   },
   "source": [
    "## Cargando dataset de propiedades\n",
    "\n",
    "**2) Cargá** el dataset que se encuentra en la carpeta *dataset/* y guardalo en una variable llamada **df**. \n",
    "No te olvides de utilizar **parse_dates** sobre la columna **created_on**\n"
   ]
  },
  {
   "cell_type": "code",
   "execution_count": 3,
   "metadata": {
    "colab": {},
    "colab_type": "code",
    "id": "ILUE_-Zrbe2Q"
   },
   "outputs": [],
   "source": [
    "# cargá el dataset en esta celda\n",
    "df = pd.read_csv('dataset/datos_properati.csv', parse_dates=['created_on'])"
   ]
  },
  {
   "cell_type": "markdown",
   "metadata": {
    "colab_type": "text",
    "id": "F0gAy_HQbe2U"
   },
   "source": [
    "## Exploración de datos"
   ]
  },
  {
   "cell_type": "markdown",
   "metadata": {
    "colab_type": "text",
    "id": "uaY8cs1Gbe2V"
   },
   "source": [
    "Lo primero que vamos a hacer es ver qué forma tiene el dataset que acabamos de cargar. Para eso vamos a mostrar las primeras 3 entradas del mismo y utilizar la propiedad `shape` para ver la cantidad de instancias y atributos con los que vamos a estar trabajando."
   ]
  },
  {
   "cell_type": "code",
   "execution_count": 4,
   "metadata": {
    "colab": {
     "base_uri": "https://localhost:8080/",
     "height": 298
    },
    "colab_type": "code",
    "executionInfo": {
     "elapsed": 686,
     "status": "ok",
     "timestamp": 1540242588495,
     "user": {
      "displayName": "Rodrigo Andrés Crespillo",
      "photoUrl": "",
      "userId": "12484712302524035905"
     },
     "user_tz": 180
    },
    "id": "QphZ07brbe2W",
    "outputId": "049eddac-d002-4763-92c5-eb4b55992ecb"
   },
   "outputs": [
    {
     "name": "stdout",
     "output_type": "stream",
     "text": [
      "(18979, 17)\n"
     ]
    },
    {
     "data": {
      "text/html": [
       "<div>\n",
       "<style scoped>\n",
       "    .dataframe tbody tr th:only-of-type {\n",
       "        vertical-align: middle;\n",
       "    }\n",
       "\n",
       "    .dataframe tbody tr th {\n",
       "        vertical-align: top;\n",
       "    }\n",
       "\n",
       "    .dataframe thead th {\n",
       "        text-align: right;\n",
       "    }\n",
       "</style>\n",
       "<table border=\"1\" class=\"dataframe\">\n",
       "  <thead>\n",
       "    <tr style=\"text-align: right;\">\n",
       "      <th></th>\n",
       "      <th>created_on</th>\n",
       "      <th>operation</th>\n",
       "      <th>property_type</th>\n",
       "      <th>place_with_parent_names</th>\n",
       "      <th>lat-lon</th>\n",
       "      <th>lat</th>\n",
       "      <th>lon</th>\n",
       "      <th>price_aprox_usd</th>\n",
       "      <th>surface_total_in_m2</th>\n",
       "      <th>surface_covered_in_m2</th>\n",
       "      <th>price_usd_per_m2</th>\n",
       "      <th>floor</th>\n",
       "      <th>rooms</th>\n",
       "      <th>expenses</th>\n",
       "      <th>properati_url</th>\n",
       "      <th>barrio</th>\n",
       "      <th>comuna</th>\n",
       "    </tr>\n",
       "  </thead>\n",
       "  <tbody>\n",
       "    <tr>\n",
       "      <th>0</th>\n",
       "      <td>2017-09-22</td>\n",
       "      <td>sell</td>\n",
       "      <td>house</td>\n",
       "      <td>|Argentina|Capital Federal|Palermo|Palermo Viejo|</td>\n",
       "      <td>-34.5889531469,-58.4298817776</td>\n",
       "      <td>-34.588953</td>\n",
       "      <td>-58.429882</td>\n",
       "      <td>2000000.0</td>\n",
       "      <td>312.0</td>\n",
       "      <td>NaN</td>\n",
       "      <td>6410.25641</td>\n",
       "      <td>NaN</td>\n",
       "      <td>NaN</td>\n",
       "      <td>NaN</td>\n",
       "      <td>https://www.properati.com.ar/2os_venta_casa_palermo-viejo_rent-ba</td>\n",
       "      <td>PALERMO</td>\n",
       "      <td>14.0</td>\n",
       "    </tr>\n",
       "    <tr>\n",
       "      <th>1</th>\n",
       "      <td>2017-08-01</td>\n",
       "      <td>sell</td>\n",
       "      <td>store</td>\n",
       "      <td>|Argentina|Capital Federal|Palermo|</td>\n",
       "      <td>-34.586069,-58.414431</td>\n",
       "      <td>-34.586069</td>\n",
       "      <td>-58.414431</td>\n",
       "      <td>790000.0</td>\n",
       "      <td>121.0</td>\n",
       "      <td>121.0</td>\n",
       "      <td>6528.92562</td>\n",
       "      <td>NaN</td>\n",
       "      <td>NaN</td>\n",
       "      <td>NaN</td>\n",
       "      <td>https://www.properati.com.ar/1cl7l_venta_local_palermo_santa-fe-av-al-3500_sotano_garage_subte-linea-d_deptos-temporarios</td>\n",
       "      <td>PALERMO</td>\n",
       "      <td>14.0</td>\n",
       "    </tr>\n",
       "    <tr>\n",
       "      <th>2</th>\n",
       "      <td>2017-08-02</td>\n",
       "      <td>sell</td>\n",
       "      <td>store</td>\n",
       "      <td>|Argentina|Capital Federal|Palermo|Palermo Soho|</td>\n",
       "      <td>-34.589723,-58.4325664</td>\n",
       "      <td>-34.589723</td>\n",
       "      <td>-58.432566</td>\n",
       "      <td>343000.0</td>\n",
       "      <td>122.0</td>\n",
       "      <td>108.0</td>\n",
       "      <td>2811.47541</td>\n",
       "      <td>NaN</td>\n",
       "      <td>2.0</td>\n",
       "      <td>NaN</td>\n",
       "      <td>https://www.properati.com.ar/1cm8w_venta_local_palermo-soho_cabrera-jose-a-_5000_jardin_lavadero_patio_piscina_toilette_garage_ojo-propiedades</td>\n",
       "      <td>PALERMO</td>\n",
       "      <td>14.0</td>\n",
       "    </tr>\n",
       "  </tbody>\n",
       "</table>\n",
       "</div>"
      ],
      "text/plain": [
       "  created_on operation property_type  \\\n",
       "0 2017-09-22      sell         house   \n",
       "1 2017-08-01      sell         store   \n",
       "2 2017-08-02      sell         store   \n",
       "\n",
       "                             place_with_parent_names  \\\n",
       "0  |Argentina|Capital Federal|Palermo|Palermo Viejo|   \n",
       "1                |Argentina|Capital Federal|Palermo|   \n",
       "2   |Argentina|Capital Federal|Palermo|Palermo Soho|   \n",
       "\n",
       "                         lat-lon        lat        lon  price_aprox_usd  \\\n",
       "0  -34.5889531469,-58.4298817776 -34.588953 -58.429882        2000000.0   \n",
       "1          -34.586069,-58.414431 -34.586069 -58.414431         790000.0   \n",
       "2         -34.589723,-58.4325664 -34.589723 -58.432566         343000.0   \n",
       "\n",
       "   surface_total_in_m2  surface_covered_in_m2  price_usd_per_m2  floor  rooms  \\\n",
       "0                312.0                    NaN        6410.25641    NaN    NaN   \n",
       "1                121.0                  121.0        6528.92562    NaN    NaN   \n",
       "2                122.0                  108.0        2811.47541    NaN    2.0   \n",
       "\n",
       "   expenses  \\\n",
       "0       NaN   \n",
       "1       NaN   \n",
       "2       NaN   \n",
       "\n",
       "                                                                                                                                    properati_url  \\\n",
       "0                                                                               https://www.properati.com.ar/2os_venta_casa_palermo-viejo_rent-ba   \n",
       "1                       https://www.properati.com.ar/1cl7l_venta_local_palermo_santa-fe-av-al-3500_sotano_garage_subte-linea-d_deptos-temporarios   \n",
       "2  https://www.properati.com.ar/1cm8w_venta_local_palermo-soho_cabrera-jose-a-_5000_jardin_lavadero_patio_piscina_toilette_garage_ojo-propiedades   \n",
       "\n",
       "    barrio  comuna  \n",
       "0  PALERMO    14.0  \n",
       "1  PALERMO    14.0  \n",
       "2  PALERMO    14.0  "
      ]
     },
     "execution_count": 4,
     "metadata": {},
     "output_type": "execute_result"
    }
   ],
   "source": [
    "print(df.shape)\n",
    "df.head(3)"
   ]
  },
  {
   "cell_type": "markdown",
   "metadata": {
    "colab_type": "text",
    "id": "7FND71NHbe2Z"
   },
   "source": [
    "## Categorías de propiedades\n",
    "En primer lugar vamos a ver qué categorías existen en el campo `property_type`. Y de esas categorías cuantos valores tenemos de cada uno.\n",
    "\n",
    "**3) Mostrá** las categorías de `property_type` y cuántas instancias hay de cada una.\n",
    "\n",
    "Recordá utilizar funciones del **dataframe** de pandas para realizar esto."
   ]
  },
  {
   "cell_type": "code",
   "execution_count": 5,
   "metadata": {
    "colab": {
     "base_uri": "https://localhost:8080/",
     "height": 102
    },
    "colab_type": "code",
    "executionInfo": {
     "elapsed": 712,
     "status": "ok",
     "timestamp": 1540242589382,
     "user": {
      "displayName": "Rodrigo Andrés Crespillo",
      "photoUrl": "",
      "userId": "12484712302524035905"
     },
     "user_tz": 180
    },
    "id": "hk3hCnNObe2a",
    "outputId": "bee1b212-d460-4845-e3ec-3e8e435b753f"
   },
   "outputs": [
    {
     "data": {
      "text/plain": [
       "apartment    14807\n",
       "house         1618\n",
       "PH            1463\n",
       "store         1091\n",
       "Name: property_type, dtype: int64"
      ]
     },
     "execution_count": 5,
     "metadata": {},
     "output_type": "execute_result"
    }
   ],
   "source": [
    "# mostrá las categorías del campo property_type y mostrá la cant. de valores en esta celda\n",
    "df['property_type'].value_counts()\n"
   ]
  },
  {
   "cell_type": "markdown",
   "metadata": {
    "colab_type": "text",
    "id": "9hzBshW0be2e"
   },
   "source": [
    "### Filtrando las categorías\n",
    "\n",
    "De las categorías existentes sólo queremos quedarnos con las que sean casas (house), departamentos (apartment) o PH (PH). \n",
    "\n",
    "Para esto, \n",
    "\n",
    "**4) filtrá** el `dataframe` original creando un **nuevo** `dataframe` llamado `df_filtered`. Este es el `dataframe` que seguirás usando a lo largo del análisis.\n"
   ]
  },
  {
   "cell_type": "code",
   "execution_count": 6,
   "metadata": {
    "colab": {
     "base_uri": "https://localhost:8080/",
     "height": 34
    },
    "colab_type": "code",
    "executionInfo": {
     "elapsed": 733,
     "status": "ok",
     "timestamp": 1540242590280,
     "user": {
      "displayName": "Rodrigo Andrés Crespillo",
      "photoUrl": "",
      "userId": "12484712302524035905"
     },
     "user_tz": 180
    },
    "id": "sOdnll-Vbe2f",
    "outputId": "66e5844a-9f67-48fe-d5e0-ecf7feab813c"
   },
   "outputs": [
    {
     "data": {
      "text/plain": [
       "(17888, 17)"
      ]
     },
     "execution_count": 6,
     "metadata": {},
     "output_type": "execute_result"
    }
   ],
   "source": [
    "# Filtrá el dataframe en esta celda\n",
    "def isHoseApaPH(property):\n",
    "  return ((property == 'house') |\n",
    "          (property == 'apartment') | \n",
    "          (property == 'PH'))\n",
    "\n",
    "df_filtered = df[isHoseApaPH(df['property_type'])]\n",
    "df_filtered.shape"
   ]
  },
  {
   "cell_type": "markdown",
   "metadata": {
    "colab_type": "text",
    "id": "ZOA_rn_abe2j"
   },
   "source": [
    "### Visualizando las categorías\n",
    "**5)** Utilizando `seaborn` **creá un countplot** para visualizar las categorías de `df_filtered` en el campo `property_type` "
   ]
  },
  {
   "cell_type": "code",
   "execution_count": 7,
   "metadata": {
    "colab": {
     "base_uri": "https://localhost:8080/",
     "height": 531
    },
    "colab_type": "code",
    "executionInfo": {
     "elapsed": 1048,
     "status": "ok",
     "timestamp": 1540242591533,
     "user": {
      "displayName": "Rodrigo Andrés Crespillo",
      "photoUrl": "",
      "userId": "12484712302524035905"
     },
     "user_tz": 180
    },
    "id": "xOgMVdBibe2l",
    "outputId": "48d5a35f-bf04-439e-b916-96e6804d82d0"
   },
   "outputs": [
    {
     "data": {
      "image/png": "[encoded data removed]",
      "text/plain": [
       "<Figure size 864x576 with 1 Axes>"
      ]
     },
     "metadata": {
      "needs_background": "light"
     },
     "output_type": "display_data"
    }
   ],
   "source": [
    "# Visualizá las categorías en esta celda\n",
    "sns.countplot(x='property_type', data=df_filtered);"
   ]
  },
  {
   "cell_type": "markdown",
   "metadata": {
    "colab_type": "text",
    "id": "znc0qVZ4be2o"
   },
   "source": [
    "## Valores Faltantes"
   ]
  },
  {
   "cell_type": "markdown",
   "metadata": {
    "colab_type": "text",
    "id": "imzPflWhbe2p"
   },
   "source": [
    "Vamos a querer descartar aquellas instancias que tengan valores nulos en columnas importantes para el análisis del mercado.\n",
    "Estas columnas son las que informan **superficie (total o cubierta)**, **cantidad de ambientes**, **precio** y **precio por metro cuadrado**.\n",
    "\n",
    "**6) Quitá** del `dataframe` las instancias que no tengan ningún valor en los campos nombrados."
   ]
  },
  {
   "cell_type": "code",
   "execution_count": 8,
   "metadata": {
    "colab": {
     "base_uri": "https://localhost:8080/",
     "height": 34
    },
    "colab_type": "code",
    "executionInfo": {
     "elapsed": 722,
     "status": "ok",
     "timestamp": 1540242592411,
     "user": {
      "displayName": "Rodrigo Andrés Crespillo",
      "photoUrl": "",
      "userId": "12484712302524035905"
     },
     "user_tz": 180
    },
    "id": "dzfIpxzjp4V2",
    "outputId": "1e44cfab-b0e1-40bb-a764-b212b7f55284"
   },
   "outputs": [
    {
     "data": {
      "text/plain": [
       "(863, 17)"
      ]
     },
     "execution_count": 8,
     "metadata": {},
     "output_type": "execute_result"
    }
   ],
   "source": [
    "df_filtered.isna()\n",
    "df_filtered[(df_filtered['surface_total_in_m2'].isna()) & \n",
    "            (df_filtered['surface_covered_in_m2'].isna()) & \n",
    "            (df_filtered['price_aprox_usd'].isna()) & \n",
    "            (df_filtered['price_usd_per_m2'].isna())].shape"
   ]
  },
  {
   "cell_type": "code",
   "execution_count": 9,
   "metadata": {
    "colab": {
     "base_uri": "https://localhost:8080/",
     "height": 119
    },
    "colab_type": "code",
    "executionInfo": {
     "elapsed": 827,
     "status": "ok",
     "timestamp": 1540242593410,
     "user": {
      "displayName": "Rodrigo Andrés Crespillo",
      "photoUrl": "",
      "userId": "12484712302524035905"
     },
     "user_tz": 180
    },
    "id": "UC3Dq13ybe2p",
    "outputId": "20eddfb9-dbf0-4bf5-8abc-21e20438e8de"
   },
   "outputs": [
    {
     "name": "stderr",
     "output_type": "stream",
     "text": [
      "/home/rodixxi/anaconda3/lib/python3.7/site-packages/ipykernel_launcher.py:8: SettingWithCopyWarning: \n",
      "A value is trying to be set on a copy of a slice from a DataFrame\n",
      "\n",
      "See the caveats in the documentation: http://pandas.pydata.org/pandas-docs/stable/indexing.html#indexing-view-versus-copy\n",
      "  \n"
     ]
    },
    {
     "data": {
      "text/plain": [
       "(17025, 17)"
      ]
     },
     "execution_count": 9,
     "metadata": {},
     "output_type": "execute_result"
    }
   ],
   "source": [
    "# Quitá las instancias con valores nules en esta celda\n",
    "df_filtered.dropna(how='all', \n",
    "                                 inplace=True, \n",
    "                                 subset=[\n",
    "                                     'surface_total_in_m2', \n",
    "                                     'surface_covered_in_m2', \n",
    "                                     'price_aprox_usd', \n",
    "                                     'price_usd_per_m2'])\n",
    "df_filtered.shape"
   ]
  },
  {
   "cell_type": "markdown",
   "metadata": {
    "colab_type": "text",
    "id": "Pea-DtnObe2t"
   },
   "source": [
    "**7)** A continuación **mostrá** cuantas instancias son las que descartaste a partir de quitar las que tenían valores nulos."
   ]
  },
  {
   "cell_type": "code",
   "execution_count": 10,
   "metadata": {
    "colab": {
     "base_uri": "https://localhost:8080/",
     "height": 34
    },
    "colab_type": "code",
    "executionInfo": {
     "elapsed": 729,
     "status": "ok",
     "timestamp": 1540242594316,
     "user": {
      "displayName": "Rodrigo Andrés Crespillo",
      "photoUrl": "",
      "userId": "12484712302524035905"
     },
     "user_tz": 180
    },
    "id": "F1eCTcEDbe2u",
    "outputId": "cdd434ac-0b4e-4264-d3b8-ed9eb09b2555"
   },
   "outputs": [
    {
     "data": {
      "text/plain": [
       "17888"
      ]
     },
     "execution_count": 10,
     "metadata": {},
     "output_type": "execute_result"
    }
   ],
   "source": [
    "# Mostrá en esta celda la cantidad de instancias descartadas\n",
    "17025 + 863"
   ]
  },
  {
   "cell_type": "markdown",
   "metadata": {
    "colab_type": "text",
    "id": "D-CcSbl4be2z"
   },
   "source": [
    "Posiblemente existan otros atributos con valores faltantes en el dataset, pero que no son de tanta importancia. \n",
    "\n",
    "**8) Mostrá** qué otros atributos tienen valores faltantes en el `dataframe`."
   ]
  },
  {
   "cell_type": "code",
   "execution_count": 11,
   "metadata": {
    "colab": {
     "base_uri": "https://localhost:8080/",
     "height": 323
    },
    "colab_type": "code",
    "executionInfo": {
     "elapsed": 721,
     "status": "ok",
     "timestamp": 1540242595201,
     "user": {
      "displayName": "Rodrigo Andrés Crespillo",
      "photoUrl": "",
      "userId": "12484712302524035905"
     },
     "user_tz": 180
    },
    "id": "2H3E6I3ybe21",
    "outputId": "69c4b600-8a1a-4a33-cc90-16c31ed0f57b"
   },
   "outputs": [
    {
     "data": {
      "text/plain": [
       "created_on                 False\n",
       "operation                  False\n",
       "property_type              False\n",
       "place_with_parent_names    False\n",
       "lat-lon                    False\n",
       "lat                        False\n",
       "lon                        False\n",
       "price_aprox_usd             True\n",
       "surface_total_in_m2         True\n",
       "surface_covered_in_m2       True\n",
       "price_usd_per_m2            True\n",
       "floor                       True\n",
       "rooms                       True\n",
       "expenses                    True\n",
       "properati_url              False\n",
       "barrio                     False\n",
       "comuna                     False\n",
       "dtype: bool"
      ]
     },
     "execution_count": 11,
     "metadata": {},
     "output_type": "execute_result"
    }
   ],
   "source": [
    "# Mostrá en esta celda los otros atributos con valores faltantes\n",
    "df_filtered.isna().any()"
   ]
  },
  {
   "cell_type": "markdown",
   "metadata": {
    "colab_type": "text",
    "id": "BF9jMDwxbe25"
   },
   "source": [
    "#### Desafío: planteá alguna estrategia posible para reemplazar los valores faltantes en el atributo `surface_total_in_m2`."
   ]
  },
  {
   "cell_type": "markdown",
   "metadata": {
    "colab_type": "text",
    "id": "UZ2-9bOcE-Rk"
   },
   "source": [
    "Copletarlos con el valor medio de los inmuebles que tengan el mismo tipo de inmueble y pertenescan al mismo barrio"
   ]
  },
  {
   "cell_type": "code",
   "execution_count": 12,
   "metadata": {
    "colab": {
     "base_uri": "https://localhost:8080/",
     "height": 102
    },
    "colab_type": "code",
    "executionInfo": {
     "elapsed": 728,
     "status": "ok",
     "timestamp": 1540242596091,
     "user": {
      "displayName": "Rodrigo Andrés Crespillo",
      "photoUrl": "",
      "userId": "12484712302524035905"
     },
     "user_tz": 180
    },
    "id": "vFgSpg_02u-b",
    "outputId": "73de4229-f6a1-4f92-e834-bd24ff15e86f"
   },
   "outputs": [
    {
     "name": "stderr",
     "output_type": "stream",
     "text": [
      "/home/rodixxi/anaconda3/lib/python3.7/site-packages/ipykernel_launcher.py:5: SettingWithCopyWarning: \n",
      "A value is trying to be set on a copy of a slice from a DataFrame.\n",
      "Try using .loc[row_indexer,col_indexer] = value instead\n",
      "\n",
      "See the caveats in the documentation: http://pandas.pydata.org/pandas-docs/stable/indexing.html#indexing-view-versus-copy\n",
      "  \"\"\"\n"
     ]
    }
   ],
   "source": [
    "df_filtered['surface_total_in_m2'] = df_filtered['surface_total_in_m2'].fillna(\n",
    "    df_filtered.groupby([\n",
    "        \"barrio\", \n",
    "        \"property_type\"\n",
    "    ])[\"surface_total_in_m2\"].transform(\"median\"))"
   ]
  },
  {
   "cell_type": "markdown",
   "metadata": {
    "colab_type": "text",
    "id": "XyYYU3xj5SnZ"
   },
   "source": [
    "Ya que completamos esto datos tambien completaremos el balor de rooms ya que lo necesitaremos para graficar mas adelante"
   ]
  },
  {
   "cell_type": "code",
   "execution_count": 13,
   "metadata": {
    "colab": {
     "base_uri": "https://localhost:8080/",
     "height": 102
    },
    "colab_type": "code",
    "executionInfo": {
     "elapsed": 855,
     "status": "ok",
     "timestamp": 1540242597123,
     "user": {
      "displayName": "Rodrigo Andrés Crespillo",
      "photoUrl": "",
      "userId": "12484712302524035905"
     },
     "user_tz": 180
    },
    "id": "qsu5oDRQ5gov",
    "outputId": "256e7ddc-267e-4d15-aad4-176d46c2bdc5"
   },
   "outputs": [],
   "source": [
    "#df_filtered['surface_total_in_m2'] = df_filtered['surface_total_in_m2'].fillna(\n",
    "#    df_filtered.groupby([\n",
    "#        \"barrio\", \n",
    "#        \"property_type\"\n",
    "#    ])[\"surface_total_in_m2\"].transform(\"median\"))"
   ]
  },
  {
   "cell_type": "markdown",
   "metadata": {
    "colab_type": "text",
    "id": "Jm04OzhPmd8s"
   },
   "source": [
    "Voy a proseguir un poco mas y tambien procesar los demas campos"
   ]
  },
  {
   "cell_type": "code",
   "execution_count": 14,
   "metadata": {
    "colab": {
     "base_uri": "https://localhost:8080/",
     "height": 102
    },
    "colab_type": "code",
    "executionInfo": {
     "elapsed": 763,
     "status": "ok",
     "timestamp": 1540242598034,
     "user": {
      "displayName": "Rodrigo Andrés Crespillo",
      "photoUrl": "",
      "userId": "12484712302524035905"
     },
     "user_tz": 180
    },
    "id": "mHb8SOK5mjTC",
    "outputId": "093e987f-eaa5-455d-afd0-4ad19aafd274"
   },
   "outputs": [
    {
     "name": "stderr",
     "output_type": "stream",
     "text": [
      "/home/rodixxi/anaconda3/lib/python3.7/site-packages/ipykernel_launcher.py:5: SettingWithCopyWarning: \n",
      "A value is trying to be set on a copy of a slice from a DataFrame.\n",
      "Try using .loc[row_indexer,col_indexer] = value instead\n",
      "\n",
      "See the caveats in the documentation: http://pandas.pydata.org/pandas-docs/stable/indexing.html#indexing-view-versus-copy\n",
      "  \"\"\"\n"
     ]
    }
   ],
   "source": [
    "df_filtered['rooms'] = df_filtered['rooms'].fillna(\n",
    "    df_filtered.groupby([\n",
    "        \"barrio\", \n",
    "        \"property_type\"\n",
    "    ])[\"rooms\"].transform(\"median\"))"
   ]
  },
  {
   "cell_type": "code",
   "execution_count": 15,
   "metadata": {
    "colab": {
     "base_uri": "https://localhost:8080/",
     "height": 323
    },
    "colab_type": "code",
    "executionInfo": {
     "elapsed": 876,
     "status": "ok",
     "timestamp": 1540242599081,
     "user": {
      "displayName": "Rodrigo Andrés Crespillo",
      "photoUrl": "",
      "userId": "12484712302524035905"
     },
     "user_tz": 180
    },
    "id": "jG1v9-kg6dR6",
    "outputId": "f05c9eb8-df82-43dc-8049-7ea6610ba2de"
   },
   "outputs": [
    {
     "data": {
      "text/plain": [
       "created_on                 False\n",
       "operation                  False\n",
       "property_type              False\n",
       "place_with_parent_names    False\n",
       "lat-lon                    False\n",
       "lat                        False\n",
       "lon                        False\n",
       "price_aprox_usd             True\n",
       "surface_total_in_m2        False\n",
       "surface_covered_in_m2       True\n",
       "price_usd_per_m2            True\n",
       "floor                       True\n",
       "rooms                       True\n",
       "expenses                    True\n",
       "properati_url              False\n",
       "barrio                     False\n",
       "comuna                     False\n",
       "dtype: bool"
      ]
     },
     "execution_count": 15,
     "metadata": {},
     "output_type": "execute_result"
    }
   ],
   "source": [
    " df_filtered.isna().any()"
   ]
  },
  {
   "cell_type": "code",
   "execution_count": 16,
   "metadata": {
    "colab": {
     "base_uri": "https://localhost:8080/",
     "height": 425
    },
    "colab_type": "code",
    "executionInfo": {
     "elapsed": 916,
     "status": "ok",
     "timestamp": 1540242600199,
     "user": {
      "displayName": "Rodrigo Andrés Crespillo",
      "photoUrl": "",
      "userId": "12484712302524035905"
     },
     "user_tz": 180
    },
    "id": "9txWT2rJ7UsV",
    "outputId": "eb852677-f160-4100-dacd-3bec0e9c1a89"
   },
   "outputs": [
    {
     "data": {
      "text/plain": [
       " 3.0     5163\n",
       " 2.0     4215\n",
       " 4.0     2938\n",
       " 1.0     2341\n",
       " 5.0     1351\n",
       " 6.0      508\n",
       " 7.0      223\n",
       " 8.0       93\n",
       " 3.5       44\n",
       " 9.0       34\n",
       " 10.0      33\n",
       " 2.5       18\n",
       " 11.0      13\n",
       " 4.5       12\n",
       "NaN        11\n",
       " 12.0       8\n",
       " 7.5        7\n",
       " 30.0       4\n",
       " 6.5        3\n",
       " 13.0       2\n",
       " 15.0       2\n",
       " 17.0       1\n",
       " 16.0       1\n",
       "Name: rooms, dtype: int64"
      ]
     },
     "execution_count": 16,
     "metadata": {},
     "output_type": "execute_result"
    }
   ],
   "source": [
    "df_filtered['rooms'].value_counts(dropna=False)"
   ]
  },
  {
   "cell_type": "markdown",
   "metadata": {},
   "source": [
    "Existen numeros valores en los decimales asi que decido redondearlos"
   ]
  },
  {
   "cell_type": "code",
   "execution_count": 17,
   "metadata": {},
   "outputs": [
    {
     "data": {
      "text/plain": [
       "<bound method Series.round of 0        5.0\n",
       "18       4.0\n",
       "19       1.0\n",
       "20       3.0\n",
       "22       6.0\n",
       "24       3.0\n",
       "25       3.0\n",
       "26       5.0\n",
       "27       5.0\n",
       "28       5.0\n",
       "29       2.0\n",
       "30       4.0\n",
       "31       1.0\n",
       "32       5.0\n",
       "33       3.0\n",
       "34       6.0\n",
       "35       2.0\n",
       "36       1.0\n",
       "37       1.0\n",
       "38       1.0\n",
       "39       1.0\n",
       "40       2.0\n",
       "41       5.0\n",
       "42       4.0\n",
       "43       4.0\n",
       "44       1.0\n",
       "45       4.0\n",
       "46       3.0\n",
       "47       4.0\n",
       "48       7.0\n",
       "        ... \n",
       "18946    3.0\n",
       "18948    2.0\n",
       "18949    3.0\n",
       "18950    3.0\n",
       "18952    3.0\n",
       "18953    3.0\n",
       "18954    2.0\n",
       "18955    3.0\n",
       "18956    3.0\n",
       "18957    3.0\n",
       "18958    2.0\n",
       "18959    4.0\n",
       "18960    2.0\n",
       "18961    4.0\n",
       "18962    2.0\n",
       "18963    3.0\n",
       "18964    4.0\n",
       "18965    3.0\n",
       "18966    3.0\n",
       "18967    NaN\n",
       "18968    4.0\n",
       "18969    3.0\n",
       "18970    4.0\n",
       "18971    4.0\n",
       "18972    4.0\n",
       "18973    4.0\n",
       "18974    3.0\n",
       "18975    3.0\n",
       "18977    3.0\n",
       "18978    3.0\n",
       "Name: rooms, Length: 17025, dtype: float64>"
      ]
     },
     "execution_count": 17,
     "metadata": {},
     "output_type": "execute_result"
    }
   ],
   "source": [
    "df_filtered['rooms'].round"
   ]
  },
  {
   "cell_type": "markdown",
   "metadata": {
    "colab_type": "text",
    "id": "2Ar4HTi6be26"
   },
   "source": [
    "## Datos erróneos"
   ]
  },
  {
   "cell_type": "markdown",
   "metadata": {
    "colab_type": "text",
    "id": "0u3rVTOtbe27"
   },
   "source": [
    "El siguiente paso es analizar errores que puede llegar a haber en el dataset. \n",
    "\n",
    "Por ejemplo, la **superficie total no puede ser menor que la cubierta**. Si esto sucede, podemos optar por eliminar esas filas o intentar corregir el problema. Veamos en primer lugar si esto sucede.\n",
    "\n",
    "**9) Mostrá** cuantas instancias existen que tengan el problema de este dato erróneo y guardalas en una variable llamada `wrong_surface_rows`"
   ]
  },
  {
   "cell_type": "code",
   "execution_count": 18,
   "metadata": {
    "colab": {},
    "colab_type": "code",
    "id": "L9OEG7KCbe28"
   },
   "outputs": [],
   "source": [
    "# Mostrá en esta celda cuántas instancias tienen errores en la superficie\n",
    "wrong_surface_rows = df_filtered[df_filtered['surface_covered_in_m2'] > df_filtered['surface_total_in_m2']]"
   ]
  },
  {
   "cell_type": "markdown",
   "metadata": {
    "colab_type": "text",
    "id": "ewxn3zNDbe2_"
   },
   "source": [
    "Proponemos no borrar estas instancias erróneas, sino intercambiar los valores de **superficie total** con **superficie cubierta** en caso de que se cumpla la condición mencionada."
   ]
  },
  {
   "cell_type": "code",
   "execution_count": 19,
   "metadata": {
    "colab": {
     "base_uri": "https://localhost:8080/",
     "height": 119
    },
    "colab_type": "code",
    "executionInfo": {
     "elapsed": 1001,
     "status": "ok",
     "timestamp": 1540242602242,
     "user": {
      "displayName": "Rodrigo Andrés Crespillo",
      "photoUrl": "",
      "userId": "12484712302524035905"
     },
     "user_tz": 180
    },
    "id": "6iXMScvKbe3A",
    "outputId": "d17b960e-159c-4223-a988-0a8ef1ed3837"
   },
   "outputs": [
    {
     "name": "stderr",
     "output_type": "stream",
     "text": [
      "/home/rodixxi/anaconda3/lib/python3.7/site-packages/pandas/core/indexing.py:543: SettingWithCopyWarning: \n",
      "A value is trying to be set on a copy of a slice from a DataFrame.\n",
      "Try using .loc[row_indexer,col_indexer] = value instead\n",
      "\n",
      "See the caveats in the documentation: http://pandas.pydata.org/pandas-docs/stable/indexing.html#indexing-view-versus-copy\n",
      "  self.obj[item] = s\n"
     ]
    }
   ],
   "source": [
    "df_filtered.at[wrong_surface_rows.index, 'surface_total_in_m2'] = wrong_surface_rows.surface_covered_in_m2\n",
    "df_filtered.at[wrong_surface_rows.index, 'surface_covered_in_m2'] = wrong_surface_rows.surface_total_in_m2"
   ]
  },
  {
   "cell_type": "markdown",
   "metadata": {
    "colab_type": "text",
    "id": "IpfgUgxFbe3D"
   },
   "source": [
    "Por otro lado, sucede que las inmobiliarias cuando no cuentan con las coordenadas reales de las propiedades utilizan valores que no son correctos. Por ejemplo, el punto centro de cada barrio o puntos de interés como el Obelisco. Esto puede afectar el análisis relacionado con la ubicación de cada propiedad.\n",
    "\n",
    "Veamos en primer lugar si hay coordenadas que se repiten."
   ]
  },
  {
   "cell_type": "code",
   "execution_count": 20,
   "metadata": {
    "colab": {
     "base_uri": "https://localhost:8080/",
     "height": 221
    },
    "colab_type": "code",
    "executionInfo": {
     "elapsed": 717,
     "status": "ok",
     "timestamp": 1540242603114,
     "user": {
      "displayName": "Rodrigo Andrés Crespillo",
      "photoUrl": "",
      "userId": "12484712302524035905"
     },
     "user_tz": 180
    },
    "id": "7u8E2giRbe3E",
    "outputId": "ad826173-e398-40e4-b0ed-3e878df6f4ea"
   },
   "outputs": [
    {
     "data": {
      "text/plain": [
       "lat         lon       \n",
       "-34.589546  -58.397364    155\n",
       "-34.571150  -58.423297    127\n",
       "-34.562084  -58.456686     87\n",
       "-34.620928  -58.445874     49\n",
       "-34.609821  -58.392606     44\n",
       "-34.608608  -58.448515     40\n",
       "-34.622973  -58.439913     38\n",
       "-34.603771  -58.381587     36\n",
       "-34.617719  -58.362056     36\n",
       "-34.610122  -58.405941     32\n",
       "dtype: int64"
      ]
     },
     "execution_count": 20,
     "metadata": {},
     "output_type": "execute_result"
    }
   ],
   "source": [
    "conteo_puntos = df_filtered.groupby(['lat', 'lon']).size()\n",
    "conteo_puntos[conteo_puntos > 1].sort_values(ascending=False).head(10)"
   ]
  },
  {
   "cell_type": "markdown",
   "metadata": {
    "colab_type": "text",
    "id": "rkRYGmqdbe3H"
   },
   "source": [
    "Por ejemplo, para el caso del tercer punto, se puede verificar que corresponde a la esquina de Av. Cabildo y Juramento.\n",
    "Nos quedamos entonces con las propiedades con coordenadas que se repitan hasta 5 veces."
   ]
  },
  {
   "cell_type": "code",
   "execution_count": 21,
   "metadata": {
    "colab": {},
    "colab_type": "code",
    "id": "pyxabWEUbe3I"
   },
   "outputs": [],
   "source": [
    "conteo_puntos.name = 'conteo'\n",
    "\n",
    "df_filtered = df_filtered.join(conteo_puntos, on=['lat', 'lon'])\n",
    "\n",
    "df_filtered = df_filtered[df_filtered.conteo <= 5]"
   ]
  },
  {
   "cell_type": "markdown",
   "metadata": {
    "colab_type": "text",
    "id": "AoD13QMTbe3M"
   },
   "source": [
    "Eliminamos el atributo `conteo` dado que ya no nos sirve."
   ]
  },
  {
   "cell_type": "code",
   "execution_count": 22,
   "metadata": {
    "colab": {},
    "colab_type": "code",
    "id": "6ggXtKY0be3N"
   },
   "outputs": [],
   "source": [
    "df_filtered.drop('conteo', inplace=True, axis=1)"
   ]
  },
  {
   "cell_type": "markdown",
   "metadata": {
    "colab_type": "text",
    "id": "O2Qc4emYbe3Q"
   },
   "source": [
    "## Estudiando los barrios"
   ]
  },
  {
   "cell_type": "markdown",
   "metadata": {
    "colab_type": "text",
    "id": "OCZYGSj9be3Q"
   },
   "source": [
    "### Barrios con más edificios y barrios con más casas\n",
    "Al saber qué barrios son los que tienen más cantidad de edificios en venta y cuáles son los que tienen más casas podemos darnos una idea de qué tipo de barrio es. Si es más residencial, con más población, poder adquisitivo, etc. \n",
    "Para eso vamos a empezar calculando los porcentajes de cada tipo de propiedad según el barrio."
   ]
  },
  {
   "cell_type": "code",
   "execution_count": 23,
   "metadata": {
    "colab": {},
    "colab_type": "code",
    "id": "VMExITACbe3S"
   },
   "outputs": [],
   "source": [
    "total_propiedades = df_filtered.groupby('barrio')['property_type'].count().values"
   ]
  },
  {
   "cell_type": "code",
   "execution_count": 24,
   "metadata": {
    "colab": {},
    "colab_type": "code",
    "id": "pTfZwQ-sbe3U"
   },
   "outputs": [],
   "source": [
    "porcentaje_casas_ph = df_filtered[df_filtered.property_type.isin(['PH', 'house'])].groupby('barrio').count().property_type/total_propiedades\n",
    "porcentaje_edificios = df_filtered[df_filtered.property_type == 'apartment'].groupby('barrio').count().property_type/total_propiedades"
   ]
  },
  {
   "cell_type": "code",
   "execution_count": 25,
   "metadata": {
    "colab": {
     "base_uri": "https://localhost:8080/",
     "height": 289
    },
    "colab_type": "code",
    "executionInfo": {
     "elapsed": 747,
     "status": "ok",
     "timestamp": 1540242608563,
     "user": {
      "displayName": "Rodrigo Andrés Crespillo",
      "photoUrl": "",
      "userId": "12484712302524035905"
     },
     "user_tz": 180
    },
    "id": "8r_YK9OQbe3W",
    "outputId": "fce5b15f-6c5a-4c4f-bb64-943269b589e0"
   },
   "outputs": [
    {
     "name": "stdout",
     "output_type": "stream",
     "text": [
      "Barrios con mayor porcentaje de edificios: \n",
      " barrio\n",
      "PUERTO MADERO    0.992537\n",
      "RETIRO           0.979633\n",
      "SAN NICOLAS      0.977778\n",
      "RECOLETA         0.971991\n",
      "BELGRANO         0.921277\n",
      "Name: property_type, dtype: float64\n",
      "Barrios con mayor porcentaje de casas y phs: \n",
      "  barrio\n",
      "VILLA RIACHUELO      0.739130\n",
      "VERSALLES            0.666667\n",
      "MATADEROS            0.613636\n",
      "PARQUE AVELLANEDA    0.608696\n",
      "VILLA REAL           0.574468\n",
      "Name: property_type, dtype: float64\n"
     ]
    }
   ],
   "source": [
    "print(\"Barrios con mayor porcentaje de edificios: \\n\", porcentaje_edificios.sort_values()[::-1][:5])\n",
    "print(\"Barrios con mayor porcentaje de casas y phs: \\n \", porcentaje_casas_ph.sort_values()[::-1][:5])"
   ]
  },
  {
   "cell_type": "markdown",
   "metadata": {
    "colab_type": "text",
    "id": "-WNBBtqvbe3a"
   },
   "source": [
    "Para darnos una idea de las diferencias entre los porcentajes de edificios y casas en estos barrios, vamos a graficarlos\n",
    "en forma de torta."
   ]
  },
  {
   "cell_type": "code",
   "execution_count": 26,
   "metadata": {
    "colab": {
     "base_uri": "https://localhost:8080/",
     "height": 428
    },
    "colab_type": "code",
    "executionInfo": {
     "elapsed": 1214,
     "status": "ok",
     "timestamp": 1540242609931,
     "user": {
      "displayName": "Rodrigo Andrés Crespillo",
      "photoUrl": "",
      "userId": "12484712302524035905"
     },
     "user_tz": 180
    },
    "id": "RZ2XHkLXbe3b",
    "outputId": "a6292925-5b9b-46a5-8e1c-c72e17a7c7af"
   },
   "outputs": [
    {
     "data": {
      "text/plain": [
       "<matplotlib.axes._subplots.AxesSubplot at 0x7f61a185d160>"
      ]
     },
     "execution_count": 26,
     "metadata": {},
     "output_type": "execute_result"
    },
    {
     "data": {
      "image/png": "[encoded data removed]",
      "text/plain": [
       "<Figure size 1008x504 with 2 Axes>"
      ]
     },
     "metadata": {},
     "output_type": "display_data"
    }
   ],
   "source": [
    "barrios_casas = porcentaje_casas_ph.sort_values()[::-1][:5].index\n",
    "barrios_edificios = porcentaje_edificios.sort_values()[::-1][:5].index\n",
    "fig, axs = plt.subplots(1,2,figsize=(14,7))\n",
    "df_filtered[df_filtered.barrio.isin(barrios_edificios)].property_type.value_counts().plot(x=None,y=None, kind='pie', startangle=30, ax=axs[0],autopct='%1.2f%%')\n",
    "df_filtered[df_filtered.barrio.isin(barrios_casas)].property_type.value_counts().plot(x=None,y=None, kind='pie', ax=axs[1],autopct='%1.2f%%')"
   ]
  },
  {
   "cell_type": "markdown",
   "metadata": {
    "colab_type": "text",
    "id": "-FuDAWBebe3d"
   },
   "source": [
    "### Barrios más caros y más baratos"
   ]
  },
  {
   "cell_type": "markdown",
   "metadata": {
    "colab_type": "text",
    "id": "fBWehQo2be3g"
   },
   "source": [
    "Veamos primero la distribución del precio por metro cuadrado para todo el dataset. De esta manera, vamos a remover valores que consideremos extremos.\n",
    "\n",
    "En el siguiente proyecto vamos a volver sobre este tema con más profundidad.\n",
    "\n",
    "**10)** Tomando el atributo `price_usd_per_m2` **calculá** su **mínimo**, **máximo**, **promedio (mean)**, **mediana (median)** y **desvío estándar (std)**"
   ]
  },
  {
   "cell_type": "code",
   "execution_count": 27,
   "metadata": {
    "colab": {
     "base_uri": "https://localhost:8080/",
     "height": 102
    },
    "colab_type": "code",
    "executionInfo": {
     "elapsed": 835,
     "status": "ok",
     "timestamp": 1540242610794,
     "user": {
      "displayName": "Rodrigo Andrés Crespillo",
      "photoUrl": "",
      "userId": "12484712302524035905"
     },
     "user_tz": 180
    },
    "id": "pVXoTZkybe3h",
    "outputId": "43d352e9-7131-4bc1-8fc2-07e0e5ec4564"
   },
   "outputs": [
    {
     "name": "stdout",
     "output_type": "stream",
     "text": [
      "Minimo: 0.9583333333333334\n",
      "Máximo: 142450.14102564106\n",
      "Promedio: 2712.6055908858034\n",
      "Mediana: 2519.4725311762722\n",
      "Desvío estándar: 1929.6427712366049\n"
     ]
    }
   ],
   "source": [
    "# Mostrá en esta celda los cálculos\n",
    "print(\"Minimo: {}\".format(df_filtered['price_usd_per_m2'].min()))\n",
    "print(\"Máximo: {}\".format(df_filtered['price_usd_per_m2'].max()))\n",
    "print(\"Promedio: {}\".format(df_filtered['price_usd_per_m2'].mean()))\n",
    "print(\"Mediana: {}\".format(df_filtered['price_usd_per_m2'].median()))\n",
    "print(\"Desvío estándar: {}\".format(df_filtered['price_usd_per_m2'].std()))"
   ]
  },
  {
   "cell_type": "markdown",
   "metadata": {
    "colab_type": "text",
    "id": "yX5bfqpH4WqQ"
   },
   "source": [
    "Minimo: 0.9583333333333334\n",
    "Máximo: 142450.14102564106\n",
    "Promedio: 2712.6055908857957\n",
    "Mediana: 2519.4725311762722\n",
    "Desvío estándar: 1929.6427712366078"
   ]
  },
  {
   "cell_type": "markdown",
   "metadata": {
    "colab_type": "text",
    "id": "khwLnC6Fbe3l"
   },
   "source": [
    "También podemos calcular otros estadísticos como los cuartiles. \n",
    "\n",
    "**11) Mostrá** el **primer y tercer cuartil** y luego también el **rango intercuartilíco**"
   ]
  },
  {
   "cell_type": "code",
   "execution_count": 28,
   "metadata": {
    "colab": {
     "base_uri": "https://localhost:8080/",
     "height": 68
    },
    "colab_type": "code",
    "executionInfo": {
     "elapsed": 917,
     "status": "ok",
     "timestamp": 1540242612040,
     "user": {
      "displayName": "Rodrigo Andrés Crespillo",
      "photoUrl": "",
      "userId": "12484712302524035905"
     },
     "user_tz": 180
    },
    "id": "NOc924mmbe3m",
    "outputId": "a741e68d-59b7-46cc-f3f6-2048b464c3ee"
   },
   "outputs": [
    {
     "name": "stdout",
     "output_type": "stream",
     "text": [
      "Primer cuartil: 1965.4314633727913\n",
      "Tercer cuartil: 3139.534883720931\n",
      "Rango intercuartilíco: 1174.1034203481395\n"
     ]
    }
   ],
   "source": [
    "# Mostrá los cuartiles en esta celda\n",
    "first_quartile = df_filtered['price_usd_per_m2'].quantile(0.25)\n",
    "third_quartile = df_filtered['price_usd_per_m2'].quantile(0.75)\n",
    "iqr = third_quartile - first_quartile\n",
    "print(\"Primer cuartil: {}\\nTercer cuartil: {}\\nRango intercuartilíco: {}\".format(first_quartile, third_quartile, iqr))"
   ]
  },
  {
   "cell_type": "code",
   "execution_count": 29,
   "metadata": {
    "colab": {
     "base_uri": "https://localhost:8080/",
     "height": 170
    },
    "colab_type": "code",
    "executionInfo": {
     "elapsed": 885,
     "status": "ok",
     "timestamp": 1540242613072,
     "user": {
      "displayName": "Rodrigo Andrés Crespillo",
      "photoUrl": "",
      "userId": "12484712302524035905"
     },
     "user_tz": 180
    },
    "id": "9z0sF_ZHkqBT",
    "outputId": "3ee08083-c3de-4e9d-c65f-39c92d5f410c"
   },
   "outputs": [
    {
     "data": {
      "text/plain": [
       "count     12984.000000\n",
       "mean       2712.605591\n",
       "std        1929.642771\n",
       "min           0.958333\n",
       "25%        1965.431463\n",
       "50%        2519.472531\n",
       "75%        3139.534884\n",
       "max      142450.141026\n",
       "Name: price_usd_per_m2, dtype: float64"
      ]
     },
     "execution_count": 29,
     "metadata": {},
     "output_type": "execute_result"
    }
   ],
   "source": [
    "df_filtered['price_usd_per_m2'].describe()"
   ]
  },
  {
   "cell_type": "markdown",
   "metadata": {
    "colab_type": "text",
    "id": "tPfu0Y0obe3q"
   },
   "source": [
    "### Quitando valores extremos\n",
    "Eliminemos aquellas observaciones cuyo precio por metro cuadrado este fuera de los percentiles 10 y 90. De este modo intentaremos remover valores extremos de una manera sencilla para tener un análisis más robusto."
   ]
  },
  {
   "cell_type": "code",
   "execution_count": 30,
   "metadata": {
    "colab": {},
    "colab_type": "code",
    "id": "DRMgZfVIbe3r"
   },
   "outputs": [],
   "source": [
    "p10 = df_filtered['price_usd_per_m2'].quantile(0.10)\n",
    "p90 = df_filtered['price_usd_per_m2'].quantile(0.90)\n",
    "df_filtered = df_filtered[(df_filtered.price_usd_per_m2 >= p10) & (df_filtered.price_usd_per_m2 <= p90)]"
   ]
  },
  {
   "cell_type": "markdown",
   "metadata": {
    "colab_type": "text",
    "id": "dZQvx0UMbe3z"
   },
   "source": [
    "A partir de quitar estos valores van a cambiar los estadísticos que calculamos.\n",
    "\n",
    "**12) Volvé a calcular** los mismos estadísticos (min, max, promedio, etc) para ver los cambios.\n",
    "¿Por qué será que la **mediana** no cambia?"
   ]
  },
  {
   "cell_type": "code",
   "execution_count": 31,
   "metadata": {
    "colab": {
     "base_uri": "https://localhost:8080/",
     "height": 170
    },
    "colab_type": "code",
    "executionInfo": {
     "elapsed": 827,
     "status": "ok",
     "timestamp": 1540242614982,
     "user": {
      "displayName": "Rodrigo Andrés Crespillo",
      "photoUrl": "",
      "userId": "12484712302524035905"
     },
     "user_tz": 180
    },
    "id": "DS4Xn6VGbe30",
    "outputId": "a2a2530d-8f68-44f7-98b9-5f9978cdd80c"
   },
   "outputs": [
    {
     "data": {
      "text/plain": [
       "count    10398.000000\n",
       "mean      2562.746926\n",
       "std        607.889819\n",
       "min       1478.260870\n",
       "25%       2082.100410\n",
       "50%       2521.126761\n",
       "75%       3000.000000\n",
       "max       4000.000000\n",
       "Name: price_usd_per_m2, dtype: float64"
      ]
     },
     "execution_count": 31,
     "metadata": {},
     "output_type": "execute_result"
    }
   ],
   "source": [
    "# Realizá los calculos en esta celda\n",
    "df_filtered['price_usd_per_m2'].describe()"
   ]
  },
  {
   "cell_type": "markdown",
   "metadata": {
    "colab_type": "text",
    "id": "s1jVDgJfbe33"
   },
   "source": [
    "Vamos a graficar ahora los barrios según el precio por metro cuadrado."
   ]
  },
  {
   "cell_type": "code",
   "execution_count": 32,
   "metadata": {
    "colab": {
     "base_uri": "https://localhost:8080/",
     "height": 632
    },
    "colab_type": "code",
    "executionInfo": {
     "elapsed": 2675,
     "status": "ok",
     "timestamp": 1540242617865,
     "user": {
      "displayName": "Rodrigo Andrés Crespillo",
      "photoUrl": "",
      "userId": "12484712302524035905"
     },
     "user_tz": 180
    },
    "id": "Z2fLTxZGbe33",
    "outputId": "3d520841-01f6-4aa2-e5a9-b97d67508c64"
   },
   "outputs": [
    {
     "name": "stderr",
     "output_type": "stream",
     "text": [
      "/home/rodixxi/anaconda3/lib/python3.7/site-packages/scipy/stats/stats.py:1713: FutureWarning: Using a non-tuple sequence for multidimensional indexing is deprecated; use `arr[tuple(seq)]` instead of `arr[seq]`. In the future this will be interpreted as an array index, `arr[np.array(seq)]`, which will result either in an error or a different result.\n",
      "  return np.add.reduce(sorted[indexer] * weights, axis=axis) / sumval\n"
     ]
    },
    {
     "data": {
      "image/png": "[encoded data removed]",
      "text/plain": [
       "<Figure size 864x576 with 1 Axes>"
      ]
     },
     "metadata": {
      "needs_background": "light"
     },
     "output_type": "display_data"
    }
   ],
   "source": [
    "plt.xticks(rotation = 90)\n",
    "barrios = df_filtered.groupby('barrio').mean().sort_values('price_usd_per_m2', ascending=False).index\n",
    "sns.barplot(x=\"barrio\", y=\"price_usd_per_m2\", order=barrios, data=df_filtered);"
   ]
  },
  {
   "cell_type": "markdown",
   "metadata": {
    "colab_type": "text",
    "id": "wbIpraRXbe35"
   },
   "source": [
    "#### Más caros"
   ]
  },
  {
   "cell_type": "code",
   "execution_count": 33,
   "metadata": {
    "colab": {
     "base_uri": "https://localhost:8080/",
     "height": 235
    },
    "colab_type": "code",
    "executionInfo": {
     "elapsed": 870,
     "status": "ok",
     "timestamp": 1540242618787,
     "user": {
      "displayName": "Rodrigo Andrés Crespillo",
      "photoUrl": "",
      "userId": "12484712302524035905"
     },
     "user_tz": 180
    },
    "id": "BLo0bqIKbe37",
    "outputId": "c3b18410-fde1-454d-dbef-36566dbf358d"
   },
   "outputs": [
    {
     "data": {
      "text/html": [
       "<div>\n",
       "<style scoped>\n",
       "    .dataframe tbody tr th:only-of-type {\n",
       "        vertical-align: middle;\n",
       "    }\n",
       "\n",
       "    .dataframe tbody tr th {\n",
       "        vertical-align: top;\n",
       "    }\n",
       "\n",
       "    .dataframe thead th {\n",
       "        text-align: right;\n",
       "    }\n",
       "</style>\n",
       "<table border=\"1\" class=\"dataframe\">\n",
       "  <thead>\n",
       "    <tr style=\"text-align: right;\">\n",
       "      <th></th>\n",
       "      <th>price_usd_per_m2</th>\n",
       "    </tr>\n",
       "    <tr>\n",
       "      <th>barrio</th>\n",
       "      <th></th>\n",
       "    </tr>\n",
       "  </thead>\n",
       "  <tbody>\n",
       "    <tr>\n",
       "      <th>PUERTO MADERO</th>\n",
       "      <td>6156.633183</td>\n",
       "    </tr>\n",
       "    <tr>\n",
       "      <th>PALERMO</th>\n",
       "      <td>3632.057960</td>\n",
       "    </tr>\n",
       "    <tr>\n",
       "      <th>RETIRO</th>\n",
       "      <td>3417.635657</td>\n",
       "    </tr>\n",
       "    <tr>\n",
       "      <th>RECOLETA</th>\n",
       "      <td>3346.748987</td>\n",
       "    </tr>\n",
       "    <tr>\n",
       "      <th>BELGRANO</th>\n",
       "      <td>3338.725206</td>\n",
       "    </tr>\n",
       "  </tbody>\n",
       "</table>\n",
       "</div>"
      ],
      "text/plain": [
       "               price_usd_per_m2\n",
       "barrio                         \n",
       "PUERTO MADERO       6156.633183\n",
       "PALERMO             3632.057960\n",
       "RETIRO              3417.635657\n",
       "RECOLETA            3346.748987\n",
       "BELGRANO            3338.725206"
      ]
     },
     "execution_count": 33,
     "metadata": {},
     "output_type": "execute_result"
    }
   ],
   "source": [
    "table = pd.pivot_table(df, values='price_usd_per_m2', index=['barrio'], aggfunc=np.mean)\n",
    "mas_caros = table.sort_values('price_usd_per_m2', ascending=False).iloc[:5]\n",
    "mas_caros"
   ]
  },
  {
   "cell_type": "markdown",
   "metadata": {
    "colab_type": "text",
    "id": "3Bm06itfbe3-"
   },
   "source": [
    "#### Más baratos"
   ]
  },
  {
   "cell_type": "code",
   "execution_count": 34,
   "metadata": {
    "colab": {
     "base_uri": "https://localhost:8080/",
     "height": 235
    },
    "colab_type": "code",
    "executionInfo": {
     "elapsed": 944,
     "status": "ok",
     "timestamp": 1540242619953,
     "user": {
      "displayName": "Rodrigo Andrés Crespillo",
      "photoUrl": "",
      "userId": "12484712302524035905"
     },
     "user_tz": 180
    },
    "id": "YqY5YyXGbe3-",
    "outputId": "d0271b1b-2c54-490b-fde8-dbe95867cc32"
   },
   "outputs": [
    {
     "data": {
      "text/html": [
       "<div>\n",
       "<style scoped>\n",
       "    .dataframe tbody tr th:only-of-type {\n",
       "        vertical-align: middle;\n",
       "    }\n",
       "\n",
       "    .dataframe tbody tr th {\n",
       "        vertical-align: top;\n",
       "    }\n",
       "\n",
       "    .dataframe thead th {\n",
       "        text-align: right;\n",
       "    }\n",
       "</style>\n",
       "<table border=\"1\" class=\"dataframe\">\n",
       "  <thead>\n",
       "    <tr style=\"text-align: right;\">\n",
       "      <th></th>\n",
       "      <th>price_usd_per_m2</th>\n",
       "    </tr>\n",
       "    <tr>\n",
       "      <th>barrio</th>\n",
       "      <th></th>\n",
       "    </tr>\n",
       "  </thead>\n",
       "  <tbody>\n",
       "    <tr>\n",
       "      <th>VILLA SOLDATI</th>\n",
       "      <td>920.825753</td>\n",
       "    </tr>\n",
       "    <tr>\n",
       "      <th>VILLA LUGANO</th>\n",
       "      <td>1179.846071</td>\n",
       "    </tr>\n",
       "    <tr>\n",
       "      <th>VILLA RIACHUELO</th>\n",
       "      <td>1274.809950</td>\n",
       "    </tr>\n",
       "    <tr>\n",
       "      <th>PARQUE AVELLANEDA</th>\n",
       "      <td>1386.260577</td>\n",
       "    </tr>\n",
       "    <tr>\n",
       "      <th>NUEVA POMPEYA</th>\n",
       "      <td>1539.235869</td>\n",
       "    </tr>\n",
       "  </tbody>\n",
       "</table>\n",
       "</div>"
      ],
      "text/plain": [
       "                   price_usd_per_m2\n",
       "barrio                             \n",
       "VILLA SOLDATI            920.825753\n",
       "VILLA LUGANO            1179.846071\n",
       "VILLA RIACHUELO         1274.809950\n",
       "PARQUE AVELLANEDA       1386.260577\n",
       "NUEVA POMPEYA           1539.235869"
      ]
     },
     "execution_count": 34,
     "metadata": {},
     "output_type": "execute_result"
    }
   ],
   "source": [
    "table = pd.pivot_table(df, values='price_usd_per_m2', index=['barrio'], aggfunc=np.mean)\n",
    "mas_baratos = table.sort_values('price_usd_per_m2', ascending=True).iloc[:5]\n",
    "mas_baratos"
   ]
  },
  {
   "cell_type": "markdown",
   "metadata": {
    "colab_type": "text",
    "id": "WRUM-8-jbe4B"
   },
   "source": [
    "## Graficando propiedades de los barrios\n",
    "\n",
    "Ahora que ya sabemos cuales son los barrios más caros y cuales son los más baratos vamos a ver algunas comparaciones gráficas para entender mejor sus diferencias en diferentes atributos del dataset. Vamos a ver las distribuciones según:\n",
    "- Superficie total en m2\n",
    "- Cuartos totales \n",
    "- Precio en dolares por m2"
   ]
  },
  {
   "cell_type": "code",
   "execution_count": 35,
   "metadata": {
    "colab": {
     "base_uri": "https://localhost:8080/",
     "height": 34
    },
    "colab_type": "code",
    "executionInfo": {
     "elapsed": 695,
     "status": "ok",
     "timestamp": 1540242620876,
     "user": {
      "displayName": "Rodrigo Andrés Crespillo",
      "photoUrl": "",
      "userId": "12484712302524035905"
     },
     "user_tz": 180
    },
    "id": "wBbO6reGbe4C",
    "outputId": "4c4fe0ad-31be-4c20-af97-3efdacaff44c"
   },
   "outputs": [
    {
     "data": {
      "text/plain": [
       "dtype('float64')"
      ]
     },
     "execution_count": 35,
     "metadata": {},
     "output_type": "execute_result"
    }
   ],
   "source": [
    "barrios_caros = mas_caros.index \n",
    "barrios_baratos = mas_baratos.index\n",
    "df_filtered.surface_total_in_m2.dtype"
   ]
  },
  {
   "cell_type": "code",
   "execution_count": 36,
   "metadata": {
    "colab": {
     "base_uri": "https://localhost:8080/",
     "height": 497
    },
    "colab_type": "code",
    "executionInfo": {
     "elapsed": 1208,
     "status": "ok",
     "timestamp": 1540242622237,
     "user": {
      "displayName": "Rodrigo Andrés Crespillo",
      "photoUrl": "",
      "userId": "12484712302524035905"
     },
     "user_tz": 180
    },
    "id": "kmBoZKGSbe4E",
    "outputId": "f7caaa96-dc21-4406-a18f-2f4e91300237"
   },
   "outputs": [
    {
     "name": "stderr",
     "output_type": "stream",
     "text": [
      "/home/rodixxi/anaconda3/lib/python3.7/site-packages/scipy/stats/stats.py:1713: FutureWarning: Using a non-tuple sequence for multidimensional indexing is deprecated; use `arr[tuple(seq)]` instead of `arr[seq]`. In the future this will be interpreted as an array index, `arr[np.array(seq)]`, which will result either in an error or a different result.\n",
      "  return np.add.reduce(sorted[indexer] * weights, axis=axis) / sumval\n"
     ]
    },
    {
     "data": {
      "image/png": "[encoded data removed]",
      "text/plain": [
       "<Figure size 864x576 with 1 Axes>"
      ]
     },
     "metadata": {
      "needs_background": "light"
     },
     "output_type": "display_data"
    }
   ],
   "source": [
    "g = sns.distplot(df_filtered[df_filtered.barrio.isin(barrios_baratos)].surface_total_in_m2, label=\"Barrios baratos\")\n",
    "sns.distplot(df_filtered[df_filtered.barrio.isin(barrios_caros)].surface_total_in_m2, label=\"Barrios caros\")\n",
    "g.set_xlim(0, 400)\n",
    "plt.legend();"
   ]
  },
  {
   "cell_type": "code",
   "execution_count": 37,
   "metadata": {
    "colab": {
     "base_uri": "https://localhost:8080/",
     "height": 34
    },
    "colab_type": "code",
    "executionInfo": {
     "elapsed": 768,
     "status": "ok",
     "timestamp": 1540242623178,
     "user": {
      "displayName": "Rodrigo Andrés Crespillo",
      "photoUrl": "",
      "userId": "12484712302524035905"
     },
     "user_tz": 180
    },
    "id": "TEvqhw2FFuCL",
    "outputId": "817e5681-caf1-4f57-918c-516a187066c3"
   },
   "outputs": [
    {
     "data": {
      "text/plain": [
       "dtype('float64')"
      ]
     },
     "execution_count": 37,
     "metadata": {},
     "output_type": "execute_result"
    }
   ],
   "source": [
    "df_filtered.rooms.dtype"
   ]
  },
  {
   "cell_type": "code",
   "execution_count": 38,
   "metadata": {
    "colab": {
     "base_uri": "https://localhost:8080/",
     "height": 309
    },
    "colab_type": "code",
    "executionInfo": {
     "elapsed": 811,
     "status": "ok",
     "timestamp": 1540242624179,
     "user": {
      "displayName": "Rodrigo Andrés Crespillo",
      "photoUrl": "",
      "userId": "12484712302524035905"
     },
     "user_tz": 180
    },
    "id": "XBpIHGws2JVu",
    "outputId": "b5b1986e-cb9a-4051-8044-3be6e59c6b60"
   },
   "outputs": [
    {
     "data": {
      "text/html": [
       "<div>\n",
       "<style scoped>\n",
       "    .dataframe tbody tr th:only-of-type {\n",
       "        vertical-align: middle;\n",
       "    }\n",
       "\n",
       "    .dataframe tbody tr th {\n",
       "        vertical-align: top;\n",
       "    }\n",
       "\n",
       "    .dataframe thead th {\n",
       "        text-align: right;\n",
       "    }\n",
       "</style>\n",
       "<table border=\"1\" class=\"dataframe\">\n",
       "  <thead>\n",
       "    <tr style=\"text-align: right;\">\n",
       "      <th></th>\n",
       "      <th>created_on</th>\n",
       "      <th>operation</th>\n",
       "      <th>property_type</th>\n",
       "      <th>place_with_parent_names</th>\n",
       "      <th>lat-lon</th>\n",
       "      <th>lat</th>\n",
       "      <th>lon</th>\n",
       "      <th>price_aprox_usd</th>\n",
       "      <th>surface_total_in_m2</th>\n",
       "      <th>surface_covered_in_m2</th>\n",
       "      <th>price_usd_per_m2</th>\n",
       "      <th>floor</th>\n",
       "      <th>rooms</th>\n",
       "      <th>expenses</th>\n",
       "      <th>properati_url</th>\n",
       "      <th>barrio</th>\n",
       "      <th>comuna</th>\n",
       "    </tr>\n",
       "  </thead>\n",
       "  <tbody>\n",
       "    <tr>\n",
       "      <th>14970</th>\n",
       "      <td>2017-11-23</td>\n",
       "      <td>sell</td>\n",
       "      <td>apartment</td>\n",
       "      <td>|Argentina|Capital Federal|Palermo|</td>\n",
       "      <td>-34.5984538,-58.4146484</td>\n",
       "      <td>-34.598454</td>\n",
       "      <td>-58.414648</td>\n",
       "      <td>260000.0</td>\n",
       "      <td>95.0</td>\n",
       "      <td>85.0</td>\n",
       "      <td>2736.842105</td>\n",
       "      <td>NaN</td>\n",
       "      <td>4.0</td>\n",
       "      <td>NaN</td>\n",
       "      <td>https://www.properati.com.ar/1idp5_venta_departamento_palermo_toilette_dependencias_subte-linea-b_shenk-inmobiliaria_gkj</td>\n",
       "      <td>ALMAGRO</td>\n",
       "      <td>5.0</td>\n",
       "    </tr>\n",
       "    <tr>\n",
       "      <th>1328</th>\n",
       "      <td>2017-12-05</td>\n",
       "      <td>sell</td>\n",
       "      <td>apartment</td>\n",
       "      <td>|Argentina|Capital Federal|Palermo|</td>\n",
       "      <td>-34.595512,-58.4221488</td>\n",
       "      <td>-34.595512</td>\n",
       "      <td>-58.422149</td>\n",
       "      <td>110000.0</td>\n",
       "      <td>45.0</td>\n",
       "      <td>25.0</td>\n",
       "      <td>2444.444444</td>\n",
       "      <td>NaN</td>\n",
       "      <td>3.0</td>\n",
       "      <td>1500.0</td>\n",
       "      <td>https://www.properati.com.ar/1ilz1_venta_departamento_palermo_patio_garage_amenities_ferraro-bienes-raices</td>\n",
       "      <td>PALERMO</td>\n",
       "      <td>14.0</td>\n",
       "    </tr>\n",
       "    <tr>\n",
       "      <th>18663</th>\n",
       "      <td>2018-01-31</td>\n",
       "      <td>sell</td>\n",
       "      <td>apartment</td>\n",
       "      <td>|Argentina|Capital Federal|Palermo|</td>\n",
       "      <td>-34.6040919,-58.4771455</td>\n",
       "      <td>-34.604092</td>\n",
       "      <td>-58.477145</td>\n",
       "      <td>265000.0</td>\n",
       "      <td>77.0</td>\n",
       "      <td>70.0</td>\n",
       "      <td>3441.558442</td>\n",
       "      <td>NaN</td>\n",
       "      <td>3.0</td>\n",
       "      <td>2802.0</td>\n",
       "      <td>https://www.properati.com.ar/1kbl9_venta_departamento_palermo_balcon_suite_lavadero_vestidor_luminoso_placard_cabildo-500</td>\n",
       "      <td>VILLA DEL PARQUE</td>\n",
       "      <td>11.0</td>\n",
       "    </tr>\n",
       "    <tr>\n",
       "      <th>1214</th>\n",
       "      <td>2017-11-25</td>\n",
       "      <td>sell</td>\n",
       "      <td>apartment</td>\n",
       "      <td>|Argentina|Capital Federal|Palermo|</td>\n",
       "      <td>-34.58575,-58.431367</td>\n",
       "      <td>-34.585750</td>\n",
       "      <td>-58.431367</td>\n",
       "      <td>178000.0</td>\n",
       "      <td>74.0</td>\n",
       "      <td>32.0</td>\n",
       "      <td>2405.405405</td>\n",
       "      <td>NaN</td>\n",
       "      <td>1.0</td>\n",
       "      <td>NaN</td>\n",
       "      <td>https://www.properati.com.ar/1igav_venta_departamento_palermo_balcon_terraza_re-max-total-iv</td>\n",
       "      <td>PALERMO</td>\n",
       "      <td>14.0</td>\n",
       "    </tr>\n",
       "    <tr>\n",
       "      <th>5660</th>\n",
       "      <td>2017-11-08</td>\n",
       "      <td>sell</td>\n",
       "      <td>apartment</td>\n",
       "      <td>|Argentina|Capital Federal|Monserrat|</td>\n",
       "      <td>-34.613487,-58.3775329</td>\n",
       "      <td>-34.613487</td>\n",
       "      <td>-58.377533</td>\n",
       "      <td>88000.0</td>\n",
       "      <td>37.0</td>\n",
       "      <td>37.0</td>\n",
       "      <td>2378.378378</td>\n",
       "      <td>NaN</td>\n",
       "      <td>2.0</td>\n",
       "      <td>NaN</td>\n",
       "      <td>https://www.properati.com.ar/1hwqe_venta_departamento_monserrat_garage_subte-linea-d_subte-linea-a_subte-linea-e_subte-linea-c_alpha-emprendimientos-srl</td>\n",
       "      <td>MONSERRAT</td>\n",
       "      <td>1.0</td>\n",
       "    </tr>\n",
       "  </tbody>\n",
       "</table>\n",
       "</div>"
      ],
      "text/plain": [
       "      created_on operation property_type  \\\n",
       "14970 2017-11-23      sell     apartment   \n",
       "1328  2017-12-05      sell     apartment   \n",
       "18663 2018-01-31      sell     apartment   \n",
       "1214  2017-11-25      sell     apartment   \n",
       "5660  2017-11-08      sell     apartment   \n",
       "\n",
       "                     place_with_parent_names                  lat-lon  \\\n",
       "14970    |Argentina|Capital Federal|Palermo|  -34.5984538,-58.4146484   \n",
       "1328     |Argentina|Capital Federal|Palermo|   -34.595512,-58.4221488   \n",
       "18663    |Argentina|Capital Federal|Palermo|  -34.6040919,-58.4771455   \n",
       "1214     |Argentina|Capital Federal|Palermo|     -34.58575,-58.431367   \n",
       "5660   |Argentina|Capital Federal|Monserrat|   -34.613487,-58.3775329   \n",
       "\n",
       "             lat        lon  price_aprox_usd  surface_total_in_m2  \\\n",
       "14970 -34.598454 -58.414648         260000.0                 95.0   \n",
       "1328  -34.595512 -58.422149         110000.0                 45.0   \n",
       "18663 -34.604092 -58.477145         265000.0                 77.0   \n",
       "1214  -34.585750 -58.431367         178000.0                 74.0   \n",
       "5660  -34.613487 -58.377533          88000.0                 37.0   \n",
       "\n",
       "       surface_covered_in_m2  price_usd_per_m2  floor  rooms  expenses  \\\n",
       "14970                   85.0       2736.842105    NaN    4.0       NaN   \n",
       "1328                    25.0       2444.444444    NaN    3.0    1500.0   \n",
       "18663                   70.0       3441.558442    NaN    3.0    2802.0   \n",
       "1214                    32.0       2405.405405    NaN    1.0       NaN   \n",
       "5660                    37.0       2378.378378    NaN    2.0       NaN   \n",
       "\n",
       "                                                                                                                                                  properati_url  \\\n",
       "14970                                  https://www.properati.com.ar/1idp5_venta_departamento_palermo_toilette_dependencias_subte-linea-b_shenk-inmobiliaria_gkj   \n",
       "1328                                                 https://www.properati.com.ar/1ilz1_venta_departamento_palermo_patio_garage_amenities_ferraro-bienes-raices   \n",
       "18663                                 https://www.properati.com.ar/1kbl9_venta_departamento_palermo_balcon_suite_lavadero_vestidor_luminoso_placard_cabildo-500   \n",
       "1214                                                               https://www.properati.com.ar/1igav_venta_departamento_palermo_balcon_terraza_re-max-total-iv   \n",
       "5660   https://www.properati.com.ar/1hwqe_venta_departamento_monserrat_garage_subte-linea-d_subte-linea-a_subte-linea-e_subte-linea-c_alpha-emprendimientos-srl   \n",
       "\n",
       "                 barrio  comuna  \n",
       "14970           ALMAGRO     5.0  \n",
       "1328            PALERMO    14.0  \n",
       "18663  VILLA DEL PARQUE    11.0  \n",
       "1214            PALERMO    14.0  \n",
       "5660          MONSERRAT     1.0  "
      ]
     },
     "execution_count": 38,
     "metadata": {},
     "output_type": "execute_result"
    }
   ],
   "source": [
    "df_filtered.sample(5)"
   ]
  },
  {
   "cell_type": "code",
   "execution_count": 39,
   "metadata": {
    "colab": {
     "base_uri": "https://localhost:8080/",
     "height": 514
    },
    "colab_type": "code",
    "executionInfo": {
     "elapsed": 1043,
     "status": "ok",
     "timestamp": 1540242625582,
     "user": {
      "displayName": "Rodrigo Andrés Crespillo",
      "photoUrl": "",
      "userId": "12484712302524035905"
     },
     "user_tz": 180
    },
    "id": "sa3RtgZJbe4K",
    "outputId": "1e520d31-60be-432d-8328-1526d6de89e9"
   },
   "outputs": [
    {
     "name": "stderr",
     "output_type": "stream",
     "text": [
      "/home/rodixxi/anaconda3/lib/python3.7/site-packages/scipy/stats/stats.py:1713: FutureWarning: Using a non-tuple sequence for multidimensional indexing is deprecated; use `arr[tuple(seq)]` instead of `arr[seq]`. In the future this will be interpreted as an array index, `arr[np.array(seq)]`, which will result either in an error or a different result.\n",
      "  return np.add.reduce(sorted[indexer] * weights, axis=axis) / sumval\n"
     ]
    },
    {
     "data": {
      "text/plain": [
       "<matplotlib.legend.Legend at 0x7f61a10f9eb8>"
      ]
     },
     "execution_count": 39,
     "metadata": {},
     "output_type": "execute_result"
    },
    {
     "data": {
      "image/png": "[encoded data removed]",
      "text/plain": [
       "<Figure size 864x576 with 1 Axes>"
      ]
     },
     "metadata": {
      "needs_background": "light"
     },
     "output_type": "display_data"
    }
   ],
   "source": [
    "g = sns.distplot(df_filtered[df_filtered.barrio.isin(barrios_baratos)].rooms, label=\"Barrios baratos\")\n",
    "sns.distplot(df_filtered[df_filtered.barrio.isin(barrios_caros)].rooms, label=\"Barrios caros\")\n",
    "g.set_xlim(0, 10)\n",
    "plt.legend()"
   ]
  },
  {
   "cell_type": "code",
   "execution_count": 40,
   "metadata": {
    "colab": {
     "base_uri": "https://localhost:8080/",
     "height": 497
    },
    "colab_type": "code",
    "executionInfo": {
     "elapsed": 1383,
     "status": "ok",
     "timestamp": 1540242627017,
     "user": {
      "displayName": "Rodrigo Andrés Crespillo",
      "photoUrl": "",
      "userId": "12484712302524035905"
     },
     "user_tz": 180
    },
    "id": "I8rLCuu-be4N",
    "outputId": "82fd2b95-3b66-4b2a-f17b-983a236b1805"
   },
   "outputs": [
    {
     "name": "stderr",
     "output_type": "stream",
     "text": [
      "/home/rodixxi/anaconda3/lib/python3.7/site-packages/scipy/stats/stats.py:1713: FutureWarning: Using a non-tuple sequence for multidimensional indexing is deprecated; use `arr[tuple(seq)]` instead of `arr[seq]`. In the future this will be interpreted as an array index, `arr[np.array(seq)]`, which will result either in an error or a different result.\n",
      "  return np.add.reduce(sorted[indexer] * weights, axis=axis) / sumval\n"
     ]
    },
    {
     "data": {
      "image/png": "[encoded data removed]",
      "text/plain": [
       "<Figure size 864x576 with 1 Axes>"
      ]
     },
     "metadata": {
      "needs_background": "light"
     },
     "output_type": "display_data"
    }
   ],
   "source": [
    "g = sns.distplot(df_filtered[df_filtered.barrio.isin(barrios_baratos)].price_usd_per_m2, label=\"Barrios baratos\")\n",
    "sns.distplot(df_filtered[df_filtered.barrio.isin(barrios_caros)].price_usd_per_m2, label=\"Barrios caros\")\n",
    "plt.legend();"
   ]
  },
  {
   "cell_type": "markdown",
   "metadata": {
    "colab_type": "text",
    "id": "9TNExFL0be4Q"
   },
   "source": [
    "### Barrios que quieren ser otros"
   ]
  },
  {
   "cell_type": "markdown",
   "metadata": {
    "colab_type": "text",
    "id": "6aQWBF8zbe4R"
   },
   "source": [
    "Basado en información de mercado, desde el portal Properati han señalado que las inmobiliarias suelen publicar las propiedades ubicadas en barrios que no necesariamente se corresponden con la ubicación geográfica real. Según mencionan en la nota ([blog)](http://blog.properati.com.ar/barrios-que-quieren-ser-otros/), esto corresponde a una lógica comercial en el corredor norte y a usos y costumbres en zona oeste.\n",
    "\n",
    "Analicemos qué sucede para nuestro dataset."
   ]
  },
  {
   "cell_type": "markdown",
   "metadata": {
    "colab_type": "text",
    "id": "3rLXLLDQbe4T"
   },
   "source": [
    "Dada la estructura del atributo `place_with_parent_names`, en primer lugar vamos a extraer el campo asociado al barrio publicado para poder comparar con el que surge de la cartografía oficial. Esto lo vamos a agregar en una nueva columna llamada `barrio_publicado`. \n",
    "\n",
    "De este modo, lo que vamos a analizar es como se relacionan las columnas `barrio` y `barrio publicado`. Si efectivamente hay barrios que quieren ser otros, esperaríamos ver propiedades ubicadas en geográficamente en un barrio distinto al que dice la publicación. Por ejemplo, si una propiedad está ubicada (dadas sus coordenadas) en Villa Crespo pero en la publicación dice Palermo, entonces decimos que hay indicios que Villa Crespo quiere ser Palermo.\n",
    "\n",
    "Viendo la estructura de este atributo, podemos notar que se compone por una sequencia de lugares separados por `|`. Por ejemplo, en `|Argentina|Capital Federal|Palermo|` vemos que primero está el país, luego la ciudad, luego el barrio y en algunos casos hay una jerarquía más, relacionado con zonas dentro del barrio (como Palermo Soho dentro de Palermo). \n",
    "\n",
    "De este modo, una estrategia posible para resolver esto es separar las jerarquías por `|` y extraer el elemento asociado al barrio. Por ejemplo, para `|Argentina|Capital Federal|Palermo|` queda `['', 'Argentina', 'Capital Federal', 'Palermo', '']`. Extrayendo el tercer elemento obtendremos el barrio independientemente de si hay lugares luego en la jerarquía. Aquellos que no tengan barrio no serán considerados puesto que estarían ubicados en Capital Federal y no sería informativo.\n",
    "\n",
    "Lo pasamos a mayúsculas y quitamos las tildes para poder comparar con el barrio oficial."
   ]
  },
  {
   "cell_type": "code",
   "execution_count": 41,
   "metadata": {
    "colab": {
     "base_uri": "https://localhost:8080/",
     "height": 34
    },
    "colab_type": "code",
    "executionInfo": {
     "elapsed": 694,
     "status": "ok",
     "timestamp": 1540242627902,
     "user": {
      "displayName": "Rodrigo Andrés Crespillo",
      "photoUrl": "",
      "userId": "12484712302524035905"
     },
     "user_tz": 180
    },
    "id": "GgvGEQ3sbe4U",
    "outputId": "eb85751b-1fd1-48fb-b3d2-d694b339ba6a"
   },
   "outputs": [
    {
     "data": {
      "text/plain": [
       "array([5, 6, 4])"
      ]
     },
     "execution_count": 41,
     "metadata": {},
     "output_type": "execute_result"
    }
   ],
   "source": [
    "df_filtered['place_with_parent_names'].apply(lambda x: len(x.split(\"|\"))).unique()"
   ]
  },
  {
   "cell_type": "markdown",
   "metadata": {
    "colab_type": "text",
    "id": "0SNKG1tHbe4W"
   },
   "source": [
    "Como algunos tienen 4 elementos, debemos quitarlos."
   ]
  },
  {
   "cell_type": "code",
   "execution_count": 42,
   "metadata": {
    "colab": {},
    "colab_type": "code",
    "id": "cdtslvhube4X"
   },
   "outputs": [],
   "source": [
    "split_place_filter = df_filtered['place_with_parent_names'].apply(lambda x: len(x.split(\"|\"))!=4)\n",
    "df_filtered = df_filtered.loc[split_place_filter]"
   ]
  },
  {
   "cell_type": "code",
   "execution_count": 43,
   "metadata": {
    "colab": {},
    "colab_type": "code",
    "id": "b4rbFtC7be4a"
   },
   "outputs": [],
   "source": [
    "df_filtered['barrio_publicado'] = df_filtered['place_with_parent_names'].apply( lambda x: x.split(\"|\")[3].upper())\n",
    "df_filtered['barrio_publicado'] = df_filtered['barrio_publicado'].str.normalize('NFKD').str.encode('ascii', errors='ignore').str.decode('utf-8')"
   ]
  },
  {
   "cell_type": "markdown",
   "metadata": {
    "colab_type": "text",
    "id": "Kln4RzZabe4c"
   },
   "source": [
    "Comparemos entonces el barrio publicado con el real. Nos vamos a quedar con aquellas propiedades donde nos coincidan para luego hacer el conteo por barrio."
   ]
  },
  {
   "cell_type": "code",
   "execution_count": 44,
   "metadata": {
    "colab": {},
    "colab_type": "code",
    "id": "HuH4XWyube4d"
   },
   "outputs": [],
   "source": [
    "barrios_match = (df_filtered['barrio_publicado'] != df_filtered['barrio'])\n",
    "df_filtered_barrio_not_match = df_filtered.loc[barrios_match]"
   ]
  },
  {
   "cell_type": "markdown",
   "metadata": {
    "colab_type": "text",
    "id": "YkNbU4KXbe4h"
   },
   "source": [
    "Con una tabla de doble entrada podemos identificar para cada barrio cuál es al que más quiere parecerse."
   ]
  },
  {
   "cell_type": "code",
   "execution_count": 45,
   "metadata": {
    "colab": {
     "base_uri": "https://localhost:8080/",
     "height": 816
    },
    "colab_type": "code",
    "executionInfo": {
     "elapsed": 775,
     "status": "ok",
     "timestamp": 1540242631860,
     "user": {
      "displayName": "Rodrigo Andrés Crespillo",
      "photoUrl": "",
      "userId": "12484712302524035905"
     },
     "user_tz": 180
    },
    "id": "tFKsSCNmbe4i",
    "outputId": "bad37a81-47ae-4d45-87d2-2daad3380ca5"
   },
   "outputs": [
    {
     "data": {
      "text/plain": [
       "barrio\n",
       "AGRONOMIA                VILLA PUEYRREDON\n",
       "ALMAGRO                         CABALLITO\n",
       "BALVANERA                            ONCE\n",
       "BARRACAS                        SAN TELMO\n",
       "BELGRANO                            NUNEZ\n",
       "BOCA                             BARRACAS\n",
       "BOEDO                    PARQUE PATRICIOS\n",
       "CABALLITO               PARQUE CENTENARIO\n",
       "CHACARITA                      COLEGIALES\n",
       "COGHLAN                          BELGRANO\n",
       "COLEGIALES                       BELGRANO\n",
       "CONSTITUCION                    SAN TELMO\n",
       "FLORES                          CABALLITO\n",
       "FLORESTA                           FLORES\n",
       "LINIERS                        VILLA LURO\n",
       "MATADEROS                         LINIERS\n",
       "MONSERRAT                       SAN TELMO\n",
       "MONTE CASTRO                 VILLA DEVOTO\n",
       "NUEVA POMPEYA            PARQUE PATRICIOS\n",
       "NUEZ                                NUNEZ\n",
       "PALERMO                          BELGRANO\n",
       "PARQUE AVELLANEDA                FLORESTA\n",
       "PARQUE CHACABUCO                CABALLITO\n",
       "PARQUE CHAS                 VILLA URQUIZA\n",
       "PARQUE PATRICIOS                    BOEDO\n",
       "PATERNAL                        AGRONOMIA\n",
       "RECOLETA                     BARRIO NORTE\n",
       "RETIRO                           RECOLETA\n",
       "SAAVEDRA                            NUNEZ\n",
       "SAN CRISTOBAL                       BOEDO\n",
       "SAN NICOLAS          CENTRO / MICROCENTRO\n",
       "SAN TELMO                        BARRACAS\n",
       "VELEZ SARSFIELD                  FLORESTA\n",
       "VILLA CRESPO                      PALERMO\n",
       "VILLA DEL PARQUE             VILLA DEVOTO\n",
       "VILLA DEVOTO             VILLA PUEYRREDON\n",
       "VILLA GRAL. MITRE     VILLA GENERAL MITRE\n",
       "VILLA LURO                      VERSALLES\n",
       "VILLA ORTUZAR               VILLA URQUIZA\n",
       "VILLA PUEYRREDON             VILLA DEVOTO\n",
       "VILLA REAL                      VERSALLES\n",
       "VILLA RIACHUELO              VILLA LUGANO\n",
       "VILLA SANTA RITA         VILLA DEL PARQUE\n",
       "VILLA SOLDATI                VILLA LUGANO\n",
       "VILLA URQUIZA                    BELGRANO\n",
       "dtype: object"
      ]
     },
     "execution_count": 45,
     "metadata": {},
     "output_type": "execute_result"
    }
   ],
   "source": [
    "table = pd.crosstab(df_filtered_barrio_not_match.barrio, df_filtered_barrio_not_match.barrio_publicado)\n",
    "table.idxmax(axis=1)"
   ]
  },
  {
   "cell_type": "markdown",
   "metadata": {
    "colab_type": "text",
    "id": "h28k4NVrbe4l"
   },
   "source": [
    "Podemos ver entonces que los barrios tienden a querer parecerse a barrios con precio con metro cuadrado más caro. Por ejemplo Villa Crespo con Palermo, Constitución con San Telmo y Villa Urquiza con Belgrano. \n",
    "\n",
    "Por otro lado, vemos también que los barrios suelen querer parecerse a sus barrios vecinos."
   ]
  },
  {
   "cell_type": "code",
   "execution_count": 57,
   "metadata": {
    "colab": {},
    "colab_type": "code",
    "id": "WTr_3i_KnicB"
   },
   "outputs": [],
   "source": [
    "import gmplot as gmplot\n",
    "\n",
    "gmap = gmplot.GoogleMapPlotter(-34.619407, -58.446788, 13)\n",
    "gmap2 = gmplot.GoogleMapPlotter(-34.619407, -58.446788, 13)\n",
    "gmap.heatmap(\n",
    "    df_filtered[df_filtered.barrio.isin(barrios_baratos)].lat, \n",
    "    df_filtered[df_filtered.barrio.isin(barrios_baratos)].lon)\n",
    "gmap.draw(\"heatmap_barrios_baratos.html\");\n",
    "\n",
    "gmap2.heatmap(\n",
    "    df_filtered[df_filtered.barrio.isin(barrios_caros)].lat, \n",
    "    df_filtered[df_filtered.barrio.isin(barrios_caros)].lon)\n",
    "gmap2.draw(\"heatmap_barrios_caros.html\");"
   ]
  },
  {
   "cell_type": "code",
   "execution_count": 53,
   "metadata": {},
   "outputs": [
    {
     "data": {
      "text/plain": [
       "16448   -34.689376\n",
       "16457   -34.693250\n",
       "16464   -34.692751\n",
       "16465   -34.684843\n",
       "17364   -34.644053\n",
       "17372   -34.646502\n",
       "17373   -34.647382\n",
       "17378   -34.647382\n",
       "17382   -34.637967\n",
       "17383   -34.645394\n",
       "17384   -34.637151\n",
       "17399   -34.638024\n",
       "17400   -34.645457\n",
       "17402   -34.638109\n",
       "17403   -34.638024\n",
       "17404   -34.638024\n",
       "17405   -34.638109\n",
       "17406   -34.638109\n",
       "17408   -34.645375\n",
       "17409   -34.641665\n",
       "17415   -34.642398\n",
       "17418   -34.651891\n",
       "17420   -34.645901\n",
       "17425   -34.642537\n",
       "17426   -34.645036\n",
       "17430   -34.638428\n",
       "17446   -34.645280\n",
       "17447   -34.646864\n",
       "17457   -34.639363\n",
       "17458   -34.644819\n",
       "           ...    \n",
       "17622   -34.675922\n",
       "17623   -34.678252\n",
       "18324   -34.639173\n",
       "18325   -34.650500\n",
       "18327   -34.643017\n",
       "18336   -34.643085\n",
       "18348   -34.641908\n",
       "18358   -34.643042\n",
       "18359   -34.643042\n",
       "18366   -34.639237\n",
       "18367   -34.652429\n",
       "18368   -34.652429\n",
       "18370   -34.642841\n",
       "18376   -34.651396\n",
       "18377   -34.641209\n",
       "18378   -34.643805\n",
       "18379   -34.643020\n",
       "18382   -34.642929\n",
       "18383   -34.645534\n",
       "18386   -34.643519\n",
       "18412   -34.641028\n",
       "18413   -34.641028\n",
       "18415   -34.648002\n",
       "18417   -34.643020\n",
       "18420   -34.643253\n",
       "18421   -34.640852\n",
       "18422   -34.641028\n",
       "18424   -34.641028\n",
       "18425   -34.639173\n",
       "18963   -34.662435\n",
       "Name: lat, Length: 88, dtype: float64"
      ]
     },
     "execution_count": 53,
     "metadata": {},
     "output_type": "execute_result"
    }
   ],
   "source": []
  },
  {
   "cell_type": "code",
   "execution_count": null,
   "metadata": {
    "colab": {},
    "colab_type": "code",
    "id": "6uxbGBPlq9aJ"
   },
   "outputs": [],
   "source": []
  },
  {
   "cell_type": "code",
   "execution_count": 51,
   "metadata": {
    "colab": {
     "base_uri": "https://localhost:8080/",
     "height": 34
    },
    "colab_type": "code",
    "executionInfo": {
     "elapsed": 732,
     "status": "ok",
     "timestamp": 1540243584408,
     "user": {
      "displayName": "Rodrigo Andrés Crespillo",
      "photoUrl": "",
      "userId": "12484712302524035905"
     },
     "user_tz": 180
    },
    "id": "qfM3-FC0pb6m",
    "outputId": "861bea3a-a1d8-4459-e1d2-14aced12b85e"
   },
   "outputs": [
    {
     "data": {
      "text/plain": [
       "32512"
      ]
     },
     "execution_count": 51,
     "metadata": {},
     "output_type": "execute_result"
    }
   ],
   "source": []
  },
  {
   "cell_type": "code",
   "execution_count": null,
   "metadata": {},
   "outputs": [],
   "source": []
  }
 ],
 "metadata": {
  "colab": {
   "collapsed_sections": [
    "BF9jMDwxbe25"
   ],
   "name": "recursos_proyecto_1.ipynb",
   "provenance": [],
   "version": "0.3.2"
  },
  "kernelspec": {
   "display_name": "Python 3",
   "language": "python",
   "name": "python3"
  },
  "language_info": {
   "codemirror_mode": {
    "name": "ipython",
    "version": 3
   },
   "file_extension": ".py",
   "mimetype": "text/x-python",
   "name": "python",
   "nbconvert_exporter": "python",
   "pygments_lexer": "ipython3",
   "version": "3.7.0"
  }
 },
 "nbformat": 4,
 "nbformat_minor": 1
}
