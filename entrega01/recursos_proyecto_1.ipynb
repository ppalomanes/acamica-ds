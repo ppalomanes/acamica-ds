{
 "cells": [
  {
   "cell_type": "markdown",
   "metadata": {
    "colab_type": "text",
    "id": "g_xS9gbybe2A"
   },
   "source": [
    "# Proyecto: Análisis mercado inmobiliario de la Ciudad de Buenos Aires"
   ]
  },
  {
   "cell_type": "markdown",
   "metadata": {
    "colab_type": "text",
    "id": "8u-ZXNJtbe2D"
   },
   "source": [
    "¡Bienvenidos al primer proyecto de la carrera de Data Science de Acamica! \n",
    "\n",
    "En este proyecto vamos a trabajar con un dataset de propiedades en venta publicadas en el portal [Properati](www.properati.com.ar). El objetivo es dar los primeros pasos en el proceso de exploración de datos usando las herramientas que trabajamos en las activades.\n",
    "\n",
    "Vamos a enfocarnos en analizar algunos aspectos del mercado inmobiliario de la Ciudad de Buenos Aires pero para eso primero debemos limpiar un poco el dataset."
   ]
  },
  {
   "cell_type": "markdown",
   "metadata": {
    "colab_type": "text",
    "id": "FmO8bk5Ibe2D"
   },
   "source": [
    "## El dataset: propiedades en venta en Ciudad de Buenos Aires."
   ]
  },
  {
   "cell_type": "markdown",
   "metadata": {
    "colab_type": "text",
    "id": "4s76bxO_be2F"
   },
   "source": [
    "En este proyecto, trabajaremos con una muestra del conjunto de datos de propiedades en venta mencionado. En este dataset, cada fila es una propiedad en venta. \n",
    "\n",
    "## Los atributos\n",
    "A continuación vamos a describir los atributos que consideramos en esta muestra:\n",
    "\n",
    "* **id**: id de la propiedad\n",
    "* **created_on**: fecha en la que la propiedad ingresó al sitio\n",
    "* **operation**: alquiler (rent) o venta (sell)\n",
    "* **property_type**: tipo de propiedad (casa, departamento, ph, etcétera)\n",
    "* **place_with_parent_names**: nombre del lugar donde se encuentra la propiedad según el publicador\n",
    "* **lat-lon**: coordenadas concatenadas\n",
    "* **lat**: latitud\n",
    "* **lon**: longitud\n",
    "* **price**: precio en la moneda especificada en currency\n",
    "* **currency**: divisa en la que está expresada la publicación\n",
    "* **price_aprox_usd**: precio aproximado en dólares estadounidenses\n",
    "* **surface_total_in_m2**: superficie total (en metros cuadrados)\n",
    "* **surface_covered_in_m2**: superficie cubierta (en metros cuadrados)\n",
    "* **price_usd_per_m2**: precio por metro cuadrado en dólares (precio dólares / superficie)\n",
    "* **floor**: número de piso (si corresponde)\n",
    "* **rooms**: cantidad de ambientes\n",
    "* **expenses**: expensas (si corresponde)\n",
    "* **barrio**: barrio según cartografía oficial\n",
    "* **properati_url**: url de la publicación en Properati\n"
   ]
  },
  {
   "cell_type": "markdown",
   "metadata": {
    "colab_type": "text",
    "id": "oHhkfQOHbe2G"
   },
   "source": [
    "## Importando las bibliotecas necesarias\n",
    "\n",
    "Para poder trabajar en la limpieza de datos y la visualización de nuestro dataset vamos a utilizar las bibliotecas numpy, pandas, matplotlib.pylab y seaborn. \n",
    "\n",
    "** 1) Importá ** cada una de ellas con los siguientes nombres: \n",
    "- **numpy** como **np**\n",
    "- **pandas** como **pd**\n",
    "- **matplotlib.pylab** como **plt**\n",
    "- **seaborn** como **sns**\n"
   ]
  },
  {
   "cell_type": "code",
   "execution_count": 1,
   "metadata": {
    "colab": {},
    "colab_type": "code",
    "id": "f7S1mDPLbe2I"
   },
   "outputs": [],
   "source": [
    "# Importar bibliotecas en esta celda\n",
    "import numpy as np\n",
    "import pandas as pd\n",
    "import matplotlib.pylab as plt\n",
    "import seaborn as sns"
   ]
  },
  {
   "cell_type": "code",
   "execution_count": 2,
   "metadata": {
    "colab": {},
    "colab_type": "code",
    "id": "UyneKxIlbe2M"
   },
   "outputs": [],
   "source": [
    "# La siguiente línea es para ver las imagenes dentro del notebook\n",
    "%matplotlib inline\n",
    "# Acá configuramos el tamaño de las figuras\n",
    "plt.rcParams['figure.figsize'] = (12,8)\n",
    "# Seteamos opciones de pandas sobre las columnas y su ancho\n",
    "pd.set_option('max_columns', 120)\n",
    "pd.set_option('max_colwidth', 5000)\n"
   ]
  },
  {
   "cell_type": "markdown",
   "metadata": {
    "colab_type": "text",
    "id": "yUxKAOpcbe2P"
   },
   "source": [
    "## Cargando dataset de propiedades\n",
    "\n",
    "**2) Cargá** el dataset que se encuentra en la carpeta *dataset/* y guardalo en una variable llamada **df**. \n",
    "No te olvides de utilizar **parse_dates** sobre la columna **created_on**\n"
   ]
  },
  {
   "cell_type": "code",
   "execution_count": 3,
   "metadata": {
    "colab": {},
    "colab_type": "code",
    "id": "ILUE_-Zrbe2Q"
   },
   "outputs": [],
   "source": [
    "# cargá el dataset en esta celda\n",
    "df = pd.read_csv('dataset/datos_properati.csv', parse_dates=['created_on'])"
   ]
  },
  {
   "cell_type": "markdown",
   "metadata": {
    "colab_type": "text",
    "id": "F0gAy_HQbe2U"
   },
   "source": [
    "## Exploración de datos"
   ]
  },
  {
   "cell_type": "markdown",
   "metadata": {
    "colab_type": "text",
    "id": "uaY8cs1Gbe2V"
   },
   "source": [
    "Lo primero que vamos a hacer es ver qué forma tiene el dataset que acabamos de cargar. Para eso vamos a mostrar las primeras 3 entradas del mismo y utilizar la propiedad `shape` para ver la cantidad de instancias y atributos con los que vamos a estar trabajando."
   ]
  },
  {
   "cell_type": "code",
   "execution_count": 4,
   "metadata": {
    "colab": {
     "base_uri": "https://localhost:8080/",
     "height": 298
    },
    "colab_type": "code",
    "executionInfo": {
     "elapsed": 839,
     "status": "ok",
     "timestamp": 1541079178370,
     "user": {
      "displayName": "Rodrigo Andrés Crespillo",
      "photoUrl": "https://lh3.googleusercontent.com/--MWoTAhcX3k/AAAAAAAAAAI/AAAAAAAAE7U/kDxhjjGEgp8/s64/photo.jpg",
      "userId": "12484712302524035905"
     },
     "user_tz": 180
    },
    "id": "QphZ07brbe2W",
    "outputId": "1dfb39fd-a6ee-49e5-88ed-c746fceb9430"
   },
   "outputs": [
    {
     "name": "stdout",
     "output_type": "stream",
     "text": [
      "(18979, 17)\n"
     ]
    },
    {
     "data": {
      "text/html": [
       "<div>\n",
       "<style scoped>\n",
       "    .dataframe tbody tr th:only-of-type {\n",
       "        vertical-align: middle;\n",
       "    }\n",
       "\n",
       "    .dataframe tbody tr th {\n",
       "        vertical-align: top;\n",
       "    }\n",
       "\n",
       "    .dataframe thead th {\n",
       "        text-align: right;\n",
       "    }\n",
       "</style>\n",
       "<table border=\"1\" class=\"dataframe\">\n",
       "  <thead>\n",
       "    <tr style=\"text-align: right;\">\n",
       "      <th></th>\n",
       "      <th>created_on</th>\n",
       "      <th>operation</th>\n",
       "      <th>property_type</th>\n",
       "      <th>place_with_parent_names</th>\n",
       "      <th>lat-lon</th>\n",
       "      <th>lat</th>\n",
       "      <th>lon</th>\n",
       "      <th>price_aprox_usd</th>\n",
       "      <th>surface_total_in_m2</th>\n",
       "      <th>surface_covered_in_m2</th>\n",
       "      <th>price_usd_per_m2</th>\n",
       "      <th>floor</th>\n",
       "      <th>rooms</th>\n",
       "      <th>expenses</th>\n",
       "      <th>properati_url</th>\n",
       "      <th>barrio</th>\n",
       "      <th>comuna</th>\n",
       "    </tr>\n",
       "  </thead>\n",
       "  <tbody>\n",
       "    <tr>\n",
       "      <th>0</th>\n",
       "      <td>2017-09-22</td>\n",
       "      <td>sell</td>\n",
       "      <td>house</td>\n",
       "      <td>|Argentina|Capital Federal|Palermo|Palermo Viejo|</td>\n",
       "      <td>-34.5889531469,-58.4298817776</td>\n",
       "      <td>-34.588953</td>\n",
       "      <td>-58.429882</td>\n",
       "      <td>2000000.0</td>\n",
       "      <td>312.0</td>\n",
       "      <td>NaN</td>\n",
       "      <td>6410.25641</td>\n",
       "      <td>NaN</td>\n",
       "      <td>NaN</td>\n",
       "      <td>NaN</td>\n",
       "      <td>https://www.properati.com.ar/2os_venta_casa_palermo-viejo_rent-ba</td>\n",
       "      <td>PALERMO</td>\n",
       "      <td>14.0</td>\n",
       "    </tr>\n",
       "    <tr>\n",
       "      <th>1</th>\n",
       "      <td>2017-08-01</td>\n",
       "      <td>sell</td>\n",
       "      <td>store</td>\n",
       "      <td>|Argentina|Capital Federal|Palermo|</td>\n",
       "      <td>-34.586069,-58.414431</td>\n",
       "      <td>-34.586069</td>\n",
       "      <td>-58.414431</td>\n",
       "      <td>790000.0</td>\n",
       "      <td>121.0</td>\n",
       "      <td>121.0</td>\n",
       "      <td>6528.92562</td>\n",
       "      <td>NaN</td>\n",
       "      <td>NaN</td>\n",
       "      <td>NaN</td>\n",
       "      <td>https://www.properati.com.ar/1cl7l_venta_local_palermo_santa-fe-av-al-3500_sotano_garage_subte-linea-d_deptos-temporarios</td>\n",
       "      <td>PALERMO</td>\n",
       "      <td>14.0</td>\n",
       "    </tr>\n",
       "    <tr>\n",
       "      <th>2</th>\n",
       "      <td>2017-08-02</td>\n",
       "      <td>sell</td>\n",
       "      <td>store</td>\n",
       "      <td>|Argentina|Capital Federal|Palermo|Palermo Soho|</td>\n",
       "      <td>-34.589723,-58.4325664</td>\n",
       "      <td>-34.589723</td>\n",
       "      <td>-58.432566</td>\n",
       "      <td>343000.0</td>\n",
       "      <td>122.0</td>\n",
       "      <td>108.0</td>\n",
       "      <td>2811.47541</td>\n",
       "      <td>NaN</td>\n",
       "      <td>2.0</td>\n",
       "      <td>NaN</td>\n",
       "      <td>https://www.properati.com.ar/1cm8w_venta_local_palermo-soho_cabrera-jose-a-_5000_jardin_lavadero_patio_piscina_toilette_garage_ojo-propiedades</td>\n",
       "      <td>PALERMO</td>\n",
       "      <td>14.0</td>\n",
       "    </tr>\n",
       "  </tbody>\n",
       "</table>\n",
       "</div>"
      ],
      "text/plain": [
       "  created_on operation property_type  \\\n",
       "0 2017-09-22      sell         house   \n",
       "1 2017-08-01      sell         store   \n",
       "2 2017-08-02      sell         store   \n",
       "\n",
       "                             place_with_parent_names  \\\n",
       "0  |Argentina|Capital Federal|Palermo|Palermo Viejo|   \n",
       "1                |Argentina|Capital Federal|Palermo|   \n",
       "2   |Argentina|Capital Federal|Palermo|Palermo Soho|   \n",
       "\n",
       "                         lat-lon        lat        lon  price_aprox_usd  \\\n",
       "0  -34.5889531469,-58.4298817776 -34.588953 -58.429882        2000000.0   \n",
       "1          -34.586069,-58.414431 -34.586069 -58.414431         790000.0   \n",
       "2         -34.589723,-58.4325664 -34.589723 -58.432566         343000.0   \n",
       "\n",
       "   surface_total_in_m2  surface_covered_in_m2  price_usd_per_m2  floor  rooms  \\\n",
       "0                312.0                    NaN        6410.25641    NaN    NaN   \n",
       "1                121.0                  121.0        6528.92562    NaN    NaN   \n",
       "2                122.0                  108.0        2811.47541    NaN    2.0   \n",
       "\n",
       "   expenses  \\\n",
       "0       NaN   \n",
       "1       NaN   \n",
       "2       NaN   \n",
       "\n",
       "                                                                                                                                    properati_url  \\\n",
       "0                                                                               https://www.properati.com.ar/2os_venta_casa_palermo-viejo_rent-ba   \n",
       "1                       https://www.properati.com.ar/1cl7l_venta_local_palermo_santa-fe-av-al-3500_sotano_garage_subte-linea-d_deptos-temporarios   \n",
       "2  https://www.properati.com.ar/1cm8w_venta_local_palermo-soho_cabrera-jose-a-_5000_jardin_lavadero_patio_piscina_toilette_garage_ojo-propiedades   \n",
       "\n",
       "    barrio  comuna  \n",
       "0  PALERMO    14.0  \n",
       "1  PALERMO    14.0  \n",
       "2  PALERMO    14.0  "
      ]
     },
     "execution_count": 4,
     "metadata": {},
     "output_type": "execute_result"
    }
   ],
   "source": [
    "print(df.shape)\n",
    "df.head(3)"
   ]
  },
  {
   "cell_type": "markdown",
   "metadata": {
    "colab_type": "text",
    "id": "7FND71NHbe2Z"
   },
   "source": [
    "## Categorías de propiedades\n",
    "En primer lugar vamos a ver qué categorías existen en el campo `property_type`. Y de esas categorías cuantos valores tenemos de cada uno.\n",
    "\n",
    "**3) Mostrá** las categorías de `property_type` y cuántas instancias hay de cada una.\n",
    "\n",
    "Recordá utilizar funciones del **dataframe** de pandas para realizar esto."
   ]
  },
  {
   "cell_type": "code",
   "execution_count": 5,
   "metadata": {
    "colab": {
     "base_uri": "https://localhost:8080/",
     "height": 102
    },
    "colab_type": "code",
    "executionInfo": {
     "elapsed": 825,
     "status": "ok",
     "timestamp": 1541079179352,
     "user": {
      "displayName": "Rodrigo Andrés Crespillo",
      "photoUrl": "https://lh3.googleusercontent.com/--MWoTAhcX3k/AAAAAAAAAAI/AAAAAAAAE7U/kDxhjjGEgp8/s64/photo.jpg",
      "userId": "12484712302524035905"
     },
     "user_tz": 180
    },
    "id": "hk3hCnNObe2a",
    "outputId": "5b2872d2-7dfe-4058-d06e-9d7613593d6c"
   },
   "outputs": [
    {
     "data": {
      "text/plain": [
       "apartment    14807\n",
       "house         1618\n",
       "PH            1463\n",
       "store         1091\n",
       "Name: property_type, dtype: int64"
      ]
     },
     "execution_count": 5,
     "metadata": {},
     "output_type": "execute_result"
    }
   ],
   "source": [
    "# mostrá las categorías del campo property_type y mostrá la cant. de valores en esta celda\n",
    "df['property_type'].value_counts()\n"
   ]
  },
  {
   "cell_type": "markdown",
   "metadata": {
    "colab_type": "text",
    "id": "9hzBshW0be2e"
   },
   "source": [
    "### Filtrando las categorías\n",
    "\n",
    "De las categorías existentes sólo queremos quedarnos con las que sean casas (house), departamentos (apartment) o PH (PH). \n",
    "\n",
    "Para esto, \n",
    "\n",
    "**4) filtrá** el `dataframe` original creando un **nuevo** `dataframe` llamado `df_filtered`. Este es el `dataframe` que seguirás usando a lo largo del análisis.\n"
   ]
  },
  {
   "cell_type": "code",
   "execution_count": 6,
   "metadata": {
    "colab": {
     "base_uri": "https://localhost:8080/",
     "height": 34
    },
    "colab_type": "code",
    "executionInfo": {
     "elapsed": 843,
     "status": "ok",
     "timestamp": 1541079180338,
     "user": {
      "displayName": "Rodrigo Andrés Crespillo",
      "photoUrl": "https://lh3.googleusercontent.com/--MWoTAhcX3k/AAAAAAAAAAI/AAAAAAAAE7U/kDxhjjGEgp8/s64/photo.jpg",
      "userId": "12484712302524035905"
     },
     "user_tz": 180
    },
    "id": "sOdnll-Vbe2f",
    "outputId": "8e3e6612-3cd4-485f-9b53-ad329efde712"
   },
   "outputs": [
    {
     "data": {
      "text/plain": [
       "(17888, 17)"
      ]
     },
     "execution_count": 6,
     "metadata": {},
     "output_type": "execute_result"
    }
   ],
   "source": [
    "# Filtrá el dataframe en esta celda\n",
    "def isHoseApartmentPH(property):\n",
    "  return ((property == 'house') |\n",
    "          (property == 'apartment') | \n",
    "          (property == 'PH'))\n",
    "\n",
    "df_filtered = df[isHoseApartmentPH(df['property_type'])]\n",
    "df_filtered.shape"
   ]
  },
  {
   "cell_type": "markdown",
   "metadata": {
    "colab_type": "text",
    "id": "ZOA_rn_abe2j"
   },
   "source": [
    "### Visualizando las categorías\n",
    "**5)** Utilizando `seaborn` **creá un countplot** para visualizar las categorías de `df_filtered` en el campo `property_type` "
   ]
  },
  {
   "cell_type": "code",
   "execution_count": 7,
   "metadata": {
    "colab": {
     "base_uri": "https://localhost:8080/",
     "height": 531
    },
    "colab_type": "code",
    "executionInfo": {
     "elapsed": 1354,
     "status": "ok",
     "timestamp": 1541079181837,
     "user": {
      "displayName": "Rodrigo Andrés Crespillo",
      "photoUrl": "https://lh3.googleusercontent.com/--MWoTAhcX3k/AAAAAAAAAAI/AAAAAAAAE7U/kDxhjjGEgp8/s64/photo.jpg",
      "userId": "12484712302524035905"
     },
     "user_tz": 180
    },
    "id": "xOgMVdBibe2l",
    "outputId": "84db7365-3bd1-4b43-8a6a-118f25b1d6fe"
   },
   "outputs": [
    {
     "data": {
      "image/png": "[encoded data removed]",
      "text/plain": [
       "<Figure size 864x576 with 1 Axes>"
      ]
     },
     "metadata": {
      "needs_background": "light"
     },
     "output_type": "display_data"
    }
   ],
   "source": [
    "# Visualizá las categorías en esta celda\n",
    "sns.countplot(x='property_type', data=df_filtered);"
   ]
  },
  {
   "cell_type": "markdown",
   "metadata": {
    "colab_type": "text",
    "id": "znc0qVZ4be2o"
   },
   "source": [
    "## Valores Faltantes"
   ]
  },
  {
   "cell_type": "markdown",
   "metadata": {
    "colab_type": "text",
    "id": "imzPflWhbe2p"
   },
   "source": [
    "Vamos a querer descartar aquellas instancias que tengan valores nulos en columnas importantes para el análisis del mercado.\n",
    "Estas columnas son las que informan **superficie (total o cubierta)**, **cantidad de ambientes**, **precio** y **precio por metro cuadrado**.\n",
    "\n",
    "**6) Quitá** del `dataframe` las instancias que no tengan ningún valor en los campos nombrados."
   ]
  },
  {
   "cell_type": "code",
   "execution_count": 8,
   "metadata": {
    "colab": {},
    "colab_type": "code",
    "id": "UC3Dq13ybe2p"
   },
   "outputs": [],
   "source": [
    "# Quitá las instancias con valores nules en esta celda\n",
    "initial_shape = df_filtered.shape\n",
    "df_filtered = df_filtered.dropna(how='all',\n",
    "                   subset=['surface_total_in_m2',\n",
    "                           'surface_covered_in_m2',\n",
    "                           'rooms',\n",
    "                           'price_aprox_usd',\n",
    "                           'price_usd_per_m2'])\n",
    "end_shape = df_filtered.shape"
   ]
  },
  {
   "cell_type": "markdown",
   "metadata": {
    "colab_type": "text",
    "id": "Pea-DtnObe2t"
   },
   "source": [
    "**7)** A continuación **mostrá** cuantas instancias son las que descartaste a partir de quitar las que tenían valores nulos."
   ]
  },
  {
   "cell_type": "code",
   "execution_count": 9,
   "metadata": {
    "colab": {
     "base_uri": "https://localhost:8080/",
     "height": 34
    },
    "colab_type": "code",
    "executionInfo": {
     "elapsed": 771,
     "status": "ok",
     "timestamp": 1541079183885,
     "user": {
      "displayName": "Rodrigo Andrés Crespillo",
      "photoUrl": "https://lh3.googleusercontent.com/--MWoTAhcX3k/AAAAAAAAAAI/AAAAAAAAE7U/kDxhjjGEgp8/s64/photo.jpg",
      "userId": "12484712302524035905"
     },
     "user_tz": 180
    },
    "id": "F1eCTcEDbe2u",
    "outputId": "cb7007aa-d649-4f3a-aa59-c3c1799537e0"
   },
   "outputs": [
    {
     "name": "stdout",
     "output_type": "stream",
     "text": [
      "Cantidad de instancias descartadas: 802\n"
     ]
    }
   ],
   "source": [
    "# Mostrá en esta celda la cantidad de instancias descartadas\n",
    "print(\"Cantidad de instancias descartadas: {}\".format(initial_shape[0] - end_shape[0])) "
   ]
  },
  {
   "cell_type": "markdown",
   "metadata": {
    "colab_type": "text",
    "id": "D-CcSbl4be2z"
   },
   "source": [
    "Posiblemente existan otros atributos con valores faltantes en el dataset, pero que no son de tanta importancia. \n",
    "\n",
    "**8) Mostrá** qué otros atributos tienen valores faltantes en el `dataframe`."
   ]
  },
  {
   "cell_type": "code",
   "execution_count": 10,
   "metadata": {
    "colab": {
     "base_uri": "https://localhost:8080/",
     "height": 323
    },
    "colab_type": "code",
    "executionInfo": {
     "elapsed": 795,
     "status": "ok",
     "timestamp": 1541079184878,
     "user": {
      "displayName": "Rodrigo Andrés Crespillo",
      "photoUrl": "https://lh3.googleusercontent.com/--MWoTAhcX3k/AAAAAAAAAAI/AAAAAAAAE7U/kDxhjjGEgp8/s64/photo.jpg",
      "userId": "12484712302524035905"
     },
     "user_tz": 180
    },
    "id": "2H3E6I3ybe21",
    "outputId": "f6f0791d-1433-4524-d275-fb2874fba657"
   },
   "outputs": [
    {
     "data": {
      "text/plain": [
       "created_on                 False\n",
       "operation                  False\n",
       "property_type              False\n",
       "place_with_parent_names    False\n",
       "lat-lon                    False\n",
       "lat                        False\n",
       "lon                        False\n",
       "price_aprox_usd             True\n",
       "surface_total_in_m2         True\n",
       "surface_covered_in_m2       True\n",
       "price_usd_per_m2            True\n",
       "floor                       True\n",
       "rooms                       True\n",
       "expenses                    True\n",
       "properati_url              False\n",
       "barrio                     False\n",
       "comuna                     False\n",
       "dtype: bool"
      ]
     },
     "execution_count": 10,
     "metadata": {},
     "output_type": "execute_result"
    }
   ],
   "source": [
    "# Mostrá en esta celda los otros atributos con valores faltantes\n",
    "df_filtered.isna().any()"
   ]
  },
  {
   "cell_type": "markdown",
   "metadata": {
    "colab_type": "text",
    "id": "BF9jMDwxbe25"
   },
   "source": [
    "#### Desafío: planteá alguna estrategia posible para reemplazar los valores faltantes en el atributo `surface_total_in_m2`."
   ]
  },
  {
   "cell_type": "markdown",
   "metadata": {
    "colab_type": "text",
    "id": "UZ2-9bOcE-Rk"
   },
   "source": [
    "Copletarlos con el valor medio de los inmuebles que tengan el mismo tipo de inmueble y pertenescan al mismo barrio"
   ]
  },
  {
   "cell_type": "code",
   "execution_count": 11,
   "metadata": {
    "colab": {
     "base_uri": "https://localhost:8080/",
     "height": 323
    },
    "colab_type": "code",
    "executionInfo": {
     "elapsed": 1284,
     "status": "ok",
     "timestamp": 1541079186319,
     "user": {
      "displayName": "Rodrigo Andrés Crespillo",
      "photoUrl": "https://lh3.googleusercontent.com/--MWoTAhcX3k/AAAAAAAAAAI/AAAAAAAAE7U/kDxhjjGEgp8/s64/photo.jpg",
      "userId": "12484712302524035905"
     },
     "user_tz": 180
    },
    "id": "vFgSpg_02u-b",
    "outputId": "4a708644-77bd-4ec2-c3ec-31e1619ad500"
   },
   "outputs": [
    {
     "data": {
      "text/plain": [
       "created_on                 False\n",
       "operation                  False\n",
       "property_type              False\n",
       "place_with_parent_names    False\n",
       "lat-lon                    False\n",
       "lat                        False\n",
       "lon                        False\n",
       "price_aprox_usd             True\n",
       "surface_total_in_m2        False\n",
       "surface_covered_in_m2       True\n",
       "price_usd_per_m2            True\n",
       "floor                       True\n",
       "rooms                       True\n",
       "expenses                    True\n",
       "properati_url              False\n",
       "barrio                     False\n",
       "comuna                     False\n",
       "dtype: bool"
      ]
     },
     "execution_count": 11,
     "metadata": {},
     "output_type": "execute_result"
    }
   ],
   "source": [
    "df_filtered['surface_total_in_m2'] = df_filtered['surface_total_in_m2'].fillna(\n",
    "    df_filtered.groupby([\n",
    "        \"barrio\", \n",
    "        \"property_type\"\n",
    "    ])[\"surface_total_in_m2\"].transform(\"median\"))\n",
    "df_filtered.isna().any()"
   ]
  },
  {
   "cell_type": "markdown",
   "metadata": {
    "colab_type": "text",
    "id": "XyYYU3xj5SnZ"
   },
   "source": [
    "Ya que completamos esto datos tambien completaremos el balor de rooms ya que lo necesitaremos para graficar mas adelante"
   ]
  },
  {
   "cell_type": "code",
   "execution_count": 12,
   "metadata": {
    "colab": {
     "base_uri": "https://localhost:8080/",
     "height": 34
    },
    "colab_type": "code",
    "executionInfo": {
     "elapsed": 817,
     "status": "ok",
     "timestamp": 1541079187305,
     "user": {
      "displayName": "Rodrigo Andrés Crespillo",
      "photoUrl": "https://lh3.googleusercontent.com/--MWoTAhcX3k/AAAAAAAAAAI/AAAAAAAAE7U/kDxhjjGEgp8/s64/photo.jpg",
      "userId": "12484712302524035905"
     },
     "user_tz": 180
    },
    "id": "AAe9bJGzXbU8",
    "outputId": "f790c6dd-bf4b-4482-dee0-19c1ad4961e4"
   },
   "outputs": [
    {
     "data": {
      "text/plain": [
       "1118"
      ]
     },
     "execution_count": 12,
     "metadata": {},
     "output_type": "execute_result"
    }
   ],
   "source": [
    "df_filtered['surface_covered_in_m2'].isna().sum()"
   ]
  },
  {
   "cell_type": "code",
   "execution_count": 13,
   "metadata": {
    "colab": {
     "base_uri": "https://localhost:8080/",
     "height": 323
    },
    "colab_type": "code",
    "executionInfo": {
     "elapsed": 826,
     "status": "ok",
     "timestamp": 1541079188284,
     "user": {
      "displayName": "Rodrigo Andrés Crespillo",
      "photoUrl": "https://lh3.googleusercontent.com/--MWoTAhcX3k/AAAAAAAAAAI/AAAAAAAAE7U/kDxhjjGEgp8/s64/photo.jpg",
      "userId": "12484712302524035905"
     },
     "user_tz": 180
    },
    "id": "nSAX8weCXbU_",
    "outputId": "76e3e5ea-f848-4672-d14d-6259878ae625"
   },
   "outputs": [
    {
     "data": {
      "text/plain": [
       "created_on                 False\n",
       "operation                  False\n",
       "property_type              False\n",
       "place_with_parent_names    False\n",
       "lat-lon                    False\n",
       "lat                        False\n",
       "lon                        False\n",
       "price_aprox_usd             True\n",
       "surface_total_in_m2        False\n",
       "surface_covered_in_m2       True\n",
       "price_usd_per_m2            True\n",
       "floor                       True\n",
       "rooms                       True\n",
       "expenses                    True\n",
       "properati_url              False\n",
       "barrio                     False\n",
       "comuna                     False\n",
       "dtype: bool"
      ]
     },
     "execution_count": 13,
     "metadata": {},
     "output_type": "execute_result"
    }
   ],
   "source": [
    "df_filtered['surface_covered_in_m2'] = df_filtered['surface_covered_in_m2'].fillna(\n",
    "    df_filtered.groupby([\n",
    "        \"surface_total_in_m2\"\n",
    "    ])[\"surface_covered_in_m2\"].transform(\"mean\"))\n",
    "df_filtered.isna().any()"
   ]
  },
  {
   "cell_type": "code",
   "execution_count": 14,
   "metadata": {
    "colab": {
     "base_uri": "https://localhost:8080/",
     "height": 34
    },
    "colab_type": "code",
    "executionInfo": {
     "elapsed": 1045,
     "status": "ok",
     "timestamp": 1541079189492,
     "user": {
      "displayName": "Rodrigo Andrés Crespillo",
      "photoUrl": "https://lh3.googleusercontent.com/--MWoTAhcX3k/AAAAAAAAAAI/AAAAAAAAE7U/kDxhjjGEgp8/s64/photo.jpg",
      "userId": "12484712302524035905"
     },
     "user_tz": 180
    },
    "id": "reJ_2ZelXbVG",
    "outputId": "4b0a1c20-5a4c-40fe-a300-3b52fd09b6b0"
   },
   "outputs": [
    {
     "data": {
      "text/plain": [
       "21"
      ]
     },
     "execution_count": 14,
     "metadata": {},
     "output_type": "execute_result"
    }
   ],
   "source": [
    "df_filtered['surface_covered_in_m2'].isna().sum()"
   ]
  },
  {
   "cell_type": "code",
   "execution_count": 15,
   "metadata": {},
   "outputs": [],
   "source": [
    "df_filtered = df_filtered.dropna(subset=[\"surface_covered_in_m2\"])"
   ]
  },
  {
   "cell_type": "code",
   "execution_count": 16,
   "metadata": {
    "colab": {},
    "colab_type": "code",
    "id": "mHb8SOK5mjTC"
   },
   "outputs": [],
   "source": [
    "df_filtered['rooms'] = df_filtered['rooms'].fillna(\n",
    "    df_filtered.groupby([\n",
    "        \"barrio\", \n",
    "        \"property_type\"\n",
    "    ])[\"rooms\"].transform(\"median\"))"
   ]
  },
  {
   "cell_type": "code",
   "execution_count": 17,
   "metadata": {},
   "outputs": [
    {
     "data": {
      "text/html": [
       "<div>\n",
       "<style scoped>\n",
       "    .dataframe tbody tr th:only-of-type {\n",
       "        vertical-align: middle;\n",
       "    }\n",
       "\n",
       "    .dataframe tbody tr th {\n",
       "        vertical-align: top;\n",
       "    }\n",
       "\n",
       "    .dataframe thead th {\n",
       "        text-align: right;\n",
       "    }\n",
       "</style>\n",
       "<table border=\"1\" class=\"dataframe\">\n",
       "  <thead>\n",
       "    <tr style=\"text-align: right;\">\n",
       "      <th></th>\n",
       "      <th>created_on</th>\n",
       "      <th>operation</th>\n",
       "      <th>property_type</th>\n",
       "      <th>place_with_parent_names</th>\n",
       "      <th>lat-lon</th>\n",
       "      <th>lat</th>\n",
       "      <th>lon</th>\n",
       "      <th>price_aprox_usd</th>\n",
       "      <th>surface_total_in_m2</th>\n",
       "      <th>surface_covered_in_m2</th>\n",
       "      <th>price_usd_per_m2</th>\n",
       "      <th>floor</th>\n",
       "      <th>rooms</th>\n",
       "      <th>expenses</th>\n",
       "      <th>properati_url</th>\n",
       "      <th>barrio</th>\n",
       "      <th>comuna</th>\n",
       "    </tr>\n",
       "  </thead>\n",
       "  <tbody>\n",
       "    <tr>\n",
       "      <th>7004</th>\n",
       "      <td>2017-09-03</td>\n",
       "      <td>sell</td>\n",
       "      <td>house</td>\n",
       "      <td>|Argentina|Capital Federal|San Nicolás|</td>\n",
       "      <td>-34.608719,-58.389118</td>\n",
       "      <td>-34.608719</td>\n",
       "      <td>-58.389118</td>\n",
       "      <td>100000.0</td>\n",
       "      <td>324.5</td>\n",
       "      <td>200.000000</td>\n",
       "      <td>NaN</td>\n",
       "      <td>NaN</td>\n",
       "      <td>NaN</td>\n",
       "      <td>NaN</td>\n",
       "      <td>https://www.properati.com.ar/1ea4v_venta_casa_boedo_garage_subte-linea-b_subte-linea-a_antonini-propiedades_dcp</td>\n",
       "      <td>SAN NICOLAS</td>\n",
       "      <td>1.0</td>\n",
       "    </tr>\n",
       "    <tr>\n",
       "      <th>7052</th>\n",
       "      <td>2017-09-16</td>\n",
       "      <td>sell</td>\n",
       "      <td>house</td>\n",
       "      <td>|Argentina|Capital Federal|Palermo|</td>\n",
       "      <td>-34.6036844,-58.3815591</td>\n",
       "      <td>-34.603684</td>\n",
       "      <td>-58.381559</td>\n",
       "      <td>170000.0</td>\n",
       "      <td>324.5</td>\n",
       "      <td>200.000000</td>\n",
       "      <td>NaN</td>\n",
       "      <td>NaN</td>\n",
       "      <td>NaN</td>\n",
       "      <td>NaN</td>\n",
       "      <td>https://www.properati.com.ar/1ev4u_venta_casa_capital-federal_suite_piscina_toilette_vestidor_luminoso_tenis_apto-credito-hipotecario_martin-alonso</td>\n",
       "      <td>SAN NICOLAS</td>\n",
       "      <td>1.0</td>\n",
       "    </tr>\n",
       "    <tr>\n",
       "      <th>7124</th>\n",
       "      <td>2017-10-06</td>\n",
       "      <td>sell</td>\n",
       "      <td>house</td>\n",
       "      <td>|Argentina|Capital Federal|San Nicolás|</td>\n",
       "      <td>-34.6085393,-58.3892193</td>\n",
       "      <td>-34.608539</td>\n",
       "      <td>-58.389219</td>\n",
       "      <td>138000.0</td>\n",
       "      <td>324.5</td>\n",
       "      <td>200.000000</td>\n",
       "      <td>NaN</td>\n",
       "      <td>NaN</td>\n",
       "      <td>NaN</td>\n",
       "      <td>NaN</td>\n",
       "      <td>https://www.properati.com.ar/1fyf4_venta_casa_boedo_subte-linea-b_subte-linea-a_antonini-propiedades_dcp</td>\n",
       "      <td>SAN NICOLAS</td>\n",
       "      <td>1.0</td>\n",
       "    </tr>\n",
       "    <tr>\n",
       "      <th>7188</th>\n",
       "      <td>2017-10-17</td>\n",
       "      <td>sell</td>\n",
       "      <td>house</td>\n",
       "      <td>|Argentina|Capital Federal|Monserrat|</td>\n",
       "      <td>-34.5993255,-58.3768957</td>\n",
       "      <td>-34.599325</td>\n",
       "      <td>-58.376896</td>\n",
       "      <td>90000.0</td>\n",
       "      <td>307.0</td>\n",
       "      <td>110.000000</td>\n",
       "      <td>293.159609</td>\n",
       "      <td>NaN</td>\n",
       "      <td>NaN</td>\n",
       "      <td>NaN</td>\n",
       "      <td>https://www.properati.com.ar/1gm3l_venta_casa_san-nicolas_subte-linea-d_subte-linea-b_subte-linea-c_paissan-propiedades</td>\n",
       "      <td>SAN NICOLAS</td>\n",
       "      <td>1.0</td>\n",
       "    </tr>\n",
       "    <tr>\n",
       "      <th>7191</th>\n",
       "      <td>2017-10-17</td>\n",
       "      <td>sell</td>\n",
       "      <td>house</td>\n",
       "      <td>|Argentina|Capital Federal|Las Cañitas|</td>\n",
       "      <td>-34.6036844,-58.3815591</td>\n",
       "      <td>-34.603684</td>\n",
       "      <td>-58.381559</td>\n",
       "      <td>160000.0</td>\n",
       "      <td>53.0</td>\n",
       "      <td>53.000000</td>\n",
       "      <td>3018.867925</td>\n",
       "      <td>NaN</td>\n",
       "      <td>NaN</td>\n",
       "      <td>NaN</td>\n",
       "      <td>https://www.properati.com.ar/1gn5c_venta_casa_las-canitas_balcon_suite_garage_placard_subte-linea-d_subte-linea-b_subte-linea-a_subte-linea-c_realty-argentina-luxury-real-estate</td>\n",
       "      <td>SAN NICOLAS</td>\n",
       "      <td>1.0</td>\n",
       "    </tr>\n",
       "    <tr>\n",
       "      <th>7202</th>\n",
       "      <td>2017-10-17</td>\n",
       "      <td>sell</td>\n",
       "      <td>house</td>\n",
       "      <td>|Argentina|Capital Federal|Las Cañitas|</td>\n",
       "      <td>-34.6036844,-58.3815591</td>\n",
       "      <td>-34.603684</td>\n",
       "      <td>-58.381559</td>\n",
       "      <td>210000.0</td>\n",
       "      <td>67.0</td>\n",
       "      <td>59.525547</td>\n",
       "      <td>3134.328358</td>\n",
       "      <td>NaN</td>\n",
       "      <td>NaN</td>\n",
       "      <td>NaN</td>\n",
       "      <td>https://www.properati.com.ar/1gqnu_venta_casa_las-canitas_balcon_luminoso_subte-linea-d_subte-linea-b_subte-linea-a_subte-linea-c_pampa-propiedades</td>\n",
       "      <td>SAN NICOLAS</td>\n",
       "      <td>1.0</td>\n",
       "    </tr>\n",
       "    <tr>\n",
       "      <th>7206</th>\n",
       "      <td>2017-10-17</td>\n",
       "      <td>sell</td>\n",
       "      <td>house</td>\n",
       "      <td>|Argentina|Capital Federal|Palermo|Palermo Hollywood|</td>\n",
       "      <td>-34.6036844,-58.3815591</td>\n",
       "      <td>-34.603684</td>\n",
       "      <td>-58.381559</td>\n",
       "      <td>1250000.0</td>\n",
       "      <td>324.5</td>\n",
       "      <td>200.000000</td>\n",
       "      <td>NaN</td>\n",
       "      <td>NaN</td>\n",
       "      <td>NaN</td>\n",
       "      <td>NaN</td>\n",
       "      <td>https://www.properati.com.ar/1gs1m_venta_casa_palermo-hollywood_terraza_real-estate-center</td>\n",
       "      <td>SAN NICOLAS</td>\n",
       "      <td>1.0</td>\n",
       "    </tr>\n",
       "    <tr>\n",
       "      <th>7520</th>\n",
       "      <td>2018-01-19</td>\n",
       "      <td>sell</td>\n",
       "      <td>house</td>\n",
       "      <td>|Argentina|Capital Federal|Almagro|</td>\n",
       "      <td>-34.603771,-58.381587</td>\n",
       "      <td>-34.603771</td>\n",
       "      <td>-58.381587</td>\n",
       "      <td>450000.0</td>\n",
       "      <td>353.0</td>\n",
       "      <td>160.000000</td>\n",
       "      <td>1274.787535</td>\n",
       "      <td>NaN</td>\n",
       "      <td>NaN</td>\n",
       "      <td>NaN</td>\n",
       "      <td>https://www.properati.com.ar/1jqs1_venta_casa_almagro_lavadero_patio_terraza_subte-linea-d_subte-linea-b_subte-linea-a_subte-linea-c_migliorisi-propiedades_cy3</td>\n",
       "      <td>SAN NICOLAS</td>\n",
       "      <td>1.0</td>\n",
       "    </tr>\n",
       "    <tr>\n",
       "      <th>7550</th>\n",
       "      <td>2018-01-19</td>\n",
       "      <td>sell</td>\n",
       "      <td>house</td>\n",
       "      <td>|Argentina|Capital Federal|Almagro|</td>\n",
       "      <td>-34.603771,-58.381587</td>\n",
       "      <td>-34.603771</td>\n",
       "      <td>-58.381587</td>\n",
       "      <td>300000.0</td>\n",
       "      <td>342.0</td>\n",
       "      <td>142.000000</td>\n",
       "      <td>877.192982</td>\n",
       "      <td>NaN</td>\n",
       "      <td>NaN</td>\n",
       "      <td>NaN</td>\n",
       "      <td>https://www.properati.com.ar/1jsgz_venta_casa_almagro_parrilla_patio_sotano_luminoso_garage_subte-linea-d_subte-linea-b_subte-linea-a_subte-linea-c_migliorisi-propiedades_cy3</td>\n",
       "      <td>SAN NICOLAS</td>\n",
       "      <td>1.0</td>\n",
       "    </tr>\n",
       "    <tr>\n",
       "      <th>7611</th>\n",
       "      <td>2018-01-25</td>\n",
       "      <td>sell</td>\n",
       "      <td>house</td>\n",
       "      <td>|Argentina|Capital Federal|Caballito|</td>\n",
       "      <td>-34.603771,-58.381587</td>\n",
       "      <td>-34.603771</td>\n",
       "      <td>-58.381587</td>\n",
       "      <td>NaN</td>\n",
       "      <td>437.0</td>\n",
       "      <td>195.000000</td>\n",
       "      <td>NaN</td>\n",
       "      <td>NaN</td>\n",
       "      <td>NaN</td>\n",
       "      <td>NaN</td>\n",
       "      <td>https://www.properati.com.ar/1k3b7_venta_casa_caballito_subte-linea-d_subte-linea-b_subte-linea-a_subte-linea-c_migliorisi-propiedades_cy1</td>\n",
       "      <td>SAN NICOLAS</td>\n",
       "      <td>1.0</td>\n",
       "    </tr>\n",
       "    <tr>\n",
       "      <th>18967</th>\n",
       "      <td>2017-10-17</td>\n",
       "      <td>sell</td>\n",
       "      <td>PH</td>\n",
       "      <td>|Argentina|Capital Federal|Villa Soldati|</td>\n",
       "      <td>-34.6601955,-58.4489907</td>\n",
       "      <td>-34.660196</td>\n",
       "      <td>-58.448991</td>\n",
       "      <td>124000.0</td>\n",
       "      <td>160.0</td>\n",
       "      <td>120.000000</td>\n",
       "      <td>775.000000</td>\n",
       "      <td>NaN</td>\n",
       "      <td>NaN</td>\n",
       "      <td>NaN</td>\n",
       "      <td>https://www.properati.com.ar/1grdk_venta_ph_villa-soldati_gimnasio_lavadero_parrilla_quincho_terraza_toilette_luminoso_impecable_subte-premetro_mb-inmobiliaria-s-a</td>\n",
       "      <td>VILLA SOLDATI</td>\n",
       "      <td>8.0</td>\n",
       "    </tr>\n",
       "  </tbody>\n",
       "</table>\n",
       "</div>"
      ],
      "text/plain": [
       "      created_on operation property_type  \\\n",
       "7004  2017-09-03      sell         house   \n",
       "7052  2017-09-16      sell         house   \n",
       "7124  2017-10-06      sell         house   \n",
       "7188  2017-10-17      sell         house   \n",
       "7191  2017-10-17      sell         house   \n",
       "7202  2017-10-17      sell         house   \n",
       "7206  2017-10-17      sell         house   \n",
       "7520  2018-01-19      sell         house   \n",
       "7550  2018-01-19      sell         house   \n",
       "7611  2018-01-25      sell         house   \n",
       "18967 2017-10-17      sell            PH   \n",
       "\n",
       "                                     place_with_parent_names  \\\n",
       "7004                 |Argentina|Capital Federal|San Nicolás|   \n",
       "7052                     |Argentina|Capital Federal|Palermo|   \n",
       "7124                 |Argentina|Capital Federal|San Nicolás|   \n",
       "7188                   |Argentina|Capital Federal|Monserrat|   \n",
       "7191                 |Argentina|Capital Federal|Las Cañitas|   \n",
       "7202                 |Argentina|Capital Federal|Las Cañitas|   \n",
       "7206   |Argentina|Capital Federal|Palermo|Palermo Hollywood|   \n",
       "7520                     |Argentina|Capital Federal|Almagro|   \n",
       "7550                     |Argentina|Capital Federal|Almagro|   \n",
       "7611                   |Argentina|Capital Federal|Caballito|   \n",
       "18967              |Argentina|Capital Federal|Villa Soldati|   \n",
       "\n",
       "                       lat-lon        lat        lon  price_aprox_usd  \\\n",
       "7004     -34.608719,-58.389118 -34.608719 -58.389118         100000.0   \n",
       "7052   -34.6036844,-58.3815591 -34.603684 -58.381559         170000.0   \n",
       "7124   -34.6085393,-58.3892193 -34.608539 -58.389219         138000.0   \n",
       "7188   -34.5993255,-58.3768957 -34.599325 -58.376896          90000.0   \n",
       "7191   -34.6036844,-58.3815591 -34.603684 -58.381559         160000.0   \n",
       "7202   -34.6036844,-58.3815591 -34.603684 -58.381559         210000.0   \n",
       "7206   -34.6036844,-58.3815591 -34.603684 -58.381559        1250000.0   \n",
       "7520     -34.603771,-58.381587 -34.603771 -58.381587         450000.0   \n",
       "7550     -34.603771,-58.381587 -34.603771 -58.381587         300000.0   \n",
       "7611     -34.603771,-58.381587 -34.603771 -58.381587              NaN   \n",
       "18967  -34.6601955,-58.4489907 -34.660196 -58.448991         124000.0   \n",
       "\n",
       "       surface_total_in_m2  surface_covered_in_m2  price_usd_per_m2  floor  \\\n",
       "7004                 324.5             200.000000               NaN    NaN   \n",
       "7052                 324.5             200.000000               NaN    NaN   \n",
       "7124                 324.5             200.000000               NaN    NaN   \n",
       "7188                 307.0             110.000000        293.159609    NaN   \n",
       "7191                  53.0              53.000000       3018.867925    NaN   \n",
       "7202                  67.0              59.525547       3134.328358    NaN   \n",
       "7206                 324.5             200.000000               NaN    NaN   \n",
       "7520                 353.0             160.000000       1274.787535    NaN   \n",
       "7550                 342.0             142.000000        877.192982    NaN   \n",
       "7611                 437.0             195.000000               NaN    NaN   \n",
       "18967                160.0             120.000000        775.000000    NaN   \n",
       "\n",
       "       rooms  expenses  \\\n",
       "7004     NaN       NaN   \n",
       "7052     NaN       NaN   \n",
       "7124     NaN       NaN   \n",
       "7188     NaN       NaN   \n",
       "7191     NaN       NaN   \n",
       "7202     NaN       NaN   \n",
       "7206     NaN       NaN   \n",
       "7520     NaN       NaN   \n",
       "7550     NaN       NaN   \n",
       "7611     NaN       NaN   \n",
       "18967    NaN       NaN   \n",
       "\n",
       "                                                                                                                                                                           properati_url  \\\n",
       "7004                                                                     https://www.properati.com.ar/1ea4v_venta_casa_boedo_garage_subte-linea-b_subte-linea-a_antonini-propiedades_dcp   \n",
       "7052                                 https://www.properati.com.ar/1ev4u_venta_casa_capital-federal_suite_piscina_toilette_vestidor_luminoso_tenis_apto-credito-hipotecario_martin-alonso   \n",
       "7124                                                                            https://www.properati.com.ar/1fyf4_venta_casa_boedo_subte-linea-b_subte-linea-a_antonini-propiedades_dcp   \n",
       "7188                                                             https://www.properati.com.ar/1gm3l_venta_casa_san-nicolas_subte-linea-d_subte-linea-b_subte-linea-c_paissan-propiedades   \n",
       "7191   https://www.properati.com.ar/1gn5c_venta_casa_las-canitas_balcon_suite_garage_placard_subte-linea-d_subte-linea-b_subte-linea-a_subte-linea-c_realty-argentina-luxury-real-estate   \n",
       "7202                                 https://www.properati.com.ar/1gqnu_venta_casa_las-canitas_balcon_luminoso_subte-linea-d_subte-linea-b_subte-linea-a_subte-linea-c_pampa-propiedades   \n",
       "7206                                                                                          https://www.properati.com.ar/1gs1m_venta_casa_palermo-hollywood_terraza_real-estate-center   \n",
       "7520                     https://www.properati.com.ar/1jqs1_venta_casa_almagro_lavadero_patio_terraza_subte-linea-d_subte-linea-b_subte-linea-a_subte-linea-c_migliorisi-propiedades_cy3   \n",
       "7550      https://www.properati.com.ar/1jsgz_venta_casa_almagro_parrilla_patio_sotano_luminoso_garage_subte-linea-d_subte-linea-b_subte-linea-a_subte-linea-c_migliorisi-propiedades_cy3   \n",
       "7611                                          https://www.properati.com.ar/1k3b7_venta_casa_caballito_subte-linea-d_subte-linea-b_subte-linea-a_subte-linea-c_migliorisi-propiedades_cy1   \n",
       "18967                https://www.properati.com.ar/1grdk_venta_ph_villa-soldati_gimnasio_lavadero_parrilla_quincho_terraza_toilette_luminoso_impecable_subte-premetro_mb-inmobiliaria-s-a   \n",
       "\n",
       "              barrio  comuna  \n",
       "7004     SAN NICOLAS     1.0  \n",
       "7052     SAN NICOLAS     1.0  \n",
       "7124     SAN NICOLAS     1.0  \n",
       "7188     SAN NICOLAS     1.0  \n",
       "7191     SAN NICOLAS     1.0  \n",
       "7202     SAN NICOLAS     1.0  \n",
       "7206     SAN NICOLAS     1.0  \n",
       "7520     SAN NICOLAS     1.0  \n",
       "7550     SAN NICOLAS     1.0  \n",
       "7611     SAN NICOLAS     1.0  \n",
       "18967  VILLA SOLDATI     8.0  "
      ]
     },
     "execution_count": 17,
     "metadata": {},
     "output_type": "execute_result"
    }
   ],
   "source": [
    "df_filtered[df_filtered['rooms'].isna()]"
   ]
  },
  {
   "cell_type": "code",
   "execution_count": 18,
   "metadata": {},
   "outputs": [],
   "source": [
    "df_filtered = df_filtered.dropna(subset=[\"rooms\"])"
   ]
  },
  {
   "cell_type": "code",
   "execution_count": 19,
   "metadata": {
    "colab": {
     "base_uri": "https://localhost:8080/",
     "height": 323
    },
    "colab_type": "code",
    "executionInfo": {
     "elapsed": 828,
     "status": "ok",
     "timestamp": 1541079192738,
     "user": {
      "displayName": "Rodrigo Andrés Crespillo",
      "photoUrl": "https://lh3.googleusercontent.com/--MWoTAhcX3k/AAAAAAAAAAI/AAAAAAAAE7U/kDxhjjGEgp8/s64/photo.jpg",
      "userId": "12484712302524035905"
     },
     "user_tz": 180
    },
    "id": "jG1v9-kg6dR6",
    "outputId": "ce76e465-c104-4aa9-ca1b-931d2b0766c4"
   },
   "outputs": [
    {
     "data": {
      "text/plain": [
       "created_on                 False\n",
       "operation                  False\n",
       "property_type              False\n",
       "place_with_parent_names    False\n",
       "lat-lon                    False\n",
       "lat                        False\n",
       "lon                        False\n",
       "price_aprox_usd             True\n",
       "surface_total_in_m2        False\n",
       "surface_covered_in_m2      False\n",
       "price_usd_per_m2            True\n",
       "floor                       True\n",
       "rooms                      False\n",
       "expenses                    True\n",
       "properati_url              False\n",
       "barrio                     False\n",
       "comuna                     False\n",
       "dtype: bool"
      ]
     },
     "execution_count": 19,
     "metadata": {},
     "output_type": "execute_result"
    }
   ],
   "source": [
    " df_filtered.isna().any()"
   ]
  },
  {
   "cell_type": "code",
   "execution_count": 20,
   "metadata": {
    "colab": {
     "base_uri": "https://localhost:8080/",
     "height": 34
    },
    "colab_type": "code",
    "executionInfo": {
     "elapsed": 875,
     "status": "ok",
     "timestamp": 1541079193755,
     "user": {
      "displayName": "Rodrigo Andrés Crespillo",
      "photoUrl": "https://lh3.googleusercontent.com/--MWoTAhcX3k/AAAAAAAAAAI/AAAAAAAAE7U/kDxhjjGEgp8/s64/photo.jpg",
      "userId": "12484712302524035905"
     },
     "user_tz": 180
    },
    "id": "9txWT2rJ7UsV",
    "outputId": "e5d18951-5b89-445d-ed21-7607f2a48247"
   },
   "outputs": [
    {
     "data": {
      "text/plain": [
       "0"
      ]
     },
     "execution_count": 20,
     "metadata": {},
     "output_type": "execute_result"
    }
   ],
   "source": [
    "df_filtered['rooms'].isna().sum()"
   ]
  },
  {
   "cell_type": "markdown",
   "metadata": {
    "colab_type": "text",
    "id": "nKmhDISDXbVZ"
   },
   "source": [
    "Existen numeros valores en los decimales asi que decido redondearlos"
   ]
  },
  {
   "cell_type": "code",
   "execution_count": 21,
   "metadata": {
    "colab": {},
    "colab_type": "code",
    "id": "Cv6D321WXbVb"
   },
   "outputs": [],
   "source": [
    "df_filtered['rooms'] = df_filtered['rooms'].apply(lambda x: round(x))"
   ]
  },
  {
   "cell_type": "markdown",
   "metadata": {
    "colab_type": "text",
    "id": "2Ar4HTi6be26"
   },
   "source": [
    "## Datos erróneos"
   ]
  },
  {
   "cell_type": "markdown",
   "metadata": {
    "colab_type": "text",
    "id": "0u3rVTOtbe27"
   },
   "source": [
    "El siguiente paso es analizar errores que puede llegar a haber en el dataset. \n",
    "\n",
    "Por ejemplo, la **superficie total no puede ser menor que la cubierta**. Si esto sucede, podemos optar por eliminar esas filas o intentar corregir el problema. Veamos en primer lugar si esto sucede.\n",
    "\n",
    "**9) Mostrá** cuantas instancias existen que tengan el problema de este dato erróneo y guardalas en una variable llamada `wrong_surface_rows`"
   ]
  },
  {
   "cell_type": "code",
   "execution_count": 22,
   "metadata": {
    "colab": {},
    "colab_type": "code",
    "id": "L9OEG7KCbe28"
   },
   "outputs": [],
   "source": [
    "# Mostrá en esta celda cuántas instancias tienen errores en la superficie\n",
    "wrong_surface_rows = df_filtered[df_filtered['surface_covered_in_m2'] > df_filtered['surface_total_in_m2']]"
   ]
  },
  {
   "cell_type": "markdown",
   "metadata": {
    "colab_type": "text",
    "id": "ewxn3zNDbe2_"
   },
   "source": [
    "Proponemos no borrar estas instancias erróneas, sino intercambiar los valores de **superficie total** con **superficie cubierta** en caso de que se cumpla la condición mencionada."
   ]
  },
  {
   "cell_type": "code",
   "execution_count": 23,
   "metadata": {
    "colab": {},
    "colab_type": "code",
    "id": "6iXMScvKbe3A"
   },
   "outputs": [],
   "source": [
    "df_filtered.at[wrong_surface_rows.index, 'surface_total_in_m2'] = wrong_surface_rows.surface_covered_in_m2\n",
    "df_filtered.at[wrong_surface_rows.index, 'surface_covered_in_m2'] = wrong_surface_rows.surface_total_in_m2"
   ]
  },
  {
   "cell_type": "markdown",
   "metadata": {
    "colab_type": "text",
    "id": "IpfgUgxFbe3D"
   },
   "source": [
    "Por otro lado, sucede que las inmobiliarias cuando no cuentan con las coordenadas reales de las propiedades utilizan valores que no son correctos. Por ejemplo, el punto centro de cada barrio o puntos de interés como el Obelisco. Esto puede afectar el análisis relacionado con la ubicación de cada propiedad.\n",
    "\n",
    "Veamos en primer lugar si hay coordenadas que se repiten."
   ]
  },
  {
   "cell_type": "code",
   "execution_count": 24,
   "metadata": {
    "colab": {
     "base_uri": "https://localhost:8080/",
     "height": 221
    },
    "colab_type": "code",
    "executionInfo": {
     "elapsed": 847,
     "status": "ok",
     "timestamp": 1541079197745,
     "user": {
      "displayName": "Rodrigo Andrés Crespillo",
      "photoUrl": "https://lh3.googleusercontent.com/--MWoTAhcX3k/AAAAAAAAAAI/AAAAAAAAE7U/kDxhjjGEgp8/s64/photo.jpg",
      "userId": "12484712302524035905"
     },
     "user_tz": 180
    },
    "id": "7u8E2giRbe3E",
    "outputId": "89044b65-f333-4ef8-8b11-e483c82c6af8"
   },
   "outputs": [
    {
     "data": {
      "text/plain": [
       "lat         lon       \n",
       "-34.589546  -58.397364    154\n",
       "-34.571150  -58.423297    127\n",
       "-34.562084  -58.456686     87\n",
       "-34.620928  -58.445874     49\n",
       "-34.609821  -58.392606     44\n",
       "-34.622973  -58.439913     41\n",
       "-34.608608  -58.448515     40\n",
       "-34.617719  -58.362056     36\n",
       "-34.603771  -58.381587     33\n",
       "-34.610122  -58.405941     32\n",
       "dtype: int64"
      ]
     },
     "execution_count": 24,
     "metadata": {},
     "output_type": "execute_result"
    }
   ],
   "source": [
    "conteo_puntos = df_filtered.groupby(['lat', 'lon']).size()\n",
    "conteo_puntos[conteo_puntos > 1].sort_values(ascending=False).head(10)"
   ]
  },
  {
   "cell_type": "markdown",
   "metadata": {
    "colab_type": "text",
    "id": "rkRYGmqdbe3H"
   },
   "source": [
    "Por ejemplo, para el caso del tercer punto, se puede verificar que corresponde a la esquina de Av. Cabildo y Juramento.\n",
    "Nos quedamos entonces con las propiedades con coordenadas que se repitan hasta 5 veces."
   ]
  },
  {
   "cell_type": "code",
   "execution_count": 25,
   "metadata": {
    "colab": {},
    "colab_type": "code",
    "id": "pyxabWEUbe3I"
   },
   "outputs": [],
   "source": [
    "conteo_puntos.name = 'conteo'\n",
    "\n",
    "df_filtered = df_filtered.join(conteo_puntos, on=['lat', 'lon'])\n",
    "\n",
    "df_filtered = df_filtered[df_filtered.conteo <= 5]"
   ]
  },
  {
   "cell_type": "markdown",
   "metadata": {
    "colab_type": "text",
    "id": "AoD13QMTbe3M"
   },
   "source": [
    "Eliminamos el atributo `conteo` dado que ya no nos sirve."
   ]
  },
  {
   "cell_type": "code",
   "execution_count": 26,
   "metadata": {
    "colab": {},
    "colab_type": "code",
    "id": "6ggXtKY0be3N"
   },
   "outputs": [],
   "source": [
    "df_filtered.drop('conteo', inplace=True, axis=1)"
   ]
  },
  {
   "cell_type": "markdown",
   "metadata": {
    "colab_type": "text",
    "id": "O2Qc4emYbe3Q"
   },
   "source": [
    "## Estudiando los barrios"
   ]
  },
  {
   "cell_type": "markdown",
   "metadata": {
    "colab_type": "text",
    "id": "OCZYGSj9be3Q"
   },
   "source": [
    "### Barrios con más edificios y barrios con más casas\n",
    "Al saber qué barrios son los que tienen más cantidad de edificios en venta y cuáles son los que tienen más casas podemos darnos una idea de qué tipo de barrio es. Si es más residencial, con más población, poder adquisitivo, etc. \n",
    "Para eso vamos a empezar calculando los porcentajes de cada tipo de propiedad según el barrio."
   ]
  },
  {
   "cell_type": "code",
   "execution_count": 27,
   "metadata": {
    "colab": {},
    "colab_type": "code",
    "id": "VMExITACbe3S"
   },
   "outputs": [],
   "source": [
    "total_propiedades = df_filtered.groupby('barrio')['property_type'].count().values"
   ]
  },
  {
   "cell_type": "code",
   "execution_count": 28,
   "metadata": {
    "colab": {},
    "colab_type": "code",
    "id": "pTfZwQ-sbe3U"
   },
   "outputs": [],
   "source": [
    "porcentaje_casas_ph = df_filtered[df_filtered.property_type.isin(['PH', 'house'])].groupby('barrio').count().property_type/total_propiedades\n",
    "porcentaje_edificios = df_filtered[df_filtered.property_type == 'apartment'].groupby('barrio').count().property_type/total_propiedades"
   ]
  },
  {
   "cell_type": "code",
   "execution_count": 29,
   "metadata": {
    "colab": {
     "base_uri": "https://localhost:8080/",
     "height": 289
    },
    "colab_type": "code",
    "executionInfo": {
     "elapsed": 807,
     "status": "ok",
     "timestamp": 1541079203611,
     "user": {
      "displayName": "Rodrigo Andrés Crespillo",
      "photoUrl": "https://lh3.googleusercontent.com/--MWoTAhcX3k/AAAAAAAAAAI/AAAAAAAAE7U/kDxhjjGEgp8/s64/photo.jpg",
      "userId": "12484712302524035905"
     },
     "user_tz": 180
    },
    "id": "8r_YK9OQbe3W",
    "outputId": "6d1d39df-b117-43d4-800a-9886e1a1186d"
   },
   "outputs": [
    {
     "name": "stdout",
     "output_type": "stream",
     "text": [
      "Barrios con mayor porcentaje de edificios: \n",
      " barrio\n",
      "PUERTO MADERO    0.992453\n",
      "SAN NICOLAS      0.985075\n",
      "RETIRO           0.979675\n",
      "RECOLETA         0.971970\n",
      "BELGRANO         0.922340\n",
      "Name: property_type, dtype: float64\n",
      "Barrios con mayor porcentaje de casas y phs: \n",
      "  barrio\n",
      "VILLA RIACHUELO      0.739130\n",
      "VERSALLES            0.666667\n",
      "MATADEROS            0.613636\n",
      "PARQUE AVELLANEDA    0.608696\n",
      "VILLA REAL           0.574468\n",
      "Name: property_type, dtype: float64\n"
     ]
    }
   ],
   "source": [
    "print(\"Barrios con mayor porcentaje de edificios: \\n\", porcentaje_edificios.sort_values()[::-1][:5])\n",
    "print(\"Barrios con mayor porcentaje de casas y phs: \\n \", porcentaje_casas_ph.sort_values()[::-1][:5])"
   ]
  },
  {
   "cell_type": "markdown",
   "metadata": {
    "colab_type": "text",
    "id": "-WNBBtqvbe3a"
   },
   "source": [
    "Para darnos una idea de las diferencias entre los porcentajes de edificios y casas en estos barrios, vamos a graficarlos\n",
    "en forma de torta."
   ]
  },
  {
   "cell_type": "code",
   "execution_count": 30,
   "metadata": {
    "colab": {
     "base_uri": "https://localhost:8080/",
     "height": 428
    },
    "colab_type": "code",
    "executionInfo": {
     "elapsed": 1180,
     "status": "ok",
     "timestamp": 1541079204982,
     "user": {
      "displayName": "Rodrigo Andrés Crespillo",
      "photoUrl": "https://lh3.googleusercontent.com/--MWoTAhcX3k/AAAAAAAAAAI/AAAAAAAAE7U/kDxhjjGEgp8/s64/photo.jpg",
      "userId": "12484712302524035905"
     },
     "user_tz": 180
    },
    "id": "RZ2XHkLXbe3b",
    "outputId": "b6ae0ef0-b862-4b19-fc8a-d59de6258b0b"
   },
   "outputs": [
    {
     "data": {
      "image/png": "[encoded data removed]",
      "text/plain": [
       "<Figure size 1008x504 with 2 Axes>"
      ]
     },
     "metadata": {},
     "output_type": "display_data"
    }
   ],
   "source": [
    "barrios_casas = porcentaje_casas_ph.sort_values()[::-1][:5].index\n",
    "barrios_edificios = porcentaje_edificios.sort_values()[::-1][:5].index\n",
    "fig, axs = plt.subplots(1,2,figsize=(14,7))\n",
    "df_filtered[df_filtered.barrio.isin(barrios_edificios)].property_type.value_counts().plot(x=None,y=None, kind='pie', startangle=30, ax=axs[0],autopct='%1.2f%%')\n",
    "df_filtered[df_filtered.barrio.isin(barrios_casas)].property_type.value_counts().plot(x=None,y=None, kind='pie', ax=axs[1],autopct='%1.2f%%');"
   ]
  },
  {
   "cell_type": "markdown",
   "metadata": {
    "colab_type": "text",
    "id": "-FuDAWBebe3d"
   },
   "source": [
    "### Barrios más caros y más baratos"
   ]
  },
  {
   "cell_type": "markdown",
   "metadata": {
    "colab_type": "text",
    "id": "fBWehQo2be3g"
   },
   "source": [
    "Veamos primero la distribución del precio por metro cuadrado para todo el dataset. De esta manera, vamos a remover valores que consideremos extremos.\n",
    "\n",
    "En el siguiente proyecto vamos a volver sobre este tema con más profundidad.\n",
    "\n",
    "**10)** Tomando el atributo `price_usd_per_m2` **calculá** su **mínimo**, **máximo**, **promedio (mean)**, **mediana (median)** y **desvío estándar (std)**"
   ]
  },
  {
   "cell_type": "code",
   "execution_count": 31,
   "metadata": {
    "colab": {
     "base_uri": "https://localhost:8080/",
     "height": 102
    },
    "colab_type": "code",
    "executionInfo": {
     "elapsed": 947,
     "status": "ok",
     "timestamp": 1541079205966,
     "user": {
      "displayName": "Rodrigo Andrés Crespillo",
      "photoUrl": "https://lh3.googleusercontent.com/--MWoTAhcX3k/AAAAAAAAAAI/AAAAAAAAE7U/kDxhjjGEgp8/s64/photo.jpg",
      "userId": "12484712302524035905"
     },
     "user_tz": 180
    },
    "id": "pVXoTZkybe3h",
    "outputId": "b3993e16-d77c-4207-c421-206cd0559835"
   },
   "outputs": [
    {
     "name": "stdout",
     "output_type": "stream",
     "text": [
      "Minimo: 0.9583333333333334\n",
      "Máximo: 142450.14102564106\n",
      "Promedio: 2712.9412134071904\n",
      "Mediana: 2519.5865302642796\n",
      "Desvío estándar: 1929.5996057436507\n"
     ]
    }
   ],
   "source": [
    "# Mostrá en esta celda los cálculos\n",
    "print(\"Minimo: {}\".format(df_filtered['price_usd_per_m2'].min()))\n",
    "print(\"Máximo: {}\".format(df_filtered['price_usd_per_m2'].max()))\n",
    "print(\"Promedio: {}\".format(df_filtered['price_usd_per_m2'].mean()))\n",
    "print(\"Mediana: {}\".format(df_filtered['price_usd_per_m2'].median()))\n",
    "print(\"Desvío estándar: {}\".format(df_filtered['price_usd_per_m2'].std()))"
   ]
  },
  {
   "cell_type": "markdown",
   "metadata": {
    "colab_type": "text",
    "id": "khwLnC6Fbe3l"
   },
   "source": [
    "También podemos calcular otros estadísticos como los cuartiles. \n",
    "\n",
    "**11) Mostrá** el **primer y tercer cuartil** y luego también el **rango intercuartilíco**"
   ]
  },
  {
   "cell_type": "code",
   "execution_count": 32,
   "metadata": {
    "colab": {
     "base_uri": "https://localhost:8080/",
     "height": 68
    },
    "colab_type": "code",
    "executionInfo": {
     "elapsed": 845,
     "status": "ok",
     "timestamp": 1541079206955,
     "user": {
      "displayName": "Rodrigo Andrés Crespillo",
      "photoUrl": "https://lh3.googleusercontent.com/--MWoTAhcX3k/AAAAAAAAAAI/AAAAAAAAE7U/kDxhjjGEgp8/s64/photo.jpg",
      "userId": "12484712302524035905"
     },
     "user_tz": 180
    },
    "id": "62mf9HUDXbWI",
    "outputId": "aaa09ae0-18ef-40ee-cb8f-f4e98820aacc"
   },
   "outputs": [
    {
     "name": "stdout",
     "output_type": "stream",
     "text": [
      "Primer cuartil: 1965.8843980877878\n",
      "Tercer cuartil: 3139.534883720931\n",
      "Rango intercuartilíco: 1173.650485633143\n"
     ]
    }
   ],
   "source": [
    "# Mostrá los cuartiles en esta celda\n",
    "first_quartile, third_quartile = df_filtered['price_usd_per_m2'].quantile([0.25, 0.75])\n",
    "iqr = third_quartile - first_quartile\n",
    "print(\"Primer cuartil: {}\\nTercer cuartil: {}\\nRango intercuartilíco: {}\".format(first_quartile, third_quartile, iqr))"
   ]
  },
  {
   "cell_type": "code",
   "execution_count": 33,
   "metadata": {
    "colab": {
     "base_uri": "https://localhost:8080/",
     "height": 170
    },
    "colab_type": "code",
    "executionInfo": {
     "elapsed": 838,
     "status": "ok",
     "timestamp": 1541079207937,
     "user": {
      "displayName": "Rodrigo Andrés Crespillo",
      "photoUrl": "https://lh3.googleusercontent.com/--MWoTAhcX3k/AAAAAAAAAAI/AAAAAAAAE7U/kDxhjjGEgp8/s64/photo.jpg",
      "userId": "12484712302524035905"
     },
     "user_tz": 180
    },
    "id": "9z0sF_ZHkqBT",
    "outputId": "8e8ad436-3e72-4049-cacd-65d795c5f059"
   },
   "outputs": [
    {
     "data": {
      "text/plain": [
       "count     12982.000000\n",
       "mean       2712.941213\n",
       "std        1929.599606\n",
       "min           0.958333\n",
       "25%        1965.884398\n",
       "50%        2519.586530\n",
       "75%        3139.534884\n",
       "max      142450.141026\n",
       "Name: price_usd_per_m2, dtype: float64"
      ]
     },
     "execution_count": 33,
     "metadata": {},
     "output_type": "execute_result"
    }
   ],
   "source": [
    "df_filtered['price_usd_per_m2'].describe()"
   ]
  },
  {
   "cell_type": "markdown",
   "metadata": {
    "colab_type": "text",
    "id": "tPfu0Y0obe3q"
   },
   "source": [
    "### Quitando valores extremos\n",
    "Eliminemos aquellas observaciones cuyo precio por metro cuadrado este fuera de los percentiles 10 y 90. De este modo intentaremos remover valores extremos de una manera sencilla para tener un análisis más robusto."
   ]
  },
  {
   "cell_type": "code",
   "execution_count": 34,
   "metadata": {
    "colab": {},
    "colab_type": "code",
    "id": "DRMgZfVIbe3r"
   },
   "outputs": [],
   "source": [
    "p10, p90 = df_filtered['price_usd_per_m2'].quantile([0.10, 0.90])\n",
    "df_filtered = df_filtered[(df_filtered.price_usd_per_m2 >= p10) & (df_filtered.price_usd_per_m2 <= p90)]"
   ]
  },
  {
   "cell_type": "markdown",
   "metadata": {
    "colab_type": "text",
    "id": "dZQvx0UMbe3z"
   },
   "source": [
    "A partir de quitar estos valores van a cambiar los estadísticos que calculamos.\n",
    "\n",
    "**12) Volvé a calcular** los mismos estadísticos (min, max, promedio, etc) para ver los cambios.\n",
    "¿Por qué será que la **mediana** no cambia?"
   ]
  },
  {
   "cell_type": "code",
   "execution_count": 35,
   "metadata": {
    "colab": {
     "base_uri": "https://localhost:8080/",
     "height": 170
    },
    "colab_type": "code",
    "executionInfo": {
     "elapsed": 798,
     "status": "ok",
     "timestamp": 1541079209909,
     "user": {
      "displayName": "Rodrigo Andrés Crespillo",
      "photoUrl": "https://lh3.googleusercontent.com/--MWoTAhcX3k/AAAAAAAAAAI/AAAAAAAAE7U/kDxhjjGEgp8/s64/photo.jpg",
      "userId": "12484712302524035905"
     },
     "user_tz": 180
    },
    "id": "DS4Xn6VGbe30",
    "outputId": "25d168c5-6796-40cf-ac6c-8ad774e8ff87"
   },
   "outputs": [
    {
     "data": {
      "text/plain": [
       "count    10396.000000\n",
       "mean      2562.955562\n",
       "std        607.762126\n",
       "min       1478.395062\n",
       "25%       2082.923387\n",
       "50%       2521.247141\n",
       "75%       3000.000000\n",
       "max       4000.000000\n",
       "Name: price_usd_per_m2, dtype: float64"
      ]
     },
     "execution_count": 35,
     "metadata": {},
     "output_type": "execute_result"
    }
   ],
   "source": [
    "# Realizá los calculos en esta celda\n",
    "df_filtered['price_usd_per_m2'].describe()"
   ]
  },
  {
   "cell_type": "markdown",
   "metadata": {
    "colab_type": "text",
    "id": "s1jVDgJfbe33"
   },
   "source": [
    "Vamos a graficar ahora los barrios según el precio por metro cuadrado."
   ]
  },
  {
   "cell_type": "code",
   "execution_count": 36,
   "metadata": {
    "colab": {
     "base_uri": "https://localhost:8080/",
     "height": 636
    },
    "colab_type": "code",
    "executionInfo": {
     "elapsed": 2519,
     "status": "ok",
     "timestamp": 1541079212575,
     "user": {
      "displayName": "Rodrigo Andrés Crespillo",
      "photoUrl": "https://lh3.googleusercontent.com/--MWoTAhcX3k/AAAAAAAAAAI/AAAAAAAAE7U/kDxhjjGEgp8/s64/photo.jpg",
      "userId": "12484712302524035905"
     },
     "user_tz": 180
    },
    "id": "Z2fLTxZGbe33",
    "outputId": "bc6a4ac3-ad4a-4fd6-f621-59dc88c36500"
   },
   "outputs": [
    {
     "name": "stderr",
     "output_type": "stream",
     "text": [
      "/home/rodixxi/anaconda3/lib/python3.7/site-packages/scipy/stats/stats.py:1713: FutureWarning: Using a non-tuple sequence for multidimensional indexing is deprecated; use `arr[tuple(seq)]` instead of `arr[seq]`. In the future this will be interpreted as an array index, `arr[np.array(seq)]`, which will result either in an error or a different result.\n",
      "  return np.add.reduce(sorted[indexer] * weights, axis=axis) / sumval\n"
     ]
    },
    {
     "data": {
      "image/png": "[encoded data removed]",
      "text/plain": [
       "<Figure size 864x576 with 1 Axes>"
      ]
     },
     "metadata": {
      "needs_background": "light"
     },
     "output_type": "display_data"
    }
   ],
   "source": [
    "plt.xticks(rotation = 90)\n",
    "barrios = df_filtered.groupby('barrio').mean().sort_values('price_usd_per_m2', ascending=False).index\n",
    "sns.barplot(x=\"barrio\", y=\"price_usd_per_m2\", order=barrios, data=df_filtered);"
   ]
  },
  {
   "cell_type": "markdown",
   "metadata": {
    "colab_type": "text",
    "id": "wbIpraRXbe35"
   },
   "source": [
    "#### Más caros"
   ]
  },
  {
   "cell_type": "code",
   "execution_count": 37,
   "metadata": {
    "colab": {
     "base_uri": "https://localhost:8080/",
     "height": 235
    },
    "colab_type": "code",
    "executionInfo": {
     "elapsed": 946,
     "status": "ok",
     "timestamp": 1541079213547,
     "user": {
      "displayName": "Rodrigo Andrés Crespillo",
      "photoUrl": "https://lh3.googleusercontent.com/--MWoTAhcX3k/AAAAAAAAAAI/AAAAAAAAE7U/kDxhjjGEgp8/s64/photo.jpg",
      "userId": "12484712302524035905"
     },
     "user_tz": 180
    },
    "id": "BLo0bqIKbe37",
    "outputId": "c50652f2-905b-4519-b4d3-bcc60be73c39"
   },
   "outputs": [
    {
     "data": {
      "text/html": [
       "<div>\n",
       "<style scoped>\n",
       "    .dataframe tbody tr th:only-of-type {\n",
       "        vertical-align: middle;\n",
       "    }\n",
       "\n",
       "    .dataframe tbody tr th {\n",
       "        vertical-align: top;\n",
       "    }\n",
       "\n",
       "    .dataframe thead th {\n",
       "        text-align: right;\n",
       "    }\n",
       "</style>\n",
       "<table border=\"1\" class=\"dataframe\">\n",
       "  <thead>\n",
       "    <tr style=\"text-align: right;\">\n",
       "      <th></th>\n",
       "      <th>price_usd_per_m2</th>\n",
       "    </tr>\n",
       "    <tr>\n",
       "      <th>barrio</th>\n",
       "      <th></th>\n",
       "    </tr>\n",
       "  </thead>\n",
       "  <tbody>\n",
       "    <tr>\n",
       "      <th>PUERTO MADERO</th>\n",
       "      <td>6156.633183</td>\n",
       "    </tr>\n",
       "    <tr>\n",
       "      <th>PALERMO</th>\n",
       "      <td>3632.057960</td>\n",
       "    </tr>\n",
       "    <tr>\n",
       "      <th>RETIRO</th>\n",
       "      <td>3417.635657</td>\n",
       "    </tr>\n",
       "    <tr>\n",
       "      <th>RECOLETA</th>\n",
       "      <td>3346.748987</td>\n",
       "    </tr>\n",
       "    <tr>\n",
       "      <th>BELGRANO</th>\n",
       "      <td>3338.725206</td>\n",
       "    </tr>\n",
       "  </tbody>\n",
       "</table>\n",
       "</div>"
      ],
      "text/plain": [
       "               price_usd_per_m2\n",
       "barrio                         \n",
       "PUERTO MADERO       6156.633183\n",
       "PALERMO             3632.057960\n",
       "RETIRO              3417.635657\n",
       "RECOLETA            3346.748987\n",
       "BELGRANO            3338.725206"
      ]
     },
     "execution_count": 37,
     "metadata": {},
     "output_type": "execute_result"
    }
   ],
   "source": [
    "table = pd.pivot_table(df, values='price_usd_per_m2', index=['barrio'], aggfunc=np.mean)\n",
    "mas_caros = table.sort_values('price_usd_per_m2', ascending=False).iloc[:5]\n",
    "mas_caros"
   ]
  },
  {
   "cell_type": "markdown",
   "metadata": {
    "colab_type": "text",
    "id": "3Bm06itfbe3-"
   },
   "source": [
    "#### Más baratos"
   ]
  },
  {
   "cell_type": "code",
   "execution_count": 38,
   "metadata": {
    "colab": {
     "base_uri": "https://localhost:8080/",
     "height": 235
    },
    "colab_type": "code",
    "executionInfo": {
     "elapsed": 836,
     "status": "ok",
     "timestamp": 1541079214578,
     "user": {
      "displayName": "Rodrigo Andrés Crespillo",
      "photoUrl": "https://lh3.googleusercontent.com/--MWoTAhcX3k/AAAAAAAAAAI/AAAAAAAAE7U/kDxhjjGEgp8/s64/photo.jpg",
      "userId": "12484712302524035905"
     },
     "user_tz": 180
    },
    "id": "YqY5YyXGbe3-",
    "outputId": "4d655042-9b31-4dcd-8da4-22a2fa94db84"
   },
   "outputs": [
    {
     "data": {
      "text/html": [
       "<div>\n",
       "<style scoped>\n",
       "    .dataframe tbody tr th:only-of-type {\n",
       "        vertical-align: middle;\n",
       "    }\n",
       "\n",
       "    .dataframe tbody tr th {\n",
       "        vertical-align: top;\n",
       "    }\n",
       "\n",
       "    .dataframe thead th {\n",
       "        text-align: right;\n",
       "    }\n",
       "</style>\n",
       "<table border=\"1\" class=\"dataframe\">\n",
       "  <thead>\n",
       "    <tr style=\"text-align: right;\">\n",
       "      <th></th>\n",
       "      <th>price_usd_per_m2</th>\n",
       "    </tr>\n",
       "    <tr>\n",
       "      <th>barrio</th>\n",
       "      <th></th>\n",
       "    </tr>\n",
       "  </thead>\n",
       "  <tbody>\n",
       "    <tr>\n",
       "      <th>VILLA SOLDATI</th>\n",
       "      <td>920.825753</td>\n",
       "    </tr>\n",
       "    <tr>\n",
       "      <th>VILLA LUGANO</th>\n",
       "      <td>1179.846071</td>\n",
       "    </tr>\n",
       "    <tr>\n",
       "      <th>VILLA RIACHUELO</th>\n",
       "      <td>1274.809950</td>\n",
       "    </tr>\n",
       "    <tr>\n",
       "      <th>PARQUE AVELLANEDA</th>\n",
       "      <td>1386.260577</td>\n",
       "    </tr>\n",
       "    <tr>\n",
       "      <th>NUEVA POMPEYA</th>\n",
       "      <td>1539.235869</td>\n",
       "    </tr>\n",
       "  </tbody>\n",
       "</table>\n",
       "</div>"
      ],
      "text/plain": [
       "                   price_usd_per_m2\n",
       "barrio                             \n",
       "VILLA SOLDATI            920.825753\n",
       "VILLA LUGANO            1179.846071\n",
       "VILLA RIACHUELO         1274.809950\n",
       "PARQUE AVELLANEDA       1386.260577\n",
       "NUEVA POMPEYA           1539.235869"
      ]
     },
     "execution_count": 38,
     "metadata": {},
     "output_type": "execute_result"
    }
   ],
   "source": [
    "table = pd.pivot_table(df, values='price_usd_per_m2', index=['barrio'], aggfunc=np.mean)\n",
    "mas_baratos = table.sort_values('price_usd_per_m2', ascending=True).iloc[:5]\n",
    "mas_baratos"
   ]
  },
  {
   "cell_type": "markdown",
   "metadata": {
    "colab_type": "text",
    "id": "WRUM-8-jbe4B"
   },
   "source": [
    "## Graficando propiedades de los barrios\n",
    "\n",
    "Ahora que ya sabemos cuales son los barrios más caros y cuales son los más baratos vamos a ver algunas comparaciones gráficas para entender mejor sus diferencias en diferentes atributos del dataset. Vamos a ver las distribuciones según:\n",
    "- Superficie total en m2\n",
    "- Cuartos totales \n",
    "- Precio en dolares por m2"
   ]
  },
  {
   "cell_type": "code",
   "execution_count": 39,
   "metadata": {
    "colab": {
     "base_uri": "https://localhost:8080/",
     "height": 34
    },
    "colab_type": "code",
    "executionInfo": {
     "elapsed": 847,
     "status": "ok",
     "timestamp": 1541079215567,
     "user": {
      "displayName": "Rodrigo Andrés Crespillo",
      "photoUrl": "https://lh3.googleusercontent.com/--MWoTAhcX3k/AAAAAAAAAAI/AAAAAAAAE7U/kDxhjjGEgp8/s64/photo.jpg",
      "userId": "12484712302524035905"
     },
     "user_tz": 180
    },
    "id": "wBbO6reGbe4C",
    "outputId": "b8e7a5c0-7d32-4317-fce6-2bafa1f8297e"
   },
   "outputs": [
    {
     "data": {
      "text/plain": [
       "dtype('float64')"
      ]
     },
     "execution_count": 39,
     "metadata": {},
     "output_type": "execute_result"
    }
   ],
   "source": [
    "barrios_caros = mas_caros.index \n",
    "barrios_baratos = mas_baratos.index\n",
    "df_filtered.surface_total_in_m2.dtype"
   ]
  },
  {
   "cell_type": "code",
   "execution_count": 40,
   "metadata": {
    "colab": {
     "base_uri": "https://localhost:8080/",
     "height": 497
    },
    "colab_type": "code",
    "executionInfo": {
     "elapsed": 1175,
     "status": "ok",
     "timestamp": 1541079217106,
     "user": {
      "displayName": "Rodrigo Andrés Crespillo",
      "photoUrl": "https://lh3.googleusercontent.com/--MWoTAhcX3k/AAAAAAAAAAI/AAAAAAAAE7U/kDxhjjGEgp8/s64/photo.jpg",
      "userId": "12484712302524035905"
     },
     "user_tz": 180
    },
    "id": "kmBoZKGSbe4E",
    "outputId": "cd199f8b-4671-4a59-85a2-17e62b754c93"
   },
   "outputs": [
    {
     "name": "stderr",
     "output_type": "stream",
     "text": [
      "/home/rodixxi/anaconda3/lib/python3.7/site-packages/scipy/stats/stats.py:1713: FutureWarning: Using a non-tuple sequence for multidimensional indexing is deprecated; use `arr[tuple(seq)]` instead of `arr[seq]`. In the future this will be interpreted as an array index, `arr[np.array(seq)]`, which will result either in an error or a different result.\n",
      "  return np.add.reduce(sorted[indexer] * weights, axis=axis) / sumval\n"
     ]
    },
    {
     "data": {
      "image/png": "[encoded data removed]",
      "text/plain": [
       "<Figure size 864x576 with 1 Axes>"
      ]
     },
     "metadata": {
      "needs_background": "light"
     },
     "output_type": "display_data"
    }
   ],
   "source": [
    "g = sns.distplot(df_filtered[df_filtered.barrio.isin(barrios_baratos)].surface_total_in_m2, label=\"Barrios baratos\")\n",
    "sns.distplot(df_filtered[df_filtered.barrio.isin(barrios_caros)].surface_total_in_m2, label=\"Barrios caros\")\n",
    "g.set_xlim(0, 400)\n",
    "plt.legend();"
   ]
  },
  {
   "cell_type": "code",
   "execution_count": 41,
   "metadata": {
    "colab": {
     "base_uri": "https://localhost:8080/",
     "height": 34
    },
    "colab_type": "code",
    "executionInfo": {
     "elapsed": 838,
     "status": "ok",
     "timestamp": 1541079218112,
     "user": {
      "displayName": "Rodrigo Andrés Crespillo",
      "photoUrl": "https://lh3.googleusercontent.com/--MWoTAhcX3k/AAAAAAAAAAI/AAAAAAAAE7U/kDxhjjGEgp8/s64/photo.jpg",
      "userId": "12484712302524035905"
     },
     "user_tz": 180
    },
    "id": "TEvqhw2FFuCL",
    "outputId": "6dc789dd-acd1-4257-fd58-a139447b4bca"
   },
   "outputs": [
    {
     "data": {
      "text/plain": [
       "dtype('int64')"
      ]
     },
     "execution_count": 41,
     "metadata": {},
     "output_type": "execute_result"
    }
   ],
   "source": [
    "df_filtered.rooms.dtype"
   ]
  },
  {
   "cell_type": "code",
   "execution_count": 42,
   "metadata": {
    "colab": {
     "base_uri": "https://localhost:8080/",
     "height": 309
    },
    "colab_type": "code",
    "executionInfo": {
     "elapsed": 819,
     "status": "ok",
     "timestamp": 1541079219089,
     "user": {
      "displayName": "Rodrigo Andrés Crespillo",
      "photoUrl": "https://lh3.googleusercontent.com/--MWoTAhcX3k/AAAAAAAAAAI/AAAAAAAAE7U/kDxhjjGEgp8/s64/photo.jpg",
      "userId": "12484712302524035905"
     },
     "user_tz": 180
    },
    "id": "XBpIHGws2JVu",
    "outputId": "9c938476-1984-4c33-b14d-62bf19943f31"
   },
   "outputs": [
    {
     "data": {
      "text/html": [
       "<div>\n",
       "<style scoped>\n",
       "    .dataframe tbody tr th:only-of-type {\n",
       "        vertical-align: middle;\n",
       "    }\n",
       "\n",
       "    .dataframe tbody tr th {\n",
       "        vertical-align: top;\n",
       "    }\n",
       "\n",
       "    .dataframe thead th {\n",
       "        text-align: right;\n",
       "    }\n",
       "</style>\n",
       "<table border=\"1\" class=\"dataframe\">\n",
       "  <thead>\n",
       "    <tr style=\"text-align: right;\">\n",
       "      <th></th>\n",
       "      <th>created_on</th>\n",
       "      <th>operation</th>\n",
       "      <th>property_type</th>\n",
       "      <th>place_with_parent_names</th>\n",
       "      <th>lat-lon</th>\n",
       "      <th>lat</th>\n",
       "      <th>lon</th>\n",
       "      <th>price_aprox_usd</th>\n",
       "      <th>surface_total_in_m2</th>\n",
       "      <th>surface_covered_in_m2</th>\n",
       "      <th>price_usd_per_m2</th>\n",
       "      <th>floor</th>\n",
       "      <th>rooms</th>\n",
       "      <th>expenses</th>\n",
       "      <th>properati_url</th>\n",
       "      <th>barrio</th>\n",
       "      <th>comuna</th>\n",
       "    </tr>\n",
       "  </thead>\n",
       "  <tbody>\n",
       "    <tr>\n",
       "      <th>12006</th>\n",
       "      <td>2018-01-20</td>\n",
       "      <td>sell</td>\n",
       "      <td>apartment</td>\n",
       "      <td>|Argentina|Capital Federal|Caballito|</td>\n",
       "      <td>-34.6205383,-58.4396204</td>\n",
       "      <td>-34.620538</td>\n",
       "      <td>-58.439620</td>\n",
       "      <td>120000.0</td>\n",
       "      <td>47.0</td>\n",
       "      <td>44.0</td>\n",
       "      <td>2553.191489</td>\n",
       "      <td>NaN</td>\n",
       "      <td>3</td>\n",
       "      <td>NaN</td>\n",
       "      <td>https://www.properati.com.ar/1k0bw_venta_departamento_caballito_lavadero_garage_subte-linea-a_administracion-camargo-s-a_i99</td>\n",
       "      <td>CABALLITO</td>\n",
       "      <td>6.0</td>\n",
       "    </tr>\n",
       "    <tr>\n",
       "      <th>15016</th>\n",
       "      <td>2017-12-05</td>\n",
       "      <td>sell</td>\n",
       "      <td>house</td>\n",
       "      <td>|Argentina|Capital Federal|Almagro|</td>\n",
       "      <td>-34.6018059,-58.4149001</td>\n",
       "      <td>-34.601806</td>\n",
       "      <td>-58.414900</td>\n",
       "      <td>395000.0</td>\n",
       "      <td>135.0</td>\n",
       "      <td>69.0</td>\n",
       "      <td>2925.925926</td>\n",
       "      <td>NaN</td>\n",
       "      <td>4</td>\n",
       "      <td>NaN</td>\n",
       "      <td>https://www.properati.com.ar/1ioja_venta_casa_almagro_subte-linea-b_sabatini-srl</td>\n",
       "      <td>ALMAGRO</td>\n",
       "      <td>5.0</td>\n",
       "    </tr>\n",
       "    <tr>\n",
       "      <th>9359</th>\n",
       "      <td>2018-01-28</td>\n",
       "      <td>sell</td>\n",
       "      <td>PH</td>\n",
       "      <td>|Argentina|Capital Federal|San Cristobal|</td>\n",
       "      <td>-34.627014,-58.406779</td>\n",
       "      <td>-34.627014</td>\n",
       "      <td>-58.406779</td>\n",
       "      <td>80000.0</td>\n",
       "      <td>42.0</td>\n",
       "      <td>42.0</td>\n",
       "      <td>1904.761905</td>\n",
       "      <td>NaN</td>\n",
       "      <td>2</td>\n",
       "      <td>NaN</td>\n",
       "      <td>https://www.properati.com.ar/1k7iu_venta_ph_san-cristobal_subte-linea-e_subte-linea-h_re-max-puerto</td>\n",
       "      <td>SAN CRISTOBAL</td>\n",
       "      <td>3.0</td>\n",
       "    </tr>\n",
       "    <tr>\n",
       "      <th>17860</th>\n",
       "      <td>2017-10-31</td>\n",
       "      <td>sell</td>\n",
       "      <td>apartment</td>\n",
       "      <td>|Argentina|Capital Federal|San Telmo|</td>\n",
       "      <td>-34.6244125,-58.374021</td>\n",
       "      <td>-34.624412</td>\n",
       "      <td>-58.374021</td>\n",
       "      <td>129000.0</td>\n",
       "      <td>62.0</td>\n",
       "      <td>58.0</td>\n",
       "      <td>2080.645161</td>\n",
       "      <td>NaN</td>\n",
       "      <td>2</td>\n",
       "      <td>NaN</td>\n",
       "      <td>https://www.properati.com.ar/1hmqs_venta_departamento_san-telmo_balcon_lavadero_luminoso_placard_doble-circulacion_subte-linea-c_apto-credito-hipotecario_inmobiliaria-giesso_e1l</td>\n",
       "      <td>SAN TELMO</td>\n",
       "      <td>1.0</td>\n",
       "    </tr>\n",
       "    <tr>\n",
       "      <th>16801</th>\n",
       "      <td>2018-01-19</td>\n",
       "      <td>sell</td>\n",
       "      <td>apartment</td>\n",
       "      <td>|Argentina|Capital Federal|Chacarita|</td>\n",
       "      <td>-34.5912626723,-58.4469261148</td>\n",
       "      <td>-34.591263</td>\n",
       "      <td>-58.446926</td>\n",
       "      <td>115000.0</td>\n",
       "      <td>57.0</td>\n",
       "      <td>57.0</td>\n",
       "      <td>2017.543860</td>\n",
       "      <td>NaN</td>\n",
       "      <td>2</td>\n",
       "      <td>NaN</td>\n",
       "      <td>https://www.properati.com.ar/1jsr9_venta_departamento_chacarita_lavadero_patio_garage_subte-linea-b_infinit-realty_i89</td>\n",
       "      <td>CHACARITA</td>\n",
       "      <td>15.0</td>\n",
       "    </tr>\n",
       "  </tbody>\n",
       "</table>\n",
       "</div>"
      ],
      "text/plain": [
       "      created_on operation property_type  \\\n",
       "12006 2018-01-20      sell     apartment   \n",
       "15016 2017-12-05      sell         house   \n",
       "9359  2018-01-28      sell            PH   \n",
       "17860 2017-10-31      sell     apartment   \n",
       "16801 2018-01-19      sell     apartment   \n",
       "\n",
       "                         place_with_parent_names  \\\n",
       "12006      |Argentina|Capital Federal|Caballito|   \n",
       "15016        |Argentina|Capital Federal|Almagro|   \n",
       "9359   |Argentina|Capital Federal|San Cristobal|   \n",
       "17860      |Argentina|Capital Federal|San Telmo|   \n",
       "16801      |Argentina|Capital Federal|Chacarita|   \n",
       "\n",
       "                             lat-lon        lat        lon  price_aprox_usd  \\\n",
       "12006        -34.6205383,-58.4396204 -34.620538 -58.439620         120000.0   \n",
       "15016        -34.6018059,-58.4149001 -34.601806 -58.414900         395000.0   \n",
       "9359           -34.627014,-58.406779 -34.627014 -58.406779          80000.0   \n",
       "17860         -34.6244125,-58.374021 -34.624412 -58.374021         129000.0   \n",
       "16801  -34.5912626723,-58.4469261148 -34.591263 -58.446926         115000.0   \n",
       "\n",
       "       surface_total_in_m2  surface_covered_in_m2  price_usd_per_m2  floor  \\\n",
       "12006                 47.0                   44.0       2553.191489    NaN   \n",
       "15016                135.0                   69.0       2925.925926    NaN   \n",
       "9359                  42.0                   42.0       1904.761905    NaN   \n",
       "17860                 62.0                   58.0       2080.645161    NaN   \n",
       "16801                 57.0                   57.0       2017.543860    NaN   \n",
       "\n",
       "       rooms  expenses  \\\n",
       "12006      3       NaN   \n",
       "15016      4       NaN   \n",
       "9359       2       NaN   \n",
       "17860      2       NaN   \n",
       "16801      2       NaN   \n",
       "\n",
       "                                                                                                                                                                           properati_url  \\\n",
       "12006                                                       https://www.properati.com.ar/1k0bw_venta_departamento_caballito_lavadero_garage_subte-linea-a_administracion-camargo-s-a_i99   \n",
       "15016                                                                                                   https://www.properati.com.ar/1ioja_venta_casa_almagro_subte-linea-b_sabatini-srl   \n",
       "9359                                                                                 https://www.properati.com.ar/1k7iu_venta_ph_san-cristobal_subte-linea-e_subte-linea-h_re-max-puerto   \n",
       "17860  https://www.properati.com.ar/1hmqs_venta_departamento_san-telmo_balcon_lavadero_luminoso_placard_doble-circulacion_subte-linea-c_apto-credito-hipotecario_inmobiliaria-giesso_e1l   \n",
       "16801                                                             https://www.properati.com.ar/1jsr9_venta_departamento_chacarita_lavadero_patio_garage_subte-linea-b_infinit-realty_i89   \n",
       "\n",
       "              barrio  comuna  \n",
       "12006      CABALLITO     6.0  \n",
       "15016        ALMAGRO     5.0  \n",
       "9359   SAN CRISTOBAL     3.0  \n",
       "17860      SAN TELMO     1.0  \n",
       "16801      CHACARITA    15.0  "
      ]
     },
     "execution_count": 42,
     "metadata": {},
     "output_type": "execute_result"
    }
   ],
   "source": [
    "df_filtered.sample(5)"
   ]
  },
  {
   "cell_type": "code",
   "execution_count": 43,
   "metadata": {
    "colab": {
     "base_uri": "https://localhost:8080/",
     "height": 514
    },
    "colab_type": "code",
    "executionInfo": {
     "elapsed": 1114,
     "status": "ok",
     "timestamp": 1541079220355,
     "user": {
      "displayName": "Rodrigo Andrés Crespillo",
      "photoUrl": "https://lh3.googleusercontent.com/--MWoTAhcX3k/AAAAAAAAAAI/AAAAAAAAE7U/kDxhjjGEgp8/s64/photo.jpg",
      "userId": "12484712302524035905"
     },
     "user_tz": 180
    },
    "id": "sa3RtgZJbe4K",
    "outputId": "90747e2b-ab85-40c6-c4a4-40193388aac4"
   },
   "outputs": [
    {
     "name": "stderr",
     "output_type": "stream",
     "text": [
      "/home/rodixxi/anaconda3/lib/python3.7/site-packages/scipy/stats/stats.py:1713: FutureWarning: Using a non-tuple sequence for multidimensional indexing is deprecated; use `arr[tuple(seq)]` instead of `arr[seq]`. In the future this will be interpreted as an array index, `arr[np.array(seq)]`, which will result either in an error or a different result.\n",
      "  return np.add.reduce(sorted[indexer] * weights, axis=axis) / sumval\n"
     ]
    },
    {
     "data": {
      "text/plain": [
       "<matplotlib.legend.Legend at 0x7f5799abe7f0>"
      ]
     },
     "execution_count": 43,
     "metadata": {},
     "output_type": "execute_result"
    },
    {
     "data": {
      "image/png": "[encoded data removed]",
      "text/plain": [
       "<Figure size 864x576 with 1 Axes>"
      ]
     },
     "metadata": {
      "needs_background": "light"
     },
     "output_type": "display_data"
    }
   ],
   "source": [
    "g = sns.distplot(df_filtered[df_filtered.barrio.isin(barrios_baratos)].rooms, label=\"Barrios baratos\")\n",
    "sns.distplot(df_filtered[df_filtered.barrio.isin(barrios_caros)].rooms, label=\"Barrios caros\")\n",
    "g.set_xlim(0, 10)\n",
    "plt.legend()"
   ]
  },
  {
   "cell_type": "code",
   "execution_count": 44,
   "metadata": {
    "colab": {
     "base_uri": "https://localhost:8080/",
     "height": 497
    },
    "colab_type": "code",
    "executionInfo": {
     "elapsed": 1345,
     "status": "ok",
     "timestamp": 1541079221855,
     "user": {
      "displayName": "Rodrigo Andrés Crespillo",
      "photoUrl": "https://lh3.googleusercontent.com/--MWoTAhcX3k/AAAAAAAAAAI/AAAAAAAAE7U/kDxhjjGEgp8/s64/photo.jpg",
      "userId": "12484712302524035905"
     },
     "user_tz": 180
    },
    "id": "I8rLCuu-be4N",
    "outputId": "ee27ffd1-f6b6-404d-9301-e0823aaf0888"
   },
   "outputs": [
    {
     "name": "stderr",
     "output_type": "stream",
     "text": [
      "/home/rodixxi/anaconda3/lib/python3.7/site-packages/scipy/stats/stats.py:1713: FutureWarning: Using a non-tuple sequence for multidimensional indexing is deprecated; use `arr[tuple(seq)]` instead of `arr[seq]`. In the future this will be interpreted as an array index, `arr[np.array(seq)]`, which will result either in an error or a different result.\n",
      "  return np.add.reduce(sorted[indexer] * weights, axis=axis) / sumval\n"
     ]
    },
    {
     "data": {
      "image/png": "[encoded data removed]",
      "text/plain": [
       "<Figure size 864x576 with 1 Axes>"
      ]
     },
     "metadata": {
      "needs_background": "light"
     },
     "output_type": "display_data"
    }
   ],
   "source": [
    "g = sns.distplot(df_filtered[df_filtered.barrio.isin(barrios_baratos)].price_usd_per_m2, label=\"Barrios baratos\")\n",
    "sns.distplot(df_filtered[df_filtered.barrio.isin(barrios_caros)].price_usd_per_m2, label=\"Barrios caros\")\n",
    "plt.legend();"
   ]
  },
  {
   "cell_type": "markdown",
   "metadata": {
    "colab_type": "text",
    "id": "9TNExFL0be4Q"
   },
   "source": [
    "### Barrios que quieren ser otros"
   ]
  },
  {
   "cell_type": "markdown",
   "metadata": {
    "colab_type": "text",
    "id": "6aQWBF8zbe4R"
   },
   "source": [
    "Basado en información de mercado, desde el portal Properati han señalado que las inmobiliarias suelen publicar las propiedades ubicadas en barrios que no necesariamente se corresponden con la ubicación geográfica real. Según mencionan en la nota ([blog)](http://blog.properati.com.ar/barrios-que-quieren-ser-otros/), esto corresponde a una lógica comercial en el corredor norte y a usos y costumbres en zona oeste.\n",
    "\n",
    "Analicemos qué sucede para nuestro dataset."
   ]
  },
  {
   "cell_type": "markdown",
   "metadata": {
    "colab_type": "text",
    "id": "3rLXLLDQbe4T"
   },
   "source": [
    "Dada la estructura del atributo `place_with_parent_names`, en primer lugar vamos a extraer el campo asociado al barrio publicado para poder comparar con el que surge de la cartografía oficial. Esto lo vamos a agregar en una nueva columna llamada `barrio_publicado`. \n",
    "\n",
    "De este modo, lo que vamos a analizar es como se relacionan las columnas `barrio` y `barrio publicado`. Si efectivamente hay barrios que quieren ser otros, esperaríamos ver propiedades ubicadas en geográficamente en un barrio distinto al que dice la publicación. Por ejemplo, si una propiedad está ubicada (dadas sus coordenadas) en Villa Crespo pero en la publicación dice Palermo, entonces decimos que hay indicios que Villa Crespo quiere ser Palermo.\n",
    "\n",
    "Viendo la estructura de este atributo, podemos notar que se compone por una sequencia de lugares separados por `|`. Por ejemplo, en `|Argentina|Capital Federal|Palermo|` vemos que primero está el país, luego la ciudad, luego el barrio y en algunos casos hay una jerarquía más, relacionado con zonas dentro del barrio (como Palermo Soho dentro de Palermo). \n",
    "\n",
    "De este modo, una estrategia posible para resolver esto es separar las jerarquías por `|` y extraer el elemento asociado al barrio. Por ejemplo, para `|Argentina|Capital Federal|Palermo|` queda `['', 'Argentina', 'Capital Federal', 'Palermo', '']`. Extrayendo el tercer elemento obtendremos el barrio independientemente de si hay lugares luego en la jerarquía. Aquellos que no tengan barrio no serán considerados puesto que estarían ubicados en Capital Federal y no sería informativo.\n",
    "\n",
    "Lo pasamos a mayúsculas y quitamos las tildes para poder comparar con el barrio oficial."
   ]
  },
  {
   "cell_type": "code",
   "execution_count": 45,
   "metadata": {
    "colab": {
     "base_uri": "https://localhost:8080/",
     "height": 34
    },
    "colab_type": "code",
    "executionInfo": {
     "elapsed": 826,
     "status": "ok",
     "timestamp": 1541079222827,
     "user": {
      "displayName": "Rodrigo Andrés Crespillo",
      "photoUrl": "https://lh3.googleusercontent.com/--MWoTAhcX3k/AAAAAAAAAAI/AAAAAAAAE7U/kDxhjjGEgp8/s64/photo.jpg",
      "userId": "12484712302524035905"
     },
     "user_tz": 180
    },
    "id": "GgvGEQ3sbe4U",
    "outputId": "25f66275-8aee-4dcb-c443-5838bb8cf71a"
   },
   "outputs": [
    {
     "data": {
      "text/plain": [
       "array([5, 6, 4])"
      ]
     },
     "execution_count": 45,
     "metadata": {},
     "output_type": "execute_result"
    }
   ],
   "source": [
    "df_filtered['place_with_parent_names'].apply(lambda x: len(x.split(\"|\"))).unique()"
   ]
  },
  {
   "cell_type": "markdown",
   "metadata": {
    "colab_type": "text",
    "id": "0SNKG1tHbe4W"
   },
   "source": [
    "Como algunos tienen 4 elementos, debemos quitarlos."
   ]
  },
  {
   "cell_type": "code",
   "execution_count": 46,
   "metadata": {
    "colab": {},
    "colab_type": "code",
    "id": "cdtslvhube4X"
   },
   "outputs": [],
   "source": [
    "split_place_filter = df_filtered['place_with_parent_names'].apply(lambda x: len(x.split(\"|\"))!=4)\n",
    "df_filtered = df_filtered.loc[split_place_filter]"
   ]
  },
  {
   "cell_type": "code",
   "execution_count": 47,
   "metadata": {
    "colab": {},
    "colab_type": "code",
    "id": "b4rbFtC7be4a"
   },
   "outputs": [],
   "source": [
    "df_filtered['barrio_publicado'] = df_filtered['place_with_parent_names'].apply( lambda x: x.split(\"|\")[3].upper())\n",
    "df_filtered['barrio_publicado'] = df_filtered['barrio_publicado'].str.normalize('NFKD').str.encode('ascii', errors='ignore').str.decode('utf-8')"
   ]
  },
  {
   "cell_type": "markdown",
   "metadata": {
    "colab_type": "text",
    "id": "Kln4RzZabe4c"
   },
   "source": [
    "Comparemos entonces el barrio publicado con el real. Nos vamos a quedar con aquellas propiedades donde nos coincidan para luego hacer el conteo por barrio."
   ]
  },
  {
   "cell_type": "code",
   "execution_count": 48,
   "metadata": {
    "colab": {},
    "colab_type": "code",
    "id": "HuH4XWyube4d"
   },
   "outputs": [],
   "source": [
    "barrios_match = (df_filtered['barrio_publicado'] != df_filtered['barrio'])\n",
    "df_filtered_barrio_not_match = df_filtered.loc[barrios_match]"
   ]
  },
  {
   "cell_type": "markdown",
   "metadata": {
    "colab_type": "text",
    "id": "YkNbU4KXbe4h"
   },
   "source": [
    "Con una tabla de doble entrada podemos identificar para cada barrio cuál es al que más quiere parecerse."
   ]
  },
  {
   "cell_type": "code",
   "execution_count": 49,
   "metadata": {
    "colab": {
     "base_uri": "https://localhost:8080/",
     "height": 816
    },
    "colab_type": "code",
    "executionInfo": {
     "elapsed": 853,
     "status": "ok",
     "timestamp": 1541079227503,
     "user": {
      "displayName": "Rodrigo Andrés Crespillo",
      "photoUrl": "https://lh3.googleusercontent.com/--MWoTAhcX3k/AAAAAAAAAAI/AAAAAAAAE7U/kDxhjjGEgp8/s64/photo.jpg",
      "userId": "12484712302524035905"
     },
     "user_tz": 180
    },
    "id": "tFKsSCNmbe4i",
    "outputId": "fb85ab5f-e867-489e-9d86-41d6a63832c1"
   },
   "outputs": [
    {
     "data": {
      "text/plain": [
       "barrio\n",
       "AGRONOMIA                VILLA PUEYRREDON\n",
       "ALMAGRO                         CABALLITO\n",
       "BALVANERA                            ONCE\n",
       "BARRACAS                        SAN TELMO\n",
       "BELGRANO                            NUNEZ\n",
       "BOCA                             BARRACAS\n",
       "BOEDO                    PARQUE PATRICIOS\n",
       "CABALLITO               PARQUE CENTENARIO\n",
       "CHACARITA                      COLEGIALES\n",
       "COGHLAN                          BELGRANO\n",
       "COLEGIALES                       BELGRANO\n",
       "CONSTITUCION                    SAN TELMO\n",
       "FLORES                          CABALLITO\n",
       "FLORESTA                           FLORES\n",
       "LINIERS                        VILLA LURO\n",
       "MATADEROS                         LINIERS\n",
       "MONSERRAT                       SAN TELMO\n",
       "MONTE CASTRO                 VILLA DEVOTO\n",
       "NUEVA POMPEYA            PARQUE PATRICIOS\n",
       "NUEZ                                NUNEZ\n",
       "PALERMO                          BELGRANO\n",
       "PARQUE AVELLANEDA                FLORESTA\n",
       "PARQUE CHACABUCO                CABALLITO\n",
       "PARQUE CHAS                 VILLA URQUIZA\n",
       "PARQUE PATRICIOS                    BOEDO\n",
       "PATERNAL                        AGRONOMIA\n",
       "RECOLETA                     BARRIO NORTE\n",
       "RETIRO                           RECOLETA\n",
       "SAAVEDRA                            NUNEZ\n",
       "SAN CRISTOBAL                       BOEDO\n",
       "SAN NICOLAS          CENTRO / MICROCENTRO\n",
       "SAN TELMO                        BARRACAS\n",
       "VELEZ SARSFIELD                  FLORESTA\n",
       "VILLA CRESPO                      PALERMO\n",
       "VILLA DEL PARQUE             VILLA DEVOTO\n",
       "VILLA DEVOTO             VILLA PUEYRREDON\n",
       "VILLA GRAL. MITRE     VILLA GENERAL MITRE\n",
       "VILLA LURO                      VERSALLES\n",
       "VILLA ORTUZAR               VILLA URQUIZA\n",
       "VILLA PUEYRREDON             VILLA DEVOTO\n",
       "VILLA REAL                      VERSALLES\n",
       "VILLA RIACHUELO              VILLA LUGANO\n",
       "VILLA SANTA RITA         VILLA DEL PARQUE\n",
       "VILLA SOLDATI                VILLA LUGANO\n",
       "VILLA URQUIZA                    BELGRANO\n",
       "dtype: object"
      ]
     },
     "execution_count": 49,
     "metadata": {},
     "output_type": "execute_result"
    }
   ],
   "source": [
    "table = pd.crosstab(df_filtered_barrio_not_match.barrio, df_filtered_barrio_not_match.barrio_publicado)\n",
    "table.idxmax(axis=1)"
   ]
  },
  {
   "cell_type": "markdown",
   "metadata": {
    "colab_type": "text",
    "id": "h28k4NVrbe4l"
   },
   "source": [
    "Podemos ver entonces que los barrios tienden a querer parecerse a barrios con precio con metro cuadrado más caro. Por ejemplo Villa Crespo con Palermo, Constitución con San Telmo y Villa Urquiza con Belgrano. \n",
    "\n",
    "Por otro lado, vemos también que los barrios suelen querer parecerse a sus barrios vecinos."
   ]
  }
 ],
 "metadata": {
  "colab": {
   "collapsed_sections": [
    "BF9jMDwxbe25"
   ],
   "name": "recursos_proyecto_1.ipynb",
   "provenance": [],
   "version": "0.3.2"
  },
  "kernelspec": {
   "display_name": "Python 3",
   "language": "python",
   "name": "python3"
  },
  "language_info": {
   "codemirror_mode": {
    "name": "ipython",
    "version": 3
   },
   "file_extension": ".py",
   "mimetype": "text/x-python",
   "name": "python",
   "nbconvert_exporter": "python",
   "pygments_lexer": "ipython3",
   "version": "3.7.0"
  }
 },
 "nbformat": 4,
 "nbformat_minor": 1
}
