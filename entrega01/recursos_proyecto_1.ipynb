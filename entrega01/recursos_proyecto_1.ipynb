{
 "cells": [
  {
   "cell_type": "markdown",
   "metadata": {
    "colab_type": "text",
    "id": "g_xS9gbybe2A"
   },
   "source": [
    "# Proyecto: Análisis mercado inmobiliario de la Ciudad de Buenos Aires"
   ]
  },
  {
   "cell_type": "markdown",
   "metadata": {
    "colab_type": "text",
    "id": "8u-ZXNJtbe2D"
   },
   "source": [
    "¡Bienvenidos al primer proyecto de la carrera de Data Science de Acamica! \n",
    "\n",
    "En este proyecto vamos a trabajar con un dataset de propiedades en venta publicadas en el portal [Properati](www.properati.com.ar). El objetivo es dar los primeros pasos en el proceso de exploración de datos usando las herramientas que trabajamos en las activades.\n",
    "\n",
    "Vamos a enfocarnos en analizar algunos aspectos del mercado inmobiliario de la Ciudad de Buenos Aires pero para eso primero debemos limpiar un poco el dataset."
   ]
  },
  {
   "cell_type": "markdown",
   "metadata": {
    "colab_type": "text",
    "id": "FmO8bk5Ibe2D"
   },
   "source": [
    "## El dataset: propiedades en venta en Ciudad de Buenos Aires."
   ]
  },
  {
   "cell_type": "markdown",
   "metadata": {
    "colab_type": "text",
    "id": "4s76bxO_be2F"
   },
   "source": [
    "En este proyecto, trabajaremos con una muestra del conjunto de datos de propiedades en venta mencionado. En este dataset, cada fila es una propiedad en venta. \n",
    "\n",
    "## Los atributos\n",
    "A continuación vamos a describir los atributos que consideramos en esta muestra:\n",
    "\n",
    "* **id**: id de la propiedad\n",
    "* **created_on**: fecha en la que la propiedad ingresó al sitio\n",
    "* **operation**: alquiler (rent) o venta (sell)\n",
    "* **property_type**: tipo de propiedad (casa, departamento, ph, etcétera)\n",
    "* **place_with_parent_names**: nombre del lugar donde se encuentra la propiedad según el publicador\n",
    "* **lat-lon**: coordenadas concatenadas\n",
    "* **lat**: latitud\n",
    "* **lon**: longitud\n",
    "* **price**: precio en la moneda especificada en currency\n",
    "* **currency**: divisa en la que está expresada la publicación\n",
    "* **price_aprox_usd**: precio aproximado en dólares estadounidenses\n",
    "* **surface_total_in_m2**: superficie total (en metros cuadrados)\n",
    "* **surface_covered_in_m2**: superficie cubierta (en metros cuadrados)\n",
    "* **price_usd_per_m2**: precio por metro cuadrado en dólares (precio dólares / superficie)\n",
    "* **floor**: número de piso (si corresponde)\n",
    "* **rooms**: cantidad de ambientes\n",
    "* **expenses**: expensas (si corresponde)\n",
    "* **barrio**: barrio según cartografía oficial\n",
    "* **properati_url**: url de la publicación en Properati\n"
   ]
  },
  {
   "cell_type": "markdown",
   "metadata": {
    "colab_type": "text",
    "id": "oHhkfQOHbe2G"
   },
   "source": [
    "## Importando las bibliotecas necesarias\n",
    "\n",
    "Para poder trabajar en la limpieza de datos y la visualización de nuestro dataset vamos a utilizar las bibliotecas numpy, pandas, matplotlib.pylab y seaborn. \n",
    "\n",
    "** 1) Importá ** cada una de ellas con los siguientes nombres: \n",
    "- **numpy** como **np**\n",
    "- **pandas** como **pd**\n",
    "- **matplotlib.pylab** como **plt**\n",
    "- **seaborn** como **sns**\n"
   ]
  },
  {
   "cell_type": "code",
   "execution_count": 1,
   "metadata": {
    "colab": {},
    "colab_type": "code",
    "id": "f7S1mDPLbe2I"
   },
   "outputs": [],
   "source": [
    "# Importar bibliotecas en esta celda\n",
    "import numpy as np\n",
    "import pandas as pd\n",
    "import matplotlib.pylab as plt\n",
    "import seaborn as sns"
   ]
  },
  {
   "cell_type": "code",
   "execution_count": 2,
   "metadata": {
    "colab": {},
    "colab_type": "code",
    "id": "UyneKxIlbe2M"
   },
   "outputs": [],
   "source": [
    "# La siguiente línea es para ver las imagenes dentro del notebook\n",
    "%matplotlib inline\n",
    "# Acá configuramos el tamaño de las figuras\n",
    "plt.rcParams['figure.figsize'] = (12,8)\n",
    "# Seteamos opciones de pandas sobre las columnas y su ancho\n",
    "pd.set_option('max_columns', 120)\n",
    "pd.set_option('max_colwidth', 5000)\n"
   ]
  },
  {
   "cell_type": "markdown",
   "metadata": {
    "colab_type": "text",
    "id": "yUxKAOpcbe2P"
   },
   "source": [
    "## Cargando dataset de propiedades\n",
    "\n",
    "**2) Cargá** el dataset que se encuentra en la carpeta *dataset/* y guardalo en una variable llamada **df**. \n",
    "No te olvides de utilizar **parse_dates** sobre la columna **created_on**\n"
   ]
  },
  {
   "cell_type": "code",
   "execution_count": 3,
   "metadata": {
    "colab": {},
    "colab_type": "code",
    "id": "ILUE_-Zrbe2Q"
   },
   "outputs": [],
   "source": [
    "# cargá el dataset en esta celda\n",
    "df = pd.read_csv('dataset/datos_properati.csv', parse_dates=['created_on'])"
   ]
  },
  {
   "cell_type": "markdown",
   "metadata": {
    "colab_type": "text",
    "id": "F0gAy_HQbe2U"
   },
   "source": [
    "## Exploración de datos"
   ]
  },
  {
   "cell_type": "markdown",
   "metadata": {
    "colab_type": "text",
    "id": "uaY8cs1Gbe2V"
   },
   "source": [
    "Lo primero que vamos a hacer es ver qué forma tiene el dataset que acabamos de cargar. Para eso vamos a mostrar las primeras 3 entradas del mismo y utilizar la propiedad `shape` para ver la cantidad de instancias y atributos con los que vamos a estar trabajando."
   ]
  },
  {
   "cell_type": "code",
   "execution_count": 4,
   "metadata": {
    "colab": {
     "base_uri": "https://localhost:8080/",
     "height": 298
    },
    "colab_type": "code",
    "executionInfo": {
     "elapsed": 686,
     "status": "ok",
     "timestamp": 1540242588495,
     "user": {
      "displayName": "Rodrigo Andrés Crespillo",
      "photoUrl": "",
      "userId": "12484712302524035905"
     },
     "user_tz": 180
    },
    "id": "QphZ07brbe2W",
    "outputId": "049eddac-d002-4763-92c5-eb4b55992ecb"
   },
   "outputs": [
    {
     "name": "stdout",
     "output_type": "stream",
     "text": [
      "(18979, 17)\n"
     ]
    },
    {
     "data": {
      "text/html": [
       "<div>\n",
       "<style scoped>\n",
       "    .dataframe tbody tr th:only-of-type {\n",
       "        vertical-align: middle;\n",
       "    }\n",
       "\n",
       "    .dataframe tbody tr th {\n",
       "        vertical-align: top;\n",
       "    }\n",
       "\n",
       "    .dataframe thead th {\n",
       "        text-align: right;\n",
       "    }\n",
       "</style>\n",
       "<table border=\"1\" class=\"dataframe\">\n",
       "  <thead>\n",
       "    <tr style=\"text-align: right;\">\n",
       "      <th></th>\n",
       "      <th>created_on</th>\n",
       "      <th>operation</th>\n",
       "      <th>property_type</th>\n",
       "      <th>place_with_parent_names</th>\n",
       "      <th>lat-lon</th>\n",
       "      <th>lat</th>\n",
       "      <th>lon</th>\n",
       "      <th>price_aprox_usd</th>\n",
       "      <th>surface_total_in_m2</th>\n",
       "      <th>surface_covered_in_m2</th>\n",
       "      <th>price_usd_per_m2</th>\n",
       "      <th>floor</th>\n",
       "      <th>rooms</th>\n",
       "      <th>expenses</th>\n",
       "      <th>properati_url</th>\n",
       "      <th>barrio</th>\n",
       "      <th>comuna</th>\n",
       "    </tr>\n",
       "  </thead>\n",
       "  <tbody>\n",
       "    <tr>\n",
       "      <th>0</th>\n",
       "      <td>2017-09-22</td>\n",
       "      <td>sell</td>\n",
       "      <td>house</td>\n",
       "      <td>|Argentina|Capital Federal|Palermo|Palermo Viejo|</td>\n",
       "      <td>-34.5889531469,-58.4298817776</td>\n",
       "      <td>-34.588953</td>\n",
       "      <td>-58.429882</td>\n",
       "      <td>2000000.0</td>\n",
       "      <td>312.0</td>\n",
       "      <td>NaN</td>\n",
       "      <td>6410.25641</td>\n",
       "      <td>NaN</td>\n",
       "      <td>NaN</td>\n",
       "      <td>NaN</td>\n",
       "      <td>https://www.properati.com.ar/2os_venta_casa_palermo-viejo_rent-ba</td>\n",
       "      <td>PALERMO</td>\n",
       "      <td>14.0</td>\n",
       "    </tr>\n",
       "    <tr>\n",
       "      <th>1</th>\n",
       "      <td>2017-08-01</td>\n",
       "      <td>sell</td>\n",
       "      <td>store</td>\n",
       "      <td>|Argentina|Capital Federal|Palermo|</td>\n",
       "      <td>-34.586069,-58.414431</td>\n",
       "      <td>-34.586069</td>\n",
       "      <td>-58.414431</td>\n",
       "      <td>790000.0</td>\n",
       "      <td>121.0</td>\n",
       "      <td>121.0</td>\n",
       "      <td>6528.92562</td>\n",
       "      <td>NaN</td>\n",
       "      <td>NaN</td>\n",
       "      <td>NaN</td>\n",
       "      <td>https://www.properati.com.ar/1cl7l_venta_local_palermo_santa-fe-av-al-3500_sotano_garage_subte-linea-d_deptos-temporarios</td>\n",
       "      <td>PALERMO</td>\n",
       "      <td>14.0</td>\n",
       "    </tr>\n",
       "    <tr>\n",
       "      <th>2</th>\n",
       "      <td>2017-08-02</td>\n",
       "      <td>sell</td>\n",
       "      <td>store</td>\n",
       "      <td>|Argentina|Capital Federal|Palermo|Palermo Soho|</td>\n",
       "      <td>-34.589723,-58.4325664</td>\n",
       "      <td>-34.589723</td>\n",
       "      <td>-58.432566</td>\n",
       "      <td>343000.0</td>\n",
       "      <td>122.0</td>\n",
       "      <td>108.0</td>\n",
       "      <td>2811.47541</td>\n",
       "      <td>NaN</td>\n",
       "      <td>2.0</td>\n",
       "      <td>NaN</td>\n",
       "      <td>https://www.properati.com.ar/1cm8w_venta_local_palermo-soho_cabrera-jose-a-_5000_jardin_lavadero_patio_piscina_toilette_garage_ojo-propiedades</td>\n",
       "      <td>PALERMO</td>\n",
       "      <td>14.0</td>\n",
       "    </tr>\n",
       "  </tbody>\n",
       "</table>\n",
       "</div>"
      ],
      "text/plain": [
       "  created_on operation property_type  \\\n",
       "0 2017-09-22      sell         house   \n",
       "1 2017-08-01      sell         store   \n",
       "2 2017-08-02      sell         store   \n",
       "\n",
       "                             place_with_parent_names  \\\n",
       "0  |Argentina|Capital Federal|Palermo|Palermo Viejo|   \n",
       "1                |Argentina|Capital Federal|Palermo|   \n",
       "2   |Argentina|Capital Federal|Palermo|Palermo Soho|   \n",
       "\n",
       "                         lat-lon        lat        lon  price_aprox_usd  \\\n",
       "0  -34.5889531469,-58.4298817776 -34.588953 -58.429882        2000000.0   \n",
       "1          -34.586069,-58.414431 -34.586069 -58.414431         790000.0   \n",
       "2         -34.589723,-58.4325664 -34.589723 -58.432566         343000.0   \n",
       "\n",
       "   surface_total_in_m2  surface_covered_in_m2  price_usd_per_m2  floor  rooms  \\\n",
       "0                312.0                    NaN        6410.25641    NaN    NaN   \n",
       "1                121.0                  121.0        6528.92562    NaN    NaN   \n",
       "2                122.0                  108.0        2811.47541    NaN    2.0   \n",
       "\n",
       "   expenses  \\\n",
       "0       NaN   \n",
       "1       NaN   \n",
       "2       NaN   \n",
       "\n",
       "                                                                                                                                    properati_url  \\\n",
       "0                                                                               https://www.properati.com.ar/2os_venta_casa_palermo-viejo_rent-ba   \n",
       "1                       https://www.properati.com.ar/1cl7l_venta_local_palermo_santa-fe-av-al-3500_sotano_garage_subte-linea-d_deptos-temporarios   \n",
       "2  https://www.properati.com.ar/1cm8w_venta_local_palermo-soho_cabrera-jose-a-_5000_jardin_lavadero_patio_piscina_toilette_garage_ojo-propiedades   \n",
       "\n",
       "    barrio  comuna  \n",
       "0  PALERMO    14.0  \n",
       "1  PALERMO    14.0  \n",
       "2  PALERMO    14.0  "
      ]
     },
     "execution_count": 4,
     "metadata": {},
     "output_type": "execute_result"
    }
   ],
   "source": [
    "print(df.shape)\n",
    "df.head(3)"
   ]
  },
  {
   "cell_type": "markdown",
   "metadata": {
    "colab_type": "text",
    "id": "7FND71NHbe2Z"
   },
   "source": [
    "## Categorías de propiedades\n",
    "En primer lugar vamos a ver qué categorías existen en el campo `property_type`. Y de esas categorías cuantos valores tenemos de cada uno.\n",
    "\n",
    "**3) Mostrá** las categorías de `property_type` y cuántas instancias hay de cada una.\n",
    "\n",
    "Recordá utilizar funciones del **dataframe** de pandas para realizar esto."
   ]
  },
  {
   "cell_type": "code",
   "execution_count": 5,
   "metadata": {
    "colab": {
     "base_uri": "https://localhost:8080/",
     "height": 102
    },
    "colab_type": "code",
    "executionInfo": {
     "elapsed": 712,
     "status": "ok",
     "timestamp": 1540242589382,
     "user": {
      "displayName": "Rodrigo Andrés Crespillo",
      "photoUrl": "",
      "userId": "12484712302524035905"
     },
     "user_tz": 180
    },
    "id": "hk3hCnNObe2a",
    "outputId": "bee1b212-d460-4845-e3ec-3e8e435b753f"
   },
   "outputs": [
    {
     "data": {
      "text/plain": [
       "apartment    14807\n",
       "house         1618\n",
       "PH            1463\n",
       "store         1091\n",
       "Name: property_type, dtype: int64"
      ]
     },
     "execution_count": 5,
     "metadata": {},
     "output_type": "execute_result"
    }
   ],
   "source": [
    "# mostrá las categorías del campo property_type y mostrá la cant. de valores en esta celda\n",
    "df['property_type'].value_counts()\n"
   ]
  },
  {
   "cell_type": "markdown",
   "metadata": {
    "colab_type": "text",
    "id": "9hzBshW0be2e"
   },
   "source": [
    "### Filtrando las categorías\n",
    "\n",
    "De las categorías existentes sólo queremos quedarnos con las que sean casas (house), departamentos (apartment) o PH (PH). \n",
    "\n",
    "Para esto, \n",
    "\n",
    "**4) filtrá** el `dataframe` original creando un **nuevo** `dataframe` llamado `df_filtered`. Este es el `dataframe` que seguirás usando a lo largo del análisis.\n"
   ]
  },
  {
   "cell_type": "code",
   "execution_count": 6,
   "metadata": {
    "colab": {
     "base_uri": "https://localhost:8080/",
     "height": 34
    },
    "colab_type": "code",
    "executionInfo": {
     "elapsed": 733,
     "status": "ok",
     "timestamp": 1540242590280,
     "user": {
      "displayName": "Rodrigo Andrés Crespillo",
      "photoUrl": "",
      "userId": "12484712302524035905"
     },
     "user_tz": 180
    },
    "id": "sOdnll-Vbe2f",
    "outputId": "66e5844a-9f67-48fe-d5e0-ecf7feab813c"
   },
   "outputs": [
    {
     "data": {
      "text/plain": [
       "(17888, 17)"
      ]
     },
     "execution_count": 6,
     "metadata": {},
     "output_type": "execute_result"
    }
   ],
   "source": [
    "# Filtrá el dataframe en esta celda\n",
    "def isHoseApartmentPH(property):\n",
    "  return ((property == 'house') |\n",
    "          (property == 'apartment') | \n",
    "          (property == 'PH'))\n",
    "\n",
    "df_filtered = df[isHoseApartmentPH(df['property_type'])]\n",
    "df_filtered.shape"
   ]
  },
  {
   "cell_type": "markdown",
   "metadata": {
    "colab_type": "text",
    "id": "ZOA_rn_abe2j"
   },
   "source": [
    "### Visualizando las categorías\n",
    "**5)** Utilizando `seaborn` **creá un countplot** para visualizar las categorías de `df_filtered` en el campo `property_type` "
   ]
  },
  {
   "cell_type": "code",
   "execution_count": 7,
   "metadata": {
    "colab": {
     "base_uri": "https://localhost:8080/",
     "height": 531
    },
    "colab_type": "code",
    "executionInfo": {
     "elapsed": 1048,
     "status": "ok",
     "timestamp": 1540242591533,
     "user": {
      "displayName": "Rodrigo Andrés Crespillo",
      "photoUrl": "",
      "userId": "12484712302524035905"
     },
     "user_tz": 180
    },
    "id": "xOgMVdBibe2l",
    "outputId": "48d5a35f-bf04-439e-b916-96e6804d82d0"
   },
   "outputs": [
    {
     "data": {
      "image/png": "[encoded data removed]",
      "text/plain": [
       "<Figure size 864x576 with 1 Axes>"
      ]
     },
     "metadata": {
      "needs_background": "light"
     },
     "output_type": "display_data"
    }
   ],
   "source": [
    "# Visualizá las categorías en esta celda\n",
    "sns.countplot(x='property_type', data=df_filtered);"
   ]
  },
  {
   "cell_type": "markdown",
   "metadata": {
    "colab_type": "text",
    "id": "znc0qVZ4be2o"
   },
   "source": [
    "## Valores Faltantes"
   ]
  },
  {
   "cell_type": "markdown",
   "metadata": {
    "colab_type": "text",
    "id": "imzPflWhbe2p"
   },
   "source": [
    "Vamos a querer descartar aquellas instancias que tengan valores nulos en columnas importantes para el análisis del mercado.\n",
    "Estas columnas son las que informan **superficie (total o cubierta)**, **cantidad de ambientes**, **precio** y **precio por metro cuadrado**.\n",
    "\n",
    "**6) Quitá** del `dataframe` las instancias que no tengan ningún valor en los campos nombrados."
   ]
  },
  {
   "cell_type": "code",
   "execution_count": 8,
   "metadata": {
    "colab": {
     "base_uri": "https://localhost:8080/",
     "height": 119
    },
    "colab_type": "code",
    "executionInfo": {
     "elapsed": 827,
     "status": "ok",
     "timestamp": 1540242593410,
     "user": {
      "displayName": "Rodrigo Andrés Crespillo",
      "photoUrl": "",
      "userId": "12484712302524035905"
     },
     "user_tz": 180
    },
    "id": "UC3Dq13ybe2p",
    "outputId": "20eddfb9-dbf0-4bf5-8abc-21e20438e8de"
   },
   "outputs": [],
   "source": [
    "# Quitá las instancias con valores nules en esta celda\n",
    "initial_shape = df_filtered.shape\n",
    "df_filtered = df_filtered.dropna(how='all',\n",
    "                   subset=['surface_total_in_m2',\n",
    "                           'surface_covered_in_m2',\n",
    "                           'price_aprox_usd',\n",
    "                           'price_usd_per_m2'])\n",
    "end_shape = df_filtered.shape"
   ]
  },
  {
   "cell_type": "markdown",
   "metadata": {
    "colab_type": "text",
    "id": "Pea-DtnObe2t"
   },
   "source": [
    "**7)** A continuación **mostrá** cuantas instancias son las que descartaste a partir de quitar las que tenían valores nulos."
   ]
  },
  {
   "cell_type": "code",
   "execution_count": 9,
   "metadata": {
    "colab": {
     "base_uri": "https://localhost:8080/",
     "height": 34
    },
    "colab_type": "code",
    "executionInfo": {
     "elapsed": 729,
     "status": "ok",
     "timestamp": 1540242594316,
     "user": {
      "displayName": "Rodrigo Andrés Crespillo",
      "photoUrl": "",
      "userId": "12484712302524035905"
     },
     "user_tz": 180
    },
    "id": "F1eCTcEDbe2u",
    "outputId": "cdd434ac-0b4e-4264-d3b8-ed9eb09b2555"
   },
   "outputs": [
    {
     "name": "stdout",
     "output_type": "stream",
     "text": [
      "Cantidad de instancias descartadas: 863\n"
     ]
    }
   ],
   "source": [
    "# Mostrá en esta celda la cantidad de instancias descartadas\n",
    "print(\"Cantidad de instancias descartadas: {}\".format(initial_shape[0] - end_shape[0])) "
   ]
  },
  {
   "cell_type": "markdown",
   "metadata": {
    "colab_type": "text",
    "id": "D-CcSbl4be2z"
   },
   "source": [
    "Posiblemente existan otros atributos con valores faltantes en el dataset, pero que no son de tanta importancia. \n",
    "\n",
    "**8) Mostrá** qué otros atributos tienen valores faltantes en el `dataframe`."
   ]
  },
  {
   "cell_type": "code",
   "execution_count": 10,
   "metadata": {
    "colab": {
     "base_uri": "https://localhost:8080/",
     "height": 323
    },
    "colab_type": "code",
    "executionInfo": {
     "elapsed": 721,
     "status": "ok",
     "timestamp": 1540242595201,
     "user": {
      "displayName": "Rodrigo Andrés Crespillo",
      "photoUrl": "",
      "userId": "12484712302524035905"
     },
     "user_tz": 180
    },
    "id": "2H3E6I3ybe21",
    "outputId": "69c4b600-8a1a-4a33-cc90-16c31ed0f57b"
   },
   "outputs": [
    {
     "data": {
      "text/plain": [
       "created_on                 False\n",
       "operation                  False\n",
       "property_type              False\n",
       "place_with_parent_names    False\n",
       "lat-lon                    False\n",
       "lat                        False\n",
       "lon                        False\n",
       "price_aprox_usd             True\n",
       "surface_total_in_m2         True\n",
       "surface_covered_in_m2       True\n",
       "price_usd_per_m2            True\n",
       "floor                       True\n",
       "rooms                       True\n",
       "expenses                    True\n",
       "properati_url              False\n",
       "barrio                     False\n",
       "comuna                     False\n",
       "dtype: bool"
      ]
     },
     "execution_count": 10,
     "metadata": {},
     "output_type": "execute_result"
    }
   ],
   "source": [
    "# Mostrá en esta celda los otros atributos con valores faltantes\n",
    "df_filtered.isna().any()"
   ]
  },
  {
   "cell_type": "markdown",
   "metadata": {
    "colab_type": "text",
    "id": "BF9jMDwxbe25"
   },
   "source": [
    "#### Desafío: planteá alguna estrategia posible para reemplazar los valores faltantes en el atributo `surface_total_in_m2`."
   ]
  },
  {
   "cell_type": "markdown",
   "metadata": {
    "colab_type": "text",
    "id": "UZ2-9bOcE-Rk"
   },
   "source": [
    "Copletarlos con el valor medio de los inmuebles que tengan el mismo tipo de inmueble y pertenescan al mismo barrio"
   ]
  },
  {
   "cell_type": "code",
   "execution_count": 11,
   "metadata": {},
   "outputs": [
    {
     "data": {
      "text/html": [
       "<div>\n",
       "<style scoped>\n",
       "    .dataframe tbody tr th:only-of-type {\n",
       "        vertical-align: middle;\n",
       "    }\n",
       "\n",
       "    .dataframe tbody tr th {\n",
       "        vertical-align: top;\n",
       "    }\n",
       "\n",
       "    .dataframe thead th {\n",
       "        text-align: right;\n",
       "    }\n",
       "</style>\n",
       "<table border=\"1\" class=\"dataframe\">\n",
       "  <thead>\n",
       "    <tr style=\"text-align: right;\">\n",
       "      <th></th>\n",
       "      <th>lat</th>\n",
       "      <th>lon</th>\n",
       "      <th>price_aprox_usd</th>\n",
       "      <th>surface_total_in_m2</th>\n",
       "      <th>surface_covered_in_m2</th>\n",
       "      <th>price_usd_per_m2</th>\n",
       "      <th>floor</th>\n",
       "      <th>rooms</th>\n",
       "      <th>expenses</th>\n",
       "      <th>comuna</th>\n",
       "    </tr>\n",
       "  </thead>\n",
       "  <tbody>\n",
       "    <tr>\n",
       "      <th>lat</th>\n",
       "      <td>1.000000</td>\n",
       "      <td>-0.041539</td>\n",
       "      <td>0.193163</td>\n",
       "      <td>-0.014423</td>\n",
       "      <td>-0.014652</td>\n",
       "      <td>0.237781</td>\n",
       "      <td>0.124469</td>\n",
       "      <td>-0.005848</td>\n",
       "      <td>0.074745</td>\n",
       "      <td>0.473310</td>\n",
       "    </tr>\n",
       "    <tr>\n",
       "      <th>lon</th>\n",
       "      <td>-0.041539</td>\n",
       "      <td>1.000000</td>\n",
       "      <td>0.117355</td>\n",
       "      <td>-0.005495</td>\n",
       "      <td>-0.003104</td>\n",
       "      <td>0.147022</td>\n",
       "      <td>-0.045574</td>\n",
       "      <td>0.063903</td>\n",
       "      <td>0.003222</td>\n",
       "      <td>-0.643540</td>\n",
       "    </tr>\n",
       "    <tr>\n",
       "      <th>price_aprox_usd</th>\n",
       "      <td>0.193163</td>\n",
       "      <td>0.117355</td>\n",
       "      <td>1.000000</td>\n",
       "      <td>0.039292</td>\n",
       "      <td>0.034960</td>\n",
       "      <td>0.546932</td>\n",
       "      <td>0.009011</td>\n",
       "      <td>0.462345</td>\n",
       "      <td>0.136507</td>\n",
       "      <td>0.048039</td>\n",
       "    </tr>\n",
       "    <tr>\n",
       "      <th>surface_total_in_m2</th>\n",
       "      <td>-0.014423</td>\n",
       "      <td>-0.005495</td>\n",
       "      <td>0.039292</td>\n",
       "      <td>1.000000</td>\n",
       "      <td>0.990777</td>\n",
       "      <td>-0.025010</td>\n",
       "      <td>0.000220</td>\n",
       "      <td>0.048835</td>\n",
       "      <td>0.066064</td>\n",
       "      <td>0.002493</td>\n",
       "    </tr>\n",
       "    <tr>\n",
       "      <th>surface_covered_in_m2</th>\n",
       "      <td>-0.014652</td>\n",
       "      <td>-0.003104</td>\n",
       "      <td>0.034960</td>\n",
       "      <td>0.990777</td>\n",
       "      <td>1.000000</td>\n",
       "      <td>-0.018555</td>\n",
       "      <td>-0.004036</td>\n",
       "      <td>0.047077</td>\n",
       "      <td>0.145851</td>\n",
       "      <td>0.000996</td>\n",
       "    </tr>\n",
       "    <tr>\n",
       "      <th>price_usd_per_m2</th>\n",
       "      <td>0.237781</td>\n",
       "      <td>0.147022</td>\n",
       "      <td>0.546932</td>\n",
       "      <td>-0.025010</td>\n",
       "      <td>-0.018555</td>\n",
       "      <td>1.000000</td>\n",
       "      <td>0.014259</td>\n",
       "      <td>-0.035369</td>\n",
       "      <td>0.044585</td>\n",
       "      <td>0.051218</td>\n",
       "    </tr>\n",
       "    <tr>\n",
       "      <th>floor</th>\n",
       "      <td>0.124469</td>\n",
       "      <td>-0.045574</td>\n",
       "      <td>0.009011</td>\n",
       "      <td>0.000220</td>\n",
       "      <td>-0.004036</td>\n",
       "      <td>0.014259</td>\n",
       "      <td>1.000000</td>\n",
       "      <td>-0.050173</td>\n",
       "      <td>0.172288</td>\n",
       "      <td>0.097601</td>\n",
       "    </tr>\n",
       "    <tr>\n",
       "      <th>rooms</th>\n",
       "      <td>-0.005848</td>\n",
       "      <td>0.063903</td>\n",
       "      <td>0.462345</td>\n",
       "      <td>0.048835</td>\n",
       "      <td>0.047077</td>\n",
       "      <td>-0.035369</td>\n",
       "      <td>-0.050173</td>\n",
       "      <td>1.000000</td>\n",
       "      <td>0.546847</td>\n",
       "      <td>-0.054232</td>\n",
       "    </tr>\n",
       "    <tr>\n",
       "      <th>expenses</th>\n",
       "      <td>0.074745</td>\n",
       "      <td>0.003222</td>\n",
       "      <td>0.136507</td>\n",
       "      <td>0.066064</td>\n",
       "      <td>0.145851</td>\n",
       "      <td>0.044585</td>\n",
       "      <td>0.172288</td>\n",
       "      <td>0.546847</td>\n",
       "      <td>1.000000</td>\n",
       "      <td>0.033921</td>\n",
       "    </tr>\n",
       "    <tr>\n",
       "      <th>comuna</th>\n",
       "      <td>0.473310</td>\n",
       "      <td>-0.643540</td>\n",
       "      <td>0.048039</td>\n",
       "      <td>0.002493</td>\n",
       "      <td>0.000996</td>\n",
       "      <td>0.051218</td>\n",
       "      <td>0.097601</td>\n",
       "      <td>-0.054232</td>\n",
       "      <td>0.033921</td>\n",
       "      <td>1.000000</td>\n",
       "    </tr>\n",
       "  </tbody>\n",
       "</table>\n",
       "</div>"
      ],
      "text/plain": [
       "                            lat       lon  price_aprox_usd  \\\n",
       "lat                    1.000000 -0.041539         0.193163   \n",
       "lon                   -0.041539  1.000000         0.117355   \n",
       "price_aprox_usd        0.193163  0.117355         1.000000   \n",
       "surface_total_in_m2   -0.014423 -0.005495         0.039292   \n",
       "surface_covered_in_m2 -0.014652 -0.003104         0.034960   \n",
       "price_usd_per_m2       0.237781  0.147022         0.546932   \n",
       "floor                  0.124469 -0.045574         0.009011   \n",
       "rooms                 -0.005848  0.063903         0.462345   \n",
       "expenses               0.074745  0.003222         0.136507   \n",
       "comuna                 0.473310 -0.643540         0.048039   \n",
       "\n",
       "                       surface_total_in_m2  surface_covered_in_m2  \\\n",
       "lat                              -0.014423              -0.014652   \n",
       "lon                              -0.005495              -0.003104   \n",
       "price_aprox_usd                   0.039292               0.034960   \n",
       "surface_total_in_m2               1.000000               0.990777   \n",
       "surface_covered_in_m2             0.990777               1.000000   \n",
       "price_usd_per_m2                 -0.025010              -0.018555   \n",
       "floor                             0.000220              -0.004036   \n",
       "rooms                             0.048835               0.047077   \n",
       "expenses                          0.066064               0.145851   \n",
       "comuna                            0.002493               0.000996   \n",
       "\n",
       "                       price_usd_per_m2     floor     rooms  expenses  \\\n",
       "lat                            0.237781  0.124469 -0.005848  0.074745   \n",
       "lon                            0.147022 -0.045574  0.063903  0.003222   \n",
       "price_aprox_usd                0.546932  0.009011  0.462345  0.136507   \n",
       "surface_total_in_m2           -0.025010  0.000220  0.048835  0.066064   \n",
       "surface_covered_in_m2         -0.018555 -0.004036  0.047077  0.145851   \n",
       "price_usd_per_m2               1.000000  0.014259 -0.035369  0.044585   \n",
       "floor                          0.014259  1.000000 -0.050173  0.172288   \n",
       "rooms                         -0.035369 -0.050173  1.000000  0.546847   \n",
       "expenses                       0.044585  0.172288  0.546847  1.000000   \n",
       "comuna                         0.051218  0.097601 -0.054232  0.033921   \n",
       "\n",
       "                         comuna  \n",
       "lat                    0.473310  \n",
       "lon                   -0.643540  \n",
       "price_aprox_usd        0.048039  \n",
       "surface_total_in_m2    0.002493  \n",
       "surface_covered_in_m2  0.000996  \n",
       "price_usd_per_m2       0.051218  \n",
       "floor                  0.097601  \n",
       "rooms                 -0.054232  \n",
       "expenses               0.033921  \n",
       "comuna                 1.000000  "
      ]
     },
     "execution_count": 11,
     "metadata": {},
     "output_type": "execute_result"
    }
   ],
   "source": [
    "corr = df_filtered.corr()\n",
    "corr"
   ]
  },
  {
   "cell_type": "code",
   "execution_count": 12,
   "metadata": {},
   "outputs": [
    {
     "data": {
      "image/png": "[encoded data removed]",
      "text/plain": [
       "<Figure size 720x576 with 2 Axes>"
      ]
     },
     "metadata": {
      "needs_background": "light"
     },
     "output_type": "display_data"
    }
   ],
   "source": [
    "plt.figure(figsize=(10,8)) \n",
    "sns.heatmap(corr, \n",
    "            xticklabels=corr.columns.values,\n",
    "            yticklabels=corr.columns.values,\n",
    "           annot=True)\n",
    "plt.show()"
   ]
  },
  {
   "cell_type": "code",
   "execution_count": 13,
   "metadata": {
    "colab": {
     "base_uri": "https://localhost:8080/",
     "height": 102
    },
    "colab_type": "code",
    "executionInfo": {
     "elapsed": 728,
     "status": "ok",
     "timestamp": 1540242596091,
     "user": {
      "displayName": "Rodrigo Andrés Crespillo",
      "photoUrl": "",
      "userId": "12484712302524035905"
     },
     "user_tz": 180
    },
    "id": "vFgSpg_02u-b",
    "outputId": "73de4229-f6a1-4f92-e834-bd24ff15e86f"
   },
   "outputs": [
    {
     "data": {
      "text/plain": [
       "created_on                 False\n",
       "operation                  False\n",
       "property_type              False\n",
       "place_with_parent_names    False\n",
       "lat-lon                    False\n",
       "lat                        False\n",
       "lon                        False\n",
       "price_aprox_usd             True\n",
       "surface_total_in_m2        False\n",
       "surface_covered_in_m2       True\n",
       "price_usd_per_m2            True\n",
       "floor                       True\n",
       "rooms                       True\n",
       "expenses                    True\n",
       "properati_url              False\n",
       "barrio                     False\n",
       "comuna                     False\n",
       "dtype: bool"
      ]
     },
     "execution_count": 13,
     "metadata": {},
     "output_type": "execute_result"
    }
   ],
   "source": [
    "df_filtered['surface_total_in_m2'] = df_filtered['surface_total_in_m2'].fillna(\n",
    "    df_filtered.groupby([\n",
    "        \"barrio\", \n",
    "        \"property_type\"\n",
    "    ])[\"surface_total_in_m2\"].transform(\"median\"))\n",
    "df_filtered.isna().any()"
   ]
  },
  {
   "cell_type": "markdown",
   "metadata": {
    "colab_type": "text",
    "id": "XyYYU3xj5SnZ"
   },
   "source": [
    "Ya que completamos esto datos tambien completaremos el balor de rooms ya que lo necesitaremos para graficar mas adelante"
   ]
  },
  {
   "cell_type": "code",
   "execution_count": 14,
   "metadata": {},
   "outputs": [
    {
     "data": {
      "text/plain": [
       "NaN         1057\n",
       " 40.0        370\n",
       " 60.0        318\n",
       " 35.0        313\n",
       " 50.0        299\n",
       " 45.0        297\n",
       " 70.0        296\n",
       " 34.0        272\n",
       " 36.0        262\n",
       " 30.0        258\n",
       " 38.0        257\n",
       " 33.0        256\n",
       " 42.0        249\n",
       " 100.0       247\n",
       " 37.0        238\n",
       " 32.0        224\n",
       " 46.0        221\n",
       " 47.0        220\n",
       " 55.0        214\n",
       " 65.0        212\n",
       " 80.0        208\n",
       " 48.0        200\n",
       " 75.0        196\n",
       " 44.0        184\n",
       " 43.0        180\n",
       " 39.0        172\n",
       " 52.0        172\n",
       " 41.0        171\n",
       " 90.0        169\n",
       " 31.0        165\n",
       "            ... \n",
       " 345.0         1\n",
       " 3262.0        1\n",
       " 680.0         1\n",
       " 11.0          1\n",
       " 816.0         1\n",
       " 631.0         1\n",
       " 750.0         1\n",
       " 4497.0        1\n",
       " 4556.0        1\n",
       " 446.0         1\n",
       " 3172.0        1\n",
       " 411.0         1\n",
       " 454.0         1\n",
       " 565.0         1\n",
       " 279.0         1\n",
       " 666.0         1\n",
       " 745.0         1\n",
       " 362.0         1\n",
       " 20953.0       1\n",
       " 387.0         1\n",
       " 473.0         1\n",
       " 783.0         1\n",
       " 1600.0        1\n",
       " 376.0         1\n",
       " 487.0         1\n",
       " 373.0         1\n",
       " 412.0         1\n",
       " 855.0         1\n",
       " 618.0         1\n",
       " 453.0         1\n",
       "Name: surface_covered_in_m2, Length: 507, dtype: int64"
      ]
     },
     "execution_count": 14,
     "metadata": {},
     "output_type": "execute_result"
    }
   ],
   "source": [
    "df_filtered['surface_covered_in_m2'].value_counts(dropna=False)"
   ]
  },
  {
   "cell_type": "code",
   "execution_count": 15,
   "metadata": {},
   "outputs": [
    {
     "data": {
      "text/plain": [
       "1057"
      ]
     },
     "execution_count": 15,
     "metadata": {},
     "output_type": "execute_result"
    }
   ],
   "source": [
    "df_filtered['surface_covered_in_m2'].isna().sum()"
   ]
  },
  {
   "cell_type": "code",
   "execution_count": 16,
   "metadata": {},
   "outputs": [
    {
     "data": {
      "text/plain": [
       "created_on                 False\n",
       "operation                  False\n",
       "property_type              False\n",
       "place_with_parent_names    False\n",
       "lat-lon                    False\n",
       "lat                        False\n",
       "lon                        False\n",
       "price_aprox_usd             True\n",
       "surface_total_in_m2        False\n",
       "surface_covered_in_m2       True\n",
       "price_usd_per_m2            True\n",
       "floor                       True\n",
       "rooms                       True\n",
       "expenses                    True\n",
       "properati_url              False\n",
       "barrio                     False\n",
       "comuna                     False\n",
       "dtype: bool"
      ]
     },
     "execution_count": 16,
     "metadata": {},
     "output_type": "execute_result"
    }
   ],
   "source": [
    "df_filtered['surface_covered_in_m2'] = df_filtered['surface_covered_in_m2'].fillna(\n",
    "    df_filtered.groupby([\n",
    "        \"surface_total_in_m2\"\n",
    "    ])[\"surface_covered_in_m2\"].transform(\"mean\"))\n",
    "df_filtered.isna().any()"
   ]
  },
  {
   "cell_type": "code",
   "execution_count": 17,
   "metadata": {},
   "outputs": [
    {
     "data": {
      "text/plain": [
       "40.000000      376\n",
       "60.000000      318\n",
       "35.000000      313\n",
       "50.000000      299\n",
       "45.000000      297\n",
       "70.000000      296\n",
       "34.000000      272\n",
       "36.000000      262\n",
       "30.000000      258\n",
       "38.000000      257\n",
       "33.000000      256\n",
       "42.000000      249\n",
       "100.000000     247\n",
       "37.000000      238\n",
       "32.000000      224\n",
       "46.000000      221\n",
       "47.000000      220\n",
       "55.000000      214\n",
       "65.000000      212\n",
       "80.000000      208\n",
       "48.000000      200\n",
       "75.000000      196\n",
       "44.000000      184\n",
       "43.000000      180\n",
       "39.000000      172\n",
       "52.000000      172\n",
       "41.000000      171\n",
       "90.000000      169\n",
       "31.000000      165\n",
       "49.000000      150\n",
       "              ... \n",
       "850.000000       1\n",
       "147.523810       1\n",
       "484.000000       1\n",
       "816.000000       1\n",
       "478.000000       1\n",
       "730.000000       1\n",
       "209.833333       1\n",
       "745.000000       1\n",
       "121.647059       1\n",
       "204.428571       1\n",
       "11.000000        1\n",
       "161.058824       1\n",
       "592.000000       1\n",
       "432.000000       1\n",
       "980.000000       1\n",
       "199.125000       1\n",
       "387.000000       1\n",
       "485.000000       1\n",
       "150.090909       1\n",
       "274.428571       1\n",
       "3924.000000      1\n",
       "4497.000000      1\n",
       "516.000000       1\n",
       "514.000000       1\n",
       "5780.000000      1\n",
       "437.000000       1\n",
       "2676.000000      1\n",
       "414.000000       1\n",
       "473.000000       1\n",
       "74.627451        1\n",
       "Name: surface_covered_in_m2, Length: 698, dtype: int64"
      ]
     },
     "execution_count": 17,
     "metadata": {},
     "output_type": "execute_result"
    }
   ],
   "source": [
    "df_filtered['surface_covered_in_m2'].value_counts(dropna=False)"
   ]
  },
  {
   "cell_type": "code",
   "execution_count": 18,
   "metadata": {},
   "outputs": [
    {
     "data": {
      "text/plain": [
       "21"
      ]
     },
     "execution_count": 18,
     "metadata": {},
     "output_type": "execute_result"
    }
   ],
   "source": [
    "df_filtered['surface_covered_in_m2'].isna().sum()"
   ]
  },
  {
   "cell_type": "code",
   "execution_count": 19,
   "metadata": {},
   "outputs": [],
   "source": [
    "#df_filtered[df_filtered['surface_covered_in_m2'].isna()]"
   ]
  },
  {
   "cell_type": "code",
   "execution_count": 20,
   "metadata": {
    "colab": {
     "base_uri": "https://localhost:8080/",
     "height": 102
    },
    "colab_type": "code",
    "executionInfo": {
     "elapsed": 763,
     "status": "ok",
     "timestamp": 1540242598034,
     "user": {
      "displayName": "Rodrigo Andrés Crespillo",
      "photoUrl": "",
      "userId": "12484712302524035905"
     },
     "user_tz": 180
    },
    "id": "mHb8SOK5mjTC",
    "outputId": "093e987f-eaa5-455d-afd0-4ad19aafd274"
   },
   "outputs": [],
   "source": [
    "df_filtered['rooms'] = df_filtered['rooms'].fillna(\n",
    "    df_filtered.groupby([\n",
    "        \"barrio\", \n",
    "        \"property_type\"\n",
    "    ])[\"rooms\"].transform(\"median\"))"
   ]
  },
  {
   "cell_type": "code",
   "execution_count": 21,
   "metadata": {
    "colab": {
     "base_uri": "https://localhost:8080/",
     "height": 323
    },
    "colab_type": "code",
    "executionInfo": {
     "elapsed": 876,
     "status": "ok",
     "timestamp": 1540242599081,
     "user": {
      "displayName": "Rodrigo Andrés Crespillo",
      "photoUrl": "",
      "userId": "12484712302524035905"
     },
     "user_tz": 180
    },
    "id": "jG1v9-kg6dR6",
    "outputId": "f05c9eb8-df82-43dc-8049-7ea6610ba2de"
   },
   "outputs": [
    {
     "data": {
      "text/plain": [
       "created_on                 False\n",
       "operation                  False\n",
       "property_type              False\n",
       "place_with_parent_names    False\n",
       "lat-lon                    False\n",
       "lat                        False\n",
       "lon                        False\n",
       "price_aprox_usd             True\n",
       "surface_total_in_m2        False\n",
       "surface_covered_in_m2       True\n",
       "price_usd_per_m2            True\n",
       "floor                       True\n",
       "rooms                       True\n",
       "expenses                    True\n",
       "properati_url              False\n",
       "barrio                     False\n",
       "comuna                     False\n",
       "dtype: bool"
      ]
     },
     "execution_count": 21,
     "metadata": {},
     "output_type": "execute_result"
    }
   ],
   "source": [
    " df_filtered.isna().any()"
   ]
  },
  {
   "cell_type": "code",
   "execution_count": 22,
   "metadata": {
    "colab": {
     "base_uri": "https://localhost:8080/",
     "height": 425
    },
    "colab_type": "code",
    "executionInfo": {
     "elapsed": 916,
     "status": "ok",
     "timestamp": 1540242600199,
     "user": {
      "displayName": "Rodrigo Andrés Crespillo",
      "photoUrl": "",
      "userId": "12484712302524035905"
     },
     "user_tz": 180
    },
    "id": "9txWT2rJ7UsV",
    "outputId": "eb852677-f160-4100-dacd-3bec0e9c1a89"
   },
   "outputs": [
    {
     "data": {
      "text/plain": [
       "40.000000      376\n",
       "60.000000      318\n",
       "35.000000      313\n",
       "50.000000      299\n",
       "45.000000      297\n",
       "70.000000      296\n",
       "34.000000      272\n",
       "36.000000      262\n",
       "30.000000      258\n",
       "38.000000      257\n",
       "33.000000      256\n",
       "42.000000      249\n",
       "100.000000     247\n",
       "37.000000      238\n",
       "32.000000      224\n",
       "46.000000      221\n",
       "47.000000      220\n",
       "55.000000      214\n",
       "65.000000      212\n",
       "80.000000      208\n",
       "48.000000      200\n",
       "75.000000      196\n",
       "44.000000      184\n",
       "43.000000      180\n",
       "39.000000      172\n",
       "52.000000      172\n",
       "41.000000      171\n",
       "90.000000      169\n",
       "31.000000      165\n",
       "49.000000      150\n",
       "              ... \n",
       "850.000000       1\n",
       "147.523810       1\n",
       "484.000000       1\n",
       "816.000000       1\n",
       "478.000000       1\n",
       "730.000000       1\n",
       "209.833333       1\n",
       "745.000000       1\n",
       "121.647059       1\n",
       "204.428571       1\n",
       "11.000000        1\n",
       "161.058824       1\n",
       "592.000000       1\n",
       "432.000000       1\n",
       "980.000000       1\n",
       "199.125000       1\n",
       "387.000000       1\n",
       "485.000000       1\n",
       "150.090909       1\n",
       "274.428571       1\n",
       "3924.000000      1\n",
       "4497.000000      1\n",
       "516.000000       1\n",
       "514.000000       1\n",
       "5780.000000      1\n",
       "437.000000       1\n",
       "2676.000000      1\n",
       "414.000000       1\n",
       "473.000000       1\n",
       "74.627451        1\n",
       "Name: surface_covered_in_m2, Length: 698, dtype: int64"
      ]
     },
     "execution_count": 22,
     "metadata": {},
     "output_type": "execute_result"
    }
   ],
   "source": [
    "df_filtered['surface_covered_in_m2'].value_counts(dropna=False)"
   ]
  },
  {
   "cell_type": "markdown",
   "metadata": {},
   "source": [
    "Existen numeros valores en los decimales asi que decido redondearlos"
   ]
  },
  {
   "cell_type": "code",
   "execution_count": 23,
   "metadata": {},
   "outputs": [],
   "source": [
    "#df_filtered['rooms'].round"
   ]
  },
  {
   "cell_type": "markdown",
   "metadata": {
    "colab_type": "text",
    "id": "2Ar4HTi6be26"
   },
   "source": [
    "## Datos erróneos"
   ]
  },
  {
   "cell_type": "markdown",
   "metadata": {
    "colab_type": "text",
    "id": "0u3rVTOtbe27"
   },
   "source": [
    "El siguiente paso es analizar errores que puede llegar a haber en el dataset. \n",
    "\n",
    "Por ejemplo, la **superficie total no puede ser menor que la cubierta**. Si esto sucede, podemos optar por eliminar esas filas o intentar corregir el problema. Veamos en primer lugar si esto sucede.\n",
    "\n",
    "**9) Mostrá** cuantas instancias existen que tengan el problema de este dato erróneo y guardalas en una variable llamada `wrong_surface_rows`"
   ]
  },
  {
   "cell_type": "code",
   "execution_count": 24,
   "metadata": {
    "colab": {},
    "colab_type": "code",
    "id": "L9OEG7KCbe28"
   },
   "outputs": [],
   "source": [
    "# Mostrá en esta celda cuántas instancias tienen errores en la superficie\n",
    "wrong_surface_rows = df_filtered[df_filtered['surface_covered_in_m2'] > df_filtered['surface_total_in_m2']]"
   ]
  },
  {
   "cell_type": "markdown",
   "metadata": {
    "colab_type": "text",
    "id": "ewxn3zNDbe2_"
   },
   "source": [
    "Proponemos no borrar estas instancias erróneas, sino intercambiar los valores de **superficie total** con **superficie cubierta** en caso de que se cumpla la condición mencionada."
   ]
  },
  {
   "cell_type": "code",
   "execution_count": 25,
   "metadata": {
    "colab": {
     "base_uri": "https://localhost:8080/",
     "height": 119
    },
    "colab_type": "code",
    "executionInfo": {
     "elapsed": 1001,
     "status": "ok",
     "timestamp": 1540242602242,
     "user": {
      "displayName": "Rodrigo Andrés Crespillo",
      "photoUrl": "",
      "userId": "12484712302524035905"
     },
     "user_tz": 180
    },
    "id": "6iXMScvKbe3A",
    "outputId": "d17b960e-159c-4223-a988-0a8ef1ed3837"
   },
   "outputs": [],
   "source": [
    "df_filtered.at[wrong_surface_rows.index, 'surface_total_in_m2'] = wrong_surface_rows.surface_covered_in_m2\n",
    "df_filtered.at[wrong_surface_rows.index, 'surface_covered_in_m2'] = wrong_surface_rows.surface_total_in_m2"
   ]
  },
  {
   "cell_type": "markdown",
   "metadata": {
    "colab_type": "text",
    "id": "IpfgUgxFbe3D"
   },
   "source": [
    "Por otro lado, sucede que las inmobiliarias cuando no cuentan con las coordenadas reales de las propiedades utilizan valores que no son correctos. Por ejemplo, el punto centro de cada barrio o puntos de interés como el Obelisco. Esto puede afectar el análisis relacionado con la ubicación de cada propiedad.\n",
    "\n",
    "Veamos en primer lugar si hay coordenadas que se repiten."
   ]
  },
  {
   "cell_type": "code",
   "execution_count": 26,
   "metadata": {
    "colab": {
     "base_uri": "https://localhost:8080/",
     "height": 221
    },
    "colab_type": "code",
    "executionInfo": {
     "elapsed": 717,
     "status": "ok",
     "timestamp": 1540242603114,
     "user": {
      "displayName": "Rodrigo Andrés Crespillo",
      "photoUrl": "",
      "userId": "12484712302524035905"
     },
     "user_tz": 180
    },
    "id": "7u8E2giRbe3E",
    "outputId": "ad826173-e398-40e4-b0ed-3e878df6f4ea"
   },
   "outputs": [
    {
     "data": {
      "text/plain": [
       "lat         lon       \n",
       "-34.589546  -58.397364    155\n",
       "-34.571150  -58.423297    127\n",
       "-34.562084  -58.456686     87\n",
       "-34.620928  -58.445874     49\n",
       "-34.609821  -58.392606     44\n",
       "-34.608608  -58.448515     40\n",
       "-34.622973  -58.439913     38\n",
       "-34.603771  -58.381587     36\n",
       "-34.617719  -58.362056     36\n",
       "-34.610122  -58.405941     32\n",
       "dtype: int64"
      ]
     },
     "execution_count": 26,
     "metadata": {},
     "output_type": "execute_result"
    }
   ],
   "source": [
    "conteo_puntos = df_filtered.groupby(['lat', 'lon']).size()\n",
    "conteo_puntos[conteo_puntos > 1].sort_values(ascending=False).head(10)"
   ]
  },
  {
   "cell_type": "markdown",
   "metadata": {
    "colab_type": "text",
    "id": "rkRYGmqdbe3H"
   },
   "source": [
    "Por ejemplo, para el caso del tercer punto, se puede verificar que corresponde a la esquina de Av. Cabildo y Juramento.\n",
    "Nos quedamos entonces con las propiedades con coordenadas que se repitan hasta 5 veces."
   ]
  },
  {
   "cell_type": "code",
   "execution_count": 27,
   "metadata": {
    "colab": {},
    "colab_type": "code",
    "id": "pyxabWEUbe3I"
   },
   "outputs": [],
   "source": [
    "conteo_puntos.name = 'conteo'\n",
    "\n",
    "df_filtered = df_filtered.join(conteo_puntos, on=['lat', 'lon'])\n",
    "\n",
    "df_filtered = df_filtered[df_filtered.conteo <= 5]"
   ]
  },
  {
   "cell_type": "markdown",
   "metadata": {
    "colab_type": "text",
    "id": "AoD13QMTbe3M"
   },
   "source": [
    "Eliminamos el atributo `conteo` dado que ya no nos sirve."
   ]
  },
  {
   "cell_type": "code",
   "execution_count": 28,
   "metadata": {
    "colab": {},
    "colab_type": "code",
    "id": "6ggXtKY0be3N"
   },
   "outputs": [],
   "source": [
    "df_filtered.drop('conteo', inplace=True, axis=1)"
   ]
  },
  {
   "cell_type": "markdown",
   "metadata": {
    "colab_type": "text",
    "id": "O2Qc4emYbe3Q"
   },
   "source": [
    "## Estudiando los barrios"
   ]
  },
  {
   "cell_type": "markdown",
   "metadata": {
    "colab_type": "text",
    "id": "OCZYGSj9be3Q"
   },
   "source": [
    "### Barrios con más edificios y barrios con más casas\n",
    "Al saber qué barrios son los que tienen más cantidad de edificios en venta y cuáles son los que tienen más casas podemos darnos una idea de qué tipo de barrio es. Si es más residencial, con más población, poder adquisitivo, etc. \n",
    "Para eso vamos a empezar calculando los porcentajes de cada tipo de propiedad según el barrio."
   ]
  },
  {
   "cell_type": "code",
   "execution_count": 29,
   "metadata": {
    "colab": {},
    "colab_type": "code",
    "id": "VMExITACbe3S"
   },
   "outputs": [],
   "source": [
    "total_propiedades = df_filtered.groupby('barrio')['property_type'].count().values"
   ]
  },
  {
   "cell_type": "code",
   "execution_count": 30,
   "metadata": {
    "colab": {},
    "colab_type": "code",
    "id": "pTfZwQ-sbe3U"
   },
   "outputs": [],
   "source": [
    "porcentaje_casas_ph = df_filtered[df_filtered.property_type.isin(['PH', 'house'])].groupby('barrio').count().property_type/total_propiedades\n",
    "porcentaje_edificios = df_filtered[df_filtered.property_type == 'apartment'].groupby('barrio').count().property_type/total_propiedades"
   ]
  },
  {
   "cell_type": "code",
   "execution_count": 31,
   "metadata": {
    "colab": {
     "base_uri": "https://localhost:8080/",
     "height": 289
    },
    "colab_type": "code",
    "executionInfo": {
     "elapsed": 747,
     "status": "ok",
     "timestamp": 1540242608563,
     "user": {
      "displayName": "Rodrigo Andrés Crespillo",
      "photoUrl": "",
      "userId": "12484712302524035905"
     },
     "user_tz": 180
    },
    "id": "8r_YK9OQbe3W",
    "outputId": "fce5b15f-6c5a-4c4f-bb64-943269b589e0"
   },
   "outputs": [
    {
     "name": "stdout",
     "output_type": "stream",
     "text": [
      "Barrios con mayor porcentaje de edificios: \n",
      " barrio\n",
      "PUERTO MADERO    0.992537\n",
      "RETIRO           0.979633\n",
      "SAN NICOLAS      0.977778\n",
      "RECOLETA         0.971991\n",
      "BELGRANO         0.921277\n",
      "Name: property_type, dtype: float64\n",
      "Barrios con mayor porcentaje de casas y phs: \n",
      "  barrio\n",
      "VILLA RIACHUELO      0.739130\n",
      "VERSALLES            0.666667\n",
      "MATADEROS            0.613636\n",
      "PARQUE AVELLANEDA    0.608696\n",
      "VILLA REAL           0.574468\n",
      "Name: property_type, dtype: float64\n"
     ]
    }
   ],
   "source": [
    "print(\"Barrios con mayor porcentaje de edificios: \\n\", porcentaje_edificios.sort_values()[::-1][:5])\n",
    "print(\"Barrios con mayor porcentaje de casas y phs: \\n \", porcentaje_casas_ph.sort_values()[::-1][:5])"
   ]
  },
  {
   "cell_type": "markdown",
   "metadata": {
    "colab_type": "text",
    "id": "-WNBBtqvbe3a"
   },
   "source": [
    "Para darnos una idea de las diferencias entre los porcentajes de edificios y casas en estos barrios, vamos a graficarlos\n",
    "en forma de torta."
   ]
  },
  {
   "cell_type": "code",
   "execution_count": 32,
   "metadata": {
    "colab": {
     "base_uri": "https://localhost:8080/",
     "height": 428
    },
    "colab_type": "code",
    "executionInfo": {
     "elapsed": 1214,
     "status": "ok",
     "timestamp": 1540242609931,
     "user": {
      "displayName": "Rodrigo Andrés Crespillo",
      "photoUrl": "",
      "userId": "12484712302524035905"
     },
     "user_tz": 180
    },
    "id": "RZ2XHkLXbe3b",
    "outputId": "a6292925-5b9b-46a5-8e1c-c72e17a7c7af"
   },
   "outputs": [
    {
     "data": {
      "text/plain": [
       "<matplotlib.axes._subplots.AxesSubplot at 0x7fd2ede3be10>"
      ]
     },
     "execution_count": 32,
     "metadata": {},
     "output_type": "execute_result"
    },
    {
     "data": {
      "image/png": "[encoded data removed]",
      "text/plain": [
       "<Figure size 1008x504 with 2 Axes>"
      ]
     },
     "metadata": {},
     "output_type": "display_data"
    }
   ],
   "source": [
    "barrios_casas = porcentaje_casas_ph.sort_values()[::-1][:5].index\n",
    "barrios_edificios = porcentaje_edificios.sort_values()[::-1][:5].index\n",
    "fig, axs = plt.subplots(1,2,figsize=(14,7))\n",
    "df_filtered[df_filtered.barrio.isin(barrios_edificios)].property_type.value_counts().plot(x=None,y=None, kind='pie', startangle=30, ax=axs[0],autopct='%1.2f%%')\n",
    "df_filtered[df_filtered.barrio.isin(barrios_casas)].property_type.value_counts().plot(x=None,y=None, kind='pie', ax=axs[1],autopct='%1.2f%%')"
   ]
  },
  {
   "cell_type": "markdown",
   "metadata": {
    "colab_type": "text",
    "id": "-FuDAWBebe3d"
   },
   "source": [
    "### Barrios más caros y más baratos"
   ]
  },
  {
   "cell_type": "markdown",
   "metadata": {
    "colab_type": "text",
    "id": "fBWehQo2be3g"
   },
   "source": [
    "Veamos primero la distribución del precio por metro cuadrado para todo el dataset. De esta manera, vamos a remover valores que consideremos extremos.\n",
    "\n",
    "En el siguiente proyecto vamos a volver sobre este tema con más profundidad.\n",
    "\n",
    "**10)** Tomando el atributo `price_usd_per_m2` **calculá** su **mínimo**, **máximo**, **promedio (mean)**, **mediana (median)** y **desvío estándar (std)**"
   ]
  },
  {
   "cell_type": "code",
   "execution_count": 33,
   "metadata": {
    "colab": {
     "base_uri": "https://localhost:8080/",
     "height": 102
    },
    "colab_type": "code",
    "executionInfo": {
     "elapsed": 835,
     "status": "ok",
     "timestamp": 1540242610794,
     "user": {
      "displayName": "Rodrigo Andrés Crespillo",
      "photoUrl": "",
      "userId": "12484712302524035905"
     },
     "user_tz": 180
    },
    "id": "pVXoTZkybe3h",
    "outputId": "43d352e9-7131-4bc1-8fc2-07e0e5ec4564"
   },
   "outputs": [
    {
     "name": "stdout",
     "output_type": "stream",
     "text": [
      "Minimo: 0.9583333333333334\n",
      "Máximo: 142450.14102564106\n",
      "Promedio: 2712.6055908858034\n",
      "Mediana: 2519.4725311762722\n",
      "Desvío estándar: 1929.6427712366049\n"
     ]
    }
   ],
   "source": [
    "# Mostrá en esta celda los cálculos\n",
    "print(\"Minimo: {}\".format(df_filtered['price_usd_per_m2'].min()))\n",
    "print(\"Máximo: {}\".format(df_filtered['price_usd_per_m2'].max()))\n",
    "print(\"Promedio: {}\".format(df_filtered['price_usd_per_m2'].mean()))\n",
    "print(\"Mediana: {}\".format(df_filtered['price_usd_per_m2'].median()))\n",
    "print(\"Desvío estándar: {}\".format(df_filtered['price_usd_per_m2'].std()))"
   ]
  },
  {
   "cell_type": "markdown",
   "metadata": {
    "colab_type": "text",
    "id": "khwLnC6Fbe3l"
   },
   "source": [
    "También podemos calcular otros estadísticos como los cuartiles. \n",
    "\n",
    "**11) Mostrá** el **primer y tercer cuartil** y luego también el **rango intercuartilíco**"
   ]
  },
  {
   "cell_type": "code",
   "execution_count": 39,
   "metadata": {},
   "outputs": [
    {
     "name": "stdout",
     "output_type": "stream",
     "text": [
      "Primer cuartil: 1965.4314633727913\n",
      "Tercer cuartil: 3139.534883720931\n",
      "Rango intercuartilíco: 1174.1034203481395\n"
     ]
    }
   ],
   "source": [
    "# Mostrá los cuartiles en esta celda\n",
    "first_quartile, third_quartile = df_filtered['price_usd_per_m2'].quantile([0.25, 0.75])\n",
    "iqr = third_quartile - first_quartile\n",
    "print(\"Primer cuartil: {}\\nTercer cuartil: {}\\nRango intercuartilíco: {}\".format(first_quartile, third_quartile, iqr))"
   ]
  },
  {
   "cell_type": "code",
   "execution_count": 40,
   "metadata": {
    "colab": {
     "base_uri": "https://localhost:8080/",
     "height": 170
    },
    "colab_type": "code",
    "executionInfo": {
     "elapsed": 885,
     "status": "ok",
     "timestamp": 1540242613072,
     "user": {
      "displayName": "Rodrigo Andrés Crespillo",
      "photoUrl": "",
      "userId": "12484712302524035905"
     },
     "user_tz": 180
    },
    "id": "9z0sF_ZHkqBT",
    "outputId": "3ee08083-c3de-4e9d-c65f-39c92d5f410c"
   },
   "outputs": [
    {
     "data": {
      "text/plain": [
       "count     12984.000000\n",
       "mean       2712.605591\n",
       "std        1929.642771\n",
       "min           0.958333\n",
       "25%        1965.431463\n",
       "50%        2519.472531\n",
       "75%        3139.534884\n",
       "max      142450.141026\n",
       "Name: price_usd_per_m2, dtype: float64"
      ]
     },
     "execution_count": 40,
     "metadata": {},
     "output_type": "execute_result"
    }
   ],
   "source": [
    "df_filtered['price_usd_per_m2'].describe()"
   ]
  },
  {
   "cell_type": "markdown",
   "metadata": {
    "colab_type": "text",
    "id": "tPfu0Y0obe3q"
   },
   "source": [
    "### Quitando valores extremos\n",
    "Eliminemos aquellas observaciones cuyo precio por metro cuadrado este fuera de los percentiles 10 y 90. De este modo intentaremos remover valores extremos de una manera sencilla para tener un análisis más robusto."
   ]
  },
  {
   "cell_type": "code",
   "execution_count": 41,
   "metadata": {
    "colab": {},
    "colab_type": "code",
    "id": "DRMgZfVIbe3r"
   },
   "outputs": [],
   "source": [
    "p10, p90 = df_filtered['price_usd_per_m2'].quantile([0.10, 0.90])\n",
    "df_filtered = df_filtered[(df_filtered.price_usd_per_m2 >= p10) & (df_filtered.price_usd_per_m2 <= p90)]"
   ]
  },
  {
   "cell_type": "markdown",
   "metadata": {
    "colab_type": "text",
    "id": "dZQvx0UMbe3z"
   },
   "source": [
    "A partir de quitar estos valores van a cambiar los estadísticos que calculamos.\n",
    "\n",
    "**12) Volvé a calcular** los mismos estadísticos (min, max, promedio, etc) para ver los cambios.\n",
    "¿Por qué será que la **mediana** no cambia?"
   ]
  },
  {
   "cell_type": "code",
   "execution_count": 42,
   "metadata": {
    "colab": {
     "base_uri": "https://localhost:8080/",
     "height": 170
    },
    "colab_type": "code",
    "executionInfo": {
     "elapsed": 827,
     "status": "ok",
     "timestamp": 1540242614982,
     "user": {
      "displayName": "Rodrigo Andrés Crespillo",
      "photoUrl": "",
      "userId": "12484712302524035905"
     },
     "user_tz": 180
    },
    "id": "DS4Xn6VGbe30",
    "outputId": "a2a2530d-8f68-44f7-98b9-5f9978cdd80c"
   },
   "outputs": [
    {
     "data": {
      "text/plain": [
       "count    10398.000000\n",
       "mean      2562.746926\n",
       "std        607.889819\n",
       "min       1478.260870\n",
       "25%       2082.100410\n",
       "50%       2521.126761\n",
       "75%       3000.000000\n",
       "max       4000.000000\n",
       "Name: price_usd_per_m2, dtype: float64"
      ]
     },
     "execution_count": 42,
     "metadata": {},
     "output_type": "execute_result"
    }
   ],
   "source": [
    "# Realizá los calculos en esta celda\n",
    "df_filtered['price_usd_per_m2'].describe()"
   ]
  },
  {
   "cell_type": "markdown",
   "metadata": {
    "colab_type": "text",
    "id": "s1jVDgJfbe33"
   },
   "source": [
    "Vamos a graficar ahora los barrios según el precio por metro cuadrado."
   ]
  },
  {
   "cell_type": "code",
   "execution_count": 35,
   "metadata": {
    "colab": {
     "base_uri": "https://localhost:8080/",
     "height": 632
    },
    "colab_type": "code",
    "executionInfo": {
     "elapsed": 2675,
     "status": "ok",
     "timestamp": 1540242617865,
     "user": {
      "displayName": "Rodrigo Andrés Crespillo",
      "photoUrl": "",
      "userId": "12484712302524035905"
     },
     "user_tz": 180
    },
    "id": "Z2fLTxZGbe33",
    "outputId": "3d520841-01f6-4aa2-e5a9-b97d67508c64"
   },
   "outputs": [
    {
     "name": "stderr",
     "output_type": "stream",
     "text": [
      "/home/rodixxi/anaconda3/lib/python3.7/site-packages/scipy/stats/stats.py:1713: FutureWarning: Using a non-tuple sequence for multidimensional indexing is deprecated; use `arr[tuple(seq)]` instead of `arr[seq]`. In the future this will be interpreted as an array index, `arr[np.array(seq)]`, which will result either in an error or a different result.\n",
      "  return np.add.reduce(sorted[indexer] * weights, axis=axis) / sumval\n"
     ]
    },
    {
     "data": {
      "image/png": "[encoded data removed]",
      "text/plain": [
       "<Figure size 864x576 with 1 Axes>"
      ]
     },
     "metadata": {
      "needs_background": "light"
     },
     "output_type": "display_data"
    }
   ],
   "source": [
    "plt.xticks(rotation = 90)\n",
    "barrios = df_filtered.groupby('barrio').mean().sort_values('price_usd_per_m2', ascending=False).index\n",
    "sns.barplot(x=\"barrio\", y=\"price_usd_per_m2\", order=barrios, data=df_filtered);"
   ]
  },
  {
   "cell_type": "markdown",
   "metadata": {
    "colab_type": "text",
    "id": "wbIpraRXbe35"
   },
   "source": [
    "#### Más caros"
   ]
  },
  {
   "cell_type": "code",
   "execution_count": 36,
   "metadata": {
    "colab": {
     "base_uri": "https://localhost:8080/",
     "height": 235
    },
    "colab_type": "code",
    "executionInfo": {
     "elapsed": 870,
     "status": "ok",
     "timestamp": 1540242618787,
     "user": {
      "displayName": "Rodrigo Andrés Crespillo",
      "photoUrl": "",
      "userId": "12484712302524035905"
     },
     "user_tz": 180
    },
    "id": "BLo0bqIKbe37",
    "outputId": "c3b18410-fde1-454d-dbef-36566dbf358d"
   },
   "outputs": [
    {
     "data": {
      "text/html": [
       "<div>\n",
       "<style scoped>\n",
       "    .dataframe tbody tr th:only-of-type {\n",
       "        vertical-align: middle;\n",
       "    }\n",
       "\n",
       "    .dataframe tbody tr th {\n",
       "        vertical-align: top;\n",
       "    }\n",
       "\n",
       "    .dataframe thead th {\n",
       "        text-align: right;\n",
       "    }\n",
       "</style>\n",
       "<table border=\"1\" class=\"dataframe\">\n",
       "  <thead>\n",
       "    <tr style=\"text-align: right;\">\n",
       "      <th></th>\n",
       "      <th>price_usd_per_m2</th>\n",
       "    </tr>\n",
       "    <tr>\n",
       "      <th>barrio</th>\n",
       "      <th></th>\n",
       "    </tr>\n",
       "  </thead>\n",
       "  <tbody>\n",
       "    <tr>\n",
       "      <th>PUERTO MADERO</th>\n",
       "      <td>6156.633183</td>\n",
       "    </tr>\n",
       "    <tr>\n",
       "      <th>PALERMO</th>\n",
       "      <td>3632.057960</td>\n",
       "    </tr>\n",
       "    <tr>\n",
       "      <th>RETIRO</th>\n",
       "      <td>3417.635657</td>\n",
       "    </tr>\n",
       "    <tr>\n",
       "      <th>RECOLETA</th>\n",
       "      <td>3346.748987</td>\n",
       "    </tr>\n",
       "    <tr>\n",
       "      <th>BELGRANO</th>\n",
       "      <td>3338.725206</td>\n",
       "    </tr>\n",
       "  </tbody>\n",
       "</table>\n",
       "</div>"
      ],
      "text/plain": [
       "               price_usd_per_m2\n",
       "barrio                         \n",
       "PUERTO MADERO       6156.633183\n",
       "PALERMO             3632.057960\n",
       "RETIRO              3417.635657\n",
       "RECOLETA            3346.748987\n",
       "BELGRANO            3338.725206"
      ]
     },
     "execution_count": 36,
     "metadata": {},
     "output_type": "execute_result"
    }
   ],
   "source": [
    "table = pd.pivot_table(df, values='price_usd_per_m2', index=['barrio'], aggfunc=np.mean)\n",
    "mas_caros = table.sort_values('price_usd_per_m2', ascending=False).iloc[:5]\n",
    "mas_caros"
   ]
  },
  {
   "cell_type": "markdown",
   "metadata": {
    "colab_type": "text",
    "id": "3Bm06itfbe3-"
   },
   "source": [
    "#### Más baratos"
   ]
  },
  {
   "cell_type": "code",
   "execution_count": 37,
   "metadata": {
    "colab": {
     "base_uri": "https://localhost:8080/",
     "height": 235
    },
    "colab_type": "code",
    "executionInfo": {
     "elapsed": 944,
     "status": "ok",
     "timestamp": 1540242619953,
     "user": {
      "displayName": "Rodrigo Andrés Crespillo",
      "photoUrl": "",
      "userId": "12484712302524035905"
     },
     "user_tz": 180
    },
    "id": "YqY5YyXGbe3-",
    "outputId": "d0271b1b-2c54-490b-fde8-dbe95867cc32"
   },
   "outputs": [
    {
     "data": {
      "text/html": [
       "<div>\n",
       "<style scoped>\n",
       "    .dataframe tbody tr th:only-of-type {\n",
       "        vertical-align: middle;\n",
       "    }\n",
       "\n",
       "    .dataframe tbody tr th {\n",
       "        vertical-align: top;\n",
       "    }\n",
       "\n",
       "    .dataframe thead th {\n",
       "        text-align: right;\n",
       "    }\n",
       "</style>\n",
       "<table border=\"1\" class=\"dataframe\">\n",
       "  <thead>\n",
       "    <tr style=\"text-align: right;\">\n",
       "      <th></th>\n",
       "      <th>price_usd_per_m2</th>\n",
       "    </tr>\n",
       "    <tr>\n",
       "      <th>barrio</th>\n",
       "      <th></th>\n",
       "    </tr>\n",
       "  </thead>\n",
       "  <tbody>\n",
       "    <tr>\n",
       "      <th>VILLA SOLDATI</th>\n",
       "      <td>920.825753</td>\n",
       "    </tr>\n",
       "    <tr>\n",
       "      <th>VILLA LUGANO</th>\n",
       "      <td>1179.846071</td>\n",
       "    </tr>\n",
       "    <tr>\n",
       "      <th>VILLA RIACHUELO</th>\n",
       "      <td>1274.809950</td>\n",
       "    </tr>\n",
       "    <tr>\n",
       "      <th>PARQUE AVELLANEDA</th>\n",
       "      <td>1386.260577</td>\n",
       "    </tr>\n",
       "    <tr>\n",
       "      <th>NUEVA POMPEYA</th>\n",
       "      <td>1539.235869</td>\n",
       "    </tr>\n",
       "  </tbody>\n",
       "</table>\n",
       "</div>"
      ],
      "text/plain": [
       "                   price_usd_per_m2\n",
       "barrio                             \n",
       "VILLA SOLDATI            920.825753\n",
       "VILLA LUGANO            1179.846071\n",
       "VILLA RIACHUELO         1274.809950\n",
       "PARQUE AVELLANEDA       1386.260577\n",
       "NUEVA POMPEYA           1539.235869"
      ]
     },
     "execution_count": 37,
     "metadata": {},
     "output_type": "execute_result"
    }
   ],
   "source": [
    "table = pd.pivot_table(df, values='price_usd_per_m2', index=['barrio'], aggfunc=np.mean)\n",
    "mas_baratos = table.sort_values('price_usd_per_m2', ascending=True).iloc[:5]\n",
    "mas_baratos"
   ]
  },
  {
   "cell_type": "markdown",
   "metadata": {
    "colab_type": "text",
    "id": "WRUM-8-jbe4B"
   },
   "source": [
    "## Graficando propiedades de los barrios\n",
    "\n",
    "Ahora que ya sabemos cuales son los barrios más caros y cuales son los más baratos vamos a ver algunas comparaciones gráficas para entender mejor sus diferencias en diferentes atributos del dataset. Vamos a ver las distribuciones según:\n",
    "- Superficie total en m2\n",
    "- Cuartos totales \n",
    "- Precio en dolares por m2"
   ]
  },
  {
   "cell_type": "code",
   "execution_count": 38,
   "metadata": {
    "colab": {
     "base_uri": "https://localhost:8080/",
     "height": 34
    },
    "colab_type": "code",
    "executionInfo": {
     "elapsed": 695,
     "status": "ok",
     "timestamp": 1540242620876,
     "user": {
      "displayName": "Rodrigo Andrés Crespillo",
      "photoUrl": "",
      "userId": "12484712302524035905"
     },
     "user_tz": 180
    },
    "id": "wBbO6reGbe4C",
    "outputId": "4c4fe0ad-31be-4c20-af97-3efdacaff44c"
   },
   "outputs": [
    {
     "data": {
      "text/plain": [
       "dtype('float64')"
      ]
     },
     "execution_count": 38,
     "metadata": {},
     "output_type": "execute_result"
    }
   ],
   "source": [
    "barrios_caros = mas_caros.index \n",
    "barrios_baratos = mas_baratos.index\n",
    "df_filtered.surface_total_in_m2.dtype"
   ]
  },
  {
   "cell_type": "code",
   "execution_count": 39,
   "metadata": {
    "colab": {
     "base_uri": "https://localhost:8080/",
     "height": 497
    },
    "colab_type": "code",
    "executionInfo": {
     "elapsed": 1208,
     "status": "ok",
     "timestamp": 1540242622237,
     "user": {
      "displayName": "Rodrigo Andrés Crespillo",
      "photoUrl": "",
      "userId": "12484712302524035905"
     },
     "user_tz": 180
    },
    "id": "kmBoZKGSbe4E",
    "outputId": "f7caaa96-dc21-4406-a18f-2f4e91300237"
   },
   "outputs": [
    {
     "name": "stderr",
     "output_type": "stream",
     "text": [
      "/home/rodixxi/anaconda3/lib/python3.7/site-packages/scipy/stats/stats.py:1713: FutureWarning: Using a non-tuple sequence for multidimensional indexing is deprecated; use `arr[tuple(seq)]` instead of `arr[seq]`. In the future this will be interpreted as an array index, `arr[np.array(seq)]`, which will result either in an error or a different result.\n",
      "  return np.add.reduce(sorted[indexer] * weights, axis=axis) / sumval\n"
     ]
    },
    {
     "data": {
      "image/png": "[encoded data removed]",
      "text/plain": [
       "<Figure size 864x576 with 1 Axes>"
      ]
     },
     "metadata": {
      "needs_background": "light"
     },
     "output_type": "display_data"
    }
   ],
   "source": [
    "g = sns.distplot(df_filtered[df_filtered.barrio.isin(barrios_baratos)].surface_total_in_m2, label=\"Barrios baratos\")\n",
    "sns.distplot(df_filtered[df_filtered.barrio.isin(barrios_caros)].surface_total_in_m2, label=\"Barrios caros\")\n",
    "g.set_xlim(0, 400)\n",
    "plt.legend();"
   ]
  },
  {
   "cell_type": "code",
   "execution_count": 40,
   "metadata": {
    "colab": {
     "base_uri": "https://localhost:8080/",
     "height": 34
    },
    "colab_type": "code",
    "executionInfo": {
     "elapsed": 768,
     "status": "ok",
     "timestamp": 1540242623178,
     "user": {
      "displayName": "Rodrigo Andrés Crespillo",
      "photoUrl": "",
      "userId": "12484712302524035905"
     },
     "user_tz": 180
    },
    "id": "TEvqhw2FFuCL",
    "outputId": "817e5681-caf1-4f57-918c-516a187066c3"
   },
   "outputs": [
    {
     "data": {
      "text/plain": [
       "dtype('float64')"
      ]
     },
     "execution_count": 40,
     "metadata": {},
     "output_type": "execute_result"
    }
   ],
   "source": [
    "df_filtered.rooms.dtype"
   ]
  },
  {
   "cell_type": "code",
   "execution_count": 41,
   "metadata": {
    "colab": {
     "base_uri": "https://localhost:8080/",
     "height": 309
    },
    "colab_type": "code",
    "executionInfo": {
     "elapsed": 811,
     "status": "ok",
     "timestamp": 1540242624179,
     "user": {
      "displayName": "Rodrigo Andrés Crespillo",
      "photoUrl": "",
      "userId": "12484712302524035905"
     },
     "user_tz": 180
    },
    "id": "XBpIHGws2JVu",
    "outputId": "b5b1986e-cb9a-4051-8044-3be6e59c6b60"
   },
   "outputs": [
    {
     "data": {
      "text/html": [
       "<div>\n",
       "<style scoped>\n",
       "    .dataframe tbody tr th:only-of-type {\n",
       "        vertical-align: middle;\n",
       "    }\n",
       "\n",
       "    .dataframe tbody tr th {\n",
       "        vertical-align: top;\n",
       "    }\n",
       "\n",
       "    .dataframe thead th {\n",
       "        text-align: right;\n",
       "    }\n",
       "</style>\n",
       "<table border=\"1\" class=\"dataframe\">\n",
       "  <thead>\n",
       "    <tr style=\"text-align: right;\">\n",
       "      <th></th>\n",
       "      <th>created_on</th>\n",
       "      <th>operation</th>\n",
       "      <th>property_type</th>\n",
       "      <th>place_with_parent_names</th>\n",
       "      <th>lat-lon</th>\n",
       "      <th>lat</th>\n",
       "      <th>lon</th>\n",
       "      <th>price_aprox_usd</th>\n",
       "      <th>surface_total_in_m2</th>\n",
       "      <th>surface_covered_in_m2</th>\n",
       "      <th>price_usd_per_m2</th>\n",
       "      <th>floor</th>\n",
       "      <th>rooms</th>\n",
       "      <th>expenses</th>\n",
       "      <th>properati_url</th>\n",
       "      <th>barrio</th>\n",
       "      <th>comuna</th>\n",
       "    </tr>\n",
       "  </thead>\n",
       "  <tbody>\n",
       "    <tr>\n",
       "      <th>15147</th>\n",
       "      <td>2018-01-09</td>\n",
       "      <td>sell</td>\n",
       "      <td>apartment</td>\n",
       "      <td>|Argentina|Capital Federal|Almagro|</td>\n",
       "      <td>-34.60206604,-58.43215561</td>\n",
       "      <td>-34.602066</td>\n",
       "      <td>-58.432156</td>\n",
       "      <td>165000.0</td>\n",
       "      <td>83.0</td>\n",
       "      <td>83.0</td>\n",
       "      <td>1987.951807</td>\n",
       "      <td>13.0</td>\n",
       "      <td>2.0</td>\n",
       "      <td>NaN</td>\n",
       "      <td>https://www.properati.com.ar/1ji6t_venta_departamento_almagro_av-corrientes_4700_luminoso_lujoso_dependencias_subte-linea-b_sulki-propiedades</td>\n",
       "      <td>ALMAGRO</td>\n",
       "      <td>5.0</td>\n",
       "    </tr>\n",
       "    <tr>\n",
       "      <th>9293</th>\n",
       "      <td>2017-12-21</td>\n",
       "      <td>sell</td>\n",
       "      <td>apartment</td>\n",
       "      <td>|Argentina|Capital Federal|San Cristobal|</td>\n",
       "      <td>-34.62337,-58.399003</td>\n",
       "      <td>-34.623370</td>\n",
       "      <td>-58.399003</td>\n",
       "      <td>82000.0</td>\n",
       "      <td>40.0</td>\n",
       "      <td>35.0</td>\n",
       "      <td>2050.000000</td>\n",
       "      <td>NaN</td>\n",
       "      <td>2.0</td>\n",
       "      <td>NaN</td>\n",
       "      <td>https://www.properati.com.ar/1j62n_venta_departamento_san-cristobal_lavadero_patio_garage_subte-linea-e_subte-linea-h_apto-credito-hipotecario_re-max-express</td>\n",
       "      <td>SAN CRISTOBAL</td>\n",
       "      <td>3.0</td>\n",
       "    </tr>\n",
       "    <tr>\n",
       "      <th>15299</th>\n",
       "      <td>2018-01-22</td>\n",
       "      <td>sell</td>\n",
       "      <td>PH</td>\n",
       "      <td>|Argentina|Capital Federal|Almagro|</td>\n",
       "      <td>-34.6019468,-58.4163253</td>\n",
       "      <td>-34.601947</td>\n",
       "      <td>-58.416325</td>\n",
       "      <td>215000.0</td>\n",
       "      <td>104.0</td>\n",
       "      <td>85.0</td>\n",
       "      <td>2067.307692</td>\n",
       "      <td>NaN</td>\n",
       "      <td>4.0</td>\n",
       "      <td>NaN</td>\n",
       "      <td>https://www.properati.com.ar/1k165_venta_ph_almagro_subte-linea-b_traditio_edx</td>\n",
       "      <td>ALMAGRO</td>\n",
       "      <td>5.0</td>\n",
       "    </tr>\n",
       "    <tr>\n",
       "      <th>3602</th>\n",
       "      <td>2017-11-18</td>\n",
       "      <td>sell</td>\n",
       "      <td>apartment</td>\n",
       "      <td>|Argentina|Capital Federal|Recoleta|</td>\n",
       "      <td>-34.587061,-58.405488</td>\n",
       "      <td>-34.587061</td>\n",
       "      <td>-58.405488</td>\n",
       "      <td>228000.0</td>\n",
       "      <td>77.0</td>\n",
       "      <td>65.0</td>\n",
       "      <td>2961.038961</td>\n",
       "      <td>1.0</td>\n",
       "      <td>3.0</td>\n",
       "      <td>NaN</td>\n",
       "      <td>https://www.properati.com.ar/1i956_venta_departamento_recoleta_balcon_baulera_lavadero_patio_garage_subte-linea-d_re-max-premium</td>\n",
       "      <td>RECOLETA</td>\n",
       "      <td>2.0</td>\n",
       "    </tr>\n",
       "    <tr>\n",
       "      <th>3555</th>\n",
       "      <td>2017-11-14</td>\n",
       "      <td>sell</td>\n",
       "      <td>apartment</td>\n",
       "      <td>|Argentina|Capital Federal|Recoleta|</td>\n",
       "      <td>-34.5920561,-58.393558</td>\n",
       "      <td>-34.592056</td>\n",
       "      <td>-58.393558</td>\n",
       "      <td>335000.0</td>\n",
       "      <td>110.0</td>\n",
       "      <td>110.0</td>\n",
       "      <td>3045.454545</td>\n",
       "      <td>NaN</td>\n",
       "      <td>4.0</td>\n",
       "      <td>5800.0</td>\n",
       "      <td>https://www.properati.com.ar/1i355_venta_departamento_recoleta_balcon_lavadero_toilette_lujoso_dependencias_placard_subte-linea-h_melamud</td>\n",
       "      <td>RECOLETA</td>\n",
       "      <td>2.0</td>\n",
       "    </tr>\n",
       "  </tbody>\n",
       "</table>\n",
       "</div>"
      ],
      "text/plain": [
       "      created_on operation property_type  \\\n",
       "15147 2018-01-09      sell     apartment   \n",
       "9293  2017-12-21      sell     apartment   \n",
       "15299 2018-01-22      sell            PH   \n",
       "3602  2017-11-18      sell     apartment   \n",
       "3555  2017-11-14      sell     apartment   \n",
       "\n",
       "                         place_with_parent_names                    lat-lon  \\\n",
       "15147        |Argentina|Capital Federal|Almagro|  -34.60206604,-58.43215561   \n",
       "9293   |Argentina|Capital Federal|San Cristobal|       -34.62337,-58.399003   \n",
       "15299        |Argentina|Capital Federal|Almagro|    -34.6019468,-58.4163253   \n",
       "3602        |Argentina|Capital Federal|Recoleta|      -34.587061,-58.405488   \n",
       "3555        |Argentina|Capital Federal|Recoleta|     -34.5920561,-58.393558   \n",
       "\n",
       "             lat        lon  price_aprox_usd  surface_total_in_m2  \\\n",
       "15147 -34.602066 -58.432156         165000.0                 83.0   \n",
       "9293  -34.623370 -58.399003          82000.0                 40.0   \n",
       "15299 -34.601947 -58.416325         215000.0                104.0   \n",
       "3602  -34.587061 -58.405488         228000.0                 77.0   \n",
       "3555  -34.592056 -58.393558         335000.0                110.0   \n",
       "\n",
       "       surface_covered_in_m2  price_usd_per_m2  floor  rooms  expenses  \\\n",
       "15147                   83.0       1987.951807   13.0    2.0       NaN   \n",
       "9293                    35.0       2050.000000    NaN    2.0       NaN   \n",
       "15299                   85.0       2067.307692    NaN    4.0       NaN   \n",
       "3602                    65.0       2961.038961    1.0    3.0       NaN   \n",
       "3555                   110.0       3045.454545    NaN    4.0    5800.0   \n",
       "\n",
       "                                                                                                                                                       properati_url  \\\n",
       "15147                  https://www.properati.com.ar/1ji6t_venta_departamento_almagro_av-corrientes_4700_luminoso_lujoso_dependencias_subte-linea-b_sulki-propiedades   \n",
       "9293   https://www.properati.com.ar/1j62n_venta_departamento_san-cristobal_lavadero_patio_garage_subte-linea-e_subte-linea-h_apto-credito-hipotecario_re-max-express   \n",
       "15299                                                                                 https://www.properati.com.ar/1k165_venta_ph_almagro_subte-linea-b_traditio_edx   \n",
       "3602                                https://www.properati.com.ar/1i956_venta_departamento_recoleta_balcon_baulera_lavadero_patio_garage_subte-linea-d_re-max-premium   \n",
       "3555                       https://www.properati.com.ar/1i355_venta_departamento_recoleta_balcon_lavadero_toilette_lujoso_dependencias_placard_subte-linea-h_melamud   \n",
       "\n",
       "              barrio  comuna  \n",
       "15147        ALMAGRO     5.0  \n",
       "9293   SAN CRISTOBAL     3.0  \n",
       "15299        ALMAGRO     5.0  \n",
       "3602        RECOLETA     2.0  \n",
       "3555        RECOLETA     2.0  "
      ]
     },
     "execution_count": 41,
     "metadata": {},
     "output_type": "execute_result"
    }
   ],
   "source": [
    "df_filtered.sample(5)"
   ]
  },
  {
   "cell_type": "code",
   "execution_count": 42,
   "metadata": {
    "colab": {
     "base_uri": "https://localhost:8080/",
     "height": 514
    },
    "colab_type": "code",
    "executionInfo": {
     "elapsed": 1043,
     "status": "ok",
     "timestamp": 1540242625582,
     "user": {
      "displayName": "Rodrigo Andrés Crespillo",
      "photoUrl": "",
      "userId": "12484712302524035905"
     },
     "user_tz": 180
    },
    "id": "sa3RtgZJbe4K",
    "outputId": "1e520d31-60be-432d-8328-1526d6de89e9"
   },
   "outputs": [
    {
     "name": "stderr",
     "output_type": "stream",
     "text": [
      "/home/rodixxi/anaconda3/lib/python3.7/site-packages/scipy/stats/stats.py:1713: FutureWarning: Using a non-tuple sequence for multidimensional indexing is deprecated; use `arr[tuple(seq)]` instead of `arr[seq]`. In the future this will be interpreted as an array index, `arr[np.array(seq)]`, which will result either in an error or a different result.\n",
      "  return np.add.reduce(sorted[indexer] * weights, axis=axis) / sumval\n"
     ]
    },
    {
     "data": {
      "text/plain": [
       "<matplotlib.legend.Legend at 0x7fdf540c1e80>"
      ]
     },
     "execution_count": 42,
     "metadata": {},
     "output_type": "execute_result"
    },
    {
     "data": {
      "image/png": "[encoded data removed]",
      "text/plain": [
       "<Figure size 864x576 with 1 Axes>"
      ]
     },
     "metadata": {
      "needs_background": "light"
     },
     "output_type": "display_data"
    }
   ],
   "source": [
    "g = sns.distplot(df_filtered[df_filtered.barrio.isin(barrios_baratos)].rooms, label=\"Barrios baratos\")\n",
    "sns.distplot(df_filtered[df_filtered.barrio.isin(barrios_caros)].rooms, label=\"Barrios caros\")\n",
    "g.set_xlim(0, 10)\n",
    "plt.legend()"
   ]
  },
  {
   "cell_type": "code",
   "execution_count": 43,
   "metadata": {
    "colab": {
     "base_uri": "https://localhost:8080/",
     "height": 497
    },
    "colab_type": "code",
    "executionInfo": {
     "elapsed": 1383,
     "status": "ok",
     "timestamp": 1540242627017,
     "user": {
      "displayName": "Rodrigo Andrés Crespillo",
      "photoUrl": "",
      "userId": "12484712302524035905"
     },
     "user_tz": 180
    },
    "id": "I8rLCuu-be4N",
    "outputId": "82fd2b95-3b66-4b2a-f17b-983a236b1805"
   },
   "outputs": [
    {
     "name": "stderr",
     "output_type": "stream",
     "text": [
      "/home/rodixxi/anaconda3/lib/python3.7/site-packages/scipy/stats/stats.py:1713: FutureWarning: Using a non-tuple sequence for multidimensional indexing is deprecated; use `arr[tuple(seq)]` instead of `arr[seq]`. In the future this will be interpreted as an array index, `arr[np.array(seq)]`, which will result either in an error or a different result.\n",
      "  return np.add.reduce(sorted[indexer] * weights, axis=axis) / sumval\n"
     ]
    },
    {
     "data": {
      "image/png": "[encoded data removed]",
      "text/plain": [
       "<Figure size 864x576 with 1 Axes>"
      ]
     },
     "metadata": {
      "needs_background": "light"
     },
     "output_type": "display_data"
    }
   ],
   "source": [
    "g = sns.distplot(df_filtered[df_filtered.barrio.isin(barrios_baratos)].price_usd_per_m2, label=\"Barrios baratos\")\n",
    "sns.distplot(df_filtered[df_filtered.barrio.isin(barrios_caros)].price_usd_per_m2, label=\"Barrios caros\")\n",
    "plt.legend();"
   ]
  },
  {
   "cell_type": "markdown",
   "metadata": {
    "colab_type": "text",
    "id": "9TNExFL0be4Q"
   },
   "source": [
    "### Barrios que quieren ser otros"
   ]
  },
  {
   "cell_type": "markdown",
   "metadata": {
    "colab_type": "text",
    "id": "6aQWBF8zbe4R"
   },
   "source": [
    "Basado en información de mercado, desde el portal Properati han señalado que las inmobiliarias suelen publicar las propiedades ubicadas en barrios que no necesariamente se corresponden con la ubicación geográfica real. Según mencionan en la nota ([blog)](http://blog.properati.com.ar/barrios-que-quieren-ser-otros/), esto corresponde a una lógica comercial en el corredor norte y a usos y costumbres en zona oeste.\n",
    "\n",
    "Analicemos qué sucede para nuestro dataset."
   ]
  },
  {
   "cell_type": "markdown",
   "metadata": {
    "colab_type": "text",
    "id": "3rLXLLDQbe4T"
   },
   "source": [
    "Dada la estructura del atributo `place_with_parent_names`, en primer lugar vamos a extraer el campo asociado al barrio publicado para poder comparar con el que surge de la cartografía oficial. Esto lo vamos a agregar en una nueva columna llamada `barrio_publicado`. \n",
    "\n",
    "De este modo, lo que vamos a analizar es como se relacionan las columnas `barrio` y `barrio publicado`. Si efectivamente hay barrios que quieren ser otros, esperaríamos ver propiedades ubicadas en geográficamente en un barrio distinto al que dice la publicación. Por ejemplo, si una propiedad está ubicada (dadas sus coordenadas) en Villa Crespo pero en la publicación dice Palermo, entonces decimos que hay indicios que Villa Crespo quiere ser Palermo.\n",
    "\n",
    "Viendo la estructura de este atributo, podemos notar que se compone por una sequencia de lugares separados por `|`. Por ejemplo, en `|Argentina|Capital Federal|Palermo|` vemos que primero está el país, luego la ciudad, luego el barrio y en algunos casos hay una jerarquía más, relacionado con zonas dentro del barrio (como Palermo Soho dentro de Palermo). \n",
    "\n",
    "De este modo, una estrategia posible para resolver esto es separar las jerarquías por `|` y extraer el elemento asociado al barrio. Por ejemplo, para `|Argentina|Capital Federal|Palermo|` queda `['', 'Argentina', 'Capital Federal', 'Palermo', '']`. Extrayendo el tercer elemento obtendremos el barrio independientemente de si hay lugares luego en la jerarquía. Aquellos que no tengan barrio no serán considerados puesto que estarían ubicados en Capital Federal y no sería informativo.\n",
    "\n",
    "Lo pasamos a mayúsculas y quitamos las tildes para poder comparar con el barrio oficial."
   ]
  },
  {
   "cell_type": "code",
   "execution_count": 44,
   "metadata": {
    "colab": {
     "base_uri": "https://localhost:8080/",
     "height": 34
    },
    "colab_type": "code",
    "executionInfo": {
     "elapsed": 694,
     "status": "ok",
     "timestamp": 1540242627902,
     "user": {
      "displayName": "Rodrigo Andrés Crespillo",
      "photoUrl": "",
      "userId": "12484712302524035905"
     },
     "user_tz": 180
    },
    "id": "GgvGEQ3sbe4U",
    "outputId": "eb85751b-1fd1-48fb-b3d2-d694b339ba6a"
   },
   "outputs": [
    {
     "data": {
      "text/plain": [
       "array([5, 6, 4])"
      ]
     },
     "execution_count": 44,
     "metadata": {},
     "output_type": "execute_result"
    }
   ],
   "source": [
    "df_filtered['place_with_parent_names'].apply(lambda x: len(x.split(\"|\"))).unique()"
   ]
  },
  {
   "cell_type": "markdown",
   "metadata": {
    "colab_type": "text",
    "id": "0SNKG1tHbe4W"
   },
   "source": [
    "Como algunos tienen 4 elementos, debemos quitarlos."
   ]
  },
  {
   "cell_type": "code",
   "execution_count": 45,
   "metadata": {
    "colab": {},
    "colab_type": "code",
    "id": "cdtslvhube4X"
   },
   "outputs": [],
   "source": [
    "split_place_filter = df_filtered['place_with_parent_names'].apply(lambda x: len(x.split(\"|\"))!=4)\n",
    "df_filtered = df_filtered.loc[split_place_filter]"
   ]
  },
  {
   "cell_type": "code",
   "execution_count": 46,
   "metadata": {
    "colab": {},
    "colab_type": "code",
    "id": "b4rbFtC7be4a"
   },
   "outputs": [],
   "source": [
    "df_filtered['barrio_publicado'] = df_filtered['place_with_parent_names'].apply( lambda x: x.split(\"|\")[3].upper())\n",
    "df_filtered['barrio_publicado'] = df_filtered['barrio_publicado'].str.normalize('NFKD').str.encode('ascii', errors='ignore').str.decode('utf-8')"
   ]
  },
  {
   "cell_type": "markdown",
   "metadata": {
    "colab_type": "text",
    "id": "Kln4RzZabe4c"
   },
   "source": [
    "Comparemos entonces el barrio publicado con el real. Nos vamos a quedar con aquellas propiedades donde nos coincidan para luego hacer el conteo por barrio."
   ]
  },
  {
   "cell_type": "code",
   "execution_count": 47,
   "metadata": {
    "colab": {},
    "colab_type": "code",
    "id": "HuH4XWyube4d"
   },
   "outputs": [],
   "source": [
    "barrios_match = (df_filtered['barrio_publicado'] != df_filtered['barrio'])\n",
    "df_filtered_barrio_not_match = df_filtered.loc[barrios_match]"
   ]
  },
  {
   "cell_type": "markdown",
   "metadata": {
    "colab_type": "text",
    "id": "YkNbU4KXbe4h"
   },
   "source": [
    "Con una tabla de doble entrada podemos identificar para cada barrio cuál es al que más quiere parecerse."
   ]
  },
  {
   "cell_type": "code",
   "execution_count": 48,
   "metadata": {
    "colab": {
     "base_uri": "https://localhost:8080/",
     "height": 816
    },
    "colab_type": "code",
    "executionInfo": {
     "elapsed": 775,
     "status": "ok",
     "timestamp": 1540242631860,
     "user": {
      "displayName": "Rodrigo Andrés Crespillo",
      "photoUrl": "",
      "userId": "12484712302524035905"
     },
     "user_tz": 180
    },
    "id": "tFKsSCNmbe4i",
    "outputId": "bad37a81-47ae-4d45-87d2-2daad3380ca5"
   },
   "outputs": [
    {
     "data": {
      "text/plain": [
       "barrio\n",
       "AGRONOMIA                VILLA PUEYRREDON\n",
       "ALMAGRO                         CABALLITO\n",
       "BALVANERA                            ONCE\n",
       "BARRACAS                        SAN TELMO\n",
       "BELGRANO                            NUNEZ\n",
       "BOCA                             BARRACAS\n",
       "BOEDO                    PARQUE PATRICIOS\n",
       "CABALLITO               PARQUE CENTENARIO\n",
       "CHACARITA                      COLEGIALES\n",
       "COGHLAN                          BELGRANO\n",
       "COLEGIALES                       BELGRANO\n",
       "CONSTITUCION                    SAN TELMO\n",
       "FLORES                          CABALLITO\n",
       "FLORESTA                           FLORES\n",
       "LINIERS                        VILLA LURO\n",
       "MATADEROS                         LINIERS\n",
       "MONSERRAT                       SAN TELMO\n",
       "MONTE CASTRO                 VILLA DEVOTO\n",
       "NUEVA POMPEYA            PARQUE PATRICIOS\n",
       "NUEZ                                NUNEZ\n",
       "PALERMO                          BELGRANO\n",
       "PARQUE AVELLANEDA                FLORESTA\n",
       "PARQUE CHACABUCO                CABALLITO\n",
       "PARQUE CHAS                 VILLA URQUIZA\n",
       "PARQUE PATRICIOS                    BOEDO\n",
       "PATERNAL                        AGRONOMIA\n",
       "RECOLETA                     BARRIO NORTE\n",
       "RETIRO                           RECOLETA\n",
       "SAAVEDRA                            NUNEZ\n",
       "SAN CRISTOBAL                       BOEDO\n",
       "SAN NICOLAS          CENTRO / MICROCENTRO\n",
       "SAN TELMO                        BARRACAS\n",
       "VELEZ SARSFIELD                  FLORESTA\n",
       "VILLA CRESPO                      PALERMO\n",
       "VILLA DEL PARQUE             VILLA DEVOTO\n",
       "VILLA DEVOTO             VILLA PUEYRREDON\n",
       "VILLA GRAL. MITRE     VILLA GENERAL MITRE\n",
       "VILLA LURO                      VERSALLES\n",
       "VILLA ORTUZAR               VILLA URQUIZA\n",
       "VILLA PUEYRREDON             VILLA DEVOTO\n",
       "VILLA REAL                      VERSALLES\n",
       "VILLA RIACHUELO              VILLA LUGANO\n",
       "VILLA SANTA RITA         VILLA DEL PARQUE\n",
       "VILLA SOLDATI                VILLA LUGANO\n",
       "VILLA URQUIZA                    BELGRANO\n",
       "dtype: object"
      ]
     },
     "execution_count": 48,
     "metadata": {},
     "output_type": "execute_result"
    }
   ],
   "source": [
    "table = pd.crosstab(df_filtered_barrio_not_match.barrio, df_filtered_barrio_not_match.barrio_publicado)\n",
    "table.idxmax(axis=1)"
   ]
  },
  {
   "cell_type": "markdown",
   "metadata": {
    "colab_type": "text",
    "id": "h28k4NVrbe4l"
   },
   "source": [
    "Podemos ver entonces que los barrios tienden a querer parecerse a barrios con precio con metro cuadrado más caro. Por ejemplo Villa Crespo con Palermo, Constitución con San Telmo y Villa Urquiza con Belgrano. \n",
    "\n",
    "Por otro lado, vemos también que los barrios suelen querer parecerse a sus barrios vecinos."
   ]
  },
  {
   "cell_type": "code",
   "execution_count": 49,
   "metadata": {
    "colab": {},
    "colab_type": "code",
    "id": "WTr_3i_KnicB"
   },
   "outputs": [],
   "source": [
    "import gmplot as gmplot\n",
    "\n",
    "gmap = gmplot.GoogleMapPlotter(-34.619407, -58.446788, 13)\n",
    "gmap2 = gmplot.GoogleMapPlotter(-34.619407, -58.446788, 13)\n",
    "gmap.heatmap(\n",
    "    df_filtered[df_filtered.barrio.isin(barrios_baratos)].lat, \n",
    "    df_filtered[df_filtered.barrio.isin(barrios_baratos)].lon)\n",
    "gmap.draw(\"heatmap_barrios_baratos.html\");\n",
    "\n",
    "gmap2.heatmap(\n",
    "    df_filtered[df_filtered.barrio.isin(barrios_caros)].lat, \n",
    "    df_filtered[df_filtered.barrio.isin(barrios_caros)].lon)\n",
    "gmap2.draw(\"heatmap_barrios_caros.html\");"
   ]
  }
 ],
 "metadata": {
  "colab": {
   "collapsed_sections": [
    "BF9jMDwxbe25"
   ],
   "name": "recursos_proyecto_1.ipynb",
   "provenance": [],
   "version": "0.3.2"
  },
  "kernelspec": {
   "display_name": "Python 3",
   "language": "python",
   "name": "python3"
  },
  "language_info": {
   "codemirror_mode": {
    "name": "ipython",
    "version": 3
   },
   "file_extension": ".py",
   "mimetype": "text/x-python",
   "name": "python",
   "nbconvert_exporter": "python",
   "pygments_lexer": "ipython3",
   "version": "3.7.0"
  }
 },
 "nbformat": 4,
 "nbformat_minor": 1
}
