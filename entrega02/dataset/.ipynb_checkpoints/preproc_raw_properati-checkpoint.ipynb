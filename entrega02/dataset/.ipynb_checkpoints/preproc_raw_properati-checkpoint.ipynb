{
 "cells": [
  {
   "cell_type": "markdown",
   "metadata": {},
   "source": [
    "# Dataset Properati - Proyecto 1\n",
    "\n",
    "### Limpieza"
   ]
  },
  {
   "cell_type": "markdown",
   "metadata": {},
   "source": [
    "Descargamos el dataset de Properati con propiedades en venta en Argentina de los últimos 6 meses."
   ]
  },
  {
   "cell_type": "code",
   "execution_count": null,
   "metadata": {},
   "outputs": [],
   "source": [
    "import requests\n",
    "\n",
    "url = 'https://www.properati.com.ar/static/data/AR/properati-AR-2018-02-01-properties-sell-six_months.csv.gz'\n",
    "\n",
    "r = requests.get(url)"
   ]
  },
  {
   "cell_type": "code",
   "execution_count": null,
   "metadata": {},
   "outputs": [],
   "source": [
    "with open('./datos_properati.csv.gz', 'wb') as f:  \n",
    "    f.write(r.content)"
   ]
  },
  {
   "cell_type": "markdown",
   "metadata": {},
   "source": [
    "Leemos el archivo descargado."
   ]
  },
  {
   "cell_type": "code",
   "execution_count": null,
   "metadata": {},
   "outputs": [],
   "source": [
    "import pandas as pd\n",
    "\n",
    "df = pd.read_csv('./datos_properati.csv.gz', parse_dates=['created_on'])"
   ]
  },
  {
   "cell_type": "markdown",
   "metadata": {},
   "source": [
    "Nos deshacemos del algunas columnas."
   ]
  },
  {
   "cell_type": "code",
   "execution_count": null,
   "metadata": {},
   "outputs": [],
   "source": [
    "df.drop(columns=[\n",
    "    'id', # no hace falta\n",
    "    #'place_name', # vamos a usar la rama entera\n",
    "    'country_name', # son todas propiedades de argentina\n",
    "    'state_name', # en algún momento nos vamos a quedar con propiedades de CABA solamente\n",
    "    'geonames_id', # no hace falta\n",
    "    'price', # usamos en dolares directamente\n",
    "    'currency', #idem\n",
    "    'price_aprox_local_currency', # ídem\n",
    "    'price_per_m2', # ídem\n",
    "    'description', # no hace falta, es texto\n",
    "    'title', # idem\n",
    "    'image_thumbnail', # no aporta nada en esta etapa\n",
    "], inplace=True)"
   ]
  },
  {
   "cell_type": "markdown",
   "metadata": {},
   "source": [
    "__Reemplazo variables con superficies intercambiabdas__"
   ]
  },
  {
   "cell_type": "code",
   "execution_count": null,
   "metadata": {},
   "outputs": [],
   "source": [
    "wrong_surface_rows = df[df.surface_total_in_m2 < df.surface_covered_in_m2]\n",
    "df.at[wrong_surface_rows.index, 'surface_total_in_m2'] = wrong_surface_rows.surface_covered_in_m2\n",
    "df.at[wrong_surface_rows.index, 'surface_covered_in_m2'] = wrong_surface_rows.surface_total_in_m2"
   ]
  },
  {
   "cell_type": "markdown",
   "metadata": {},
   "source": [
    "__Quito las que tienen mal las coordenadas__"
   ]
  },
  {
   "cell_type": "code",
   "execution_count": null,
   "metadata": {},
   "outputs": [],
   "source": [
    "conteo_puntos = df.groupby(['lat', 'lon']).size()\n",
    "conteo_puntos.name = 'conteo'\n",
    "\n",
    "df= df.join(conteo_puntos, on=['lat', 'lon'])\n",
    "\n",
    "df = df[df.conteo <= 5]"
   ]
  },
  {
   "cell_type": "markdown",
   "metadata": {},
   "source": [
    "Ahora nos vamos a quedar con propiedades:\n",
    "\n",
    "* geolocalizadas,\n",
    "* ~~que sean casas o departamentos,~~\n",
    "* ~~que informen al menos una superficie (cubierta o total),~~\n",
    "* ~~que informen cantidad de ambientes,~~\n",
    "* ~~que informen precio de venta.~~"
   ]
  },
  {
   "cell_type": "code",
   "execution_count": null,
   "metadata": {},
   "outputs": [],
   "source": [
    "geo        =  df.lat.notnull() & df.lon.notnull()\n",
    "tipo       =  df.property_type.isin(['house', 'apartment', 'PH'])\n",
    "fecha = df.created_on.notnull()\n",
    "superficie =  df.surface_covered_in_m2.notnull() | df.surface_total_in_m2.notnull() \n",
    "precio     =  df.price_aprox_usd.notnull()\n",
    "\n",
    "df= df[geo & tipo & fecha & superficie & precio]"
   ]
  },
  {
   "cell_type": "markdown",
   "metadata": {},
   "source": [
    "#### Filtro las que tienen coordenadas fuera de CABA (con GeoPandas)"
   ]
  },
  {
   "cell_type": "code",
   "execution_count": null,
   "metadata": {},
   "outputs": [],
   "source": [
    "import geopandas as gpd\n",
    "from shapely.geometry import Point\n",
    "\n",
    "barrios = gpd.read_file('barrios_caba.geojson')\n",
    "barrios.drop(columns=['AREA', 'PERIMETRO'], inplace=True)\n",
    "barrios.rename(columns={'COMUNA':'comuna', 'BARRIO':'barrio'}, inplace=True)"
   ]
  },
  {
   "cell_type": "code",
   "execution_count": null,
   "metadata": {},
   "outputs": [],
   "source": [
    "df = gpd.GeoDataFrame(df, crs={'init':'epsg:4326'})\n",
    "df.geometry = df.apply(lambda row: Point(row.lon, row.lat), axis=1)\n",
    "df = gpd.sjoin(df, barrios, how='inner', op='intersects')"
   ]
  },
  {
   "cell_type": "markdown",
   "metadata": {},
   "source": [
    "#### Registros duplicados"
   ]
  },
  {
   "cell_type": "markdown",
   "metadata": {},
   "source": [
    "Tiramos propiedades repetidas, según todas las columnas exceptuando `created_on`. Las inmobiliarias suelen volver a publicar sus propiedades para que aparezcan múltiples veces en el sitio. A veces lo hacen en momentos diferentes, en este caso la fecha de creación haría que dos filas de la tabla que coincidan en el resto de sus atributos no sean consideradas la misma propiedad, por eso no la usamos para la comparación."
   ]
  },
  {
   "cell_type": "code",
   "execution_count": null,
   "metadata": {},
   "outputs": [],
   "source": [
    "df.drop_duplicates([\n",
    "    'property_type',\n",
    "    'place_name',\n",
    "    'state_name',\n",
    "    'lat',\n",
    "    'lon',\n",
    "    'price_usd_usd',\n",
    "    'surface_total_in_m2',\n",
    "    'surface_covered_in_m2',\n",
    "    'floor',\n",
    "    'rooms',\n",
    "    'expenses',\n",
    "    'description',\n",
    "    'title',\n",
    "], inplace=True)"
   ]
  },
  {
   "cell_type": "code",
   "execution_count": null,
   "metadata": {},
   "outputs": [],
   "source": [
    "df.drop(columns=['index_right', 'geometry', 'comuna'], inplace=True)"
   ]
  },
  {
   "cell_type": "markdown",
   "metadata": {},
   "source": [
    "#### [NO] Genero missings al azar (10%) en `property_type` para el ejercicio de imputar variables categóricas."
   ]
  },
  {
   "cell_type": "code",
   "execution_count": null,
   "metadata": {},
   "outputs": [],
   "source": [
    "#property_type_nans = df.property_type.copy()\n",
    "#p = 0.1\n",
    "#ix = np.random.choice(property_type_nans.size, int(np.round(p*property_type_nans.size)), replace=False)\n",
    "#property_type_nans.ravel()[ix] = np.nan\n",
    "#df['property_type'] = property_type_nans"
   ]
  },
  {
   "cell_type": "code",
   "execution_count": null,
   "metadata": {},
   "outputs": [],
   "source": [
    "df.isnull().sum() / df.shape[0]"
   ]
  },
  {
   "cell_type": "code",
   "execution_count": null,
   "metadata": {},
   "outputs": [],
   "source": [
    "df.head()"
   ]
  },
  {
   "cell_type": "code",
   "execution_count": null,
   "metadata": {},
   "outputs": [],
   "source": [
    "df.shape[0]"
   ]
  },
  {
   "cell_type": "markdown",
   "metadata": {},
   "source": [
    "#### Persistencia"
   ]
  },
  {
   "cell_type": "code",
   "execution_count": null,
   "metadata": {},
   "outputs": [],
   "source": [
    "df.to_csv('./datos_properati_limpios.csv.gz', compression='gzip', index=False)"
   ]
  }
 ],
 "metadata": {
  "kernelspec": {
   "display_name": "Python 3",
   "language": "python",
   "name": "python3"
  },
  "language_info": {
   "codemirror_mode": {
    "name": "ipython",
    "version": 3
   },
   "file_extension": ".py",
   "mimetype": "text/x-python",
   "name": "python",
   "nbconvert_exporter": "python",
   "pygments_lexer": "ipython3",
   "version": "3.6.4"
  }
 },
 "nbformat": 4,
 "nbformat_minor": 2
}
