{
 "cells": [
  {
   "cell_type": "markdown",
   "metadata": {},
   "source": [
    "# Proyecto 5: Análisis de sentimiento en reviews de películas"
   ]
  },
  {
   "cell_type": "markdown",
   "metadata": {},
   "source": [
    "En este proyecto vamos a trabajar con un dataset de reviews de películas. El objectivo es clasificar cada comentario de acuerdo al sentimiento positivo o negativo hacia la película. Para hacerlo, vamos a trabajar con procesamiento de texto para luego aplicar las diferentes técnicas predictivas que hemos visto."
   ]
  },
  {
   "cell_type": "markdown",
   "metadata": {},
   "source": [
    "## Dataset"
   ]
  },
  {
   "cell_type": "markdown",
   "metadata": {},
   "source": [
    "En primer lugar, carguemos las reviews para comenzar a procesarlas. En este caso no tenemos un archivo `.csv`, sino un directorio estructurado de la siguiente forma: \n",
    "```\n",
    "movie_reviews/\n",
    "  neg/\n",
    "  pos/\n",
    "```\n",
    "`sklearn` nos provee de la función `load_files` que permite recorrer este tipo de estructuras. "
   ]
  },
  {
   "cell_type": "code",
   "execution_count": 1,
   "metadata": {},
   "outputs": [],
   "source": [
    "import warnings\n",
    "warnings.filterwarnings(\"ignore\")\n",
    "import sklearn\n",
    "from sklearn.datasets import load_files\n",
    "moviedir = r'./dataset/movie_reviews' \n",
    "movie_reviews = load_files(moviedir, shuffle=True)"
   ]
  },
  {
   "cell_type": "markdown",
   "metadata": {},
   "source": [
    "Ahora en la variable `movies` tendremos guardadas las reviews (`movies.data`) y su sentimiento (`movies.target`).\n",
    "Veamos cuantas reviews tenemos en total:"
   ]
  },
  {
   "cell_type": "code",
   "execution_count": 2,
   "metadata": {},
   "outputs": [
    {
     "name": "stdout",
     "output_type": "stream",
     "text": [
      "Tenemos 2000 reviews, con clases ['neg', 'pos'],\n"
     ]
    }
   ],
   "source": [
    "print(\"Tenemos {} reviews, con clases {},\".format(len(movie_reviews.data), movie_reviews.target_names))"
   ]
  },
  {
   "cell_type": "markdown",
   "metadata": {},
   "source": [
    "Analizando la estructura de los documentos, veamos como luce una muestra de `movies.data`:"
   ]
  },
  {
   "cell_type": "code",
   "execution_count": 3,
   "metadata": {},
   "outputs": [
    {
     "data": {
      "text/plain": [
       "b\"arnold schwarzenegger has been an icon for action enthusiasts , since the late 80's , but lately his films have been very sloppy and the one-liners are getting worse . \\nit's hard seeing arnold as mr . freeze in batman and robin , especially when he says tons of ice jokes , but hey he got 15 million , what's it matter to him ? \\nonce again arnold has signed to do another expensive blockbuster , that can't compare with the likes of the terminator series , true lies and even eraser . \\nin this so cal\""
      ]
     },
     "execution_count": 3,
     "metadata": {},
     "output_type": "execute_result"
    }
   ],
   "source": [
    "movie_reviews.data[0][:500]"
   ]
  },
  {
   "cell_type": "markdown",
   "metadata": {},
   "source": [
    "Y ahora, con la propiedad `target` podemos ver la categoría asociada a esta review"
   ]
  },
  {
   "cell_type": "code",
   "execution_count": 4,
   "metadata": {},
   "outputs": [
    {
     "data": {
      "text/plain": [
       "0"
      ]
     },
     "execution_count": 4,
     "metadata": {},
     "output_type": "execute_result"
    }
   ],
   "source": [
    "movie_reviews.target[0]"
   ]
  },
  {
   "cell_type": "markdown",
   "metadata": {},
   "source": [
    "En este caso es un 0, es decir `neg`."
   ]
  },
  {
   "cell_type": "markdown",
   "metadata": {},
   "source": [
    "## Separando en conjuntos de entrenamiento y de testeo"
   ]
  },
  {
   "cell_type": "markdown",
   "metadata": {},
   "source": [
    "Antes de comenzar con el entrenamiento de los modelos probando distintos algoritmos para encontrar los mejores modelos, vamos a separar el conjunto de reviews en training y testing. "
   ]
  },
  {
   "cell_type": "code",
   "execution_count": 5,
   "metadata": {},
   "outputs": [
    {
     "name": "stdout",
     "output_type": "stream",
     "text": [
      "Timpo de split: 0.0015189647674560547\n"
     ]
    }
   ],
   "source": [
    "import time\n",
    "from sklearn.model_selection import train_test_split\n",
    "start_time = time.time()\n",
    "X_train, X_test, y_train, y_test = train_test_split(\n",
    "    movie_reviews.data, movie_reviews.target, test_size = 0.20, stratify=movie_reviews.target, random_state = 12)\n",
    "elapsed_time = time.time() - start_time\n",
    "print(\"Timpo de split: {}\".format(elapsed_time))"
   ]
  },
  {
   "cell_type": "markdown",
   "metadata": {},
   "source": [
    "## Preprocesamiento"
   ]
  },
  {
   "cell_type": "markdown",
   "metadata": {},
   "source": [
    "Para trabajar con texto tenemos que realizar una serie de pasos antes de poder entrenar un modelo. Es decir, buscar la forma de convertir el texto a una representación numérica que pueda ser interpretable por los algoritmos de clasificación. \n",
    "Para ello vamos a realizar una serie de pasos.\n",
    "- Tokenizar el texto\n",
    "- Convertir a vectores de términos/documentos\n",
    "- Aplicar tfidf\n"
   ]
  },
  {
   "cell_type": "markdown",
   "metadata": {},
   "source": [
    "Es importante destacar que el `fit` debe hacerse sobre el conjunto de `train` y no sobre el total, ya que `tfidf` tiene en cuenta la frecuencia de aparición de las palabras respecto al total del conjunto. Una vez que usamos el `fit` con el conjunto de entrenamiento podemos aplicar la transformación al conjunto de `test`. "
   ]
  },
  {
   "cell_type": "markdown",
   "metadata": {},
   "source": [
    "**1) Vectorizá** los textos para obtener una matriz de términos/documentos utilizando td-idf. "
   ]
  },
  {
   "cell_type": "code",
   "execution_count": 6,
   "metadata": {},
   "outputs": [
    {
     "name": "stderr",
     "output_type": "stream",
     "text": [
      "[nltk_data] Downloading package punkt to /home/rodixxi/nltk_data...\n",
      "[nltk_data]   Package punkt is already up-to-date!\n",
      "[nltk_data] Downloading package stopwords to\n",
      "[nltk_data]     /home/rodixxi/nltk_data...\n",
      "[nltk_data]   Package stopwords is already up-to-date!\n"
     ]
    },
    {
     "name": "stdout",
     "output_type": "stream",
     "text": [
      "Timpo vectorizar: 9.91819953918457\n"
     ]
    }
   ],
   "source": [
    "# Realizá los pasos necesarios para vectorizar los conjuntos de entrenamiento y testeo en este celda\n",
    "from sklearn.feature_extraction.text import TfidfVectorizer\n",
    "import nltk\n",
    "from nltk.corpus import stopwords\n",
    "nltk.download('punkt')\n",
    "nltk.download('stopwords')\n",
    "stops=set(stopwords.words('english'))\n",
    "\n",
    "start_time = time.time()\n",
    "\n",
    "vectorizer = TfidfVectorizer(analyzer='word', tokenizer=nltk.word_tokenize, stop_words=stops, ngram_range=(1,3))\n",
    "X_train = vectorizer.fit_transform(X_train)\n",
    "X_test =vectorizer.transform(X_test)\n",
    "\n",
    "elapsed_time = time.time() - start_time\n",
    "print(\"Timpo vectorizar: {}\".format(elapsed_time))"
   ]
  },
  {
   "cell_type": "markdown",
   "metadata": {},
   "source": [
    "### Dimensión de la matriz de términos\n",
    "Una vez vectorizados los documentos veamos qué forma tiene la matriz resultante"
   ]
  },
  {
   "cell_type": "code",
   "execution_count": 7,
   "metadata": {},
   "outputs": [
    {
     "data": {
      "text/plain": [
       "(1600, 1100157)"
      ]
     },
     "execution_count": 7,
     "metadata": {},
     "output_type": "execute_result"
    }
   ],
   "source": [
    "X_train.shape"
   ]
  },
  {
   "cell_type": "code",
   "execution_count": 8,
   "metadata": {},
   "outputs": [
    {
     "data": {
      "text/plain": [
       "{'arguably': 232423,\n",
       " 'anticipated': 226464,\n",
       " 'movie': 704817,\n",
       " 'century': 306631,\n",
       " ',': 46913,\n",
       " 'george': 509265,\n",
       " 'lucas': 657640,\n",
       " 'achieved': 194469,\n",
       " 'mixed': 696821,\n",
       " 'reaction': 835419,\n",
       " 'sure': 974039,\n",
       " 'blockbuster': 274115,\n",
       " '.': 113989,\n",
       " 'despite': 382715,\n",
       " 'fact': 451344,\n",
       " 'script': 887967,\n",
       " 'plot': 797492,\n",
       " 'bit': 270658,\n",
       " 'let': 631640,\n",
       " 'entire': 428113,\n",
       " 'whole': 1072954,\n",
       " 'considered': 344076,\n",
       " 'milestone': 691504,\n",
       " 'technical': 987477,\n",
       " 'excellence': 442396,\n",
       " 'sound': 938812,\n",
       " 'special': 941316,\n",
       " 'effects': 414008,\n",
       " 'department': 379793,\n",
       " 'terms': 991355,\n",
       " 'characters': 312077,\n",
       " 'far': 457231,\n",
       " 'outstanding': 765037,\n",
       " 'interesting': 587870,\n",
       " 'queen': 826670,\n",
       " 'amidala': 219888,\n",
       " '(': 26385,\n",
       " 'natalie': 726702,\n",
       " 'portman': 803917,\n",
       " ')': 36290,\n",
       " 'whose': 1073615,\n",
       " 'mature': 678258,\n",
       " 'performance': 780970,\n",
       " 'exceeds': 442372,\n",
       " 'tender': 990592,\n",
       " '14': 159154,\n",
       " 'years': 1095553,\n",
       " 'age': 205589,\n",
       " 'one': 751962,\n",
       " '?': 170854,\n",
       " 'hot': 563830,\n",
       " \"'\": 1992,\n",
       " 'babe': 247178,\n",
       " 'defines': 376760,\n",
       " 'true': 1022288,\n",
       " 'woman': 1080837,\n",
       " 'leadership': 624920,\n",
       " 'presence': 809956,\n",
       " 'knows': 615389,\n",
       " 'take': 980478,\n",
       " 'command': 335727,\n",
       " 'situation': 924061,\n",
       " 'save': 876584,\n",
       " 'planet': 792256,\n",
       " 'ruination': 870018,\n",
       " 'thanks': 993169,\n",
       " 'jedi': 596874,\n",
       " 'knights': 613372,\n",
       " 'although': 216179,\n",
       " 'led': 628167,\n",
       " 'force': 490738,\n",
       " 'lack': 617230,\n",
       " 'qualities': 826187,\n",
       " 'thinking': 998002,\n",
       " 'plan': 791883,\n",
       " 'anything': 227470,\n",
       " 'young': 1097877,\n",
       " 'obi-wan': 744853,\n",
       " 'kenobi': 607353,\n",
       " 'ewan': 440948,\n",
       " 'mcgregor': 680937,\n",
       " 'bad': 249426,\n",
       " 'hair': 538983,\n",
       " 'day': 370138,\n",
       " 'every': 437723,\n",
       " 'scene': 879823,\n",
       " 'gets': 512126,\n",
       " 'kill': 609465,\n",
       " 'guy': 537328,\n",
       " 'end': 421115,\n",
       " 'lacks': 617756,\n",
       " 'love': 655113,\n",
       " 'interest': 587454,\n",
       " 'make': 663664,\n",
       " 'desirable': 382126,\n",
       " 'sort': 938098,\n",
       " 'hero': 552503,\n",
       " 'knight': 613325,\n",
       " 'asexual': 236440,\n",
       " '-': 109604,\n",
       " 'must': 717282,\n",
       " 'something': 934151,\n",
       " 'makes': 665541,\n",
       " 'hermits': 552492,\n",
       " 'loners': 648742,\n",
       " 'mean': 681256,\n",
       " 'would': 1088809,\n",
       " 'see': 891755,\n",
       " 'yoda': 1097499,\n",
       " \"'s\": 8258,\n",
       " 'girlfriend': 515729,\n",
       " 'change': 308812,\n",
       " 'much': 712059,\n",
       " 'better': 266265,\n",
       " 'qui-gon': 827658,\n",
       " 'jinn': 598667,\n",
       " 'liam': 633111,\n",
       " 'neeson': 730051,\n",
       " 'mostly': 702288,\n",
       " 'broods': 286807,\n",
       " 'find': 479109,\n",
       " 'anakin': 221238,\n",
       " 'skywalker': 925962,\n",
       " 'biggest': 269216,\n",
       " 'mistake': 696279,\n",
       " 'life': 633803,\n",
       " 'also': 213511,\n",
       " 'fascinating': 458520,\n",
       " 'metoclorian': 688641,\n",
       " 'theory': 994408,\n",
       " 'claims': 323045,\n",
       " 'micro-organisms': 689599,\n",
       " 'live': 645776,\n",
       " 'within': 1078915,\n",
       " 'cells': 306157,\n",
       " 'tie': 1004459,\n",
       " 'us': 1041277,\n",
       " 'fabric': 450423,\n",
       " 'universe': 1037475,\n",
       " 'high': 553936,\n",
       " 'concentrations': 340672,\n",
       " 'organisms': 761445,\n",
       " 'individual': 580156,\n",
       " 'particularly': 772749,\n",
       " 'powerful': 807082,\n",
       " 'humerous': 567862,\n",
       " 'immaculate': 574254,\n",
       " 'conception': 340819,\n",
       " 'darth': 368709,\n",
       " 'vader': 1045602,\n",
       " 'doubt': 401323,\n",
       " 'concept': 340675,\n",
       " 'stolen': 956172,\n",
       " 'christian': 319954,\n",
       " 'faith': 453539,\n",
       " 'except': 442655,\n",
       " 'christmas': 320108,\n",
       " 'celebrate': 305837,\n",
       " 'birth': 270469,\n",
       " 'dark': 368036,\n",
       " 'emissary': 419280,\n",
       " 'overall': 765539,\n",
       " 'experience': 446091,\n",
       " 'missed': 695650,\n",
       " 'predecessor': 808442,\n",
       " 'almost': 211172,\n",
       " 'viewing': 1051271,\n",
       " 'inferior': 581250,\n",
       " 'successor': 969226,\n",
       " 'means': 681826,\n",
       " 'pinnacle': 790019,\n",
       " 'star': 948268,\n",
       " 'wars': 1060707,\n",
       " 'phenomena': 786193,\n",
       " 'adequate': 202237,\n",
       " 'addition': 201795,\n",
       " 'clan': 323237,\n",
       " 'watch': 1061532,\n",
       " 'next': 735142,\n",
       " 'steamy': 952669,\n",
       " 'encounter': 420872,\n",
       " 'believe': 262458,\n",
       " 'portrayed': 804225,\n",
       " 'leonardo': 630534,\n",
       " 'di': 386197,\n",
       " 'caprio': 298062,\n",
       " 'arguably anticipated': 232429,\n",
       " 'anticipated movie': 226483,\n",
       " 'movie century': 706594,\n",
       " 'century ,': 306640,\n",
       " ', george': 71023,\n",
       " 'george lucas': 509405,\n",
       " 'lucas achieved': 657669,\n",
       " 'achieved mixed': 194509,\n",
       " 'mixed reaction': 696873,\n",
       " 'reaction sure': 835495,\n",
       " 'sure blockbuster': 974205,\n",
       " 'blockbuster .': 274125,\n",
       " '. despite': 127044,\n",
       " 'despite fact': 382850,\n",
       " 'fact script': 452038,\n",
       " 'script plot': 888655,\n",
       " 'plot bit': 797919,\n",
       " 'bit let': 271043,\n",
       " 'let ,': 631686,\n",
       " ', entire': 65845,\n",
       " 'entire movie': 428336,\n",
       " 'movie whole': 709916,\n",
       " 'whole considered': 1073074,\n",
       " 'considered milestone': 344168,\n",
       " 'milestone technical': 691513,\n",
       " 'technical excellence': 987533,\n",
       " 'excellence ,': 442397,\n",
       " ', sound': 99157,\n",
       " 'sound special': 939027,\n",
       " 'special effects': 941406,\n",
       " 'effects department': 414277,\n",
       " 'department .': 379810,\n",
       " '. terms': 153508,\n",
       " 'terms characters': 991388,\n",
       " 'characters ,': 312144,\n",
       " ', far': 67958,\n",
       " 'far outstanding': 457697,\n",
       " 'outstanding interesting': 765077,\n",
       " 'interesting queen': 588374,\n",
       " 'queen amidala': 826715,\n",
       " 'amidala (': 219894,\n",
       " '( natalie': 32717,\n",
       " 'natalie portman': 726709,\n",
       " 'portman )': 803924,\n",
       " ') ,': 36389,\n",
       " ', whose': 107904,\n",
       " 'whose mature': 1073968,\n",
       " 'mature performance': 678304,\n",
       " 'performance far': 781454,\n",
       " 'far exceeds': 457490,\n",
       " 'exceeds tender': 442383,\n",
       " 'tender 14': 990602,\n",
       " '14 years': 159172,\n",
       " 'years age': 1095797,\n",
       " 'age .': 205621,\n",
       " '. one': 143187,\n",
       " 'one ?': 752430,\n",
       " '? hot': 172679,\n",
       " \"hot '\": 563831,\n",
       " \"' babe\": 2499,\n",
       " 'babe defines': 247230,\n",
       " 'defines true': 376781,\n",
       " 'true ?': 1022360,\n",
       " '? woman': 174253,\n",
       " 'woman leadership': 1081183,\n",
       " \"leadership '\": 624921,\n",
       " \"' .\": 2191,\n",
       " '. presence': 145779,\n",
       " 'presence ,': 809965,\n",
       " ', knows': 78091,\n",
       " 'knows take': 615708,\n",
       " 'take command': 980724,\n",
       " 'command situation': 335780,\n",
       " 'situation save': 924256,\n",
       " 'save planet': 876808,\n",
       " 'planet ruination': 792480,\n",
       " 'ruination .': 870019,\n",
       " '. thanks': 153594,\n",
       " 'thanks jedi': 993254,\n",
       " 'jedi knights': 596941,\n",
       " 'knights although': 613388,\n",
       " 'although led': 216688,\n",
       " 'led force': 628234,\n",
       " 'force ,': 490746,\n",
       " ', lack': 78199,\n",
       " 'lack leadership': 617417,\n",
       " 'leadership qualities': 624948,\n",
       " 'qualities terms': 826236,\n",
       " 'terms thinking': 991493,\n",
       " 'thinking plan': 998169,\n",
       " 'plan anything': 791931,\n",
       " 'anything .': 227551,\n",
       " '. young': 157883,\n",
       " 'young obi-wan': 1098393,\n",
       " 'obi-wan kenobi': 744877,\n",
       " 'kenobi (': 607354,\n",
       " '( ewan': 29639,\n",
       " 'ewan mcgregor': 440951,\n",
       " 'mcgregor )': 680945,\n",
       " ') bad': 39938,\n",
       " 'bad hair': 250059,\n",
       " 'hair day': 539048,\n",
       " 'day every': 370486,\n",
       " 'every scene': 438334,\n",
       " 'scene ,': 879870,\n",
       " ', gets': 71212,\n",
       " 'gets kill': 512668,\n",
       " 'kill bad': 609562,\n",
       " 'bad guy': 249965,\n",
       " 'guy end': 537659,\n",
       " 'end ,': 421142,\n",
       " ', lacks': 78235,\n",
       " 'lacks love': 617847,\n",
       " 'love interest': 655721,\n",
       " 'interest make': 587624,\n",
       " 'make desirable': 664076,\n",
       " 'desirable sort': 382130,\n",
       " 'sort hero': 938247,\n",
       " 'hero .': 552557,\n",
       " '. fact': 130125,\n",
       " 'fact jedi': 451837,\n",
       " 'jedi knight': 596935,\n",
       " 'knight bit': 613347,\n",
       " 'bit asexual': 270744,\n",
       " 'asexual -': 236441,\n",
       " '- must': 110748,\n",
       " 'must something': 717885,\n",
       " 'something force': 934635,\n",
       " 'force makes': 490876,\n",
       " 'makes hermits': 666013,\n",
       " 'hermits loners': 552493,\n",
       " 'loners .': 648743,\n",
       " '. mean': 140118,\n",
       " 'mean would': 681515,\n",
       " 'would interesting': 1089925,\n",
       " 'interesting see': 588414,\n",
       " 'see yoda': 893701,\n",
       " \"yoda 's\": 1097500,\n",
       " \"'s girlfriend\": 15230,\n",
       " 'girlfriend change': 515834,\n",
       " 'change ,': 308821,\n",
       " ', one': 86917,\n",
       " 'one .': 752231,\n",
       " '. much': 141443,\n",
       " 'much better': 712393,\n",
       " 'better qui-gon': 266992,\n",
       " 'qui-gon jinn': 827676,\n",
       " 'jinn (': 598670,\n",
       " '( liam': 31786,\n",
       " 'liam neeson': 633116,\n",
       " 'neeson )': 730054,\n",
       " ') mostly': 43143,\n",
       " 'mostly broods': 702319,\n",
       " 'broods ,': 286808,\n",
       " ', better': 55535,\n",
       " 'better hair': 266726,\n",
       " 'hair obi-wan': 539072,\n",
       " 'obi-wan ,': 744856,\n",
       " ', find': 69163,\n",
       " 'find young': 480117,\n",
       " 'young anakin': 1097976,\n",
       " 'anakin skywalker': 221272,\n",
       " 'skywalker make': 925996,\n",
       " 'make biggest': 663905,\n",
       " 'biggest mistake': 269336,\n",
       " 'mistake life': 696342,\n",
       " 'life .': 633987,\n",
       " '. also': 119843,\n",
       " 'also fascinating': 214258,\n",
       " 'fascinating george': 458584,\n",
       " 'lucas ?': 657667,\n",
       " '? metoclorian': 173046,\n",
       " \"metoclorian '\": 688642,\n",
       " \"' theory\": 4208,\n",
       " 'theory ,': 994409,\n",
       " ', claims': 59078,\n",
       " 'claims micro-organisms': 323104,\n",
       " 'micro-organisms live': 689600,\n",
       " 'live within': 646181,\n",
       " 'within cells': 1078957,\n",
       " 'cells tie': 306168,\n",
       " 'tie us': 1004485,\n",
       " 'us fabric': 1041785,\n",
       " 'fabric universe': 450437,\n",
       " 'universe .': 1037488,\n",
       " '. high': 134432,\n",
       " 'high concentrations': 554043,\n",
       " 'concentrations organisms': 340673,\n",
       " 'organisms individual': 761450,\n",
       " 'individual make': 580217,\n",
       " 'make particularly': 664804,\n",
       " 'particularly powerful': 773003,\n",
       " 'powerful force': 807179,\n",
       " 'force .': 490757,\n",
       " '. humerous': 134926,\n",
       " 'humerous claims': 567863,\n",
       " 'claims immaculate': 323085,\n",
       " 'immaculate conception': 574255,\n",
       " 'conception darth': 340824,\n",
       " 'darth vader': 368722,\n",
       " 'vader ,': 1045611,\n",
       " ', doubt': 64138,\n",
       " 'doubt concept': 401395,\n",
       " 'concept stolen': 340801,\n",
       " 'stolen christian': 956207,\n",
       " 'christian faith': 319992,\n",
       " 'faith ,': 453551,\n",
       " ', except': 67065,\n",
       " 'except christmas': 442720,\n",
       " 'christmas celebrate': 320155,\n",
       " 'celebrate birth': 305841,\n",
       " 'birth dark': 270499,\n",
       " 'dark emissary': 368177,\n",
       " 'emissary force': 419281,\n",
       " '. overall': 143893,\n",
       " 'overall experience': 765611,\n",
       " 'experience missed': 446268,\n",
       " 'missed fact': 695686,\n",
       " \"fact 's\": 451349,\n",
       " \"'s predecessor\": 20405,\n",
       " 'predecessor almost': 808470,\n",
       " 'almost command': 211345,\n",
       " 'command viewing': 335784,\n",
       " 'viewing inferior': 1051344,\n",
       " 'inferior successor': 581277,\n",
       " 'successor .': 969232,\n",
       " '. means': 140139,\n",
       " 'means pinnacle': 682031,\n",
       " 'pinnacle star': 790032,\n",
       " 'star wars': 948791,\n",
       " 'wars phenomena': 1060856,\n",
       " 'phenomena adequate': 786203,\n",
       " 'adequate addition': 202248,\n",
       " 'addition clan': 201840,\n",
       " 'clan .': 323245,\n",
       " '. watch': 156368,\n",
       " 'watch next': 1061980,\n",
       " 'next one': 735435,\n",
       " 'one ,': 752066,\n",
       " 'one steamy': 756591,\n",
       " 'steamy encounter': 952672,\n",
       " 'encounter queen': 420944,\n",
       " 'amidala anakin': 219903,\n",
       " 'skywalker -': 925977,\n",
       " '- believe': 109894,\n",
       " 'believe portrayed': 262774,\n",
       " 'portrayed ?': 804234,\n",
       " '? leonardo': 172888,\n",
       " 'leonardo di': 630539,\n",
       " 'di caprio': 386202,\n",
       " 'caprio .': 298063,\n",
       " 'arguably anticipated movie': 232430,\n",
       " 'anticipated movie century': 226485,\n",
       " 'movie century ,': 706595,\n",
       " 'century , george': 306642,\n",
       " ', george lucas': 71040,\n",
       " 'george lucas achieved': 509412,\n",
       " 'lucas achieved mixed': 657670,\n",
       " 'achieved mixed reaction': 194510,\n",
       " 'mixed reaction sure': 696874,\n",
       " 'reaction sure blockbuster': 835496,\n",
       " 'sure blockbuster .': 974206,\n",
       " 'blockbuster . despite': 274131,\n",
       " '. despite fact': 127073,\n",
       " 'despite fact script': 382863,\n",
       " 'fact script plot': 452039,\n",
       " 'script plot bit': 888656,\n",
       " 'plot bit let': 797921,\n",
       " 'bit let ,': 271044,\n",
       " 'let , entire': 631687,\n",
       " ', entire movie': 65855,\n",
       " 'entire movie whole': 428351,\n",
       " 'movie whole considered': 709922,\n",
       " 'whole considered milestone': 1073075,\n",
       " 'considered milestone technical': 344169,\n",
       " 'milestone technical excellence': 691514,\n",
       " 'technical excellence ,': 987534,\n",
       " 'excellence , sound': 442398,\n",
       " ', sound special': 99168,\n",
       " 'sound special effects': 939028,\n",
       " 'special effects department': 941446,\n",
       " 'effects department .': 414278,\n",
       " 'department . terms': 379824,\n",
       " '. terms characters': 153511,\n",
       " 'terms characters ,': 991389,\n",
       " 'characters , far': 312184,\n",
       " ', far outstanding': 67991,\n",
       " 'far outstanding interesting': 457698,\n",
       " 'outstanding interesting queen': 765078,\n",
       " 'interesting queen amidala': 588375,\n",
       " 'queen amidala (': 826717,\n",
       " 'amidala ( natalie': 219895,\n",
       " '( natalie portman': 32718,\n",
       " 'natalie portman )': 726711,\n",
       " 'portman ) ,': 803925,\n",
       " ') , whose': 38113,\n",
       " ', whose mature': 107970,\n",
       " 'whose mature performance': 1073969,\n",
       " 'mature performance far': 678305,\n",
       " 'performance far exceeds': 781455,\n",
       " 'far exceeds tender': 457492,\n",
       " 'exceeds tender 14': 442384,\n",
       " 'tender 14 years': 990603,\n",
       " '14 years age': 159174,\n",
       " 'years age .': 1095799,\n",
       " 'age . one': 205633,\n",
       " '. one ?': 143192,\n",
       " 'one ? hot': 752436,\n",
       " \"? hot '\": 172680,\n",
       " \"hot ' babe\": 563832,\n",
       " \"' babe defines\": 2501,\n",
       " 'babe defines true': 247231,\n",
       " 'defines true ?': 376782,\n",
       " 'true ? woman': 1022362,\n",
       " '? woman leadership': 174255,\n",
       " \"woman leadership '\": 1081184,\n",
       " \"leadership ' .\": 624922,\n",
       " \"' . presence\": 2254,\n",
       " '. presence ,': 145780,\n",
       " 'presence , knows': 809979,\n",
       " ', knows take': 78110,\n",
       " 'knows take command': 615710,\n",
       " 'take command situation': 980726,\n",
       " 'command situation save': 335781,\n",
       " 'situation save planet': 924257,\n",
       " 'save planet ruination': 876810,\n",
       " 'planet ruination .': 792481,\n",
       " 'ruination . thanks': 870020,\n",
       " '. thanks jedi': 153599,\n",
       " 'thanks jedi knights': 993255,\n",
       " 'jedi knights although': 596946,\n",
       " 'knights although led': 613389,\n",
       " 'although led force': 216689,\n",
       " 'led force ,': 628235,\n",
       " 'force , lack': 490754,\n",
       " ', lack leadership': 78210,\n",
       " 'lack leadership qualities': 617418,\n",
       " 'leadership qualities terms': 624949,\n",
       " 'qualities terms thinking': 826237,\n",
       " 'terms thinking plan': 991494,\n",
       " 'thinking plan anything': 998170,\n",
       " 'plan anything .': 791932,\n",
       " 'anything . young': 227589,\n",
       " '. young obi-wan': 157902,\n",
       " 'young obi-wan kenobi': 1098394,\n",
       " 'obi-wan kenobi (': 744878,\n",
       " 'kenobi ( ewan': 607355,\n",
       " '( ewan mcgregor': 29640,\n",
       " 'ewan mcgregor )': 440954,\n",
       " 'mcgregor ) bad': 680948,\n",
       " ') bad hair': 39942,\n",
       " 'bad hair day': 250062,\n",
       " 'hair day every': 539049,\n",
       " 'day every scene': 370487,\n",
       " 'every scene ,': 438337,\n",
       " 'scene , gets': 879922,\n",
       " ', gets kill': 71255,\n",
       " 'gets kill bad': 512669,\n",
       " 'kill bad guy': 609563,\n",
       " 'bad guy end': 249985,\n",
       " 'guy end ,': 537661,\n",
       " 'end , lacks': 421211,\n",
       " ', lacks love': 78249,\n",
       " 'lacks love interest': 617848,\n",
       " 'love interest make': 655735,\n",
       " 'interest make desirable': 587625,\n",
       " 'make desirable sort': 664077,\n",
       " 'desirable sort hero': 382131,\n",
       " 'sort hero .': 938248,\n",
       " 'hero . fact': 552570,\n",
       " '. fact jedi': 130146,\n",
       " 'fact jedi knight': 451838,\n",
       " 'jedi knight bit': 596938,\n",
       " 'knight bit asexual': 613348,\n",
       " 'bit asexual -': 270745,\n",
       " 'asexual - must': 236442,\n",
       " '- must something': 110752,\n",
       " 'must something force': 717886,\n",
       " 'something force makes': 934636,\n",
       " 'force makes hermits': 490877,\n",
       " 'makes hermits loners': 666014,\n",
       " 'hermits loners .': 552494,\n",
       " 'loners . mean': 648744,\n",
       " '. mean would': 140131,\n",
       " 'mean would interesting': 681516,\n",
       " 'would interesting see': 1089931,\n",
       " 'interesting see yoda': 588419,\n",
       " \"see yoda 's\": 893702,\n",
       " \"yoda 's girlfriend\": 1097501,\n",
       " \"'s girlfriend change\": 15236,\n",
       " 'girlfriend change ,': 515835,\n",
       " 'change , one': 308833,\n",
       " ', one .': 86924,\n",
       " 'one . much': 752343,\n",
       " '. much better': 141455,\n",
       " 'much better qui-gon': 712431,\n",
       " 'better qui-gon jinn': 266993,\n",
       " 'qui-gon jinn (': 827678,\n",
       " 'jinn ( liam': 598671,\n",
       " '( liam neeson': 31787,\n",
       " 'liam neeson )': 633118,\n",
       " 'neeson ) mostly': 730059,\n",
       " ') mostly broods': 43144,\n",
       " 'mostly broods ,': 702320,\n",
       " 'broods , better': 286809,\n",
       " ', better hair': 55545,\n",
       " 'better hair obi-wan': 266728,\n",
       " 'hair obi-wan ,': 539073,\n",
       " 'obi-wan , find': 744860,\n",
       " ', find young': 69226,\n",
       " 'find young anakin': 480118,\n",
       " 'young anakin skywalker': 1097979,\n",
       " 'anakin skywalker make': 221279,\n",
       " 'skywalker make biggest': 925997,\n",
       " 'make biggest mistake': 663906,\n",
       " 'biggest mistake life': 269338,\n",
       " 'mistake life .': 696343,\n",
       " 'life . also': 634003,\n",
       " '. also fascinating': 119905,\n",
       " 'also fascinating george': 214259,\n",
       " 'fascinating george lucas': 458585,\n",
       " 'george lucas ?': 509411,\n",
       " 'lucas ? metoclorian': 657668,\n",
       " \"? metoclorian '\": 173047,\n",
       " \"metoclorian ' theory\": 688643,\n",
       " \"' theory ,\": 4209,\n",
       " 'theory , claims': 994410,\n",
       " ', claims micro-organisms': 59084,\n",
       " 'claims micro-organisms live': 323105,\n",
       " 'micro-organisms live within': 689601,\n",
       " 'live within cells': 646182,\n",
       " 'within cells tie': 1078958,\n",
       " 'cells tie us': 306169,\n",
       " 'tie us fabric': 1004486,\n",
       " 'us fabric universe': 1041786,\n",
       " 'fabric universe .': 450438,\n",
       " 'universe . high': 1037497,\n",
       " '. high concentrations': 134435,\n",
       " 'high concentrations organisms': 554044,\n",
       " 'concentrations organisms individual': 340674,\n",
       " 'organisms individual make': 761451,\n",
       " 'individual make particularly': 580218,\n",
       " 'make particularly powerful': 664805,\n",
       " 'particularly powerful force': 773004,\n",
       " 'powerful force .': 807180,\n",
       " 'force . humerous': 490765,\n",
       " '. humerous claims': 134927,\n",
       " 'humerous claims immaculate': 567864,\n",
       " 'claims immaculate conception': 323086,\n",
       " 'immaculate conception darth': 574256,\n",
       " 'conception darth vader': 340825,\n",
       " 'darth vader ,': 368726,\n",
       " 'vader , doubt': 1045612,\n",
       " ', doubt concept': 64146,\n",
       " 'doubt concept stolen': 401396,\n",
       " 'concept stolen christian': 340802,\n",
       " 'stolen christian faith': 956208,\n",
       " 'christian faith ,': 319993,\n",
       " 'faith , except': 453552,\n",
       " ', except christmas': 67078,\n",
       " 'except christmas celebrate': 442721,\n",
       " 'christmas celebrate birth': 320156,\n",
       " 'celebrate birth dark': 305842,\n",
       " 'birth dark emissary': 270500,\n",
       " 'dark emissary force': 368178,\n",
       " 'emissary force .': 419282,\n",
       " 'force . overall': 490767,\n",
       " '. overall experience': 143898,\n",
       " 'overall experience missed': 765614,\n",
       " 'experience missed fact': 446269,\n",
       " \"missed fact 's\": 695687,\n",
       " \"fact 's predecessor\": 451371,\n",
       " \"'s predecessor almost\": 20409,\n",
       " 'predecessor almost command': 808471,\n",
       " 'almost command viewing': 211346,\n",
       " 'command viewing inferior': 335785,\n",
       " 'viewing inferior successor': 1051345,\n",
       " 'inferior successor .': 581278,\n",
       " 'successor . means': 969233,\n",
       " '. means pinnacle': 140150,\n",
       " 'means pinnacle star': 682032,\n",
       " 'pinnacle star wars': 790033,\n",
       " 'star wars phenomena': 948830,\n",
       " 'wars phenomena adequate': 1060857,\n",
       " 'phenomena adequate addition': 786204,\n",
       " 'adequate addition clan': 202249,\n",
       " 'addition clan .': 201841,\n",
       " 'clan . watch': 323248,\n",
       " '. watch next': 156387,\n",
       " 'watch next one': 1061981,\n",
       " 'next one ,': 735436,\n",
       " 'one , one': 752159,\n",
       " ', one steamy': 87263,\n",
       " 'one steamy encounter': 756592,\n",
       " 'steamy encounter queen': 952673,\n",
       " 'encounter queen amidala': 420945,\n",
       " 'queen amidala anakin': 826720,\n",
       " 'amidala anakin skywalker': 219904,\n",
       " 'anakin skywalker -': 221275,\n",
       " 'skywalker - believe': 925978,\n",
       " '- believe portrayed': 109895,\n",
       " 'believe portrayed ?': 262775,\n",
       " 'portrayed ? leonardo': 804235,\n",
       " '? leonardo di': 172889,\n",
       " 'leonardo di caprio': 630540,\n",
       " 'di caprio .': 386203,\n",
       " '``': 175909,\n",
       " 'devil': 385689,\n",
       " 'asks': 237238,\n",
       " 'rhetorically': 858461,\n",
       " 'lulling': 658457,\n",
       " 'voice': 1054661,\n",
       " 'spoiled': 944568,\n",
       " 'title': 1008976,\n",
       " 'character': 309679,\n",
       " '_onegin_': 175005,\n",
       " 'pronounced': 819404,\n",
       " 'oh-negg-in': 749970,\n",
       " 'waiting': 1056463,\n",
       " 'death': 373047,\n",
       " 'relieve': 847987,\n",
       " 'lifetime': 635585,\n",
       " 'rapacious': 832360,\n",
       " 'behaviour': 261478,\n",
       " 'martha': 674928,\n",
       " 'fiennes': 465716,\n",
       " 'debut': 373808,\n",
       " 'feature': 461177,\n",
       " 'quite': 828739,\n",
       " 'literally': 643653,\n",
       " 'filmed': 475706,\n",
       " 'poetry': 799694,\n",
       " 'based': 253736,\n",
       " 'epic': 429206,\n",
       " 'russian': 872057,\n",
       " 'poem': 799631,\n",
       " 'alexander': 208760,\n",
       " 'pushkin': 824977,\n",
       " 'profound': 818035,\n",
       " 'study': 964861,\n",
       " 'regret': 845367,\n",
       " 'confuse': 342528,\n",
       " 'shame': 908902,\n",
       " 'guilt': 536344,\n",
       " 'first': 482095,\n",
       " 'meet': 683202,\n",
       " 'eugene': 432634,\n",
       " 'onegin': 757858,\n",
       " 'ralph': 831428,\n",
       " 'acting': 195578,\n",
       " 'sister': 923248,\n",
       " ';': 168004,\n",
       " 'another': 224458,\n",
       " 'brother': 287037,\n",
       " 'magnus': 662182,\n",
       " 'composed': 339689,\n",
       " 'score': 885120,\n",
       " 'philandering': 786411,\n",
       " 'aristocrat': 232776,\n",
       " 'st': 946386,\n",
       " 'petersburg': 785757,\n",
       " 'inherited': 582244,\n",
       " 'uncle': 1033091,\n",
       " 'estate': 432162,\n",
       " 'plans': 792639,\n",
       " 'sell': 899046,\n",
       " 'pays': 777082,\n",
       " 'summer': 971130,\n",
       " 'visit': 1053671,\n",
       " 'manor': 671207,\n",
       " 'located': 647842,\n",
       " 'underpopulated': 1034156,\n",
       " 'countryside': 353939,\n",
       " 'long': 648752,\n",
       " 'trip': 1020970,\n",
       " 'meets': 683634,\n",
       " 'neighbouring': 730550,\n",
       " 'family': 455208,\n",
       " 'blue': 275159,\n",
       " 'bloods': 274624,\n",
       " 'smitten': 930301,\n",
       " 'olga': 751476,\n",
       " 'larina': 620111,\n",
       " 'headey': 547477,\n",
       " 'befriends': 260002,\n",
       " 'fianc': 465060,\n",
       " 'vladimir': 1054568,\n",
       " 'lensky': 630378,\n",
       " 'stephens': 953197,\n",
       " 'tatyana': 986178,\n",
       " 'tyler': 1030677,\n",
       " 'romanticizing': 867300,\n",
       " 'flippant': 486908,\n",
       " 'attitude': 241613,\n",
       " 'nineteenth': 737974,\n",
       " 'boy': 281048,\n",
       " 'falls': 454341,\n",
       " 'sweaty': 977903,\n",
       " 'inky': 582680,\n",
       " 'torrent': 1012985,\n",
       " 'passion': 774338,\n",
       " 'writes': 1092685,\n",
       " 'letter': 632222,\n",
       " 'least': 626314,\n",
       " 'intrigued': 589610,\n",
       " 'note': 740932,\n",
       " 'rejects': 846026,\n",
       " 'affections': 204730,\n",
       " 'implied': 575448,\n",
       " 'soon': 937174,\n",
       " 'tragedy': 1016250,\n",
       " 'strikes': 962499,\n",
       " 'scarce': 879139,\n",
       " 'catch': 304346,\n",
       " 'six': 924465,\n",
       " 'later': 621507,\n",
       " 'returned': 856215,\n",
       " 'grand': 529475,\n",
       " 'ball': 251468,\n",
       " 'discovers': 394461,\n",
       " 'old': 750313,\n",
       " 'friend': 498239,\n",
       " 'donovan': 400265,\n",
       " 'married': 674276,\n",
       " 'womanly': 1081540,\n",
       " 'wordly': 1083862,\n",
       " 'time': 1005060,\n",
       " 'finds': 480244,\n",
       " 'irresistable': 592655,\n",
       " 'amazing': 218386,\n",
       " 'subtle': 967974,\n",
       " 'physical': 787294,\n",
       " 'transformation': 1017240,\n",
       " 'dashing': 368809,\n",
       " 'snob': 931203,\n",
       " 'miserly': 695165,\n",
       " 'grouch': 533798,\n",
       " 'overwhelmed': 766862,\n",
       " 'top': 1012195,\n",
       " 'hat': 545821,\n",
       " 'pines': 789922,\n",
       " 'seems': 895604,\n",
       " 'smaller': 929286,\n",
       " 'stature': 951862,\n",
       " 'brushed': 288293,\n",
       " 'ebeneezer': 411891,\n",
       " 'scrooge': 889002,\n",
       " 'trapped': 1017822,\n",
       " 'past': 774527,\n",
       " 'actor': 197609,\n",
       " 'constricted': 345191,\n",
       " 'playing': 795027,\n",
       " 'heroes': 552837,\n",
       " 'now-there': 743196,\n",
       " 'room': 867679,\n",
       " 'breathe': 283650,\n",
       " 'role': 864952,\n",
       " 'made': 659984,\n",
       " 'shades': 908089,\n",
       " 'gray': 530524,\n",
       " 'like': 636357,\n",
       " 'petula': 785891,\n",
       " 'clark': 323367,\n",
       " 'sang': 875289,\n",
       " 'universal': 1037382,\n",
       " 'phenomenon': 786240,\n",
       " 'parking': 771278,\n",
       " 'lot': 653588,\n",
       " ':': 164537,\n",
       " \"n't\": 719065,\n",
       " 'know': 613628,\n",
       " \"'ve\": 25688,\n",
       " 'got': 527631,\n",
       " 'til': 1004831,\n",
       " 'gone': 524167,\n",
       " 'about-face': 191632,\n",
       " 'speaks': 941218,\n",
       " 'read': 835566,\n",
       " 'need': 729063,\n",
       " 'confirmation': 342095,\n",
       " 'someone': 933638,\n",
       " 'wanted': 1058679,\n",
       " 'others': 763293,\n",
       " 'want': 1057998,\n",
       " 'well': 1068154,\n",
       " 'feels': 463275,\n",
       " 'jealousy': 596691,\n",
       " 'remorse': 850064,\n",
       " 'embarrassment': 418839,\n",
       " 'even': 433006,\n",
       " 'go': 519838,\n",
       " 'identification': 571869,\n",
       " 'feel': 462242,\n",
       " 'empathy': 420174,\n",
       " 'callous': 295183,\n",
       " 'bastard': 254891,\n",
       " 'emotions': 419989,\n",
       " 'echo': 412089,\n",
       " 'thousand': 1000938,\n",
       " 'ditties': 397382,\n",
       " 'less': 630827,\n",
       " 'vital': 1054382,\n",
       " 'changes': 309186,\n",
       " 'girl': 515212,\n",
       " 'crush': 362861,\n",
       " 'divided': 397599,\n",
       " 'loyalties': 657544,\n",
       " 'acquits': 194842,\n",
       " 'surprisingly': 975586,\n",
       " 'among': 220107,\n",
       " 'uk': 1031713,\n",
       " 'co-stars': 328401,\n",
       " 'filling': 467536,\n",
       " 'sketchy': 925095,\n",
       " 'gaps': 505675,\n",
       " 'expressing': 448161,\n",
       " 'base': 253585,\n",
       " 'sentiments': 901164,\n",
       " 'series': 902667,\n",
       " 'wanton': 1058932,\n",
       " 'stares': 948963,\n",
       " 'faces': 451069,\n",
       " 'mr': 711687,\n",
       " 'ms': 711887,\n",
       " 'capable': 297689,\n",
       " 'conveying': 348170,\n",
       " 'archetypal': 232133,\n",
       " 'misery': 695168,\n",
       " 'could': 351509,\n",
       " 'added': 201527,\n",
       " 'little': 643923,\n",
       " 'distinguished': 396793,\n",
       " 'episode': 429392,\n",
       " 'masterpiece': 676395,\n",
       " 'theater': 993423,\n",
       " 'current': 364228,\n",
       " 'cast': 302893,\n",
       " 'thoroughbreds': 999066,\n",
       " 'intact': 586025,\n",
       " 'helm': 550755,\n",
       " 'mtv': 711971,\n",
       " 'background': 248991,\n",
       " 'cut': 364792,\n",
       " 'teeth': 988725,\n",
       " 'directing': 390687,\n",
       " 'rock': 864195,\n",
       " 'videos': 1050377,\n",
       " 'xtc': 1094387,\n",
       " 'positively': 804806,\n",
       " 'influenced': 581505,\n",
       " 'sense': 899886,\n",
       " 'pace': 767457,\n",
       " 'though': 999214,\n",
       " 'thankfully': 993071,\n",
       " 'shot': 913270,\n",
       " 'lengths-no': 630274,\n",
       " 'spasmodic': 940829,\n",
       " 'cutting': 365375,\n",
       " '100': 158681,\n",
       " 'minutes': 693937,\n",
       " 'clicks': 325795,\n",
       " 'along': 212491,\n",
       " 'brisk': 285949,\n",
       " 'walk': 1056836,\n",
       " 'valleys': 1046028,\n",
       " 'despair': 382367,\n",
       " 'film': 467606,\n",
       " 'atypical': 242130,\n",
       " 'period': 783426,\n",
       " 'look': 649926,\n",
       " 'absent': 191822,\n",
       " 'sumptuous': 971515,\n",
       " 'tableware': 979957,\n",
       " 'antique': 226650,\n",
       " 'furnishings': 503238,\n",
       " 'stand': 947398,\n",
       " 'drippy': 405219,\n",
       " 'merchant': 686895,\n",
       " 'ivory': 593800,\n",
       " 'productions': 817450,\n",
       " 'sets': 905339,\n",
       " 'expressionistically': 448256,\n",
       " 'bare': 252788,\n",
       " 'echoing': 412143,\n",
       " 'loneliness': 648625,\n",
       " 'protagonists': 820275,\n",
       " 'cinematographer': 321509,\n",
       " 'remi': 849651,\n",
       " 'adafarasin': 200860,\n",
       " 'often': 749246,\n",
       " 'allows': 210918,\n",
       " 'space': 939883,\n",
       " 'engulf': 424433,\n",
       " \"'m\": 6227,\n",
       " 'reminded': 849702,\n",
       " 'climax': 326037,\n",
       " 'unfolds': 1035764,\n",
       " 'sea': 889260,\n",
       " 'white': 1072423,\n",
       " 'clear': 324538,\n",
       " 'cinema': 321077,\n",
       " 'spare': 940584,\n",
       " 'painfully': 768511,\n",
       " 'human': 566965,\n",
       " 'visual': 1053909,\n",
       " 'presentation': 810448,\n",
       " 'yevgeny': 1097407,\n",
       " 'lucid': 657812,\n",
       " 'translation': 1017482,\n",
       " 'difficult': 388804,\n",
       " 'text': 992849,\n",
       " 'yet': 1096682,\n",
       " 'may': 678801,\n",
       " 'exciting': 443578,\n",
       " ...}"
      ]
     },
     "execution_count": 8,
     "metadata": {},
     "output_type": "execute_result"
    }
   ],
   "source": [
    "vectorizer.vocabulary_"
   ]
  },
  {
   "cell_type": "markdown",
   "metadata": {},
   "source": [
    "__¿ Por qué tiene estas dimensiones ?__"
   ]
  },
  {
   "cell_type": "markdown",
   "metadata": {},
   "source": [
    "Responder."
   ]
  },
  {
   "cell_type": "markdown",
   "metadata": {},
   "source": [
    "Porque el resultado es una matriz de términos por documentos. Por cada término existente en el dataset habrá una columna, ya que no se realizó ningún tipo de filtrado."
   ]
  },
  {
   "cell_type": "markdown",
   "metadata": {},
   "source": [
    "## Entrenando los modelos\n",
    "Una vez que tenemos una matriz con los vectores correspondientes a los documentos luego de aplicarse td-idf podemos comenzar con el proceso de entrenamiento de los modelos. Para eso, vamos a comparar diferentes algoritmos vistos como SVM, Random Forest, AdaBoost, Voting. Y todos los algoritmos complementarios que se quieran introducir. \n",
    "Para el entrenamiento de los modelos usaremos GridSearch recorriendo una lista de parámetros según corresponda a cada algoritmo. Además usaremos 5-fold CV y el scoring estará dado por el área bajo la curva roc."
   ]
  },
  {
   "cell_type": "markdown",
   "metadata": {},
   "source": [
    "### Support Vector Machines (SVM)"
   ]
  },
  {
   "cell_type": "markdown",
   "metadata": {},
   "source": [
    "__Ajustar un SVM (kernel lineal) al conjunto de datos de entrenamiento y devolver la matriz de confusión en testing.__\n",
    "\n",
    "Basándonos en el paper https://www.csie.ntu.edu.tw/~cjlin/papers/guide/guide.pdf, vamos a utilizar un kernel lineal. Al tener menos instancias que features este es el procedimiento recomendado. \n",
    "\n",
    "Nuestro espacio de parámetros para recorrer de forma exhaustiva utilizando GridSearch será el siguiente:\n",
    "\n",
    "* C = [0.001, 0.01, 0.1, 1, 10]\n",
    "* loss = ['hinge', 'squared_hinge'] \n",
    "\n",
    "**2) Entrenar** un modelo utilizando `Grid Search` y el clasificador `LinearSVC` con `5-fold` cross validation y que utilice como `scoring` el área bajo la curva roc."
   ]
  },
  {
   "cell_type": "code",
   "execution_count": 9,
   "metadata": {},
   "outputs": [],
   "source": [
    "from sklearn.model_selection import GridSearchCV"
   ]
  },
  {
   "cell_type": "code",
   "execution_count": 10,
   "metadata": {},
   "outputs": [],
   "source": [
    "# Realizá el entrenamiento en esta celda\n",
    "from sklearn.svm import SVC\n",
    "#'LinearSVC' object has no attribute 'predict_proba'\n",
    "#linearSVC = LinearSVC()\n",
    "linearSVC = SVC(kernel='linear',probability=True)\n",
    "\n",
    "#param_grid = {'C':[0.001, 0.01, 0.1, 1, 10], 'loss':['hinge', 'squared_hinge']}\n",
    "param_grid = {'C':[0.001, 0.01, 0.1, 1, 10]}\n",
    "\n",
    "grid_search = GridSearchCV(linearSVC,\n",
    "                           param_grid,\n",
    "                           cv=5,\n",
    "                           scoring='roc_auc',\n",
    "                           n_jobs=-1)"
   ]
  },
  {
   "cell_type": "code",
   "execution_count": 11,
   "metadata": {},
   "outputs": [
    {
     "data": {
      "text/plain": [
       "GridSearchCV(cv=5, error_score='raise-deprecating',\n",
       "       estimator=SVC(C=1.0, cache_size=200, class_weight=None, coef0=0.0,\n",
       "  decision_function_shape='ovr', degree=3, gamma='auto_deprecated',\n",
       "  kernel='linear', max_iter=-1, probability=True, random_state=None,\n",
       "  shrinking=True, tol=0.001, verbose=False),\n",
       "       fit_params=None, iid='warn', n_jobs=-1,\n",
       "       param_grid={'C': [0.001, 0.01, 0.1, 1, 10]},\n",
       "       pre_dispatch='2*n_jobs', refit=True, return_train_score='warn',\n",
       "       scoring='roc_auc', verbose=0)"
      ]
     },
     "execution_count": 11,
     "metadata": {},
     "output_type": "execute_result"
    }
   ],
   "source": [
    "start_time = time.time()\n",
    "grid_search.fit(X_train, y_train)"
   ]
  },
  {
   "cell_type": "code",
   "execution_count": 12,
   "metadata": {},
   "outputs": [
    {
     "name": "stdout",
     "output_type": "stream",
     "text": [
      "Timpo entrenamiento SVM: 303.1592285633087\n"
     ]
    }
   ],
   "source": [
    "elapsed_time = time.time() - start_time\n",
    "print(\"Timpo entrenamiento SVM: {}\".format(elapsed_time))"
   ]
  },
  {
   "cell_type": "markdown",
   "metadata": {},
   "source": [
    "Veamos los resultados promediados por cada combinación de parámetros:"
   ]
  },
  {
   "cell_type": "code",
   "execution_count": 13,
   "metadata": {},
   "outputs": [],
   "source": [
    "import pandas as pd\n",
    "\n",
    "def getScoresTable(grid_search):\n",
    "    \n",
    "    data = []\n",
    "    params = []\n",
    "    \n",
    "    for d in grid_search.cv_results_[\"params\"]:\n",
    "        params.append(d)\n",
    "        \n",
    "    \n",
    "    data.append(grid_search.cv_results_[\"mean_test_score\"])\n",
    "    data.append(grid_search.cv_results_[\"std_test_score\"])\n",
    "    data.append(params)\n",
    "    df = pd.DataFrame(data)\n",
    "    df = df.T\n",
    "    df.columns = ['mean_test_score','std_test_score','params']\n",
    "    return df.sort_values(by='mean_test_score', ascending=False)\n",
    "    "
   ]
  },
  {
   "cell_type": "code",
   "execution_count": 14,
   "metadata": {},
   "outputs": [
    {
     "data": {
      "text/html": [
       "<div>\n",
       "<style scoped>\n",
       "    .dataframe tbody tr th:only-of-type {\n",
       "        vertical-align: middle;\n",
       "    }\n",
       "\n",
       "    .dataframe tbody tr th {\n",
       "        vertical-align: top;\n",
       "    }\n",
       "\n",
       "    .dataframe thead th {\n",
       "        text-align: right;\n",
       "    }\n",
       "</style>\n",
       "<table border=\"1\" class=\"dataframe\">\n",
       "  <thead>\n",
       "    <tr style=\"text-align: right;\">\n",
       "      <th></th>\n",
       "      <th>mean_test_score</th>\n",
       "      <th>std_test_score</th>\n",
       "      <th>params</th>\n",
       "    </tr>\n",
       "  </thead>\n",
       "  <tbody>\n",
       "    <tr>\n",
       "      <th>4</th>\n",
       "      <td>0.899187</td>\n",
       "      <td>0.0115234</td>\n",
       "      <td>{'C': 10}</td>\n",
       "    </tr>\n",
       "    <tr>\n",
       "      <th>3</th>\n",
       "      <td>0.889484</td>\n",
       "      <td>0.0131544</td>\n",
       "      <td>{'C': 1}</td>\n",
       "    </tr>\n",
       "    <tr>\n",
       "      <th>0</th>\n",
       "      <td>0.802672</td>\n",
       "      <td>0.0253694</td>\n",
       "      <td>{'C': 0.001}</td>\n",
       "    </tr>\n",
       "    <tr>\n",
       "      <th>1</th>\n",
       "      <td>0.802672</td>\n",
       "      <td>0.0253694</td>\n",
       "      <td>{'C': 0.01}</td>\n",
       "    </tr>\n",
       "    <tr>\n",
       "      <th>2</th>\n",
       "      <td>0.802672</td>\n",
       "      <td>0.0253694</td>\n",
       "      <td>{'C': 0.1}</td>\n",
       "    </tr>\n",
       "  </tbody>\n",
       "</table>\n",
       "</div>"
      ],
      "text/plain": [
       "  mean_test_score std_test_score        params\n",
       "4        0.899187      0.0115234     {'C': 10}\n",
       "3        0.889484      0.0131544      {'C': 1}\n",
       "0        0.802672      0.0253694  {'C': 0.001}\n",
       "1        0.802672      0.0253694   {'C': 0.01}\n",
       "2        0.802672      0.0253694    {'C': 0.1}"
      ]
     },
     "execution_count": 14,
     "metadata": {},
     "output_type": "execute_result"
    }
   ],
   "source": [
    "getScoresTable(grid_search).head()"
   ]
  },
  {
   "cell_type": "code",
   "execution_count": 15,
   "metadata": {},
   "outputs": [
    {
     "data": {
      "text/plain": [
       "{'C': 10}"
      ]
     },
     "execution_count": 15,
     "metadata": {},
     "output_type": "execute_result"
    }
   ],
   "source": [
    "grid_search.best_params_"
   ]
  },
  {
   "cell_type": "code",
   "execution_count": 16,
   "metadata": {},
   "outputs": [],
   "source": [
    "optimised_svm = grid_search.best_estimator_"
   ]
  },
  {
   "cell_type": "markdown",
   "metadata": {},
   "source": [
    "## Matriz de confusión \n",
    "Una forma de ver fácilmente el resultado de un clasificador es utilizando una matriz de confusión. A continuación\n",
    "se presenta una función para visualizar una matriz de confusión utilizando `matplotlib`."
   ]
  },
  {
   "cell_type": "code",
   "execution_count": 17,
   "metadata": {},
   "outputs": [],
   "source": [
    "import numpy as np\n",
    "import itertools\n",
    "import matplotlib.pylab as plt\n",
    "def plot_confusion_matrix(cm, classes,\n",
    "                          normalize=False,\n",
    "                          title='Confusion matrix',\n",
    "                          cmap=plt.cm.Blues):\n",
    "    \"\"\"\n",
    "    This function prints and plots the confusion matrix.\n",
    "    Normalization can be applied by setting `normalize=True`.\n",
    "    \"\"\"\n",
    "    if normalize:\n",
    "        cm = cm.astype('float') / cm.sum(axis=1)[:, np.newaxis]\n",
    "        print(\"Normalized confusion matrix\")\n",
    "    else:\n",
    "        print('Confusion matrix, without normalization')\n",
    "\n",
    "    print(cm)\n",
    "\n",
    "    plt.imshow(cm, interpolation='nearest', cmap=cmap)\n",
    "    plt.title(title)\n",
    "    plt.colorbar()\n",
    "    tick_marks = np.arange(len(classes))\n",
    "    plt.xticks(tick_marks, classes, rotation=45)\n",
    "    plt.yticks(tick_marks, classes)\n",
    "\n",
    "    fmt = '.2f' if normalize else 'd'\n",
    "    thresh = cm.max() / 2.\n",
    "    for i, j in itertools.product(range(cm.shape[0]), range(cm.shape[1])):\n",
    "        plt.text(j, i, format(cm[i, j], fmt),\n",
    "                 horizontalalignment=\"center\",\n",
    "                 color=\"white\" if cm[i, j] > thresh else \"black\")\n",
    "\n",
    "    plt.tight_layout()\n",
    "    plt.ylabel('True label')\n",
    "    plt.xlabel('Predicted label')\n",
    "    plt.show()\n",
    "\n"
   ]
  },
  {
   "cell_type": "markdown",
   "metadata": {},
   "source": [
    "**3) Mostrá** los resultados de la predicción del clasificador `LinearSVC` sobre el conjunto de test con una matriz de confusión"
   ]
  },
  {
   "cell_type": "code",
   "execution_count": 18,
   "metadata": {},
   "outputs": [
    {
     "name": "stdout",
     "output_type": "stream",
     "text": [
      "Confusion matrix, without normalization\n",
      "[[145  55]\n",
      " [ 23 177]]\n"
     ]
    },
    {
     "data": {
      "image/png": "[encoded data removed]",
      "text/plain": [
       "<Figure size 432x288 with 2 Axes>"
      ]
     },
     "metadata": {
      "needs_background": "light"
     },
     "output_type": "display_data"
    }
   ],
   "source": [
    "# Mostrá la matriz de confusión en esta celda\n",
    "from sklearn.metrics import confusion_matrix\n",
    "\n",
    "y_pred = optimised_svm.predict(X_test)\n",
    "cm = confusion_matrix(y_test, y_pred)\n",
    "target_names = [\"neg\", \"pos\"]\n",
    "plot_confusion_matrix(cm, target_names)"
   ]
  },
  {
   "cell_type": "markdown",
   "metadata": {},
   "source": [
    "**4) Calcular** el área bajo la curva ROC (AUC) en el conjunto de testing para el modelo y mostrá el `classification_report`"
   ]
  },
  {
   "cell_type": "code",
   "execution_count": 19,
   "metadata": {},
   "outputs": [
    {
     "name": "stdout",
     "output_type": "stream",
     "text": [
      "roc_auc score: 0.805\n",
      "              precision    recall  f1-score   support\n",
      "\n",
      "         neg       0.86      0.72      0.79       200\n",
      "         pos       0.76      0.89      0.82       200\n",
      "\n",
      "   micro avg       0.81      0.81      0.81       400\n",
      "   macro avg       0.81      0.80      0.80       400\n",
      "weighted avg       0.81      0.81      0.80       400\n",
      "\n"
     ]
    }
   ],
   "source": [
    "# Mostrá el roc_auc score y el classification_report en esta celda\n",
    "from sklearn.metrics import roc_auc_score, classification_report\n",
    "print(\"roc_auc score: {}\".format(roc_auc_score(y_test, y_pred)))\n",
    "print(classification_report(y_test, y_pred, target_names=target_names))"
   ]
  },
  {
   "cell_type": "markdown",
   "metadata": {},
   "source": [
    "### Random Forests\n",
    "El siguiente modelo que vamos a entrenar es utilizando la técnica de Random Forest. "
   ]
  },
  {
   "cell_type": "markdown",
   "metadata": {},
   "source": [
    "__5) Usando grid search__ con cross validation (5 folds), encontrar el mejor modelo según el AUC dado el siguiente espacio de búsqueda:\n",
    "\n",
    "* n_estimators = [100, 500, 1000]\n",
    "* max_depth: [3, 7, None]\n",
    "* min_samples_split: [2, 3, 10]\n",
    "* bootstrap: [True, False]\n",
    "* criterion: [\"gini\", \"entropy\"]\n",
    "\n",
    "(puede tardar un poco la ejecución dado el tamaño del dataset)"
   ]
  },
  {
   "cell_type": "code",
   "execution_count": 20,
   "metadata": {},
   "outputs": [],
   "source": [
    "# entrenar el modelo en esta celda\n",
    "from sklearn.ensemble import RandomForestClassifier\n",
    "\n",
    "param_grid = {'n_estimators':[100, 500, 1000],\n",
    "              'max_depth':[3, 7, None],\n",
    "              'min_samples_split':[2, 3, 10],\n",
    "              'bootstrap':[True, False],\n",
    "              'criterion': [\"gini\", \"entropy\"]}\n",
    "\n",
    "randomForest = RandomForestClassifier()\n",
    "grid_search = GridSearchCV(randomForest,\n",
    "                           param_grid,\n",
    "                           cv=5,\n",
    "                           scoring='roc_auc',\n",
    "                           n_jobs=-1)"
   ]
  },
  {
   "cell_type": "code",
   "execution_count": 21,
   "metadata": {},
   "outputs": [
    {
     "data": {
      "text/plain": [
       "GridSearchCV(cv=5, error_score='raise-deprecating',\n",
       "       estimator=RandomForestClassifier(bootstrap=True, class_weight=None, criterion='gini',\n",
       "            max_depth=None, max_features='auto', max_leaf_nodes=None,\n",
       "            min_impurity_decrease=0.0, min_impurity_split=None,\n",
       "            min_samples_leaf=1, min_samples_split=2,\n",
       "            min_weight_fraction_leaf=0.0, n_estimators='warn', n_jobs=None,\n",
       "            oob_score=False, random_state=None, verbose=0,\n",
       "            warm_start=False),\n",
       "       fit_params=None, iid='warn', n_jobs=-1,\n",
       "       param_grid={'n_estimators': [100, 500, 1000], 'max_depth': [3, 7, None], 'min_samples_split': [2, 3, 10], 'bootstrap': [True, False], 'criterion': ['gini', 'entropy']},\n",
       "       pre_dispatch='2*n_jobs', refit=True, return_train_score='warn',\n",
       "       scoring='roc_auc', verbose=0)"
      ]
     },
     "execution_count": 21,
     "metadata": {},
     "output_type": "execute_result"
    }
   ],
   "source": [
    "start_time = time.time()\n",
    "grid_search.fit(X_train, y_train)"
   ]
  },
  {
   "cell_type": "code",
   "execution_count": 22,
   "metadata": {},
   "outputs": [
    {
     "name": "stdout",
     "output_type": "stream",
     "text": [
      "Timpo entrenamiento RandomForest: 5441.476412773132\n"
     ]
    }
   ],
   "source": [
    "elapsed_time = time.time() - start_time\n",
    "print(\"Timpo entrenamiento RandomForest: {}\".format(elapsed_time))"
   ]
  },
  {
   "cell_type": "markdown",
   "metadata": {},
   "source": [
    "**6) Repetir** los mismos pasos utilizados con el anterior modelo pero esta vez para `Random Forest`. Es decir, mostrar la matriz de confusión, scores, etc"
   ]
  },
  {
   "cell_type": "code",
   "execution_count": 23,
   "metadata": {},
   "outputs": [
    {
     "data": {
      "text/html": [
       "<div>\n",
       "<style scoped>\n",
       "    .dataframe tbody tr th:only-of-type {\n",
       "        vertical-align: middle;\n",
       "    }\n",
       "\n",
       "    .dataframe tbody tr th {\n",
       "        vertical-align: top;\n",
       "    }\n",
       "\n",
       "    .dataframe thead th {\n",
       "        text-align: right;\n",
       "    }\n",
       "</style>\n",
       "<table border=\"1\" class=\"dataframe\">\n",
       "  <thead>\n",
       "    <tr style=\"text-align: right;\">\n",
       "      <th></th>\n",
       "      <th>mean_test_score</th>\n",
       "      <th>std_test_score</th>\n",
       "      <th>params</th>\n",
       "    </tr>\n",
       "  </thead>\n",
       "  <tbody>\n",
       "    <tr>\n",
       "      <th>101</th>\n",
       "      <td>0.918695</td>\n",
       "      <td>0.00812877</td>\n",
       "      <td>{'bootstrap': False, 'criterion': 'entropy', '...</td>\n",
       "    </tr>\n",
       "    <tr>\n",
       "      <th>104</th>\n",
       "      <td>0.916316</td>\n",
       "      <td>0.00799953</td>\n",
       "      <td>{'bootstrap': False, 'criterion': 'entropy', '...</td>\n",
       "    </tr>\n",
       "    <tr>\n",
       "      <th>106</th>\n",
       "      <td>0.915258</td>\n",
       "      <td>0.00926948</td>\n",
       "      <td>{'bootstrap': False, 'criterion': 'entropy', '...</td>\n",
       "    </tr>\n",
       "    <tr>\n",
       "      <th>100</th>\n",
       "      <td>0.912609</td>\n",
       "      <td>0.00996329</td>\n",
       "      <td>{'bootstrap': False, 'criterion': 'entropy', '...</td>\n",
       "    </tr>\n",
       "    <tr>\n",
       "      <th>107</th>\n",
       "      <td>0.912555</td>\n",
       "      <td>0.00823686</td>\n",
       "      <td>{'bootstrap': False, 'criterion': 'entropy', '...</td>\n",
       "    </tr>\n",
       "  </tbody>\n",
       "</table>\n",
       "</div>"
      ],
      "text/plain": [
       "    mean_test_score std_test_score  \\\n",
       "101        0.918695     0.00812877   \n",
       "104        0.916316     0.00799953   \n",
       "106        0.915258     0.00926948   \n",
       "100        0.912609     0.00996329   \n",
       "107        0.912555     0.00823686   \n",
       "\n",
       "                                                params  \n",
       "101  {'bootstrap': False, 'criterion': 'entropy', '...  \n",
       "104  {'bootstrap': False, 'criterion': 'entropy', '...  \n",
       "106  {'bootstrap': False, 'criterion': 'entropy', '...  \n",
       "100  {'bootstrap': False, 'criterion': 'entropy', '...  \n",
       "107  {'bootstrap': False, 'criterion': 'entropy', '...  "
      ]
     },
     "execution_count": 23,
     "metadata": {},
     "output_type": "execute_result"
    }
   ],
   "source": [
    "getScoresTable(grid_search).head()"
   ]
  },
  {
   "cell_type": "code",
   "execution_count": 24,
   "metadata": {},
   "outputs": [
    {
     "data": {
      "text/plain": [
       "{'bootstrap': False,\n",
       " 'criterion': 'entropy',\n",
       " 'max_depth': None,\n",
       " 'min_samples_split': 2,\n",
       " 'n_estimators': 1000}"
      ]
     },
     "execution_count": 24,
     "metadata": {},
     "output_type": "execute_result"
    }
   ],
   "source": [
    "grid_search.best_params_"
   ]
  },
  {
   "cell_type": "code",
   "execution_count": 25,
   "metadata": {},
   "outputs": [],
   "source": [
    "optimised_forest = grid_search.best_estimator_"
   ]
  },
  {
   "cell_type": "code",
   "execution_count": 26,
   "metadata": {},
   "outputs": [
    {
     "name": "stdout",
     "output_type": "stream",
     "text": [
      "Confusion matrix, without normalization\n",
      "[[184  16]\n",
      " [ 50 150]]\n"
     ]
    },
    {
     "data": {
      "image/png": "[encoded data removed]",
      "text/plain": [
       "<Figure size 432x288 with 2 Axes>"
      ]
     },
     "metadata": {
      "needs_background": "light"
     },
     "output_type": "display_data"
    }
   ],
   "source": [
    "y_pred = optimised_forest.predict(X_test)\n",
    "cm = confusion_matrix(y_test, y_pred)\n",
    "target_names = [\"neg\", \"pos\"]\n",
    "plot_confusion_matrix(cm, target_names)"
   ]
  },
  {
   "cell_type": "code",
   "execution_count": 27,
   "metadata": {},
   "outputs": [
    {
     "name": "stdout",
     "output_type": "stream",
     "text": [
      "roc_auc score: 0.8350000000000001\n",
      "              precision    recall  f1-score   support\n",
      "\n",
      "         neg       0.79      0.92      0.85       200\n",
      "         pos       0.90      0.75      0.82       200\n",
      "\n",
      "   micro avg       0.83      0.83      0.83       400\n",
      "   macro avg       0.84      0.83      0.83       400\n",
      "weighted avg       0.84      0.83      0.83       400\n",
      "\n"
     ]
    }
   ],
   "source": [
    "print(\"roc_auc score: {}\".format(roc_auc_score(y_test, y_pred)))\n",
    "print(classification_report(y_test, y_pred, target_names=target_names))"
   ]
  },
  {
   "cell_type": "markdown",
   "metadata": {},
   "source": [
    "### Multilayer Perceptron"
   ]
  },
  {
   "cell_type": "markdown",
   "metadata": {},
   "source": [
    "**6) Repetir** los mismos pasos utilizados con el anterior modelo pero esta vez para `Multilayer Perceptron`. Es decir, mostrar la matriz de confusión, scores, etc\n",
    "\n",
    "El `param_grid` debe recorrer estos valores: `{'hidden_layer_sizes': [(10,),(5,5), (2,2)]}`"
   ]
  },
  {
   "cell_type": "code",
   "execution_count": 28,
   "metadata": {},
   "outputs": [],
   "source": [
    "from sklearn.neural_network import MLPClassifier\n",
    "\n",
    "param_grid = {'hidden_layer_sizes': [(10,),(5,5), (2,2)]}\n",
    "\n",
    "mlp_clf = MLPClassifier()\n",
    "grid_search = GridSearchCV(mlp_clf,\n",
    "                           param_grid,\n",
    "                           cv=5,\n",
    "                           scoring='roc_auc',\n",
    "                           n_jobs=-1)"
   ]
  },
  {
   "cell_type": "code",
   "execution_count": 29,
   "metadata": {},
   "outputs": [
    {
     "data": {
      "text/plain": [
       "GridSearchCV(cv=5, error_score='raise-deprecating',\n",
       "       estimator=MLPClassifier(activation='relu', alpha=0.0001, batch_size='auto', beta_1=0.9,\n",
       "       beta_2=0.999, early_stopping=False, epsilon=1e-08,\n",
       "       hidden_layer_sizes=(100,), learning_rate='constant',\n",
       "       learning_rate_init=0.001, max_iter=200, momentum=0.9,\n",
       "       n_iter_no_change=10, nesterovs_momentum=True, power_t=0.5,\n",
       "       random_state=None, shuffle=True, solver='adam', tol=0.0001,\n",
       "       validation_fraction=0.1, verbose=False, warm_start=False),\n",
       "       fit_params=None, iid='warn', n_jobs=-1,\n",
       "       param_grid={'hidden_layer_sizes': [(10,), (5, 5), (2, 2)]},\n",
       "       pre_dispatch='2*n_jobs', refit=True, return_train_score='warn',\n",
       "       scoring='roc_auc', verbose=0)"
      ]
     },
     "execution_count": 29,
     "metadata": {},
     "output_type": "execute_result"
    }
   ],
   "source": [
    "start_time = time.time()\n",
    "grid_search.fit(X_train, y_train)"
   ]
  },
  {
   "cell_type": "code",
   "execution_count": 30,
   "metadata": {},
   "outputs": [
    {
     "name": "stdout",
     "output_type": "stream",
     "text": [
      "Timpo entrenamiento MLPC: 986.6758298873901\n"
     ]
    }
   ],
   "source": [
    "elapsed_time = time.time() - start_time\n",
    "print(\"Timpo entrenamiento MLPC: {}\".format(elapsed_time))"
   ]
  },
  {
   "cell_type": "code",
   "execution_count": 31,
   "metadata": {},
   "outputs": [
    {
     "data": {
      "text/html": [
       "<div>\n",
       "<style scoped>\n",
       "    .dataframe tbody tr th:only-of-type {\n",
       "        vertical-align: middle;\n",
       "    }\n",
       "\n",
       "    .dataframe tbody tr th {\n",
       "        vertical-align: top;\n",
       "    }\n",
       "\n",
       "    .dataframe thead th {\n",
       "        text-align: right;\n",
       "    }\n",
       "</style>\n",
       "<table border=\"1\" class=\"dataframe\">\n",
       "  <thead>\n",
       "    <tr style=\"text-align: right;\">\n",
       "      <th></th>\n",
       "      <th>mean_test_score</th>\n",
       "      <th>std_test_score</th>\n",
       "      <th>params</th>\n",
       "    </tr>\n",
       "  </thead>\n",
       "  <tbody>\n",
       "    <tr>\n",
       "      <th>0</th>\n",
       "      <td>0.903344</td>\n",
       "      <td>0.0156015</td>\n",
       "      <td>{'hidden_layer_sizes': (10,)}</td>\n",
       "    </tr>\n",
       "    <tr>\n",
       "      <th>1</th>\n",
       "      <td>0.884461</td>\n",
       "      <td>0.0297499</td>\n",
       "      <td>{'hidden_layer_sizes': (5, 5)}</td>\n",
       "    </tr>\n",
       "    <tr>\n",
       "      <th>2</th>\n",
       "      <td>0.54768</td>\n",
       "      <td>0.0953594</td>\n",
       "      <td>{'hidden_layer_sizes': (2, 2)}</td>\n",
       "    </tr>\n",
       "  </tbody>\n",
       "</table>\n",
       "</div>"
      ],
      "text/plain": [
       "  mean_test_score std_test_score                          params\n",
       "0        0.903344      0.0156015   {'hidden_layer_sizes': (10,)}\n",
       "1        0.884461      0.0297499  {'hidden_layer_sizes': (5, 5)}\n",
       "2         0.54768      0.0953594  {'hidden_layer_sizes': (2, 2)}"
      ]
     },
     "execution_count": 31,
     "metadata": {},
     "output_type": "execute_result"
    }
   ],
   "source": [
    "getScoresTable(grid_search).head()"
   ]
  },
  {
   "cell_type": "code",
   "execution_count": 32,
   "metadata": {},
   "outputs": [
    {
     "data": {
      "text/plain": [
       "{'hidden_layer_sizes': (10,)}"
      ]
     },
     "execution_count": 32,
     "metadata": {},
     "output_type": "execute_result"
    }
   ],
   "source": [
    "grid_search.best_params_"
   ]
  },
  {
   "cell_type": "code",
   "execution_count": 33,
   "metadata": {},
   "outputs": [],
   "source": [
    "optimised_mlpc = grid_search.best_estimator_"
   ]
  },
  {
   "cell_type": "code",
   "execution_count": 34,
   "metadata": {},
   "outputs": [
    {
     "name": "stdout",
     "output_type": "stream",
     "text": [
      "Confusion matrix, without normalization\n",
      "[[162  38]\n",
      " [ 28 172]]\n"
     ]
    },
    {
     "data": {
      "image/png": "[encoded data removed]",
      "text/plain": [
       "<Figure size 432x288 with 2 Axes>"
      ]
     },
     "metadata": {
      "needs_background": "light"
     },
     "output_type": "display_data"
    }
   ],
   "source": [
    "y_pred = optimised_mlpc.predict(X_test)\n",
    "cm = confusion_matrix(y_test, y_pred)\n",
    "target_names = [\"neg\", \"pos\"]\n",
    "plot_confusion_matrix(cm, target_names)"
   ]
  },
  {
   "cell_type": "code",
   "execution_count": 35,
   "metadata": {},
   "outputs": [
    {
     "name": "stdout",
     "output_type": "stream",
     "text": [
      "roc_auc score: 0.835\n",
      "              precision    recall  f1-score   support\n",
      "\n",
      "         neg       0.85      0.81      0.83       200\n",
      "         pos       0.82      0.86      0.84       200\n",
      "\n",
      "   micro avg       0.83      0.83      0.83       400\n",
      "   macro avg       0.84      0.83      0.83       400\n",
      "weighted avg       0.84      0.83      0.83       400\n",
      "\n"
     ]
    }
   ],
   "source": [
    "print(\"roc_auc score: {}\".format(roc_auc_score(y_test, y_pred)))\n",
    "print(classification_report(y_test, y_pred, target_names=target_names))"
   ]
  },
  {
   "cell_type": "markdown",
   "metadata": {},
   "source": [
    "### AdaBoost"
   ]
  },
  {
   "cell_type": "markdown",
   "metadata": {},
   "source": [
    "**7) Repetir** los mismos pasos utilizados con el anterior modelo pero esta vez para `AdaBoost`. Es decir, mostrar la matriz de confusión, scores, etc\n",
    "\n",
    "El `param_grid` debe recorrer estos valores: `{'n_estimators': [50, 100, 500]}`\n"
   ]
  },
  {
   "cell_type": "code",
   "execution_count": 36,
   "metadata": {},
   "outputs": [],
   "source": [
    "from sklearn.ensemble import AdaBoostClassifier\n",
    "\n",
    "param_grid = {'n_estimators': [50, 100, 500]}\n",
    "\n",
    "ada_clf = AdaBoostClassifier()\n",
    "grid_search = GridSearchCV(ada_clf,\n",
    "                           param_grid,\n",
    "                           cv=5,\n",
    "                           scoring='roc_auc',\n",
    "                           n_jobs=-1)"
   ]
  },
  {
   "cell_type": "code",
   "execution_count": 37,
   "metadata": {},
   "outputs": [
    {
     "data": {
      "text/plain": [
       "GridSearchCV(cv=5, error_score='raise-deprecating',\n",
       "       estimator=AdaBoostClassifier(algorithm='SAMME.R', base_estimator=None,\n",
       "          learning_rate=1.0, n_estimators=50, random_state=None),\n",
       "       fit_params=None, iid='warn', n_jobs=-1,\n",
       "       param_grid={'n_estimators': [50, 100, 500]},\n",
       "       pre_dispatch='2*n_jobs', refit=True, return_train_score='warn',\n",
       "       scoring='roc_auc', verbose=0)"
      ]
     },
     "execution_count": 37,
     "metadata": {},
     "output_type": "execute_result"
    }
   ],
   "source": [
    "start_time = time.time()\n",
    "grid_search.fit(X_train, y_train)"
   ]
  },
  {
   "cell_type": "code",
   "execution_count": 38,
   "metadata": {},
   "outputs": [
    {
     "name": "stdout",
     "output_type": "stream",
     "text": [
      "Timpo entrenamiento AdaBoost: 793.152349948883\n"
     ]
    }
   ],
   "source": [
    "elapsed_time = time.time() - start_time\n",
    "print(\"Timpo entrenamiento AdaBoost: {}\".format(elapsed_time))"
   ]
  },
  {
   "cell_type": "code",
   "execution_count": 39,
   "metadata": {},
   "outputs": [
    {
     "data": {
      "text/html": [
       "<div>\n",
       "<style scoped>\n",
       "    .dataframe tbody tr th:only-of-type {\n",
       "        vertical-align: middle;\n",
       "    }\n",
       "\n",
       "    .dataframe tbody tr th {\n",
       "        vertical-align: top;\n",
       "    }\n",
       "\n",
       "    .dataframe thead th {\n",
       "        text-align: right;\n",
       "    }\n",
       "</style>\n",
       "<table border=\"1\" class=\"dataframe\">\n",
       "  <thead>\n",
       "    <tr style=\"text-align: right;\">\n",
       "      <th></th>\n",
       "      <th>mean_test_score</th>\n",
       "      <th>std_test_score</th>\n",
       "      <th>params</th>\n",
       "    </tr>\n",
       "  </thead>\n",
       "  <tbody>\n",
       "    <tr>\n",
       "      <th>2</th>\n",
       "      <td>0.868086</td>\n",
       "      <td>0.0126382</td>\n",
       "      <td>{'n_estimators': 500}</td>\n",
       "    </tr>\n",
       "    <tr>\n",
       "      <th>0</th>\n",
       "      <td>0.829328</td>\n",
       "      <td>0.0117769</td>\n",
       "      <td>{'n_estimators': 50}</td>\n",
       "    </tr>\n",
       "    <tr>\n",
       "      <th>1</th>\n",
       "      <td>0.828313</td>\n",
       "      <td>0.00993931</td>\n",
       "      <td>{'n_estimators': 100}</td>\n",
       "    </tr>\n",
       "  </tbody>\n",
       "</table>\n",
       "</div>"
      ],
      "text/plain": [
       "  mean_test_score std_test_score                 params\n",
       "2        0.868086      0.0126382  {'n_estimators': 500}\n",
       "0        0.829328      0.0117769   {'n_estimators': 50}\n",
       "1        0.828313     0.00993931  {'n_estimators': 100}"
      ]
     },
     "execution_count": 39,
     "metadata": {},
     "output_type": "execute_result"
    }
   ],
   "source": [
    "getScoresTable(grid_search).head()"
   ]
  },
  {
   "cell_type": "code",
   "execution_count": 40,
   "metadata": {},
   "outputs": [
    {
     "data": {
      "text/plain": [
       "{'n_estimators': 500}"
      ]
     },
     "execution_count": 40,
     "metadata": {},
     "output_type": "execute_result"
    }
   ],
   "source": [
    "grid_search.best_params_"
   ]
  },
  {
   "cell_type": "code",
   "execution_count": 41,
   "metadata": {},
   "outputs": [],
   "source": [
    "optimised_abc = grid_search.best_estimator_"
   ]
  },
  {
   "cell_type": "code",
   "execution_count": 42,
   "metadata": {},
   "outputs": [
    {
     "name": "stdout",
     "output_type": "stream",
     "text": [
      "Confusion matrix, without normalization\n",
      "[[167  33]\n",
      " [ 38 162]]\n"
     ]
    },
    {
     "data": {
      "image/png": "[encoded data removed]",
      "text/plain": [
       "<Figure size 432x288 with 2 Axes>"
      ]
     },
     "metadata": {
      "needs_background": "light"
     },
     "output_type": "display_data"
    }
   ],
   "source": [
    "y_pred = optimised_abc.predict(X_test)\n",
    "cm = confusion_matrix(y_test, y_pred)\n",
    "target_names = [\"neg\", \"pos\"]\n",
    "plot_confusion_matrix(cm, target_names)"
   ]
  },
  {
   "cell_type": "code",
   "execution_count": 43,
   "metadata": {},
   "outputs": [
    {
     "name": "stdout",
     "output_type": "stream",
     "text": [
      "roc_auc score: 0.8225\n",
      "              precision    recall  f1-score   support\n",
      "\n",
      "         neg       0.81      0.83      0.82       200\n",
      "         pos       0.83      0.81      0.82       200\n",
      "\n",
      "   micro avg       0.82      0.82      0.82       400\n",
      "   macro avg       0.82      0.82      0.82       400\n",
      "weighted avg       0.82      0.82      0.82       400\n",
      "\n"
     ]
    }
   ],
   "source": [
    "print(\"roc_auc score: {}\".format(roc_auc_score(y_test, y_pred)))\n",
    "print(classification_report(y_test, y_pred, target_names=target_names))"
   ]
  },
  {
   "cell_type": "markdown",
   "metadata": {},
   "source": [
    "__8) Armar un ensamble entre los cuatro modelos usando votación y medir el accuracy de cada uno de los modelos.__\n"
   ]
  },
  {
   "cell_type": "code",
   "execution_count": 44,
   "metadata": {},
   "outputs": [
    {
     "name": "stdout",
     "output_type": "stream",
     "text": [
      "SVC 0.805\n",
      "Timpo Predicion: 2.2329134941101074\n",
      "RandomForestClassifier 0.835\n",
      "Timpo Predicion: 1.6300013065338135\n",
      "MLPClassifier 0.835\n",
      "Timpo Predicion: 0.005928754806518555\n",
      "AdaBoostClassifier 0.8225\n",
      "Timpo Predicion: 0.812889814376831\n",
      "VotingClassifier 0.825\n",
      "Timpo Predicion: 4.66699743270874\n"
     ]
    }
   ],
   "source": [
    "from sklearn.ensemble import VotingClassifier\n",
    "from sklearn.metrics import accuracy_score\n",
    "#'LinearSVC' object has no attribute 'predict_proba'\n",
    "\n",
    "estimators=[('svm', optimised_svm),\n",
    "            ('forest', optimised_forest),\n",
    "            ('mlpc', optimised_mlpc),\n",
    "            ('abc', optimised_abc),]\n",
    "\n",
    "eclf = VotingClassifier(estimators=estimators,\n",
    "                              voting='soft',\n",
    "                              n_jobs=-1)\n",
    "\n",
    "eclf.fit(X_train, y_train)\n",
    "\n",
    "for clf in (optimised_svm, optimised_forest, optimised_mlpc, optimised_abc, eclf):\n",
    "    start_time = time.time()\n",
    "    y_pred = clf.predict(X_test)\n",
    "    elapsed_time = time.time() - start_time\n",
    "    print(clf.__class__.__name__, accuracy_score(y_test, y_pred))\n",
    "    print(\"Timpo Predicion: {}\".format(elapsed_time))"
   ]
  },
  {
   "cell_type": "markdown",
   "metadata": {},
   "source": [
    "__9) Seleccioná el modelo__ que te haya dado el mejor score y utilizalo como tu modelo final. Reentrenalo con todos tus datos de entrenamiento.\n"
   ]
  },
  {
   "cell_type": "markdown",
   "metadata": {},
   "source": [
    "Los escores son bastante consistentes entre ellos, pero elijo MLPClassifier dado el bajo tiempo de prediccion. "
   ]
  },
  {
   "cell_type": "code",
   "execution_count": 46,
   "metadata": {},
   "outputs": [
    {
     "data": {
      "text/plain": [
       "MLPClassifier(activation='relu', alpha=0.0001, batch_size='auto', beta_1=0.9,\n",
       "       beta_2=0.999, early_stopping=False, epsilon=1e-08,\n",
       "       hidden_layer_sizes=(10,), learning_rate='constant',\n",
       "       learning_rate_init=0.001, max_iter=200, momentum=0.9,\n",
       "       n_iter_no_change=10, nesterovs_momentum=True, power_t=0.5,\n",
       "       random_state=None, shuffle=True, solver='adam', tol=0.0001,\n",
       "       validation_fraction=0.1, verbose=False, warm_start=False)"
      ]
     },
     "execution_count": 46,
     "metadata": {},
     "output_type": "execute_result"
    }
   ],
   "source": [
    "eclf = optimised_mlpc\n",
    "X_all = vectorizer.transform(movie_reviews.data)\n",
    "y_all = movie_reviews.target\n",
    "start_time = time.time()\n",
    "eclf.fit(X_all,y_all)"
   ]
  },
  {
   "cell_type": "code",
   "execution_count": 47,
   "metadata": {},
   "outputs": [
    {
     "name": "stdout",
     "output_type": "stream",
     "text": [
      "Timpo VotingClassifier: 162.54924488067627\n"
     ]
    }
   ],
   "source": [
    "elapsed_time = time.time() - start_time\n",
    "print(\"Timpo VotingClassifier: {}\".format(elapsed_time))"
   ]
  },
  {
   "cell_type": "code",
   "execution_count": 48,
   "metadata": {},
   "outputs": [
    {
     "data": {
      "text/plain": [
       "['sentiment.pkl']"
      ]
     },
     "execution_count": 48,
     "metadata": {},
     "output_type": "execute_result"
    }
   ],
   "source": [
    "# Guardamos el modelo\n",
    "from sklearn.externals import joblib\n",
    "joblib.dump(eclf, 'sentiment.pkl') "
   ]
  },
  {
   "cell_type": "code",
   "execution_count": 49,
   "metadata": {},
   "outputs": [
    {
     "data": {
      "text/plain": [
       "array([0, 1, 0, 1, 0, 1, 0, 1, 1, 1, 0, 0, 1, 0, 0, 0, 1, 1, 0, 0, 1, 1,\n",
       "       1, 0, 1, 0, 1, 0, 1, 1, 1, 0, 0, 1, 1, 0, 1, 0, 1, 1, 0, 1, 0, 1,\n",
       "       1, 0, 0, 0, 1, 0, 1, 1, 0, 1, 1, 1, 0, 1, 1, 1, 1, 1, 0, 1, 0, 1,\n",
       "       1, 0, 0, 1, 1, 1, 0, 0, 0, 0, 0, 1, 1, 0, 1, 0, 0, 1, 1, 0, 1, 0,\n",
       "       1, 1, 1, 0, 1, 1, 0, 1, 0, 0, 1, 1, 0, 1, 0, 1, 0, 1, 1, 0, 0, 0,\n",
       "       0, 1, 0, 1, 0, 1, 1, 0, 1, 1, 1, 1, 1, 0, 1, 1, 0, 1, 0, 0, 1, 0,\n",
       "       0, 0, 1, 1, 0, 1, 0, 1, 1, 0, 1, 1, 1, 0, 1, 1, 0, 0, 1, 0, 1, 1,\n",
       "       1, 0, 1, 1, 1, 1, 0, 0, 0, 1, 0, 0, 1, 1, 1, 0, 0, 1, 1, 0, 1, 0,\n",
       "       0, 0, 0, 1, 0, 1, 1, 1, 0, 0, 1, 0, 1, 1, 0, 0, 1, 0, 1, 1, 0, 0,\n",
       "       0, 1, 0, 1, 0, 1, 1, 1, 0, 0, 0, 1, 1, 0, 0, 1, 0, 1, 0, 0, 0, 0,\n",
       "       1, 1, 1, 1, 0, 0, 1, 1, 1, 1, 0, 0, 0, 0, 1, 1, 1, 1, 0, 1, 1, 0,\n",
       "       1, 1, 1, 1, 1, 0, 0, 0, 1, 0, 0, 0, 1, 0, 0, 1, 1, 1, 0, 0, 1, 1,\n",
       "       0, 1, 1, 0, 0, 1, 1, 1, 1, 0, 1, 0, 1, 1, 1, 1, 0, 0, 1, 1, 0, 1,\n",
       "       1, 1, 0, 1, 1, 1, 0, 1, 0, 0, 0, 0, 0, 1, 1, 0, 1, 0, 0, 1, 1, 0,\n",
       "       1, 0, 0, 1, 0, 1, 1, 0, 1, 1, 1, 0, 0, 0, 1, 0, 1, 1, 0, 1, 0, 0,\n",
       "       0, 0, 0, 1, 1, 1, 1, 1, 1, 1, 1, 0, 0, 1, 1, 0, 1, 1, 1, 0, 0, 1,\n",
       "       1, 1, 1, 0, 0, 0, 1, 0, 1, 0, 0, 1, 0, 1, 1, 1, 1, 1, 1, 0, 1, 1,\n",
       "       0, 0, 0, 1, 1, 1, 0, 1, 0, 0, 1, 0, 1, 1, 0, 0, 0, 1, 0, 1, 0, 0,\n",
       "       1, 1, 1, 1])"
      ]
     },
     "execution_count": 49,
     "metadata": {},
     "output_type": "execute_result"
    }
   ],
   "source": [
    "y_pred"
   ]
  },
  {
   "cell_type": "markdown",
   "metadata": {},
   "source": [
    "## Clasificación de reviews de Rocky 4."
   ]
  },
  {
   "cell_type": "markdown",
   "metadata": {},
   "source": [
    "A partir de [criticas de la película Rocky 4](https://www.rottentomatoes.com/m/rocky_iv/reviews/?type=user) veamos como las clasifica nuestro mejor modelo"
   ]
  },
  {
   "cell_type": "code",
   "execution_count": 51,
   "metadata": {},
   "outputs": [],
   "source": [
    "tfidf_vect = vectorizer"
   ]
  },
  {
   "cell_type": "code",
   "execution_count": 52,
   "metadata": {},
   "outputs": [],
   "source": [
    "reviews_new = [\"Stallone creates credible villains worthy of his heroic character.\",\n",
    "               \"Another brilliant Rocky film, probably my favourite one out of the lot\",\n",
    "               \"Yeah, this movie sucks.\",\n",
    "               \"My favourite rocky film! So good so much heart. Slightly better than 2\",\n",
    "               \"What has this got to do with boxing. Also everyone looked like dolls. Also if you are a real true boxing fan (not casuals), you would understand that this stupidity is no description of boxing!!\",\n",
    "               \"The new film's narrative is stripped down to essentials, which gives it an emblematic quality.\",\n",
    "               \"Absurdly ridiculous, this just isn't a good movie at all\", \n",
    "               \"Very basic and predictable but still an okay movie. No special music to save this one.\", \n",
    "              \"Rocky 4 is an extremely ambitious movie that is definitely worth watching.\",\n",
    "              'Highly beautiful',\n",
    "               \"If it wasn't for the robots (WTF????), and the painfully overwritten lines of an absurdly dogmatic persuasion, then this would otherwise be nothing more than an interminable series of mildly rousing montages. There are some unintentionally funny bits though, and Dolph's Ivan showcases the best and worst of all Rocky's opponents.\",\n",
    "              \"While all aspects of realism is thrown out the window, ROCKY IV is an adrenaline rush of action and excitment, with an incredible soundtrack and arguably the best movie fight in history between Balboa and Drago\",\n",
    "              \"Just like the songs, exercise routines and repetitive clips, it seems redundant to add another installment in this already falling franchise when you clearly lack material. Rocky IV is petty, childish and seems overlong despite of its 91 minutes of run time for it merely has an idea of a TV drama episode which is stretched to a point of exhaustion. Its painful to watch Sylvester Stallone go through this enormous amount of training and hardly make a point out there. He fails on all the levels here; writer, director and actor, to deliver any loose end of the thread for the audience to hang on to. Rocky IV is predictable, loosely written and choreographed and executed unsupervised.\"]\n",
    "reviews_new_counts = tfidf_vect.transform(reviews_new)\n",
    "reviews_new_tfidf = tfidf_vect.transform(reviews_new)"
   ]
  },
  {
   "cell_type": "code",
   "execution_count": 53,
   "metadata": {},
   "outputs": [],
   "source": [
    "pred = eclf.predict(reviews_new_tfidf)"
   ]
  },
  {
   "cell_type": "code",
   "execution_count": 54,
   "metadata": {},
   "outputs": [
    {
     "name": "stdout",
     "output_type": "stream",
     "text": [
      "'Stallone creates credible villains worthy of his heroic character.' => pos \n",
      "\n",
      "'Another brilliant Rocky film, probably my favourite one out of the lot' => pos \n",
      "\n",
      "'Yeah, this movie sucks.' => neg \n",
      "\n",
      "'My favourite rocky film! So good so much heart. Slightly better than 2' => pos \n",
      "\n",
      "'What has this got to do with boxing. Also everyone looked like dolls. Also if you are a real true boxing fan (not casuals), you would understand that this stupidity is no description of boxing!!' => neg \n",
      "\n",
      "\"The new film's narrative is stripped down to essentials, which gives it an emblematic quality.\" => pos \n",
      "\n",
      "\"Absurdly ridiculous, this just isn't a good movie at all\" => neg \n",
      "\n",
      "'Very basic and predictable but still an okay movie. No special music to save this one.' => neg \n",
      "\n",
      "'Rocky 4 is an extremely ambitious movie that is definitely worth watching.' => pos \n",
      "\n",
      "'Highly beautiful' => pos \n",
      "\n",
      "\"If it wasn't for the robots (WTF????), and the painfully overwritten lines of an absurdly dogmatic persuasion, then this would otherwise be nothing more than an interminable series of mildly rousing montages. There are some unintentionally funny bits though, and Dolph's Ivan showcases the best and worst of all Rocky's opponents.\" => neg \n",
      "\n",
      "'While all aspects of realism is thrown out the window, ROCKY IV is an adrenaline rush of action and excitment, with an incredible soundtrack and arguably the best movie fight in history between Balboa and Drago' => pos \n",
      "\n",
      "'Just like the songs, exercise routines and repetitive clips, it seems redundant to add another installment in this already falling franchise when you clearly lack material. Rocky IV is petty, childish and seems overlong despite of its 91 minutes of run time for it merely has an idea of a TV drama episode which is stretched to a point of exhaustion. Its painful to watch Sylvester Stallone go through this enormous amount of training and hardly make a point out there. He fails on all the levels here; writer, director and actor, to deliver any loose end of the thread for the audience to hang on to. Rocky IV is predictable, loosely written and choreographed and executed unsupervised.' => neg \n",
      "\n"
     ]
    }
   ],
   "source": [
    "for review, category in zip(reviews_new, pred):\n",
    "    print('%r => %s \\n' % (review, movie_reviews.target_names[category]))"
   ]
  }
 ],
 "metadata": {
  "kernelspec": {
   "display_name": "Python 3",
   "language": "python",
   "name": "python3"
  },
  "language_info": {
   "codemirror_mode": {
    "name": "ipython",
    "version": 3
   },
   "file_extension": ".py",
   "mimetype": "text/x-python",
   "name": "python",
   "nbconvert_exporter": "python",
   "pygments_lexer": "ipython3",
   "version": "3.7.1"
  }
 },
 "nbformat": 4,
 "nbformat_minor": 2
}
