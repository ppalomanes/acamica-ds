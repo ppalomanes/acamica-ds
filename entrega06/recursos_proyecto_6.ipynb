{
 "cells": [
  {
   "cell_type": "markdown",
   "metadata": {},
   "source": [
    "# Proyecto 6: Sistemas de recomendación"
   ]
  },
  {
   "cell_type": "markdown",
   "metadata": {},
   "source": [
    "## Dataset"
   ]
  },
  {
   "cell_type": "markdown",
   "metadata": {},
   "source": [
    "El dataset que vamos a usar en este proyecto es el del proyecto [MovieLens](http://grouplens.org/datasets/movielens/). Estos son relevados por el grupo de investigación GroupLens de la Universidad de Minnesota. Vamos a usar la versión 100K."
   ]
  },
  {
   "cell_type": "markdown",
   "metadata": {},
   "source": [
    "Está basado en un sistema de rating de 5 estrellas y texto libre para tags a partir del servicio de recomendaciones MovieLens. Contiene 100.000 ratings para 1.682 películas. Los datos fueron creados por 943 usuarios."
   ]
  },
  {
   "cell_type": "markdown",
   "metadata": {},
   "source": [
    "En el [Readme](http://files.grouplens.org/datasets/movielens/ml-100k-README.txt) del dataset se puede encontrar información adicional. A continuación vamos a describir cada uno de ellos."
   ]
  },
  {
   "cell_type": "markdown",
   "metadata": {},
   "source": [
    "### Ratings (u.data)\n",
    "\n",
    "Cada línea representa el rating para una película para un usuario. Los ratings están basados en un sistema de 5 estrellas, con una salto de 0.5 estrellas. Los timestamps están expresados en segundos desde la medianoche de 01/1970 (UTC). El formato es:\n",
    "\n",
    "`user id | item id | rating | timestamp`"
   ]
  },
  {
   "cell_type": "markdown",
   "metadata": {},
   "source": [
    "### Usuarios (u.users)\n",
    "\n",
    "Cada línea del archivo representa un usuario. Se incluye información demográfica. El formato es:\n",
    "\n",
    "`user id | age | gender | occupation | zip code`"
   ]
  },
  {
   "cell_type": "markdown",
   "metadata": {},
   "source": [
    "### Películas (u.item)\n",
    "\n",
    "Cada línea corresponde a una película. Puede haber inconsistencias en los nombres. El formato es:\n",
    "\n",
    "`movie id | movie title | release date | video release date | IMDb URL | generos`\n",
    "\n",
    "\n",
    "\n",
    "Las columnas con los generos son binarias indicando la presencia o ausencia de cada uno en la película. Los géneros pueden ser:\n",
    "\n",
    "* Action\n",
    "* Adventure\n",
    "* Animation\n",
    "* Children's\n",
    "* Comedy\n",
    "* Crime\n",
    "* Documentary\n",
    "* Drama\n",
    "* Fantasy\n",
    "* Film-Noir\n",
    "* Horror\n",
    "* Musical\n",
    "* Mystery\n",
    "* Romance\n",
    "* Sci-Fi\n",
    "* Thriller\n",
    "* War\n",
    "* Western\n",
    "* unknown"
   ]
  },
  {
   "cell_type": "markdown",
   "metadata": {},
   "source": [
    "## Experimentación"
   ]
  },
  {
   "cell_type": "markdown",
   "metadata": {},
   "source": [
    "Durante todo este proyecto vamos a utilizar la librería `surprise` para llevar a cabo las experimentaciones.\n",
    "\n",
    "Como se mencionó en clase, las implementaciones en esta librería tiene algunas mejoras respecto de las estrategias convencionales como SVD. Esto se traduce en una mayor cantidad de parámetros para optimizar."
   ]
  },
  {
   "cell_type": "markdown",
   "metadata": {},
   "source": [
    "Vamos a levantar los datos. En primer lugar, definamos el formato para poder leer los datos.\n",
    "\n",
    "**1) Utilizar** el `Reader` con el parámetro `line_format` igual a `'user item rating timestamp'` y `sep` como `'\\t'`. Guardarlo en una variable `reader`."
   ]
  },
  {
   "cell_type": "code",
   "execution_count": 3,
   "metadata": {},
   "outputs": [],
   "source": [
    "from surprise import Dataset\n",
    "from surprise import Reader"
   ]
  },
  {
   "cell_type": "code",
   "execution_count": 5,
   "metadata": {},
   "outputs": [],
   "source": [
    "reader = Reader(line_format='user item rating timestamp', sep='\\t')"
   ]
  },
  {
   "cell_type": "markdown",
   "metadata": {},
   "source": [
    "Utilizando este `reader` cargar los datos:"
   ]
  },
  {
   "cell_type": "code",
   "execution_count": 6,
   "metadata": {},
   "outputs": [],
   "source": [
    "data = Dataset.load_from_file('./dataset/ml-100k/u.data', reader=reader)"
   ]
  },
  {
   "cell_type": "markdown",
   "metadata": {},
   "source": [
    "__2) Ejecutar una corrida inicial usando cross validation y el algoritmo SVD (5 folds). Imprimir los RMSE de testing.__"
   ]
  },
  {
   "cell_type": "code",
   "execution_count": 12,
   "metadata": {},
   "outputs": [],
   "source": [
    "from surprise import SVD\n",
    "from surprise.model_selection import cross_validate\n",
    "import numpy as np"
   ]
  },
  {
   "cell_type": "code",
   "execution_count": null,
   "metadata": {},
   "outputs": [
    {
     "name": "stdout",
     "output_type": "stream",
     "text": [
      "Factors: 1, mean RMSE: 0.9412564013817505\n",
      "Factors: 11, mean RMSE: 0.9389482922577613\n",
      "Factors: 21, mean RMSE: 0.9346411739177171\n",
      "Factors: 31, mean RMSE: 0.9358198740431807\n",
      "Factors: 41, mean RMSE: 0.9357824136483565\n",
      "Factors: 51, mean RMSE: 0.9340280320146965\n",
      "Factors: 61, mean RMSE: 0.93455691639675\n",
      "Factors: 71, mean RMSE: 0.9337495511253001\n",
      "Factors: 81, mean RMSE: 0.935457644324201\n",
      "Factors: 91, mean RMSE: 0.9355767805800295\n"
     ]
    }
   ],
   "source": [
    "rmse_test_means = []\n",
    "factors = list(range(1,201, 10))\n",
    "for factor in factors:\n",
    "    algo = SVD(n_factors=factor)\n",
    "    cv = cross_validate(algo, data, measures=['RMSE'],  cv=5, verbose=False)\n",
    "    mean = np.mean(cv['test_rmse'])\n",
    "    print(\"Factors: {}, mean RMSE: {}\".format(factor,mean))\n",
    "    rmse_test_means.append(mean)"
   ]
  },
  {
   "cell_type": "code",
   "execution_count": null,
   "metadata": {},
   "outputs": [],
   "source": [
    "import matplotlib.pyplot as plt\n",
    "%matplotlib inline \n",
    "plt.plot(factors, rmse_test_means, label='RMSE Testing')\n",
    "plt.ylim((0.92, 1.0))\n",
    "plt.legend(loc=\"best\")\n",
    "plt.title(\"RMSE para algoritmo SVD según cantidad de factores.\")\n",
    "plt.show()"
   ]
  },
  {
   "cell_type": "markdown",
   "metadata": {},
   "source": [
    "__3) Evaluar el RMSE (promedio de cross validation) de testing de acuerdo a la cantidad de factores en SVD.__"
   ]
  },
  {
   "cell_type": "code",
   "execution_count": null,
   "metadata": {},
   "outputs": [],
   "source": [
    "cv."
   ]
  },
  {
   "cell_type": "markdown",
   "metadata": {},
   "source": [
    "__4) Graficar los promedios RMSE del conjunto de testing de acuerdo a la cantidad de factores en SVD.__"
   ]
  },
  {
   "cell_type": "markdown",
   "metadata": {},
   "source": [
    "__5) Usando GridSearch, encontrar el mejor estimador usando SVD con 500 factores. Imprimir el mejor rmse. Utilizar `refit` para obtener obtener el mejor estimador ya ajustado como resultado.__\n",
    "\n",
    "Utilizar el espacio de parámetros:\n",
    "* n_epochs: [5, 10]\n",
    "* lr_all: [0.002, 0.005]\n",
    "* reg_all: [0.4, 0.6]\n"
   ]
  },
  {
   "cell_type": "code",
   "execution_count": null,
   "metadata": {},
   "outputs": [],
   "source": [
    "print(gs.best_params['rmse'])"
   ]
  },
  {
   "cell_type": "code",
   "execution_count": null,
   "metadata": {},
   "outputs": [],
   "source": [
    "print(gs.best_score['rmse'])"
   ]
  },
  {
   "cell_type": "markdown",
   "metadata": {},
   "source": [
    "__6) Obtener una predicción para el usuario 321 para la película Titanic.__"
   ]
  },
  {
   "cell_type": "markdown",
   "metadata": {},
   "source": [
    "__7) Desarrollar una función que dado un usuario, obtenga la mejor predicción disponible (de acuerdo a nuestros datos de películas).__"
   ]
  }
 ],
 "metadata": {
  "kernelspec": {
   "display_name": "Python 3",
   "language": "python",
   "name": "python3"
  },
  "language_info": {
   "codemirror_mode": {
    "name": "ipython",
    "version": 3
   },
   "file_extension": ".py",
   "mimetype": "text/x-python",
   "name": "python",
   "nbconvert_exporter": "python",
   "pygments_lexer": "ipython3",
   "version": "3.7.1"
  }
 },
 "nbformat": 4,
 "nbformat_minor": 2
}
